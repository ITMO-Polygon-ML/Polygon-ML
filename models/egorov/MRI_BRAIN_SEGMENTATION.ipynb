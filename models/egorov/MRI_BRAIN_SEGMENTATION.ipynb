{
  "nbformat": 4,
  "nbformat_minor": 0,
  "metadata": {
    "accelerator": "GPU",
    "colab": {
      "name": "MRI BRAIN SEGMENTATION",
      "provenance": [],
      "collapsed_sections": []
    },
    "kernelspec": {
      "display_name": "Python 3",
      "language": "python",
      "name": "python3"
    },
    "language_info": {
      "codemirror_mode": {
        "name": "ipython",
        "version": 3
      },
      "file_extension": ".py",
      "mimetype": "text/x-python",
      "name": "python",
      "nbconvert_exporter": "python",
      "pygments_lexer": "ipython3",
      "version": "3.6.4"
    },
    "widgets": {
      "application/vnd.jupyter.widget-state+json": {
        "8bce68112d4249228e2ecf0c1760ddda": {
          "model_module": "@jupyter-widgets/controls",
          "model_name": "HBoxModel",
          "model_module_version": "1.5.0",
          "state": {
            "_dom_classes": [],
            "_model_module": "@jupyter-widgets/controls",
            "_model_module_version": "1.5.0",
            "_model_name": "HBoxModel",
            "_view_count": null,
            "_view_module": "@jupyter-widgets/controls",
            "_view_module_version": "1.5.0",
            "_view_name": "HBoxView",
            "box_style": "",
            "children": [
              "IPY_MODEL_a66c6ee832aa4fa3bdd0ac321a936c85",
              "IPY_MODEL_9bac489c2c36424ebd61615709fac2f5",
              "IPY_MODEL_5e06560421554f09929aecd61fc074cb"
            ],
            "layout": "IPY_MODEL_6eaf67675d5b48b3b0ae92009913f7cb"
          }
        },
        "a66c6ee832aa4fa3bdd0ac321a936c85": {
          "model_module": "@jupyter-widgets/controls",
          "model_name": "HTMLModel",
          "model_module_version": "1.5.0",
          "state": {
            "_dom_classes": [],
            "_model_module": "@jupyter-widgets/controls",
            "_model_module_version": "1.5.0",
            "_model_name": "HTMLModel",
            "_view_count": null,
            "_view_module": "@jupyter-widgets/controls",
            "_view_module_version": "1.5.0",
            "_view_name": "HTMLView",
            "description": "",
            "description_tooltip": null,
            "layout": "IPY_MODEL_16b270a06dd24ca4bb79b630edfa79bb",
            "placeholder": "​",
            "style": "IPY_MODEL_8fe0ca0075b94ed695f7a28b0a899302",
            "value": "100%"
          }
        },
        "9bac489c2c36424ebd61615709fac2f5": {
          "model_module": "@jupyter-widgets/controls",
          "model_name": "FloatProgressModel",
          "model_module_version": "1.5.0",
          "state": {
            "_dom_classes": [],
            "_model_module": "@jupyter-widgets/controls",
            "_model_module_version": "1.5.0",
            "_model_name": "FloatProgressModel",
            "_view_count": null,
            "_view_module": "@jupyter-widgets/controls",
            "_view_module_version": "1.5.0",
            "_view_name": "ProgressView",
            "bar_style": "success",
            "description": "",
            "description_tooltip": null,
            "layout": "IPY_MODEL_e1ea6a76941e436ba20cf3ea3b0f429c",
            "max": 178090079,
            "min": 0,
            "orientation": "horizontal",
            "style": "IPY_MODEL_36ddfb80dd8a489d9eff8d8a33cfb405",
            "value": 178090079
          }
        },
        "5e06560421554f09929aecd61fc074cb": {
          "model_module": "@jupyter-widgets/controls",
          "model_name": "HTMLModel",
          "model_module_version": "1.5.0",
          "state": {
            "_dom_classes": [],
            "_model_module": "@jupyter-widgets/controls",
            "_model_module_version": "1.5.0",
            "_model_name": "HTMLModel",
            "_view_count": null,
            "_view_module": "@jupyter-widgets/controls",
            "_view_module_version": "1.5.0",
            "_view_name": "HTMLView",
            "description": "",
            "description_tooltip": null,
            "layout": "IPY_MODEL_dacf3d3c9ae44a53b072a4de84df9ab2",
            "placeholder": "​",
            "style": "IPY_MODEL_a637cc47f59549b08c5d810b61d84955",
            "value": " 170M/170M [00:01&lt;00:00, 198MB/s]"
          }
        },
        "6eaf67675d5b48b3b0ae92009913f7cb": {
          "model_module": "@jupyter-widgets/base",
          "model_name": "LayoutModel",
          "model_module_version": "1.2.0",
          "state": {
            "_model_module": "@jupyter-widgets/base",
            "_model_module_version": "1.2.0",
            "_model_name": "LayoutModel",
            "_view_count": null,
            "_view_module": "@jupyter-widgets/base",
            "_view_module_version": "1.2.0",
            "_view_name": "LayoutView",
            "align_content": null,
            "align_items": null,
            "align_self": null,
            "border": null,
            "bottom": null,
            "display": null,
            "flex": null,
            "flex_flow": null,
            "grid_area": null,
            "grid_auto_columns": null,
            "grid_auto_flow": null,
            "grid_auto_rows": null,
            "grid_column": null,
            "grid_gap": null,
            "grid_row": null,
            "grid_template_areas": null,
            "grid_template_columns": null,
            "grid_template_rows": null,
            "height": null,
            "justify_content": null,
            "justify_items": null,
            "left": null,
            "margin": null,
            "max_height": null,
            "max_width": null,
            "min_height": null,
            "min_width": null,
            "object_fit": null,
            "object_position": null,
            "order": null,
            "overflow": null,
            "overflow_x": null,
            "overflow_y": null,
            "padding": null,
            "right": null,
            "top": null,
            "visibility": null,
            "width": null
          }
        },
        "16b270a06dd24ca4bb79b630edfa79bb": {
          "model_module": "@jupyter-widgets/base",
          "model_name": "LayoutModel",
          "model_module_version": "1.2.0",
          "state": {
            "_model_module": "@jupyter-widgets/base",
            "_model_module_version": "1.2.0",
            "_model_name": "LayoutModel",
            "_view_count": null,
            "_view_module": "@jupyter-widgets/base",
            "_view_module_version": "1.2.0",
            "_view_name": "LayoutView",
            "align_content": null,
            "align_items": null,
            "align_self": null,
            "border": null,
            "bottom": null,
            "display": null,
            "flex": null,
            "flex_flow": null,
            "grid_area": null,
            "grid_auto_columns": null,
            "grid_auto_flow": null,
            "grid_auto_rows": null,
            "grid_column": null,
            "grid_gap": null,
            "grid_row": null,
            "grid_template_areas": null,
            "grid_template_columns": null,
            "grid_template_rows": null,
            "height": null,
            "justify_content": null,
            "justify_items": null,
            "left": null,
            "margin": null,
            "max_height": null,
            "max_width": null,
            "min_height": null,
            "min_width": null,
            "object_fit": null,
            "object_position": null,
            "order": null,
            "overflow": null,
            "overflow_x": null,
            "overflow_y": null,
            "padding": null,
            "right": null,
            "top": null,
            "visibility": null,
            "width": null
          }
        },
        "8fe0ca0075b94ed695f7a28b0a899302": {
          "model_module": "@jupyter-widgets/controls",
          "model_name": "DescriptionStyleModel",
          "model_module_version": "1.5.0",
          "state": {
            "_model_module": "@jupyter-widgets/controls",
            "_model_module_version": "1.5.0",
            "_model_name": "DescriptionStyleModel",
            "_view_count": null,
            "_view_module": "@jupyter-widgets/base",
            "_view_module_version": "1.2.0",
            "_view_name": "StyleView",
            "description_width": ""
          }
        },
        "e1ea6a76941e436ba20cf3ea3b0f429c": {
          "model_module": "@jupyter-widgets/base",
          "model_name": "LayoutModel",
          "model_module_version": "1.2.0",
          "state": {
            "_model_module": "@jupyter-widgets/base",
            "_model_module_version": "1.2.0",
            "_model_name": "LayoutModel",
            "_view_count": null,
            "_view_module": "@jupyter-widgets/base",
            "_view_module_version": "1.2.0",
            "_view_name": "LayoutView",
            "align_content": null,
            "align_items": null,
            "align_self": null,
            "border": null,
            "bottom": null,
            "display": null,
            "flex": null,
            "flex_flow": null,
            "grid_area": null,
            "grid_auto_columns": null,
            "grid_auto_flow": null,
            "grid_auto_rows": null,
            "grid_column": null,
            "grid_gap": null,
            "grid_row": null,
            "grid_template_areas": null,
            "grid_template_columns": null,
            "grid_template_rows": null,
            "height": null,
            "justify_content": null,
            "justify_items": null,
            "left": null,
            "margin": null,
            "max_height": null,
            "max_width": null,
            "min_height": null,
            "min_width": null,
            "object_fit": null,
            "object_position": null,
            "order": null,
            "overflow": null,
            "overflow_x": null,
            "overflow_y": null,
            "padding": null,
            "right": null,
            "top": null,
            "visibility": null,
            "width": null
          }
        },
        "36ddfb80dd8a489d9eff8d8a33cfb405": {
          "model_module": "@jupyter-widgets/controls",
          "model_name": "ProgressStyleModel",
          "model_module_version": "1.5.0",
          "state": {
            "_model_module": "@jupyter-widgets/controls",
            "_model_module_version": "1.5.0",
            "_model_name": "ProgressStyleModel",
            "_view_count": null,
            "_view_module": "@jupyter-widgets/base",
            "_view_module_version": "1.2.0",
            "_view_name": "StyleView",
            "bar_color": null,
            "description_width": ""
          }
        },
        "dacf3d3c9ae44a53b072a4de84df9ab2": {
          "model_module": "@jupyter-widgets/base",
          "model_name": "LayoutModel",
          "model_module_version": "1.2.0",
          "state": {
            "_model_module": "@jupyter-widgets/base",
            "_model_module_version": "1.2.0",
            "_model_name": "LayoutModel",
            "_view_count": null,
            "_view_module": "@jupyter-widgets/base",
            "_view_module_version": "1.2.0",
            "_view_name": "LayoutView",
            "align_content": null,
            "align_items": null,
            "align_self": null,
            "border": null,
            "bottom": null,
            "display": null,
            "flex": null,
            "flex_flow": null,
            "grid_area": null,
            "grid_auto_columns": null,
            "grid_auto_flow": null,
            "grid_auto_rows": null,
            "grid_column": null,
            "grid_gap": null,
            "grid_row": null,
            "grid_template_areas": null,
            "grid_template_columns": null,
            "grid_template_rows": null,
            "height": null,
            "justify_content": null,
            "justify_items": null,
            "left": null,
            "margin": null,
            "max_height": null,
            "max_width": null,
            "min_height": null,
            "min_width": null,
            "object_fit": null,
            "object_position": null,
            "order": null,
            "overflow": null,
            "overflow_x": null,
            "overflow_y": null,
            "padding": null,
            "right": null,
            "top": null,
            "visibility": null,
            "width": null
          }
        },
        "a637cc47f59549b08c5d810b61d84955": {
          "model_module": "@jupyter-widgets/controls",
          "model_name": "DescriptionStyleModel",
          "model_module_version": "1.5.0",
          "state": {
            "_model_module": "@jupyter-widgets/controls",
            "_model_module_version": "1.5.0",
            "_model_name": "DescriptionStyleModel",
            "_view_count": null,
            "_view_module": "@jupyter-widgets/base",
            "_view_module_version": "1.2.0",
            "_view_name": "StyleView",
            "description_width": ""
          }
        },
        "a7bc507e17554dedb1a4b166b13f82e8": {
          "model_module": "@jupyter-widgets/controls",
          "model_name": "HBoxModel",
          "model_module_version": "1.5.0",
          "state": {
            "_dom_classes": [],
            "_model_module": "@jupyter-widgets/controls",
            "_model_module_version": "1.5.0",
            "_model_name": "HBoxModel",
            "_view_count": null,
            "_view_module": "@jupyter-widgets/controls",
            "_view_module_version": "1.5.0",
            "_view_name": "HBoxView",
            "box_style": "",
            "children": [
              "IPY_MODEL_f5579c33d8df4c198be054bdf9995e7f",
              "IPY_MODEL_b85390621c9c4819aa4965ccee759317",
              "IPY_MODEL_9014aab38cca49e5adab78aa6c95802e"
            ],
            "layout": "IPY_MODEL_ee4e3e2ac8c848a7bf3e2031f757603c"
          }
        },
        "f5579c33d8df4c198be054bdf9995e7f": {
          "model_module": "@jupyter-widgets/controls",
          "model_name": "HTMLModel",
          "model_module_version": "1.5.0",
          "state": {
            "_dom_classes": [],
            "_model_module": "@jupyter-widgets/controls",
            "_model_module_version": "1.5.0",
            "_model_name": "HTMLModel",
            "_view_count": null,
            "_view_module": "@jupyter-widgets/controls",
            "_view_module_version": "1.5.0",
            "_view_name": "HTMLView",
            "description": "",
            "description_tooltip": null,
            "layout": "IPY_MODEL_1f05203cc828473198d0e189f3282819",
            "placeholder": "​",
            "style": "IPY_MODEL_82511628a2f34bbdbee6646e9e132977",
            "value": "100%"
          }
        },
        "b85390621c9c4819aa4965ccee759317": {
          "model_module": "@jupyter-widgets/controls",
          "model_name": "FloatProgressModel",
          "model_module_version": "1.5.0",
          "state": {
            "_dom_classes": [],
            "_model_module": "@jupyter-widgets/controls",
            "_model_module_version": "1.5.0",
            "_model_name": "FloatProgressModel",
            "_view_count": null,
            "_view_module": "@jupyter-widgets/controls",
            "_view_module_version": "1.5.0",
            "_view_name": "ProgressView",
            "bar_style": "success",
            "description": "",
            "description_tooltip": null,
            "layout": "IPY_MODEL_29116ddb3aec4831bf039e94258a8a7a",
            "max": 2870,
            "min": 0,
            "orientation": "horizontal",
            "style": "IPY_MODEL_77a56dd8f999463b84fcf905b4750e52",
            "value": 2870
          }
        },
        "9014aab38cca49e5adab78aa6c95802e": {
          "model_module": "@jupyter-widgets/controls",
          "model_name": "HTMLModel",
          "model_module_version": "1.5.0",
          "state": {
            "_dom_classes": [],
            "_model_module": "@jupyter-widgets/controls",
            "_model_module_version": "1.5.0",
            "_model_name": "HTMLModel",
            "_view_count": null,
            "_view_module": "@jupyter-widgets/controls",
            "_view_module_version": "1.5.0",
            "_view_name": "HTMLView",
            "description": "",
            "description_tooltip": null,
            "layout": "IPY_MODEL_eacf3d8842af444fa230299ed4fbfb6b",
            "placeholder": "​",
            "style": "IPY_MODEL_b4b03e19e7754400a8e66cc22e93451f",
            "value": " 2870/2870 [04:50&lt;00:00, 10.07it/s]"
          }
        },
        "ee4e3e2ac8c848a7bf3e2031f757603c": {
          "model_module": "@jupyter-widgets/base",
          "model_name": "LayoutModel",
          "model_module_version": "1.2.0",
          "state": {
            "_model_module": "@jupyter-widgets/base",
            "_model_module_version": "1.2.0",
            "_model_name": "LayoutModel",
            "_view_count": null,
            "_view_module": "@jupyter-widgets/base",
            "_view_module_version": "1.2.0",
            "_view_name": "LayoutView",
            "align_content": null,
            "align_items": null,
            "align_self": null,
            "border": null,
            "bottom": null,
            "display": null,
            "flex": null,
            "flex_flow": null,
            "grid_area": null,
            "grid_auto_columns": null,
            "grid_auto_flow": null,
            "grid_auto_rows": null,
            "grid_column": null,
            "grid_gap": null,
            "grid_row": null,
            "grid_template_areas": null,
            "grid_template_columns": null,
            "grid_template_rows": null,
            "height": null,
            "justify_content": null,
            "justify_items": null,
            "left": null,
            "margin": null,
            "max_height": null,
            "max_width": null,
            "min_height": null,
            "min_width": null,
            "object_fit": null,
            "object_position": null,
            "order": null,
            "overflow": null,
            "overflow_x": null,
            "overflow_y": null,
            "padding": null,
            "right": null,
            "top": null,
            "visibility": null,
            "width": null
          }
        },
        "1f05203cc828473198d0e189f3282819": {
          "model_module": "@jupyter-widgets/base",
          "model_name": "LayoutModel",
          "model_module_version": "1.2.0",
          "state": {
            "_model_module": "@jupyter-widgets/base",
            "_model_module_version": "1.2.0",
            "_model_name": "LayoutModel",
            "_view_count": null,
            "_view_module": "@jupyter-widgets/base",
            "_view_module_version": "1.2.0",
            "_view_name": "LayoutView",
            "align_content": null,
            "align_items": null,
            "align_self": null,
            "border": null,
            "bottom": null,
            "display": null,
            "flex": null,
            "flex_flow": null,
            "grid_area": null,
            "grid_auto_columns": null,
            "grid_auto_flow": null,
            "grid_auto_rows": null,
            "grid_column": null,
            "grid_gap": null,
            "grid_row": null,
            "grid_template_areas": null,
            "grid_template_columns": null,
            "grid_template_rows": null,
            "height": null,
            "justify_content": null,
            "justify_items": null,
            "left": null,
            "margin": null,
            "max_height": null,
            "max_width": null,
            "min_height": null,
            "min_width": null,
            "object_fit": null,
            "object_position": null,
            "order": null,
            "overflow": null,
            "overflow_x": null,
            "overflow_y": null,
            "padding": null,
            "right": null,
            "top": null,
            "visibility": null,
            "width": null
          }
        },
        "82511628a2f34bbdbee6646e9e132977": {
          "model_module": "@jupyter-widgets/controls",
          "model_name": "DescriptionStyleModel",
          "model_module_version": "1.5.0",
          "state": {
            "_model_module": "@jupyter-widgets/controls",
            "_model_module_version": "1.5.0",
            "_model_name": "DescriptionStyleModel",
            "_view_count": null,
            "_view_module": "@jupyter-widgets/base",
            "_view_module_version": "1.2.0",
            "_view_name": "StyleView",
            "description_width": ""
          }
        },
        "29116ddb3aec4831bf039e94258a8a7a": {
          "model_module": "@jupyter-widgets/base",
          "model_name": "LayoutModel",
          "model_module_version": "1.2.0",
          "state": {
            "_model_module": "@jupyter-widgets/base",
            "_model_module_version": "1.2.0",
            "_model_name": "LayoutModel",
            "_view_count": null,
            "_view_module": "@jupyter-widgets/base",
            "_view_module_version": "1.2.0",
            "_view_name": "LayoutView",
            "align_content": null,
            "align_items": null,
            "align_self": null,
            "border": null,
            "bottom": null,
            "display": null,
            "flex": null,
            "flex_flow": null,
            "grid_area": null,
            "grid_auto_columns": null,
            "grid_auto_flow": null,
            "grid_auto_rows": null,
            "grid_column": null,
            "grid_gap": null,
            "grid_row": null,
            "grid_template_areas": null,
            "grid_template_columns": null,
            "grid_template_rows": null,
            "height": null,
            "justify_content": null,
            "justify_items": null,
            "left": null,
            "margin": null,
            "max_height": null,
            "max_width": null,
            "min_height": null,
            "min_width": null,
            "object_fit": null,
            "object_position": null,
            "order": null,
            "overflow": null,
            "overflow_x": null,
            "overflow_y": null,
            "padding": null,
            "right": null,
            "top": null,
            "visibility": null,
            "width": null
          }
        },
        "77a56dd8f999463b84fcf905b4750e52": {
          "model_module": "@jupyter-widgets/controls",
          "model_name": "ProgressStyleModel",
          "model_module_version": "1.5.0",
          "state": {
            "_model_module": "@jupyter-widgets/controls",
            "_model_module_version": "1.5.0",
            "_model_name": "ProgressStyleModel",
            "_view_count": null,
            "_view_module": "@jupyter-widgets/base",
            "_view_module_version": "1.2.0",
            "_view_name": "StyleView",
            "bar_color": null,
            "description_width": ""
          }
        },
        "eacf3d8842af444fa230299ed4fbfb6b": {
          "model_module": "@jupyter-widgets/base",
          "model_name": "LayoutModel",
          "model_module_version": "1.2.0",
          "state": {
            "_model_module": "@jupyter-widgets/base",
            "_model_module_version": "1.2.0",
            "_model_name": "LayoutModel",
            "_view_count": null,
            "_view_module": "@jupyter-widgets/base",
            "_view_module_version": "1.2.0",
            "_view_name": "LayoutView",
            "align_content": null,
            "align_items": null,
            "align_self": null,
            "border": null,
            "bottom": null,
            "display": null,
            "flex": null,
            "flex_flow": null,
            "grid_area": null,
            "grid_auto_columns": null,
            "grid_auto_flow": null,
            "grid_auto_rows": null,
            "grid_column": null,
            "grid_gap": null,
            "grid_row": null,
            "grid_template_areas": null,
            "grid_template_columns": null,
            "grid_template_rows": null,
            "height": null,
            "justify_content": null,
            "justify_items": null,
            "left": null,
            "margin": null,
            "max_height": null,
            "max_width": null,
            "min_height": null,
            "min_width": null,
            "object_fit": null,
            "object_position": null,
            "order": null,
            "overflow": null,
            "overflow_x": null,
            "overflow_y": null,
            "padding": null,
            "right": null,
            "top": null,
            "visibility": null,
            "width": null
          }
        },
        "b4b03e19e7754400a8e66cc22e93451f": {
          "model_module": "@jupyter-widgets/controls",
          "model_name": "DescriptionStyleModel",
          "model_module_version": "1.5.0",
          "state": {
            "_model_module": "@jupyter-widgets/controls",
            "_model_module_version": "1.5.0",
            "_model_name": "DescriptionStyleModel",
            "_view_count": null,
            "_view_module": "@jupyter-widgets/base",
            "_view_module_version": "1.2.0",
            "_view_name": "StyleView",
            "description_width": ""
          }
        },
        "9297eff0d9134c90a1698bd712f9658e": {
          "model_module": "@jupyter-widgets/controls",
          "model_name": "HBoxModel",
          "model_module_version": "1.5.0",
          "state": {
            "_dom_classes": [],
            "_model_module": "@jupyter-widgets/controls",
            "_model_module_version": "1.5.0",
            "_model_name": "HBoxModel",
            "_view_count": null,
            "_view_module": "@jupyter-widgets/controls",
            "_view_module_version": "1.5.0",
            "_view_name": "HBoxView",
            "box_style": "",
            "children": [
              "IPY_MODEL_cb23a2b43190402b9e4ec2cabf9d1b2a",
              "IPY_MODEL_12cfc42423804f7a958a5ac560e263a7",
              "IPY_MODEL_9a959763296540e69a6864f7fd7c5c7f"
            ],
            "layout": "IPY_MODEL_79c7eb7741fa44669b3fe476abaf0d77"
          }
        },
        "cb23a2b43190402b9e4ec2cabf9d1b2a": {
          "model_module": "@jupyter-widgets/controls",
          "model_name": "HTMLModel",
          "model_module_version": "1.5.0",
          "state": {
            "_dom_classes": [],
            "_model_module": "@jupyter-widgets/controls",
            "_model_module_version": "1.5.0",
            "_model_name": "HTMLModel",
            "_view_count": null,
            "_view_module": "@jupyter-widgets/controls",
            "_view_module_version": "1.5.0",
            "_view_name": "HTMLView",
            "description": "",
            "description_tooltip": null,
            "layout": "IPY_MODEL_09e6d4893eea4d9088a686ed3963f033",
            "placeholder": "​",
            "style": "IPY_MODEL_e3f808fd6b3341608909774bd63ce4f5",
            "value": "100%"
          }
        },
        "12cfc42423804f7a958a5ac560e263a7": {
          "model_module": "@jupyter-widgets/controls",
          "model_name": "FloatProgressModel",
          "model_module_version": "1.5.0",
          "state": {
            "_dom_classes": [],
            "_model_module": "@jupyter-widgets/controls",
            "_model_module_version": "1.5.0",
            "_model_name": "FloatProgressModel",
            "_view_count": null,
            "_view_module": "@jupyter-widgets/controls",
            "_view_module_version": "1.5.0",
            "_view_name": "ProgressView",
            "bar_style": "success",
            "description": "",
            "description_tooltip": null,
            "layout": "IPY_MODEL_c4465d6fd3d04977873325f5205f0235",
            "max": 2870,
            "min": 0,
            "orientation": "horizontal",
            "style": "IPY_MODEL_82018525355b48aa87096575764912a5",
            "value": 2870
          }
        },
        "9a959763296540e69a6864f7fd7c5c7f": {
          "model_module": "@jupyter-widgets/controls",
          "model_name": "HTMLModel",
          "model_module_version": "1.5.0",
          "state": {
            "_dom_classes": [],
            "_model_module": "@jupyter-widgets/controls",
            "_model_module_version": "1.5.0",
            "_model_name": "HTMLModel",
            "_view_count": null,
            "_view_module": "@jupyter-widgets/controls",
            "_view_module_version": "1.5.0",
            "_view_name": "HTMLView",
            "description": "",
            "description_tooltip": null,
            "layout": "IPY_MODEL_8425a19b72604520888875433e3fccc3",
            "placeholder": "​",
            "style": "IPY_MODEL_905cbc04113a4fceb14e973737ad8922",
            "value": " 2870/2870 [00:05&lt;00:00, 516.86it/s]"
          }
        },
        "79c7eb7741fa44669b3fe476abaf0d77": {
          "model_module": "@jupyter-widgets/base",
          "model_name": "LayoutModel",
          "model_module_version": "1.2.0",
          "state": {
            "_model_module": "@jupyter-widgets/base",
            "_model_module_version": "1.2.0",
            "_model_name": "LayoutModel",
            "_view_count": null,
            "_view_module": "@jupyter-widgets/base",
            "_view_module_version": "1.2.0",
            "_view_name": "LayoutView",
            "align_content": null,
            "align_items": null,
            "align_self": null,
            "border": null,
            "bottom": null,
            "display": null,
            "flex": null,
            "flex_flow": null,
            "grid_area": null,
            "grid_auto_columns": null,
            "grid_auto_flow": null,
            "grid_auto_rows": null,
            "grid_column": null,
            "grid_gap": null,
            "grid_row": null,
            "grid_template_areas": null,
            "grid_template_columns": null,
            "grid_template_rows": null,
            "height": null,
            "justify_content": null,
            "justify_items": null,
            "left": null,
            "margin": null,
            "max_height": null,
            "max_width": null,
            "min_height": null,
            "min_width": null,
            "object_fit": null,
            "object_position": null,
            "order": null,
            "overflow": null,
            "overflow_x": null,
            "overflow_y": null,
            "padding": null,
            "right": null,
            "top": null,
            "visibility": null,
            "width": null
          }
        },
        "09e6d4893eea4d9088a686ed3963f033": {
          "model_module": "@jupyter-widgets/base",
          "model_name": "LayoutModel",
          "model_module_version": "1.2.0",
          "state": {
            "_model_module": "@jupyter-widgets/base",
            "_model_module_version": "1.2.0",
            "_model_name": "LayoutModel",
            "_view_count": null,
            "_view_module": "@jupyter-widgets/base",
            "_view_module_version": "1.2.0",
            "_view_name": "LayoutView",
            "align_content": null,
            "align_items": null,
            "align_self": null,
            "border": null,
            "bottom": null,
            "display": null,
            "flex": null,
            "flex_flow": null,
            "grid_area": null,
            "grid_auto_columns": null,
            "grid_auto_flow": null,
            "grid_auto_rows": null,
            "grid_column": null,
            "grid_gap": null,
            "grid_row": null,
            "grid_template_areas": null,
            "grid_template_columns": null,
            "grid_template_rows": null,
            "height": null,
            "justify_content": null,
            "justify_items": null,
            "left": null,
            "margin": null,
            "max_height": null,
            "max_width": null,
            "min_height": null,
            "min_width": null,
            "object_fit": null,
            "object_position": null,
            "order": null,
            "overflow": null,
            "overflow_x": null,
            "overflow_y": null,
            "padding": null,
            "right": null,
            "top": null,
            "visibility": null,
            "width": null
          }
        },
        "e3f808fd6b3341608909774bd63ce4f5": {
          "model_module": "@jupyter-widgets/controls",
          "model_name": "DescriptionStyleModel",
          "model_module_version": "1.5.0",
          "state": {
            "_model_module": "@jupyter-widgets/controls",
            "_model_module_version": "1.5.0",
            "_model_name": "DescriptionStyleModel",
            "_view_count": null,
            "_view_module": "@jupyter-widgets/base",
            "_view_module_version": "1.2.0",
            "_view_name": "StyleView",
            "description_width": ""
          }
        },
        "c4465d6fd3d04977873325f5205f0235": {
          "model_module": "@jupyter-widgets/base",
          "model_name": "LayoutModel",
          "model_module_version": "1.2.0",
          "state": {
            "_model_module": "@jupyter-widgets/base",
            "_model_module_version": "1.2.0",
            "_model_name": "LayoutModel",
            "_view_count": null,
            "_view_module": "@jupyter-widgets/base",
            "_view_module_version": "1.2.0",
            "_view_name": "LayoutView",
            "align_content": null,
            "align_items": null,
            "align_self": null,
            "border": null,
            "bottom": null,
            "display": null,
            "flex": null,
            "flex_flow": null,
            "grid_area": null,
            "grid_auto_columns": null,
            "grid_auto_flow": null,
            "grid_auto_rows": null,
            "grid_column": null,
            "grid_gap": null,
            "grid_row": null,
            "grid_template_areas": null,
            "grid_template_columns": null,
            "grid_template_rows": null,
            "height": null,
            "justify_content": null,
            "justify_items": null,
            "left": null,
            "margin": null,
            "max_height": null,
            "max_width": null,
            "min_height": null,
            "min_width": null,
            "object_fit": null,
            "object_position": null,
            "order": null,
            "overflow": null,
            "overflow_x": null,
            "overflow_y": null,
            "padding": null,
            "right": null,
            "top": null,
            "visibility": null,
            "width": null
          }
        },
        "82018525355b48aa87096575764912a5": {
          "model_module": "@jupyter-widgets/controls",
          "model_name": "ProgressStyleModel",
          "model_module_version": "1.5.0",
          "state": {
            "_model_module": "@jupyter-widgets/controls",
            "_model_module_version": "1.5.0",
            "_model_name": "ProgressStyleModel",
            "_view_count": null,
            "_view_module": "@jupyter-widgets/base",
            "_view_module_version": "1.2.0",
            "_view_name": "StyleView",
            "bar_color": null,
            "description_width": ""
          }
        },
        "8425a19b72604520888875433e3fccc3": {
          "model_module": "@jupyter-widgets/base",
          "model_name": "LayoutModel",
          "model_module_version": "1.2.0",
          "state": {
            "_model_module": "@jupyter-widgets/base",
            "_model_module_version": "1.2.0",
            "_model_name": "LayoutModel",
            "_view_count": null,
            "_view_module": "@jupyter-widgets/base",
            "_view_module_version": "1.2.0",
            "_view_name": "LayoutView",
            "align_content": null,
            "align_items": null,
            "align_self": null,
            "border": null,
            "bottom": null,
            "display": null,
            "flex": null,
            "flex_flow": null,
            "grid_area": null,
            "grid_auto_columns": null,
            "grid_auto_flow": null,
            "grid_auto_rows": null,
            "grid_column": null,
            "grid_gap": null,
            "grid_row": null,
            "grid_template_areas": null,
            "grid_template_columns": null,
            "grid_template_rows": null,
            "height": null,
            "justify_content": null,
            "justify_items": null,
            "left": null,
            "margin": null,
            "max_height": null,
            "max_width": null,
            "min_height": null,
            "min_width": null,
            "object_fit": null,
            "object_position": null,
            "order": null,
            "overflow": null,
            "overflow_x": null,
            "overflow_y": null,
            "padding": null,
            "right": null,
            "top": null,
            "visibility": null,
            "width": null
          }
        },
        "905cbc04113a4fceb14e973737ad8922": {
          "model_module": "@jupyter-widgets/controls",
          "model_name": "DescriptionStyleModel",
          "model_module_version": "1.5.0",
          "state": {
            "_model_module": "@jupyter-widgets/controls",
            "_model_module_version": "1.5.0",
            "_model_name": "DescriptionStyleModel",
            "_view_count": null,
            "_view_module": "@jupyter-widgets/base",
            "_view_module_version": "1.2.0",
            "_view_name": "StyleView",
            "description_width": ""
          }
        },
        "0a4ff02a8c17416089d255577ec6d92e": {
          "model_module": "@jupyter-widgets/controls",
          "model_name": "HBoxModel",
          "model_module_version": "1.5.0",
          "state": {
            "_dom_classes": [],
            "_model_module": "@jupyter-widgets/controls",
            "_model_module_version": "1.5.0",
            "_model_name": "HBoxModel",
            "_view_count": null,
            "_view_module": "@jupyter-widgets/controls",
            "_view_module_version": "1.5.0",
            "_view_name": "HBoxView",
            "box_style": "",
            "children": [
              "IPY_MODEL_813df6e1bb3e47739d17769b8b54c250",
              "IPY_MODEL_7cd01257247940d99e73bc0bd5fa1502",
              "IPY_MODEL_d80c59e332884ad085d14f844af69079"
            ],
            "layout": "IPY_MODEL_5709cfde4cb1477491ddeb762bf35980"
          }
        },
        "813df6e1bb3e47739d17769b8b54c250": {
          "model_module": "@jupyter-widgets/controls",
          "model_name": "HTMLModel",
          "model_module_version": "1.5.0",
          "state": {
            "_dom_classes": [],
            "_model_module": "@jupyter-widgets/controls",
            "_model_module_version": "1.5.0",
            "_model_name": "HTMLModel",
            "_view_count": null,
            "_view_module": "@jupyter-widgets/controls",
            "_view_module_version": "1.5.0",
            "_view_name": "HTMLView",
            "description": "",
            "description_tooltip": null,
            "layout": "IPY_MODEL_f30de7f2b09d4d4688e843a51909abfb",
            "placeholder": "​",
            "style": "IPY_MODEL_b51f33989cd849db9cd34e8ddb97a5cf",
            "value": "100%"
          }
        },
        "7cd01257247940d99e73bc0bd5fa1502": {
          "model_module": "@jupyter-widgets/controls",
          "model_name": "FloatProgressModel",
          "model_module_version": "1.5.0",
          "state": {
            "_dom_classes": [],
            "_model_module": "@jupyter-widgets/controls",
            "_model_module_version": "1.5.0",
            "_model_name": "FloatProgressModel",
            "_view_count": null,
            "_view_module": "@jupyter-widgets/controls",
            "_view_module_version": "1.5.0",
            "_view_name": "ProgressView",
            "bar_style": "success",
            "description": "",
            "description_tooltip": null,
            "layout": "IPY_MODEL_f84ecc6b82c14e02b36142bda3e26a09",
            "max": 2870,
            "min": 0,
            "orientation": "horizontal",
            "style": "IPY_MODEL_353cd38e5be04272ae33f293e01549ca",
            "value": 2870
          }
        },
        "d80c59e332884ad085d14f844af69079": {
          "model_module": "@jupyter-widgets/controls",
          "model_name": "HTMLModel",
          "model_module_version": "1.5.0",
          "state": {
            "_dom_classes": [],
            "_model_module": "@jupyter-widgets/controls",
            "_model_module_version": "1.5.0",
            "_model_name": "HTMLModel",
            "_view_count": null,
            "_view_module": "@jupyter-widgets/controls",
            "_view_module_version": "1.5.0",
            "_view_name": "HTMLView",
            "description": "",
            "description_tooltip": null,
            "layout": "IPY_MODEL_2dbe7d0836b14ed392c6dd1582573d3d",
            "placeholder": "​",
            "style": "IPY_MODEL_b346c01e763f4bdbb0d78349cc300fd0",
            "value": " 2870/2870 [04:39&lt;00:00, 10.53it/s]"
          }
        },
        "5709cfde4cb1477491ddeb762bf35980": {
          "model_module": "@jupyter-widgets/base",
          "model_name": "LayoutModel",
          "model_module_version": "1.2.0",
          "state": {
            "_model_module": "@jupyter-widgets/base",
            "_model_module_version": "1.2.0",
            "_model_name": "LayoutModel",
            "_view_count": null,
            "_view_module": "@jupyter-widgets/base",
            "_view_module_version": "1.2.0",
            "_view_name": "LayoutView",
            "align_content": null,
            "align_items": null,
            "align_self": null,
            "border": null,
            "bottom": null,
            "display": null,
            "flex": null,
            "flex_flow": null,
            "grid_area": null,
            "grid_auto_columns": null,
            "grid_auto_flow": null,
            "grid_auto_rows": null,
            "grid_column": null,
            "grid_gap": null,
            "grid_row": null,
            "grid_template_areas": null,
            "grid_template_columns": null,
            "grid_template_rows": null,
            "height": null,
            "justify_content": null,
            "justify_items": null,
            "left": null,
            "margin": null,
            "max_height": null,
            "max_width": null,
            "min_height": null,
            "min_width": null,
            "object_fit": null,
            "object_position": null,
            "order": null,
            "overflow": null,
            "overflow_x": null,
            "overflow_y": null,
            "padding": null,
            "right": null,
            "top": null,
            "visibility": null,
            "width": null
          }
        },
        "f30de7f2b09d4d4688e843a51909abfb": {
          "model_module": "@jupyter-widgets/base",
          "model_name": "LayoutModel",
          "model_module_version": "1.2.0",
          "state": {
            "_model_module": "@jupyter-widgets/base",
            "_model_module_version": "1.2.0",
            "_model_name": "LayoutModel",
            "_view_count": null,
            "_view_module": "@jupyter-widgets/base",
            "_view_module_version": "1.2.0",
            "_view_name": "LayoutView",
            "align_content": null,
            "align_items": null,
            "align_self": null,
            "border": null,
            "bottom": null,
            "display": null,
            "flex": null,
            "flex_flow": null,
            "grid_area": null,
            "grid_auto_columns": null,
            "grid_auto_flow": null,
            "grid_auto_rows": null,
            "grid_column": null,
            "grid_gap": null,
            "grid_row": null,
            "grid_template_areas": null,
            "grid_template_columns": null,
            "grid_template_rows": null,
            "height": null,
            "justify_content": null,
            "justify_items": null,
            "left": null,
            "margin": null,
            "max_height": null,
            "max_width": null,
            "min_height": null,
            "min_width": null,
            "object_fit": null,
            "object_position": null,
            "order": null,
            "overflow": null,
            "overflow_x": null,
            "overflow_y": null,
            "padding": null,
            "right": null,
            "top": null,
            "visibility": null,
            "width": null
          }
        },
        "b51f33989cd849db9cd34e8ddb97a5cf": {
          "model_module": "@jupyter-widgets/controls",
          "model_name": "DescriptionStyleModel",
          "model_module_version": "1.5.0",
          "state": {
            "_model_module": "@jupyter-widgets/controls",
            "_model_module_version": "1.5.0",
            "_model_name": "DescriptionStyleModel",
            "_view_count": null,
            "_view_module": "@jupyter-widgets/base",
            "_view_module_version": "1.2.0",
            "_view_name": "StyleView",
            "description_width": ""
          }
        },
        "f84ecc6b82c14e02b36142bda3e26a09": {
          "model_module": "@jupyter-widgets/base",
          "model_name": "LayoutModel",
          "model_module_version": "1.2.0",
          "state": {
            "_model_module": "@jupyter-widgets/base",
            "_model_module_version": "1.2.0",
            "_model_name": "LayoutModel",
            "_view_count": null,
            "_view_module": "@jupyter-widgets/base",
            "_view_module_version": "1.2.0",
            "_view_name": "LayoutView",
            "align_content": null,
            "align_items": null,
            "align_self": null,
            "border": null,
            "bottom": null,
            "display": null,
            "flex": null,
            "flex_flow": null,
            "grid_area": null,
            "grid_auto_columns": null,
            "grid_auto_flow": null,
            "grid_auto_rows": null,
            "grid_column": null,
            "grid_gap": null,
            "grid_row": null,
            "grid_template_areas": null,
            "grid_template_columns": null,
            "grid_template_rows": null,
            "height": null,
            "justify_content": null,
            "justify_items": null,
            "left": null,
            "margin": null,
            "max_height": null,
            "max_width": null,
            "min_height": null,
            "min_width": null,
            "object_fit": null,
            "object_position": null,
            "order": null,
            "overflow": null,
            "overflow_x": null,
            "overflow_y": null,
            "padding": null,
            "right": null,
            "top": null,
            "visibility": null,
            "width": null
          }
        },
        "353cd38e5be04272ae33f293e01549ca": {
          "model_module": "@jupyter-widgets/controls",
          "model_name": "ProgressStyleModel",
          "model_module_version": "1.5.0",
          "state": {
            "_model_module": "@jupyter-widgets/controls",
            "_model_module_version": "1.5.0",
            "_model_name": "ProgressStyleModel",
            "_view_count": null,
            "_view_module": "@jupyter-widgets/base",
            "_view_module_version": "1.2.0",
            "_view_name": "StyleView",
            "bar_color": null,
            "description_width": ""
          }
        },
        "2dbe7d0836b14ed392c6dd1582573d3d": {
          "model_module": "@jupyter-widgets/base",
          "model_name": "LayoutModel",
          "model_module_version": "1.2.0",
          "state": {
            "_model_module": "@jupyter-widgets/base",
            "_model_module_version": "1.2.0",
            "_model_name": "LayoutModel",
            "_view_count": null,
            "_view_module": "@jupyter-widgets/base",
            "_view_module_version": "1.2.0",
            "_view_name": "LayoutView",
            "align_content": null,
            "align_items": null,
            "align_self": null,
            "border": null,
            "bottom": null,
            "display": null,
            "flex": null,
            "flex_flow": null,
            "grid_area": null,
            "grid_auto_columns": null,
            "grid_auto_flow": null,
            "grid_auto_rows": null,
            "grid_column": null,
            "grid_gap": null,
            "grid_row": null,
            "grid_template_areas": null,
            "grid_template_columns": null,
            "grid_template_rows": null,
            "height": null,
            "justify_content": null,
            "justify_items": null,
            "left": null,
            "margin": null,
            "max_height": null,
            "max_width": null,
            "min_height": null,
            "min_width": null,
            "object_fit": null,
            "object_position": null,
            "order": null,
            "overflow": null,
            "overflow_x": null,
            "overflow_y": null,
            "padding": null,
            "right": null,
            "top": null,
            "visibility": null,
            "width": null
          }
        },
        "b346c01e763f4bdbb0d78349cc300fd0": {
          "model_module": "@jupyter-widgets/controls",
          "model_name": "DescriptionStyleModel",
          "model_module_version": "1.5.0",
          "state": {
            "_model_module": "@jupyter-widgets/controls",
            "_model_module_version": "1.5.0",
            "_model_name": "DescriptionStyleModel",
            "_view_count": null,
            "_view_module": "@jupyter-widgets/base",
            "_view_module_version": "1.2.0",
            "_view_name": "StyleView",
            "description_width": ""
          }
        }
      }
    }
  },
  "cells": [
    {
      "cell_type": "markdown",
      "metadata": {
        "id": "DfPPQ6ztJhv4"
      },
      "source": [
        "# MRI Instance Segmentation Finetuning\n",
        "\n",
        "Сегментация с помощью Finetuning-а модели resnet50 с использованием FastRCCN и MaskRCCN"
      ]
    },
    {
      "cell_type": "code",
      "source": [
        "import pandas as pd\n",
        "from glob import glob\n",
        "import matplotlib.pyplot as plt\n",
        "\n",
        "import torchvision\n",
        "from torchvision.models.detection.faster_rcnn import FastRCNNPredictor\n",
        "from torchvision.models.detection.mask_rcnn import MaskRCNNPredictor\n",
        "import os\n",
        "import numpy as np\n",
        "import torch\n",
        "import torch.utils.data\n",
        "from PIL import Image\n",
        "import cv2\n",
        "import numpy as np"
      ],
      "metadata": {
        "id": "2NykTZLphOG8"
      },
      "execution_count": 15,
      "outputs": []
    },
    {
      "cell_type": "code",
      "metadata": {
        "id": "DBIoe_tHTQgV",
        "colab": {
          "base_uri": "https://localhost:8080/"
        },
        "outputId": "07b26903-48aa-47d6-d183-2b8cc71fd298"
      },
      "source": [
        "%%shell\n",
        "\n",
        "pip install kaggle\n",
        "pip install cython\n",
        "# Install pycocotools, the version by default in Colab\n",
        "# has a bug fixed in https://github.com/cocodataset/cocoapi/pull/354\n",
        "pip install -U 'git+https://github.com/cocodataset/cocoapi.git#subdirectory=PythonAPI'"
      ],
      "execution_count": 2,
      "outputs": [
        {
          "output_type": "stream",
          "name": "stdout",
          "text": [
            "Looking in indexes: https://pypi.org/simple, https://us-python.pkg.dev/colab-wheels/public/simple/\n",
            "Requirement already satisfied: kaggle in /usr/local/lib/python3.7/dist-packages (1.5.12)\n",
            "Requirement already satisfied: requests in /usr/local/lib/python3.7/dist-packages (from kaggle) (2.23.0)\n",
            "Requirement already satisfied: tqdm in /usr/local/lib/python3.7/dist-packages (from kaggle) (4.64.0)\n",
            "Requirement already satisfied: urllib3 in /usr/local/lib/python3.7/dist-packages (from kaggle) (1.24.3)\n",
            "Requirement already satisfied: python-dateutil in /usr/local/lib/python3.7/dist-packages (from kaggle) (2.8.2)\n",
            "Requirement already satisfied: six>=1.10 in /usr/local/lib/python3.7/dist-packages (from kaggle) (1.15.0)\n",
            "Requirement already satisfied: certifi in /usr/local/lib/python3.7/dist-packages (from kaggle) (2022.5.18.1)\n",
            "Requirement already satisfied: python-slugify in /usr/local/lib/python3.7/dist-packages (from kaggle) (6.1.2)\n",
            "Requirement already satisfied: text-unidecode>=1.3 in /usr/local/lib/python3.7/dist-packages (from python-slugify->kaggle) (1.3)\n",
            "Requirement already satisfied: idna<3,>=2.5 in /usr/local/lib/python3.7/dist-packages (from requests->kaggle) (2.10)\n",
            "Requirement already satisfied: chardet<4,>=3.0.2 in /usr/local/lib/python3.7/dist-packages (from requests->kaggle) (3.0.4)\n",
            "Looking in indexes: https://pypi.org/simple, https://us-python.pkg.dev/colab-wheels/public/simple/\n",
            "Requirement already satisfied: cython in /usr/local/lib/python3.7/dist-packages (0.29.30)\n",
            "Looking in indexes: https://pypi.org/simple, https://us-python.pkg.dev/colab-wheels/public/simple/\n",
            "Collecting git+https://github.com/cocodataset/cocoapi.git#subdirectory=PythonAPI\n",
            "  Cloning https://github.com/cocodataset/cocoapi.git to /tmp/pip-req-build-pomkz4j5\n",
            "  Running command git clone -q https://github.com/cocodataset/cocoapi.git /tmp/pip-req-build-pomkz4j5\n",
            "Requirement already satisfied: setuptools>=18.0 in /usr/local/lib/python3.7/dist-packages (from pycocotools==2.0) (57.4.0)\n",
            "Requirement already satisfied: cython>=0.27.3 in /usr/local/lib/python3.7/dist-packages (from pycocotools==2.0) (0.29.30)\n",
            "Requirement already satisfied: matplotlib>=2.1.0 in /usr/local/lib/python3.7/dist-packages (from pycocotools==2.0) (3.2.2)\n",
            "Requirement already satisfied: pyparsing!=2.0.4,!=2.1.2,!=2.1.6,>=2.0.1 in /usr/local/lib/python3.7/dist-packages (from matplotlib>=2.1.0->pycocotools==2.0) (3.0.9)\n",
            "Requirement already satisfied: python-dateutil>=2.1 in /usr/local/lib/python3.7/dist-packages (from matplotlib>=2.1.0->pycocotools==2.0) (2.8.2)\n",
            "Requirement already satisfied: kiwisolver>=1.0.1 in /usr/local/lib/python3.7/dist-packages (from matplotlib>=2.1.0->pycocotools==2.0) (1.4.2)\n",
            "Requirement already satisfied: numpy>=1.11 in /usr/local/lib/python3.7/dist-packages (from matplotlib>=2.1.0->pycocotools==2.0) (1.21.6)\n",
            "Requirement already satisfied: cycler>=0.10 in /usr/local/lib/python3.7/dist-packages (from matplotlib>=2.1.0->pycocotools==2.0) (0.11.0)\n",
            "Requirement already satisfied: typing-extensions in /usr/local/lib/python3.7/dist-packages (from kiwisolver>=1.0.1->matplotlib>=2.1.0->pycocotools==2.0) (4.2.0)\n",
            "Requirement already satisfied: six>=1.5 in /usr/local/lib/python3.7/dist-packages (from python-dateutil>=2.1->matplotlib>=2.1.0->pycocotools==2.0) (1.15.0)\n",
            "Building wheels for collected packages: pycocotools\n",
            "  Building wheel for pycocotools (setup.py) ... \u001b[?25l\u001b[?25hdone\n",
            "  Created wheel for pycocotools: filename=pycocotools-2.0-cp37-cp37m-linux_x86_64.whl size=265176 sha256=70157a16b65b6559aa10dba55f4b0d95e3ac02c4747b1191bff23cd3cc2c1495\n",
            "  Stored in directory: /tmp/pip-ephem-wheel-cache-9_ahdfkk/wheels/e2/6b/1d/344ac773c7495ea0b85eb228bc66daec7400a143a92d36b7b1\n",
            "Successfully built pycocotools\n",
            "Installing collected packages: pycocotools\n",
            "  Attempting uninstall: pycocotools\n",
            "    Found existing installation: pycocotools 2.0.4\n",
            "    Uninstalling pycocotools-2.0.4:\n",
            "      Successfully uninstalled pycocotools-2.0.4\n",
            "Successfully installed pycocotools-2.0\n"
          ]
        },
        {
          "output_type": "execute_result",
          "data": {
            "text/plain": [
              ""
            ]
          },
          "metadata": {},
          "execution_count": 2
        }
      ]
    },
    {
      "cell_type": "markdown",
      "metadata": {
        "id": "5Sd4jlGp2eLm"
      },
      "source": [
        "## Датасет\n",
        "\n",
        "[Датасет](https://www.kaggle.com/datasets/mateuszbuda/lgg-mri-segmentation?datasetId=181273) представлен на платформе kaggle. Оно представляет из себя снимки МРТ 110 пациентов. Примечателен датасет тем, что в нем есть исходы (смерти) пациентов."
      ]
    },
    {
      "cell_type": "code",
      "source": [
        "from google.colab import files\n",
        "\n",
        "uploaded = files.upload()\n",
        "\n",
        "for fn in uploaded.keys():\n",
        "  print('User uploaded file \"{name}\" with length {length} bytes'.format(\n",
        "      name=fn, length=len(uploaded[fn])))\n",
        "  \n",
        "# Then move kaggle.json into the folder where the API expects to find it.\n",
        "!mkdir -p ~/.kaggle/ && mv kaggle.json ~/.kaggle/ && chmod 600 ~/.kaggle/kaggle.json"
      ],
      "metadata": {
        "id": "o9eLEYuWVSdj",
        "outputId": "771feedd-0413-4497-900c-930da32f688b",
        "colab": {
          "resources": {
            "http://localhost:8080/nbextensions/google.colab/files.js": {
              "data": "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",
              "ok": true,
              "headers": [
                [
                  "content-type",
                  "application/javascript"
                ]
              ],
              "status": 200,
              "status_text": ""
            }
          },
          "base_uri": "https://localhost:8080/",
          "height": 92
        }
      },
      "execution_count": 3,
      "outputs": [
        {
          "output_type": "display_data",
          "data": {
            "text/plain": [
              "<IPython.core.display.HTML object>"
            ],
            "text/html": [
              "\n",
              "     <input type=\"file\" id=\"files-8d5a4a43-111e-43ca-b45c-d6944128e60b\" name=\"files[]\" multiple disabled\n",
              "        style=\"border:none\" />\n",
              "     <output id=\"result-8d5a4a43-111e-43ca-b45c-d6944128e60b\">\n",
              "      Upload widget is only available when the cell has been executed in the\n",
              "      current browser session. Please rerun this cell to enable.\n",
              "      </output>\n",
              "      <script src=\"/nbextensions/google.colab/files.js\"></script> "
            ]
          },
          "metadata": {}
        },
        {
          "output_type": "stream",
          "name": "stdout",
          "text": [
            "Saving kaggle.json to kaggle.json\n",
            "User uploaded file \"kaggle.json\" with length 63 bytes\n"
          ]
        }
      ]
    },
    {
      "cell_type": "code",
      "source": [
        "!kaggle datasets download \"mateuszbuda/lgg-mri-segmentation\""
      ],
      "metadata": {
        "id": "azh-OFN4V1v4",
        "outputId": "a81d243c-3839-4651-e872-b4d261918927",
        "colab": {
          "base_uri": "https://localhost:8080/"
        }
      },
      "execution_count": 4,
      "outputs": [
        {
          "output_type": "stream",
          "name": "stdout",
          "text": [
            "Downloading lgg-mri-segmentation.zip to /content\n",
            " 99% 705M/714M [00:07<00:00, 141MB/s]\n",
            "100% 714M/714M [00:07<00:00, 106MB/s]\n"
          ]
        }
      ]
    },
    {
      "cell_type": "code",
      "source": [
        "!unzip -d ./ lgg-mri-segmentation.zip"
      ],
      "metadata": {
        "id": "t_lVzdZhcZOg"
      },
      "execution_count": null,
      "outputs": []
    },
    {
      "cell_type": "code",
      "source": [
        "df = pd.read_csv(\n",
        "    './kaggle_3m/data.csv',\n",
        "    usecols=['Patient', 'gender', 'age_at_initial_pathologic', 'race', 'ethnicity', 'death01']\n",
        ")"
      ],
      "metadata": {
        "id": "DWOA73txX-4L"
      },
      "execution_count": 6,
      "outputs": []
    },
    {
      "cell_type": "markdown",
      "source": [
        "Прослеживается исход лечения у пациентов."
      ],
      "metadata": {
        "id": "65ziFW75haNR"
      }
    },
    {
      "cell_type": "code",
      "source": [
        "df.head()"
      ],
      "metadata": {
        "id": "QyaHofiFYb94",
        "outputId": "0043b861-5a7a-48ff-bd9e-4bce936769d9",
        "colab": {
          "base_uri": "https://localhost:8080/",
          "height": 206
        }
      },
      "execution_count": 7,
      "outputs": [
        {
          "output_type": "execute_result",
          "data": {
            "text/plain": [
              "        Patient  gender  age_at_initial_pathologic  race  ethnicity  death01\n",
              "0  TCGA_CS_4941     2.0                       67.0   3.0        2.0      1.0\n",
              "1  TCGA_CS_4942     1.0                       44.0   2.0        NaN      1.0\n",
              "2  TCGA_CS_4943     2.0                       37.0   3.0        NaN      0.0\n",
              "3  TCGA_CS_4944     2.0                       50.0   3.0        NaN      0.0\n",
              "4  TCGA_CS_5393     2.0                       39.0   3.0        NaN      0.0"
            ],
            "text/html": [
              "\n",
              "  <div id=\"df-dbec1f35-35e4-42c7-a90e-e088fad337b6\">\n",
              "    <div class=\"colab-df-container\">\n",
              "      <div>\n",
              "<style scoped>\n",
              "    .dataframe tbody tr th:only-of-type {\n",
              "        vertical-align: middle;\n",
              "    }\n",
              "\n",
              "    .dataframe tbody tr th {\n",
              "        vertical-align: top;\n",
              "    }\n",
              "\n",
              "    .dataframe thead th {\n",
              "        text-align: right;\n",
              "    }\n",
              "</style>\n",
              "<table border=\"1\" class=\"dataframe\">\n",
              "  <thead>\n",
              "    <tr style=\"text-align: right;\">\n",
              "      <th></th>\n",
              "      <th>Patient</th>\n",
              "      <th>gender</th>\n",
              "      <th>age_at_initial_pathologic</th>\n",
              "      <th>race</th>\n",
              "      <th>ethnicity</th>\n",
              "      <th>death01</th>\n",
              "    </tr>\n",
              "  </thead>\n",
              "  <tbody>\n",
              "    <tr>\n",
              "      <th>0</th>\n",
              "      <td>TCGA_CS_4941</td>\n",
              "      <td>2.0</td>\n",
              "      <td>67.0</td>\n",
              "      <td>3.0</td>\n",
              "      <td>2.0</td>\n",
              "      <td>1.0</td>\n",
              "    </tr>\n",
              "    <tr>\n",
              "      <th>1</th>\n",
              "      <td>TCGA_CS_4942</td>\n",
              "      <td>1.0</td>\n",
              "      <td>44.0</td>\n",
              "      <td>2.0</td>\n",
              "      <td>NaN</td>\n",
              "      <td>1.0</td>\n",
              "    </tr>\n",
              "    <tr>\n",
              "      <th>2</th>\n",
              "      <td>TCGA_CS_4943</td>\n",
              "      <td>2.0</td>\n",
              "      <td>37.0</td>\n",
              "      <td>3.0</td>\n",
              "      <td>NaN</td>\n",
              "      <td>0.0</td>\n",
              "    </tr>\n",
              "    <tr>\n",
              "      <th>3</th>\n",
              "      <td>TCGA_CS_4944</td>\n",
              "      <td>2.0</td>\n",
              "      <td>50.0</td>\n",
              "      <td>3.0</td>\n",
              "      <td>NaN</td>\n",
              "      <td>0.0</td>\n",
              "    </tr>\n",
              "    <tr>\n",
              "      <th>4</th>\n",
              "      <td>TCGA_CS_5393</td>\n",
              "      <td>2.0</td>\n",
              "      <td>39.0</td>\n",
              "      <td>3.0</td>\n",
              "      <td>NaN</td>\n",
              "      <td>0.0</td>\n",
              "    </tr>\n",
              "  </tbody>\n",
              "</table>\n",
              "</div>\n",
              "      <button class=\"colab-df-convert\" onclick=\"convertToInteractive('df-dbec1f35-35e4-42c7-a90e-e088fad337b6')\"\n",
              "              title=\"Convert this dataframe to an interactive table.\"\n",
              "              style=\"display:none;\">\n",
              "        \n",
              "  <svg xmlns=\"http://www.w3.org/2000/svg\" height=\"24px\"viewBox=\"0 0 24 24\"\n",
              "       width=\"24px\">\n",
              "    <path d=\"M0 0h24v24H0V0z\" fill=\"none\"/>\n",
              "    <path d=\"M18.56 5.44l.94 2.06.94-2.06 2.06-.94-2.06-.94-.94-2.06-.94 2.06-2.06.94zm-11 1L8.5 8.5l.94-2.06 2.06-.94-2.06-.94L8.5 2.5l-.94 2.06-2.06.94zm10 10l.94 2.06.94-2.06 2.06-.94-2.06-.94-.94-2.06-.94 2.06-2.06.94z\"/><path d=\"M17.41 7.96l-1.37-1.37c-.4-.4-.92-.59-1.43-.59-.52 0-1.04.2-1.43.59L10.3 9.45l-7.72 7.72c-.78.78-.78 2.05 0 2.83L4 21.41c.39.39.9.59 1.41.59.51 0 1.02-.2 1.41-.59l7.78-7.78 2.81-2.81c.8-.78.8-2.07 0-2.86zM5.41 20L4 18.59l7.72-7.72 1.47 1.35L5.41 20z\"/>\n",
              "  </svg>\n",
              "      </button>\n",
              "      \n",
              "  <style>\n",
              "    .colab-df-container {\n",
              "      display:flex;\n",
              "      flex-wrap:wrap;\n",
              "      gap: 12px;\n",
              "    }\n",
              "\n",
              "    .colab-df-convert {\n",
              "      background-color: #E8F0FE;\n",
              "      border: none;\n",
              "      border-radius: 50%;\n",
              "      cursor: pointer;\n",
              "      display: none;\n",
              "      fill: #1967D2;\n",
              "      height: 32px;\n",
              "      padding: 0 0 0 0;\n",
              "      width: 32px;\n",
              "    }\n",
              "\n",
              "    .colab-df-convert:hover {\n",
              "      background-color: #E2EBFA;\n",
              "      box-shadow: 0px 1px 2px rgba(60, 64, 67, 0.3), 0px 1px 3px 1px rgba(60, 64, 67, 0.15);\n",
              "      fill: #174EA6;\n",
              "    }\n",
              "\n",
              "    [theme=dark] .colab-df-convert {\n",
              "      background-color: #3B4455;\n",
              "      fill: #D2E3FC;\n",
              "    }\n",
              "\n",
              "    [theme=dark] .colab-df-convert:hover {\n",
              "      background-color: #434B5C;\n",
              "      box-shadow: 0px 1px 3px 1px rgba(0, 0, 0, 0.15);\n",
              "      filter: drop-shadow(0px 1px 2px rgba(0, 0, 0, 0.3));\n",
              "      fill: #FFFFFF;\n",
              "    }\n",
              "  </style>\n",
              "\n",
              "      <script>\n",
              "        const buttonEl =\n",
              "          document.querySelector('#df-dbec1f35-35e4-42c7-a90e-e088fad337b6 button.colab-df-convert');\n",
              "        buttonEl.style.display =\n",
              "          google.colab.kernel.accessAllowed ? 'block' : 'none';\n",
              "\n",
              "        async function convertToInteractive(key) {\n",
              "          const element = document.querySelector('#df-dbec1f35-35e4-42c7-a90e-e088fad337b6');\n",
              "          const dataTable =\n",
              "            await google.colab.kernel.invokeFunction('convertToInteractive',\n",
              "                                                     [key], {});\n",
              "          if (!dataTable) return;\n",
              "\n",
              "          const docLinkHtml = 'Like what you see? Visit the ' +\n",
              "            '<a target=\"_blank\" href=https://colab.research.google.com/notebooks/data_table.ipynb>data table notebook</a>'\n",
              "            + ' to learn more about interactive tables.';\n",
              "          element.innerHTML = '';\n",
              "          dataTable['output_type'] = 'display_data';\n",
              "          await google.colab.output.renderOutput(dataTable, element);\n",
              "          const docLink = document.createElement('div');\n",
              "          docLink.innerHTML = docLinkHtml;\n",
              "          element.appendChild(docLink);\n",
              "        }\n",
              "      </script>\n",
              "    </div>\n",
              "  </div>\n",
              "  "
            ]
          },
          "metadata": {},
          "execution_count": 7
        }
      ]
    },
    {
      "cell_type": "markdown",
      "source": [
        "Загрузим сами снимки. Нужно учесть, что там не всегда есть новообразование"
      ],
      "metadata": {
        "id": "pPbNmde0hdah"
      }
    },
    {
      "cell_type": "code",
      "source": [
        "import os"
      ],
      "metadata": {
        "id": "iBUcmC9JcmQ3"
      },
      "execution_count": 8,
      "outputs": []
    },
    {
      "cell_type": "code",
      "source": [
        "data_map = []\n",
        "for sub_dir_path in glob(\"/content/kaggle_3m/*\"):\n",
        "    if os.path.isdir(sub_dir_path):\n",
        "        dir_name = sub_dir_path.split('/')[-1]\n",
        "        for filename in os.listdir(sub_dir_path):\n",
        "            image_path = sub_dir_path + '/' + filename\n",
        "            data_map.extend([dir_name, image_path])\n"
      ],
      "metadata": {
        "id": "3hzOOu-WYwpQ"
      },
      "execution_count": 9,
      "outputs": []
    },
    {
      "cell_type": "code",
      "source": [
        "data = pd.DataFrame({\"patient_id\" : data_map[::2],\n",
        "                   \"path\" : data_map[1::2]})\n",
        "data.head()"
      ],
      "metadata": {
        "id": "tMnSd1ISaJPW",
        "outputId": "05ce352e-5439-4472-f7a0-3c80aeb994c3",
        "colab": {
          "base_uri": "https://localhost:8080/",
          "height": 206
        }
      },
      "execution_count": 10,
      "outputs": [
        {
          "output_type": "execute_result",
          "data": {
            "text/plain": [
              "              patient_id                                               path\n",
              "0  TCGA_DU_6400_19830518  /content/kaggle_3m/TCGA_DU_6400_19830518/TCGA_...\n",
              "1  TCGA_DU_6400_19830518  /content/kaggle_3m/TCGA_DU_6400_19830518/TCGA_...\n",
              "2  TCGA_DU_6400_19830518  /content/kaggle_3m/TCGA_DU_6400_19830518/TCGA_...\n",
              "3  TCGA_DU_6400_19830518  /content/kaggle_3m/TCGA_DU_6400_19830518/TCGA_...\n",
              "4  TCGA_DU_6400_19830518  /content/kaggle_3m/TCGA_DU_6400_19830518/TCGA_..."
            ],
            "text/html": [
              "\n",
              "  <div id=\"df-d574e932-9a20-4d52-b365-583e56a528e2\">\n",
              "    <div class=\"colab-df-container\">\n",
              "      <div>\n",
              "<style scoped>\n",
              "    .dataframe tbody tr th:only-of-type {\n",
              "        vertical-align: middle;\n",
              "    }\n",
              "\n",
              "    .dataframe tbody tr th {\n",
              "        vertical-align: top;\n",
              "    }\n",
              "\n",
              "    .dataframe thead th {\n",
              "        text-align: right;\n",
              "    }\n",
              "</style>\n",
              "<table border=\"1\" class=\"dataframe\">\n",
              "  <thead>\n",
              "    <tr style=\"text-align: right;\">\n",
              "      <th></th>\n",
              "      <th>patient_id</th>\n",
              "      <th>path</th>\n",
              "    </tr>\n",
              "  </thead>\n",
              "  <tbody>\n",
              "    <tr>\n",
              "      <th>0</th>\n",
              "      <td>TCGA_DU_6400_19830518</td>\n",
              "      <td>/content/kaggle_3m/TCGA_DU_6400_19830518/TCGA_...</td>\n",
              "    </tr>\n",
              "    <tr>\n",
              "      <th>1</th>\n",
              "      <td>TCGA_DU_6400_19830518</td>\n",
              "      <td>/content/kaggle_3m/TCGA_DU_6400_19830518/TCGA_...</td>\n",
              "    </tr>\n",
              "    <tr>\n",
              "      <th>2</th>\n",
              "      <td>TCGA_DU_6400_19830518</td>\n",
              "      <td>/content/kaggle_3m/TCGA_DU_6400_19830518/TCGA_...</td>\n",
              "    </tr>\n",
              "    <tr>\n",
              "      <th>3</th>\n",
              "      <td>TCGA_DU_6400_19830518</td>\n",
              "      <td>/content/kaggle_3m/TCGA_DU_6400_19830518/TCGA_...</td>\n",
              "    </tr>\n",
              "    <tr>\n",
              "      <th>4</th>\n",
              "      <td>TCGA_DU_6400_19830518</td>\n",
              "      <td>/content/kaggle_3m/TCGA_DU_6400_19830518/TCGA_...</td>\n",
              "    </tr>\n",
              "  </tbody>\n",
              "</table>\n",
              "</div>\n",
              "      <button class=\"colab-df-convert\" onclick=\"convertToInteractive('df-d574e932-9a20-4d52-b365-583e56a528e2')\"\n",
              "              title=\"Convert this dataframe to an interactive table.\"\n",
              "              style=\"display:none;\">\n",
              "        \n",
              "  <svg xmlns=\"http://www.w3.org/2000/svg\" height=\"24px\"viewBox=\"0 0 24 24\"\n",
              "       width=\"24px\">\n",
              "    <path d=\"M0 0h24v24H0V0z\" fill=\"none\"/>\n",
              "    <path d=\"M18.56 5.44l.94 2.06.94-2.06 2.06-.94-2.06-.94-.94-2.06-.94 2.06-2.06.94zm-11 1L8.5 8.5l.94-2.06 2.06-.94-2.06-.94L8.5 2.5l-.94 2.06-2.06.94zm10 10l.94 2.06.94-2.06 2.06-.94-2.06-.94-.94-2.06-.94 2.06-2.06.94z\"/><path d=\"M17.41 7.96l-1.37-1.37c-.4-.4-.92-.59-1.43-.59-.52 0-1.04.2-1.43.59L10.3 9.45l-7.72 7.72c-.78.78-.78 2.05 0 2.83L4 21.41c.39.39.9.59 1.41.59.51 0 1.02-.2 1.41-.59l7.78-7.78 2.81-2.81c.8-.78.8-2.07 0-2.86zM5.41 20L4 18.59l7.72-7.72 1.47 1.35L5.41 20z\"/>\n",
              "  </svg>\n",
              "      </button>\n",
              "      \n",
              "  <style>\n",
              "    .colab-df-container {\n",
              "      display:flex;\n",
              "      flex-wrap:wrap;\n",
              "      gap: 12px;\n",
              "    }\n",
              "\n",
              "    .colab-df-convert {\n",
              "      background-color: #E8F0FE;\n",
              "      border: none;\n",
              "      border-radius: 50%;\n",
              "      cursor: pointer;\n",
              "      display: none;\n",
              "      fill: #1967D2;\n",
              "      height: 32px;\n",
              "      padding: 0 0 0 0;\n",
              "      width: 32px;\n",
              "    }\n",
              "\n",
              "    .colab-df-convert:hover {\n",
              "      background-color: #E2EBFA;\n",
              "      box-shadow: 0px 1px 2px rgba(60, 64, 67, 0.3), 0px 1px 3px 1px rgba(60, 64, 67, 0.15);\n",
              "      fill: #174EA6;\n",
              "    }\n",
              "\n",
              "    [theme=dark] .colab-df-convert {\n",
              "      background-color: #3B4455;\n",
              "      fill: #D2E3FC;\n",
              "    }\n",
              "\n",
              "    [theme=dark] .colab-df-convert:hover {\n",
              "      background-color: #434B5C;\n",
              "      box-shadow: 0px 1px 3px 1px rgba(0, 0, 0, 0.15);\n",
              "      filter: drop-shadow(0px 1px 2px rgba(0, 0, 0, 0.3));\n",
              "      fill: #FFFFFF;\n",
              "    }\n",
              "  </style>\n",
              "\n",
              "      <script>\n",
              "        const buttonEl =\n",
              "          document.querySelector('#df-d574e932-9a20-4d52-b365-583e56a528e2 button.colab-df-convert');\n",
              "        buttonEl.style.display =\n",
              "          google.colab.kernel.accessAllowed ? 'block' : 'none';\n",
              "\n",
              "        async function convertToInteractive(key) {\n",
              "          const element = document.querySelector('#df-d574e932-9a20-4d52-b365-583e56a528e2');\n",
              "          const dataTable =\n",
              "            await google.colab.kernel.invokeFunction('convertToInteractive',\n",
              "                                                     [key], {});\n",
              "          if (!dataTable) return;\n",
              "\n",
              "          const docLinkHtml = 'Like what you see? Visit the ' +\n",
              "            '<a target=\"_blank\" href=https://colab.research.google.com/notebooks/data_table.ipynb>data table notebook</a>'\n",
              "            + ' to learn more about interactive tables.';\n",
              "          element.innerHTML = '';\n",
              "          dataTable['output_type'] = 'display_data';\n",
              "          await google.colab.output.renderOutput(dataTable, element);\n",
              "          const docLink = document.createElement('div');\n",
              "          docLink.innerHTML = docLinkHtml;\n",
              "          element.appendChild(docLink);\n",
              "        }\n",
              "      </script>\n",
              "    </div>\n",
              "  </div>\n",
              "  "
            ]
          },
          "metadata": {},
          "execution_count": 10
        }
      ]
    },
    {
      "cell_type": "code",
      "source": [
        "import re\n",
        "import random"
      ],
      "metadata": {
        "id": "1HEy1HqNa-b6"
      },
      "execution_count": 11,
      "outputs": []
    },
    {
      "cell_type": "code",
      "source": [
        "data_imgs = data[~data['path'].str.contains(\"mask\")]\n",
        "data_masks = data[data['path'].str.contains(\"mask\")]\n",
        "\n",
        "# Data sorting\n",
        "imgs = sorted(data_imgs[\"path\"].values, key=lambda x : int(re.findall('_(\\d+)\\.tif', x)[0]))\n",
        "masks = sorted(data_masks[\"path\"].values, key=lambda x : int(re.findall('_(\\d+)\\_mask.tif', x)[0]))\n",
        "\n",
        "# Sorting check\n",
        "idx = random.randint(0, len(imgs)-1)\n",
        "print(\"Path to the Image:\", imgs[idx], \"\\nPath to the Mask:\", masks[idx])"
      ],
      "metadata": {
        "id": "MQDBa5DpaJ5u",
        "outputId": "f7bf4752-9670-4ff5-b5fa-75a58d59d313",
        "colab": {
          "base_uri": "https://localhost:8080/"
        }
      },
      "execution_count": 12,
      "outputs": [
        {
          "output_type": "stream",
          "name": "stdout",
          "text": [
            "Path to the Image: /content/kaggle_3m/TCGA_FG_6690_20020226/TCGA_FG_6690_20020226_15.tif \n",
            "Path to the Mask: /content/kaggle_3m/TCGA_FG_6690_20020226/TCGA_FG_6690_20020226_15_mask.tif\n"
          ]
        }
      ]
    },
    {
      "cell_type": "code",
      "source": [
        "brain_data = pd.DataFrame({\"patient_id\": data_imgs.patient_id.values,\n",
        "                             \"image_path\": imgs,\n",
        "                             \"mask_path\": masks\n",
        "                            })\n",
        "\n",
        "def pos_neg_diagnosis(mask_path):\n",
        "    value = np.max(cv2.imread(mask_path))\n",
        "    if value > 0: \n",
        "        return 1\n",
        "    else:\n",
        "        return 0\n",
        "    \n",
        "brain_data['mask'] = brain_data['mask_path'].apply(lambda x: pos_neg_diagnosis(x))"
      ],
      "metadata": {
        "id": "SC3j9TbhbT4n"
      },
      "execution_count": 16,
      "outputs": []
    },
    {
      "cell_type": "code",
      "source": [
        "brain_data['mask'].value_counts()"
      ],
      "metadata": {
        "id": "J8pJSvkybJr5",
        "outputId": "0262fc4f-94b3-43db-9ba1-c69f304975c8",
        "colab": {
          "base_uri": "https://localhost:8080/"
        }
      },
      "execution_count": 17,
      "outputs": [
        {
          "output_type": "execute_result",
          "data": {
            "text/plain": [
              "0    2556\n",
              "1    1373\n",
              "Name: mask, dtype: int64"
            ]
          },
          "metadata": {},
          "execution_count": 17
        }
      ]
    },
    {
      "cell_type": "code",
      "source": [
        "mask_imgs_idx = []\n",
        "for i in range(len(brain_data)):\n",
        "    if cv2.imread(brain_data.mask_path[i]).max() > 0:\n",
        "        mask_imgs_idx.append(i)"
      ],
      "metadata": {
        "id": "YOfkx-MzbpkW"
      },
      "execution_count": 18,
      "outputs": []
    },
    {
      "cell_type": "code",
      "source": [
        "i = random.choice(mask_imgs_idx)"
      ],
      "metadata": {
        "id": "R3P4geCKbqH7"
      },
      "execution_count": 19,
      "outputs": []
    },
    {
      "cell_type": "markdown",
      "source": [
        "Пример новообразования"
      ],
      "metadata": {
        "id": "_uGoe9jfhtrj"
      }
    },
    {
      "cell_type": "code",
      "metadata": {
        "id": "cFHKCvCTxiff",
        "colab": {
          "base_uri": "https://localhost:8080/",
          "height": 361
        },
        "outputId": "eb2c815f-a5d7-49b7-9a56-9cce6ad77972"
      },
      "source": [
        "fig, axes = plt.subplots(1, 3, figsize=(16, 9))\n",
        "\n",
        "img = cv2.imread(brain_data.image_path[i])\n",
        "axes.flat[0].title.set_text(\"Brain MRI\")\n",
        "axes.flat[0].imshow(img)\n",
        "\n",
        "mask = cv2.imread(brain_data.mask_path[i])[:, :, 2]\n",
        "axes.flat[1].title.set_text(\"Mask\")\n",
        "axes.flat[1].imshow(mask, cmap='gray')\n",
        "\n",
        "img[mask == 255] = (0, 255, 150)  # change pixel color at the position of mask\n",
        "axes.flat[2].title.set_text(\"MRI with Mask\")\n",
        "axes.flat[2].imshow(img)\n",
        "\n",
        "fig.tight_layout()"
      ],
      "execution_count": 20,
      "outputs": [
        {
          "output_type": "display_data",
          "data": {
            "text/plain": [
              "<Figure size 1152x648 with 3 Axes>"
            ],
            "image/png": "[encoded data removed]"
          },
          "metadata": {
            "needs_background": "light"
          }
        }
      ]
    },
    {
      "cell_type": "markdown",
      "source": [
        "Реализуем датасет для дальнейшей обработки"
      ],
      "metadata": {
        "id": "c9bZD376hzpn"
      }
    },
    {
      "cell_type": "code",
      "metadata": {
        "id": "mTgWtixZTs3X"
      },
      "source": [
        "class MRIDataset(torch.utils.data.Dataset):\n",
        "    def __init__(self, df, transforms=None):\n",
        "        self.transforms = transforms\n",
        "        self.imgs = df['image_path'].tolist()\n",
        "        self.masks = df['mask_path'].tolist()\n",
        "\n",
        "    def __getitem__(self, idx):\n",
        "        img_path = self.imgs[idx]\n",
        "        mask_path = self.masks[idx]\n",
        "\n",
        "        img = cv2.imread(img_path)\n",
        "        mask = cv2.imread(mask_path)[:, :, 0]\n",
        "        mask[mask == 255] = 1\n",
        "\n",
        "        pos = np.where(mask)\n",
        "        xmin = np.min(pos[1])\n",
        "        xmax = np.max(pos[1])\n",
        "        ymin = np.min(pos[0])\n",
        "        ymax = np.max(pos[0])\n",
        "        boxes = torch.as_tensor([[xmin, ymin, xmax, ymax]])\n",
        "\n",
        "        labels = torch.ones((1, ), dtype=torch.int64)\n",
        "        masks = torch.as_tensor(np.array([mask]), dtype=torch.uint8)\n",
        "        image_id = torch.tensor([idx])\n",
        "        area = (boxes[:, 3] - boxes[:, 1]) * (boxes[:, 2] - boxes[:, 0])\n",
        "        # suppose all instances are not crowd\n",
        "        iscrowd = torch.zeros((1, ), dtype=torch.int64)\n",
        "\n",
        "        target = {}\n",
        "        target[\"boxes\"] = boxes\n",
        "        target[\"labels\"] = labels\n",
        "        target[\"masks\"] = masks\n",
        "        target[\"image_id\"] = image_id\n",
        "        target[\"area\"] = area\n",
        "        target[\"iscrowd\"] = iscrowd\n",
        "\n",
        "        if self.transforms is not None:\n",
        "            img, target = self.transforms(img, target)\n",
        "\n",
        "        return img, target\n",
        "\n",
        "    def __len__(self):\n",
        "        return len(self.imgs)"
      ],
      "execution_count": 21,
      "outputs": []
    },
    {
      "cell_type": "code",
      "metadata": {
        "id": "ZEARO4B_ye0s"
      },
      "source": [
        "dataset = MRIDataset(brain_data.query('mask == 1'))"
      ],
      "execution_count": 22,
      "outputs": []
    },
    {
      "cell_type": "markdown",
      "metadata": {
        "id": "RoAEkUgn4uEq"
      },
      "source": [
        "## Defining your model\n",
        "\n",
        "Во вовремя работы мы будем использовать [Mask R-CNN](https://arxiv.org/abs/1703.06870), который базируется на[Faster R-CNN](https://arxiv.org/abs/1506.01497). Faster R-CNN это модель, который одновременно предсказывает позицию и класс объекта в фотографии. \n",
        "\n",
        "Mask R-CNN добавляет дополнительную ветку в Faster R-CNN, который также будет сегментировать маски для каждого объекта.\n"
      ]
    },
    {
      "cell_type": "code",
      "metadata": {
        "id": "YjNHjVMOyYlH"
      },
      "source": [
        "def get_instance_segmentation_model(num_classes):\n",
        "    model = torchvision.models.detection.maskrcnn_resnet50_fpn(pretrained=True)\n",
        "\n",
        "    in_features = model.roi_heads.box_predictor.cls_score.in_features\n",
        "    model.roi_heads.box_predictor = FastRCNNPredictor(in_features, num_classes)\n",
        "\n",
        "    in_features_mask = model.roi_heads.mask_predictor.conv5_mask.in_channels\n",
        "    hidden_layer = 256\n",
        "\n",
        "    model.roi_heads.mask_predictor = MaskRCNNPredictor(in_features_mask,\n",
        "                                                       hidden_layer,\n",
        "                                                       num_classes)\n",
        "\n",
        "    return model"
      ],
      "execution_count": 23,
      "outputs": []
    },
    {
      "cell_type": "markdown",
      "source": [
        "Подготовка скриптов для запуска"
      ],
      "metadata": {
        "id": "hzlrwB8Hig-M"
      }
    },
    {
      "cell_type": "code",
      "metadata": {
        "id": "UYDb7PBw55b-",
        "colab": {
          "base_uri": "https://localhost:8080/"
        },
        "outputId": "703288c9-cc8d-4a41-bdb3-689a6a91540d"
      },
      "source": [
        "%%shell\n",
        "\n",
        "# Download TorchVision repo to use some files from\n",
        "# references/detection\n",
        "git clone https://github.com/pytorch/vision.git\n",
        "cd vision\n",
        "git checkout v0.8.2\n",
        "\n",
        "cp references/detection/utils.py ../\n",
        "cp references/detection/transforms.py ../\n",
        "cp references/detection/coco_eval.py ../\n",
        "cp references/detection/engine.py ../\n",
        "cp references/detection/coco_utils.py ../"
      ],
      "execution_count": 24,
      "outputs": [
        {
          "output_type": "stream",
          "name": "stdout",
          "text": [
            "Cloning into 'vision'...\n",
            "remote: Enumerating objects: 153215, done.\u001b[K\n",
            "remote: Counting objects: 100% (5588/5588), done.\u001b[K\n",
            "remote: Compressing objects: 100% (534/534), done.\u001b[K\n",
            "remote: Total 153215 (delta 5089), reused 5470 (delta 5031), pack-reused 147627\u001b[K\n",
            "Receiving objects: 100% (153215/153215), 299.83 MiB | 28.12 MiB/s, done.\n",
            "Resolving deltas: 100% (135682/135682), done.\n",
            "Note: checking out 'v0.8.2'.\n",
            "\n",
            "You are in 'detached HEAD' state. You can look around, make experimental\n",
            "changes and commit them, and you can discard any commits you make in this\n",
            "state without impacting any branches by performing another checkout.\n",
            "\n",
            "If you want to create a new branch to retain commits you create, you may\n",
            "do so (now or later) by using -b with the checkout command again. Example:\n",
            "\n",
            "  git checkout -b <new-branch-name>\n",
            "\n",
            "HEAD is now at 2f40a483d [v0.8.X] .circleci: Add Python 3.9 to CI (#3063)\n"
          ]
        },
        {
          "output_type": "execute_result",
          "data": {
            "text/plain": [
              ""
            ]
          },
          "metadata": {},
          "execution_count": 24
        }
      ]
    },
    {
      "cell_type": "code",
      "metadata": {
        "id": "l79ivkwKy357"
      },
      "source": [
        "from engine import train_one_epoch, evaluate\n",
        "import utils\n",
        "import transforms as T\n",
        "\n",
        "\n",
        "def get_transform(train):\n",
        "    transforms = []\n",
        "    # converts the image, a PIL image, into a PyTorch Tensor\n",
        "    transforms.append(T.ToTensor())\n",
        "    if train:\n",
        "        # during training, randomly flip the training images\n",
        "        # and ground-truth for data augmentation\n",
        "        transforms.append(T.RandomHorizontalFlip(0.5))\n",
        "    return T.Compose(transforms)"
      ],
      "execution_count": 25,
      "outputs": []
    },
    {
      "cell_type": "markdown",
      "source": [
        "Создание DataLoader-ов"
      ],
      "metadata": {
        "id": "oICeRIC6infp"
      }
    },
    {
      "cell_type": "code",
      "metadata": {
        "id": "a5dGaIezze3y",
        "outputId": "7413af93-3bb5-4390-cd84-0230d29b615c",
        "colab": {
          "base_uri": "https://localhost:8080/"
        }
      },
      "source": [
        "# use our dataset and defined transformations\n",
        "dataset = MRIDataset(brain_data.query('mask == 1'), get_transform(train=True))\n",
        "dataset_test = MRIDataset(brain_data.query('mask == 1'), get_transform(train=False))\n",
        "\n",
        "# split the dataset in train and test set\n",
        "torch.manual_seed(1)\n",
        "indices = torch.randperm(len(dataset)).tolist()\n",
        "dataset = torch.utils.data.Subset(dataset, indices[:-300])\n",
        "dataset_test = torch.utils.data.Subset(dataset_test, indices[-300:])\n",
        "\n",
        "# define training and validation data loaders\n",
        "data_loader = torch.utils.data.DataLoader(\n",
        "    dataset, batch_size=2, shuffle=True, num_workers=4,\n",
        "    collate_fn=utils.collate_fn)\n",
        "\n",
        "data_loader_test = torch.utils.data.DataLoader(\n",
        "    dataset_test, batch_size=1, shuffle=False, num_workers=4,\n",
        "    collate_fn=utils.collate_fn)"
      ],
      "execution_count": 26,
      "outputs": [
        {
          "output_type": "stream",
          "name": "stderr",
          "text": [
            "/usr/local/lib/python3.7/dist-packages/torch/utils/data/dataloader.py:490: UserWarning: This DataLoader will create 4 worker processes in total. Our suggested max number of worker in current system is 2, which is smaller than what this DataLoader is going to create. Please be aware that excessive worker creation might get DataLoader running slow or even freeze, lower the worker number to avoid potential slowness/freeze if necessary.\n",
            "  cpuset_checked))\n"
          ]
        }
      ]
    },
    {
      "cell_type": "markdown",
      "metadata": {
        "id": "L5yvZUprj4ZN"
      },
      "source": [
        "Теперь инициализиуем саму модель и оптимизатор - SGD"
      ]
    },
    {
      "cell_type": "code",
      "metadata": {
        "id": "zoenkCj18C4h",
        "colab": {
          "base_uri": "https://localhost:8080/",
          "height": 87,
          "referenced_widgets": [
            "8bce68112d4249228e2ecf0c1760ddda",
            "a66c6ee832aa4fa3bdd0ac321a936c85",
            "9bac489c2c36424ebd61615709fac2f5",
            "5e06560421554f09929aecd61fc074cb",
            "6eaf67675d5b48b3b0ae92009913f7cb",
            "16b270a06dd24ca4bb79b630edfa79bb",
            "8fe0ca0075b94ed695f7a28b0a899302",
            "e1ea6a76941e436ba20cf3ea3b0f429c",
            "36ddfb80dd8a489d9eff8d8a33cfb405",
            "dacf3d3c9ae44a53b072a4de84df9ab2",
            "a637cc47f59549b08c5d810b61d84955"
          ]
        },
        "outputId": "69d6957b-39cc-4c17-9083-c1d7c7a4d3b0"
      },
      "source": [
        "device = torch.device('cuda') if torch.cuda.is_available() else torch.device('cpu')\n",
        "\n",
        "# our dataset has two classes only - background and person\n",
        "num_classes = 2\n",
        "\n",
        "# get the model using our helper function\n",
        "model = get_instance_segmentation_model(num_classes)\n",
        "# move model to the right device\n",
        "model.to(device)\n",
        "\n",
        "# construct an optimizer\n",
        "params = [p for p in model.parameters() if p.requires_grad]\n",
        "optimizer = torch.optim.SGD(params, lr=0.005,\n",
        "                            momentum=0.9, weight_decay=0.0005)\n",
        "\n",
        "# and a learning rate scheduler which decreases the learning rate by\n",
        "# 10x every 3 epochs\n",
        "lr_scheduler = torch.optim.lr_scheduler.StepLR(optimizer,\n",
        "                                               step_size=3,\n",
        "                                               gamma=0.1)"
      ],
      "execution_count": 27,
      "outputs": [
        {
          "output_type": "stream",
          "name": "stderr",
          "text": [
            "Downloading: \"https://download.pytorch.org/models/maskrcnn_resnet50_fpn_coco-bf2d0c1e.pth\" to /root/.cache/torch/hub/checkpoints/maskrcnn_resnet50_fpn_coco-bf2d0c1e.pth\n"
          ]
        },
        {
          "output_type": "display_data",
          "data": {
            "text/plain": [
              "  0%|          | 0.00/170M [00:00<?, ?B/s]"
            ],
            "application/vnd.jupyter.widget-view+json": {
              "version_major": 2,
              "version_minor": 0,
              "model_id": "8bce68112d4249228e2ecf0c1760ddda"
            }
          },
          "metadata": {}
        }
      ]
    },
    {
      "cell_type": "code",
      "source": [
        "model"
      ],
      "metadata": {
        "id": "WD7NYldYc1_9"
      },
      "execution_count": null,
      "outputs": []
    },
    {
      "cell_type": "markdown",
      "metadata": {
        "id": "XAd56lt4kDxc"
      },
      "source": [
        "And now let's train the model for 10 epochs, evaluating at the end of every epoch."
      ]
    },
    {
      "cell_type": "code",
      "metadata": {
        "id": "at-h4OWK0aoc",
        "colab": {
          "base_uri": "https://localhost:8080/",
          "height": 1000
        },
        "outputId": "cc81f152-52f9-43a5-fe1e-175fbad21ae1"
      },
      "source": [
        "# let's train it for 10 epochs\n",
        "from torch.optim.lr_scheduler import StepLR\n",
        "num_epochs = 10\n",
        "\n",
        "\n",
        "for epoch in range(num_epochs):\n",
        "    # train for one epoch, printing every 10 iterations\n",
        "    train_one_epoch(model, optimizer, data_loader, device, epoch, print_freq=10)\n",
        "    # update the learning rate\n",
        "    lr_scheduler.step()\n",
        "    # evaluate on the test dataset\n",
        "    evaluate(model, data_loader_test, device=device)"
      ],
      "execution_count": 29,
      "outputs": [
        {
          "output_type": "stream",
          "name": "stderr",
          "text": [
            "/usr/local/lib/python3.7/dist-packages/torch/utils/data/dataloader.py:490: UserWarning: This DataLoader will create 4 worker processes in total. Our suggested max number of worker in current system is 2, which is smaller than what this DataLoader is going to create. Please be aware that excessive worker creation might get DataLoader running slow or even freeze, lower the worker number to avoid potential slowness/freeze if necessary.\n",
            "  cpuset_checked))\n"
          ]
        },
        {
          "output_type": "stream",
          "name": "stdout",
          "text": [
            "Epoch: [0]  [  0/537]  eta: 0:13:16  lr: 0.000014  loss: 3.3602 (3.3602)  loss_classifier: 0.4142 (0.4142)  loss_box_reg: 0.0150 (0.0150)  loss_mask: 2.8861 (2.8861)  loss_objectness: 0.0410 (0.0410)  loss_rpn_box_reg: 0.0040 (0.0040)  time: 1.4841  data: 0.2643  max mem: 1639\n",
            "Epoch: [0]  [ 10/537]  eta: 0:04:38  lr: 0.000108  loss: 2.2210 (2.3435)  loss_classifier: 0.3923 (0.3703)  loss_box_reg: 0.0983 (0.0906)  loss_mask: 1.6196 (1.8375)  loss_objectness: 0.0304 (0.0387)  loss_rpn_box_reg: 0.0061 (0.0064)  time: 0.5287  data: 0.0313  max mem: 1913\n",
            "Epoch: [0]  [ 20/537]  eta: 0:04:07  lr: 0.000201  loss: 1.3811 (1.8369)  loss_classifier: 0.2356 (0.2645)  loss_box_reg: 0.0703 (0.0824)  loss_mask: 1.0572 (1.4467)  loss_objectness: 0.0304 (0.0364)  loss_rpn_box_reg: 0.0068 (0.0070)  time: 0.4278  data: 0.0078  max mem: 1913\n",
            "Epoch: [0]  [ 30/537]  eta: 0:03:55  lr: 0.000294  loss: 1.0549 (1.4920)  loss_classifier: 0.1015 (0.2072)  loss_box_reg: 0.0703 (0.0825)  loss_mask: 0.7249 (1.1566)  loss_objectness: 0.0272 (0.0393)  loss_rpn_box_reg: 0.0062 (0.0063)  time: 0.4284  data: 0.0083  max mem: 1913\n",
            "Epoch: [0]  [ 40/537]  eta: 0:03:47  lr: 0.000387  loss: 0.7841 (1.3290)  loss_classifier: 0.0968 (0.1831)  loss_box_reg: 0.1044 (0.0920)  loss_mask: 0.5187 (1.0154)  loss_objectness: 0.0124 (0.0330)  loss_rpn_box_reg: 0.0026 (0.0055)  time: 0.4351  data: 0.0085  max mem: 1913\n",
            "Epoch: [0]  [ 50/537]  eta: 0:03:40  lr: 0.000480  loss: 0.7686 (1.2121)  loss_classifier: 0.0964 (0.1664)  loss_box_reg: 0.1171 (0.0960)  loss_mask: 0.5040 (0.9129)  loss_objectness: 0.0124 (0.0311)  loss_rpn_box_reg: 0.0027 (0.0058)  time: 0.4364  data: 0.0081  max mem: 1913\n",
            "Epoch: [0]  [ 60/537]  eta: 0:03:35  lr: 0.000573  loss: 0.6519 (1.1180)  loss_classifier: 0.0941 (0.1542)  loss_box_reg: 0.1165 (0.1014)  loss_mask: 0.3933 (0.8237)  loss_objectness: 0.0119 (0.0329)  loss_rpn_box_reg: 0.0029 (0.0059)  time: 0.4391  data: 0.0081  max mem: 1913\n",
            "Epoch: [0]  [ 70/537]  eta: 0:03:30  lr: 0.000667  loss: 0.6247 (1.0557)  loss_classifier: 0.0862 (0.1449)  loss_box_reg: 0.1256 (0.1047)  loss_mask: 0.3904 (0.7698)  loss_objectness: 0.0085 (0.0305)  loss_rpn_box_reg: 0.0026 (0.0058)  time: 0.4410  data: 0.0079  max mem: 1914\n",
            "Epoch: [0]  [ 80/537]  eta: 0:03:25  lr: 0.000760  loss: 0.6132 (0.9948)  loss_classifier: 0.0732 (0.1363)  loss_box_reg: 0.1152 (0.1054)  loss_mask: 0.3828 (0.7184)  loss_objectness: 0.0119 (0.0292)  loss_rpn_box_reg: 0.0026 (0.0054)  time: 0.4416  data: 0.0083  max mem: 1914\n",
            "Epoch: [0]  [ 90/537]  eta: 0:03:20  lr: 0.000853  loss: 0.5678 (0.9595)  loss_classifier: 0.0719 (0.1303)  loss_box_reg: 0.1009 (0.1050)  loss_mask: 0.3590 (0.6912)  loss_objectness: 0.0098 (0.0278)  loss_rpn_box_reg: 0.0026 (0.0053)  time: 0.4424  data: 0.0083  max mem: 1914\n",
            "Epoch: [0]  [100/537]  eta: 0:03:15  lr: 0.000946  loss: 0.5610 (0.9183)  loss_classifier: 0.0761 (0.1245)  loss_box_reg: 0.1123 (0.1067)  loss_mask: 0.3476 (0.6552)  loss_objectness: 0.0090 (0.0267)  loss_rpn_box_reg: 0.0030 (0.0052)  time: 0.4444  data: 0.0077  max mem: 1914\n",
            "Epoch: [0]  [110/537]  eta: 0:03:11  lr: 0.001039  loss: 0.4627 (0.8759)  loss_classifier: 0.0672 (0.1193)  loss_box_reg: 0.1057 (0.1066)  loss_mask: 0.2682 (0.6197)  loss_objectness: 0.0050 (0.0253)  loss_rpn_box_reg: 0.0025 (0.0051)  time: 0.4467  data: 0.0075  max mem: 1914\n",
            "Epoch: [0]  [120/537]  eta: 0:03:06  lr: 0.001133  loss: 0.4452 (0.8495)  loss_classifier: 0.0574 (0.1146)  loss_box_reg: 0.0978 (0.1063)  loss_mask: 0.2392 (0.5988)  loss_objectness: 0.0035 (0.0249)  loss_rpn_box_reg: 0.0020 (0.0049)  time: 0.4491  data: 0.0075  max mem: 1914\n",
            "Epoch: [0]  [130/537]  eta: 0:03:03  lr: 0.001226  loss: 0.4676 (0.8196)  loss_classifier: 0.0574 (0.1104)  loss_box_reg: 0.1109 (0.1069)  loss_mask: 0.2625 (0.5739)  loss_objectness: 0.0038 (0.0238)  loss_rpn_box_reg: 0.0019 (0.0047)  time: 0.4683  data: 0.0105  max mem: 1914\n",
            "Epoch: [0]  [140/537]  eta: 0:02:59  lr: 0.001319  loss: 0.4612 (0.7974)  loss_classifier: 0.0494 (0.1062)  loss_box_reg: 0.1036 (0.1065)  loss_mask: 0.2625 (0.5581)  loss_objectness: 0.0024 (0.0222)  loss_rpn_box_reg: 0.0021 (0.0045)  time: 0.4736  data: 0.0111  max mem: 1914\n",
            "Epoch: [0]  [150/537]  eta: 0:02:55  lr: 0.001412  loss: 0.4124 (0.7751)  loss_classifier: 0.0507 (0.1030)  loss_box_reg: 0.0929 (0.1058)  loss_mask: 0.2615 (0.5403)  loss_objectness: 0.0027 (0.0217)  loss_rpn_box_reg: 0.0019 (0.0043)  time: 0.4611  data: 0.0081  max mem: 1914\n",
            "Epoch: [0]  [160/537]  eta: 0:02:50  lr: 0.001505  loss: 0.3869 (0.7528)  loss_classifier: 0.0402 (0.0996)  loss_box_reg: 0.0845 (0.1038)  loss_mask: 0.2390 (0.5229)  loss_objectness: 0.0105 (0.0223)  loss_rpn_box_reg: 0.0018 (0.0042)  time: 0.4615  data: 0.0083  max mem: 1914\n",
            "Epoch: [0]  [170/537]  eta: 0:02:46  lr: 0.001599  loss: 0.4087 (0.7388)  loss_classifier: 0.0399 (0.0978)  loss_box_reg: 0.0768 (0.1028)  loss_mask: 0.2343 (0.5124)  loss_objectness: 0.0069 (0.0217)  loss_rpn_box_reg: 0.0018 (0.0042)  time: 0.4632  data: 0.0083  max mem: 1914\n",
            "Epoch: [0]  [180/537]  eta: 0:02:42  lr: 0.001692  loss: 0.4145 (0.7217)  loss_classifier: 0.0497 (0.0952)  loss_box_reg: 0.0779 (0.1010)  loss_mask: 0.2727 (0.4996)  loss_objectness: 0.0076 (0.0217)  loss_rpn_box_reg: 0.0018 (0.0040)  time: 0.4646  data: 0.0076  max mem: 1914\n",
            "Epoch: [0]  [190/537]  eta: 0:02:37  lr: 0.001785  loss: 0.4081 (0.7090)  loss_classifier: 0.0447 (0.0930)  loss_box_reg: 0.0797 (0.1000)  loss_mask: 0.2727 (0.4910)  loss_objectness: 0.0034 (0.0211)  loss_rpn_box_reg: 0.0013 (0.0039)  time: 0.4697  data: 0.0077  max mem: 1914\n",
            "Epoch: [0]  [200/537]  eta: 0:02:33  lr: 0.001878  loss: 0.4100 (0.6982)  loss_classifier: 0.0419 (0.0907)  loss_box_reg: 0.0798 (0.0990)  loss_mask: 0.2971 (0.4841)  loss_objectness: 0.0023 (0.0206)  loss_rpn_box_reg: 0.0018 (0.0039)  time: 0.4737  data: 0.0079  max mem: 1914\n",
            "Epoch: [0]  [210/537]  eta: 0:02:29  lr: 0.001971  loss: 0.4100 (0.6875)  loss_classifier: 0.0488 (0.0890)  loss_box_reg: 0.0818 (0.0980)  loss_mask: 0.2971 (0.4766)  loss_objectness: 0.0023 (0.0200)  loss_rpn_box_reg: 0.0020 (0.0039)  time: 0.4742  data: 0.0080  max mem: 1914\n",
            "Epoch: [0]  [220/537]  eta: 0:02:25  lr: 0.002065  loss: 0.3736 (0.6766)  loss_classifier: 0.0537 (0.0873)  loss_box_reg: 0.0720 (0.0968)  loss_mask: 0.2685 (0.4692)  loss_objectness: 0.0025 (0.0194)  loss_rpn_box_reg: 0.0023 (0.0038)  time: 0.4748  data: 0.0083  max mem: 1914\n",
            "Epoch: [0]  [230/537]  eta: 0:02:20  lr: 0.002158  loss: 0.3643 (0.6635)  loss_classifier: 0.0369 (0.0853)  loss_box_reg: 0.0634 (0.0953)  loss_mask: 0.2675 (0.4603)  loss_objectness: 0.0032 (0.0189)  loss_rpn_box_reg: 0.0025 (0.0038)  time: 0.4789  data: 0.0082  max mem: 1914\n",
            "Epoch: [0]  [240/537]  eta: 0:02:16  lr: 0.002251  loss: 0.3827 (0.6525)  loss_classifier: 0.0394 (0.0835)  loss_box_reg: 0.0670 (0.0940)  loss_mask: 0.2693 (0.4531)  loss_objectness: 0.0032 (0.0182)  loss_rpn_box_reg: 0.0013 (0.0037)  time: 0.4789  data: 0.0081  max mem: 1914\n",
            "Epoch: [0]  [250/537]  eta: 0:02:12  lr: 0.002344  loss: 0.3886 (0.6448)  loss_classifier: 0.0442 (0.0820)  loss_box_reg: 0.0670 (0.0927)  loss_mask: 0.2816 (0.4487)  loss_objectness: 0.0039 (0.0178)  loss_rpn_box_reg: 0.0014 (0.0036)  time: 0.4736  data: 0.0080  max mem: 1914\n",
            "Epoch: [0]  [260/537]  eta: 0:02:07  lr: 0.002437  loss: 0.3816 (0.6361)  loss_classifier: 0.0443 (0.0806)  loss_box_reg: 0.0634 (0.0920)  loss_mask: 0.2417 (0.4426)  loss_objectness: 0.0040 (0.0173)  loss_rpn_box_reg: 0.0015 (0.0036)  time: 0.4735  data: 0.0085  max mem: 1914\n",
            "Epoch: [0]  [270/537]  eta: 0:02:03  lr: 0.002530  loss: 0.3729 (0.6284)  loss_classifier: 0.0458 (0.0799)  loss_box_reg: 0.0730 (0.0914)  loss_mask: 0.2387 (0.4365)  loss_objectness: 0.0039 (0.0170)  loss_rpn_box_reg: 0.0022 (0.0035)  time: 0.4718  data: 0.0084  max mem: 1914\n",
            "Epoch: [0]  [280/537]  eta: 0:01:58  lr: 0.002624  loss: 0.4866 (0.6259)  loss_classifier: 0.0634 (0.0797)  loss_box_reg: 0.0795 (0.0914)  loss_mask: 0.2977 (0.4343)  loss_objectness: 0.0058 (0.0170)  loss_rpn_box_reg: 0.0027 (0.0035)  time: 0.4682  data: 0.0081  max mem: 1914\n",
            "Epoch: [0]  [290/537]  eta: 0:01:54  lr: 0.002717  loss: 0.5180 (0.6220)  loss_classifier: 0.0641 (0.0791)  loss_box_reg: 0.0888 (0.0913)  loss_mask: 0.3469 (0.4314)  loss_objectness: 0.0058 (0.0167)  loss_rpn_box_reg: 0.0026 (0.0035)  time: 0.4713  data: 0.0080  max mem: 1914\n",
            "Epoch: [0]  [300/537]  eta: 0:01:49  lr: 0.002810  loss: 0.5035 (0.6184)  loss_classifier: 0.0643 (0.0788)  loss_box_reg: 0.0871 (0.0911)  loss_mask: 0.3013 (0.4281)  loss_objectness: 0.0037 (0.0168)  loss_rpn_box_reg: 0.0021 (0.0035)  time: 0.4728  data: 0.0078  max mem: 1914\n",
            "Epoch: [0]  [310/537]  eta: 0:01:44  lr: 0.002903  loss: 0.5035 (0.6143)  loss_classifier: 0.0642 (0.0784)  loss_box_reg: 0.0792 (0.0906)  loss_mask: 0.3175 (0.4249)  loss_objectness: 0.0043 (0.0169)  loss_rpn_box_reg: 0.0021 (0.0035)  time: 0.4698  data: 0.0080  max mem: 1914\n",
            "Epoch: [0]  [320/537]  eta: 0:01:40  lr: 0.002996  loss: 0.4363 (0.6085)  loss_classifier: 0.0504 (0.0775)  loss_box_reg: 0.0593 (0.0898)  loss_mask: 0.3096 (0.4212)  loss_objectness: 0.0027 (0.0166)  loss_rpn_box_reg: 0.0014 (0.0034)  time: 0.4698  data: 0.0077  max mem: 1914\n",
            "Epoch: [0]  [330/537]  eta: 0:01:35  lr: 0.003090  loss: 0.3698 (0.6026)  loss_classifier: 0.0390 (0.0768)  loss_box_reg: 0.0578 (0.0888)  loss_mask: 0.2748 (0.4173)  loss_objectness: 0.0023 (0.0163)  loss_rpn_box_reg: 0.0013 (0.0034)  time: 0.4682  data: 0.0078  max mem: 1914\n",
            "Epoch: [0]  [340/537]  eta: 0:01:31  lr: 0.003183  loss: 0.4686 (0.6001)  loss_classifier: 0.0498 (0.0762)  loss_box_reg: 0.0588 (0.0882)  loss_mask: 0.3295 (0.4158)  loss_objectness: 0.0076 (0.0164)  loss_rpn_box_reg: 0.0021 (0.0035)  time: 0.4616  data: 0.0079  max mem: 1914\n",
            "Epoch: [0]  [350/537]  eta: 0:01:26  lr: 0.003276  loss: 0.4168 (0.5933)  loss_classifier: 0.0475 (0.0753)  loss_box_reg: 0.0757 (0.0879)  loss_mask: 0.2606 (0.4106)  loss_objectness: 0.0071 (0.0161)  loss_rpn_box_reg: 0.0021 (0.0034)  time: 0.4627  data: 0.0076  max mem: 1914\n",
            "Epoch: [0]  [360/537]  eta: 0:01:21  lr: 0.003369  loss: 0.3920 (0.5880)  loss_classifier: 0.0438 (0.0748)  loss_box_reg: 0.0649 (0.0874)  loss_mask: 0.2392 (0.4067)  loss_objectness: 0.0016 (0.0158)  loss_rpn_box_reg: 0.0015 (0.0034)  time: 0.4698  data: 0.0077  max mem: 1914\n",
            "Epoch: [0]  [370/537]  eta: 0:01:17  lr: 0.003462  loss: 0.4041 (0.5852)  loss_classifier: 0.0562 (0.0745)  loss_box_reg: 0.0656 (0.0871)  loss_mask: 0.2777 (0.4047)  loss_objectness: 0.0025 (0.0155)  loss_rpn_box_reg: 0.0016 (0.0034)  time: 0.4743  data: 0.0078  max mem: 1914\n",
            "Epoch: [0]  [380/537]  eta: 0:01:12  lr: 0.003556  loss: 0.3986 (0.5812)  loss_classifier: 0.0436 (0.0737)  loss_box_reg: 0.0697 (0.0867)  loss_mask: 0.2887 (0.4022)  loss_objectness: 0.0038 (0.0153)  loss_rpn_box_reg: 0.0022 (0.0033)  time: 0.4747  data: 0.0076  max mem: 1914\n",
            "Epoch: [0]  [390/537]  eta: 0:01:08  lr: 0.003649  loss: 0.3691 (0.5782)  loss_classifier: 0.0391 (0.0731)  loss_box_reg: 0.0697 (0.0861)  loss_mask: 0.2575 (0.3986)  loss_objectness: 0.0040 (0.0168)  loss_rpn_box_reg: 0.0021 (0.0037)  time: 0.4730  data: 0.0075  max mem: 1914\n",
            "Epoch: [0]  [400/537]  eta: 0:01:03  lr: 0.003742  loss: 0.3601 (0.5743)  loss_classifier: 0.0367 (0.0723)  loss_box_reg: 0.0541 (0.0855)  loss_mask: 0.2313 (0.3960)  loss_objectness: 0.0070 (0.0169)  loss_rpn_box_reg: 0.0020 (0.0036)  time: 0.4711  data: 0.0076  max mem: 1914\n",
            "Epoch: [0]  [410/537]  eta: 0:00:58  lr: 0.003835  loss: 0.3541 (0.5704)  loss_classifier: 0.0346 (0.0715)  loss_box_reg: 0.0596 (0.0850)  loss_mask: 0.2313 (0.3936)  loss_objectness: 0.0044 (0.0166)  loss_rpn_box_reg: 0.0017 (0.0036)  time: 0.4693  data: 0.0079  max mem: 1914\n",
            "Epoch: [0]  [420/537]  eta: 0:00:54  lr: 0.003928  loss: 0.3631 (0.5657)  loss_classifier: 0.0328 (0.0708)  loss_box_reg: 0.0626 (0.0848)  loss_mask: 0.2507 (0.3902)  loss_objectness: 0.0033 (0.0163)  loss_rpn_box_reg: 0.0011 (0.0036)  time: 0.4730  data: 0.0079  max mem: 1914\n",
            "Epoch: [0]  [430/537]  eta: 0:00:49  lr: 0.004022  loss: 0.4788 (0.5664)  loss_classifier: 0.0519 (0.0709)  loss_box_reg: 0.0724 (0.0845)  loss_mask: 0.3375 (0.3911)  loss_objectness: 0.0048 (0.0163)  loss_rpn_box_reg: 0.0017 (0.0036)  time: 0.4696  data: 0.0077  max mem: 1914\n",
            "Epoch: [0]  [440/537]  eta: 0:00:45  lr: 0.004115  loss: 0.5087 (0.5639)  loss_classifier: 0.0535 (0.0704)  loss_box_reg: 0.0757 (0.0842)  loss_mask: 0.3564 (0.3896)  loss_objectness: 0.0052 (0.0161)  loss_rpn_box_reg: 0.0023 (0.0036)  time: 0.4667  data: 0.0077  max mem: 1914\n",
            "Epoch: [0]  [450/537]  eta: 0:00:40  lr: 0.004208  loss: 0.4402 (0.5599)  loss_classifier: 0.0501 (0.0699)  loss_box_reg: 0.0744 (0.0839)  loss_mask: 0.2959 (0.3865)  loss_objectness: 0.0046 (0.0160)  loss_rpn_box_reg: 0.0020 (0.0035)  time: 0.4712  data: 0.0078  max mem: 1914\n",
            "Epoch: [0]  [460/537]  eta: 0:00:35  lr: 0.004301  loss: 0.3866 (0.5575)  loss_classifier: 0.0461 (0.0694)  loss_box_reg: 0.0672 (0.0835)  loss_mask: 0.2614 (0.3852)  loss_objectness: 0.0068 (0.0159)  loss_rpn_box_reg: 0.0017 (0.0035)  time: 0.4707  data: 0.0078  max mem: 1914\n",
            "Epoch: [0]  [470/537]  eta: 0:00:31  lr: 0.004394  loss: 0.3799 (0.5545)  loss_classifier: 0.0431 (0.0690)  loss_box_reg: 0.0569 (0.0829)  loss_mask: 0.2711 (0.3834)  loss_objectness: 0.0068 (0.0157)  loss_rpn_box_reg: 0.0013 (0.0035)  time: 0.4690  data: 0.0078  max mem: 1914\n",
            "Epoch: [0]  [480/537]  eta: 0:00:26  lr: 0.004487  loss: 0.3656 (0.5505)  loss_classifier: 0.0344 (0.0685)  loss_box_reg: 0.0531 (0.0824)  loss_mask: 0.2675 (0.3806)  loss_objectness: 0.0042 (0.0155)  loss_rpn_box_reg: 0.0013 (0.0034)  time: 0.4692  data: 0.0078  max mem: 1914\n",
            "Epoch: [0]  [490/537]  eta: 0:00:21  lr: 0.004581  loss: 0.3110 (0.5473)  loss_classifier: 0.0296 (0.0679)  loss_box_reg: 0.0525 (0.0820)  loss_mask: 0.2078 (0.3786)  loss_objectness: 0.0034 (0.0153)  loss_rpn_box_reg: 0.0016 (0.0034)  time: 0.4717  data: 0.0083  max mem: 1914\n",
            "Epoch: [0]  [500/537]  eta: 0:00:17  lr: 0.004674  loss: 0.3526 (0.5448)  loss_classifier: 0.0301 (0.0676)  loss_box_reg: 0.0604 (0.0816)  loss_mask: 0.2497 (0.3770)  loss_objectness: 0.0046 (0.0152)  loss_rpn_box_reg: 0.0018 (0.0034)  time: 0.4725  data: 0.0087  max mem: 1914\n",
            "Epoch: [0]  [510/537]  eta: 0:00:12  lr: 0.004767  loss: 0.4320 (0.5429)  loss_classifier: 0.0420 (0.0672)  loss_box_reg: 0.0627 (0.0811)  loss_mask: 0.2792 (0.3761)  loss_objectness: 0.0046 (0.0151)  loss_rpn_box_reg: 0.0019 (0.0034)  time: 0.4705  data: 0.0090  max mem: 1914\n",
            "Epoch: [0]  [520/537]  eta: 0:00:07  lr: 0.004860  loss: 0.4373 (0.5413)  loss_classifier: 0.0495 (0.0671)  loss_box_reg: 0.0632 (0.0809)  loss_mask: 0.2816 (0.3749)  loss_objectness: 0.0050 (0.0149)  loss_rpn_box_reg: 0.0022 (0.0034)  time: 0.4686  data: 0.0090  max mem: 1914\n",
            "Epoch: [0]  [530/537]  eta: 0:00:03  lr: 0.004953  loss: 0.4194 (0.5392)  loss_classifier: 0.0520 (0.0670)  loss_box_reg: 0.0700 (0.0807)  loss_mask: 0.2842 (0.3735)  loss_objectness: 0.0040 (0.0147)  loss_rpn_box_reg: 0.0021 (0.0034)  time: 0.4686  data: 0.0081  max mem: 1914\n",
            "Epoch: [0]  [536/537]  eta: 0:00:00  lr: 0.005000  loss: 0.4008 (0.5373)  loss_classifier: 0.0450 (0.0668)  loss_box_reg: 0.0630 (0.0805)  loss_mask: 0.2839 (0.3721)  loss_objectness: 0.0041 (0.0146)  loss_rpn_box_reg: 0.0015 (0.0034)  time: 0.4577  data: 0.0076  max mem: 1914\n",
            "Epoch: [0] Total time: 0:04:09 (0.4653 s / it)\n",
            "creating index...\n",
            "index created!\n",
            "Test:  [  0/300]  eta: 0:01:39  model_time: 0.1387 (0.1387)  evaluator_time: 0.0089 (0.0089)  time: 0.3313  data: 0.1827  max mem: 1914\n",
            "Test:  [100/300]  eta: 0:00:21  model_time: 0.0909 (0.0943)  evaluator_time: 0.0051 (0.0063)  time: 0.1039  data: 0.0046  max mem: 1914\n",
            "Test:  [200/300]  eta: 0:00:10  model_time: 0.0913 (0.0936)  evaluator_time: 0.0047 (0.0058)  time: 0.1021  data: 0.0043  max mem: 1914\n",
            "Test:  [299/300]  eta: 0:00:00  model_time: 0.0923 (0.0934)  evaluator_time: 0.0056 (0.0058)  time: 0.1070  data: 0.0040  max mem: 1914\n",
            "Test: Total time: 0:00:31 (0.1050 s / it)\n",
            "Averaged stats: model_time: 0.0923 (0.0934)  evaluator_time: 0.0056 (0.0058)\n",
            "Accumulating evaluation results...\n",
            "DONE (t=0.06s).\n",
            "Accumulating evaluation results...\n",
            "DONE (t=0.06s).\n",
            "IoU metric: bbox\n",
            " Average Precision  (AP) @[ IoU=0.50:0.95 | area=   all | maxDets=100 ] = 0.529\n",
            " Average Precision  (AP) @[ IoU=0.50      | area=   all | maxDets=100 ] = 0.852\n",
            " Average Precision  (AP) @[ IoU=0.75      | area=   all | maxDets=100 ] = 0.607\n",
            " Average Precision  (AP) @[ IoU=0.50:0.95 | area= small | maxDets=100 ] = 0.263\n",
            " Average Precision  (AP) @[ IoU=0.50:0.95 | area=medium | maxDets=100 ] = 0.592\n",
            " Average Precision  (AP) @[ IoU=0.50:0.95 | area= large | maxDets=100 ] = 0.586\n",
            " Average Recall     (AR) @[ IoU=0.50:0.95 | area=   all | maxDets=  1 ] = 0.568\n",
            " Average Recall     (AR) @[ IoU=0.50:0.95 | area=   all | maxDets= 10 ] = 0.618\n",
            " Average Recall     (AR) @[ IoU=0.50:0.95 | area=   all | maxDets=100 ] = 0.621\n",
            " Average Recall     (AR) @[ IoU=0.50:0.95 | area= small | maxDets=100 ] = 0.407\n",
            " Average Recall     (AR) @[ IoU=0.50:0.95 | area=medium | maxDets=100 ] = 0.679\n",
            " Average Recall     (AR) @[ IoU=0.50:0.95 | area= large | maxDets=100 ] = 0.600\n",
            "IoU metric: segm\n",
            " Average Precision  (AP) @[ IoU=0.50:0.95 | area=   all | maxDets=100 ] = 0.509\n",
            " Average Precision  (AP) @[ IoU=0.50      | area=   all | maxDets=100 ] = 0.839\n",
            " Average Precision  (AP) @[ IoU=0.75      | area=   all | maxDets=100 ] = 0.557\n",
            " Average Precision  (AP) @[ IoU=0.50:0.95 | area= small | maxDets=100 ] = 0.169\n",
            " Average Precision  (AP) @[ IoU=0.50:0.95 | area=medium | maxDets=100 ] = 0.598\n",
            " Average Precision  (AP) @[ IoU=0.50:0.95 | area= large | maxDets=100 ] = 0.697\n",
            " Average Recall     (AR) @[ IoU=0.50:0.95 | area=   all | maxDets=  1 ] = 0.544\n",
            " Average Recall     (AR) @[ IoU=0.50:0.95 | area=   all | maxDets= 10 ] = 0.595\n",
            " Average Recall     (AR) @[ IoU=0.50:0.95 | area=   all | maxDets=100 ] = 0.600\n",
            " Average Recall     (AR) @[ IoU=0.50:0.95 | area= small | maxDets=100 ] = 0.373\n",
            " Average Recall     (AR) @[ IoU=0.50:0.95 | area=medium | maxDets=100 ] = 0.654\n",
            " Average Recall     (AR) @[ IoU=0.50:0.95 | area= large | maxDets=100 ] = 0.718\n",
            "Epoch: [1]  [  0/537]  eta: 0:06:06  lr: 0.005000  loss: 0.2187 (0.2187)  loss_classifier: 0.0138 (0.0138)  loss_box_reg: 0.0323 (0.0323)  loss_mask: 0.1687 (0.1687)  loss_objectness: 0.0032 (0.0032)  loss_rpn_box_reg: 0.0006 (0.0006)  time: 0.6828  data: 0.2017  max mem: 1914\n",
            "Epoch: [1]  [ 10/537]  eta: 0:04:18  lr: 0.005000  loss: 0.3102 (0.3451)  loss_classifier: 0.0420 (0.0418)  loss_box_reg: 0.0512 (0.0544)  loss_mask: 0.1921 (0.2304)  loss_objectness: 0.0036 (0.0059)  loss_rpn_box_reg: 0.0007 (0.0125)  time: 0.4905  data: 0.0256  max mem: 1914\n",
            "Epoch: [1]  [ 20/537]  eta: 0:04:08  lr: 0.005000  loss: 0.3477 (0.3607)  loss_classifier: 0.0420 (0.0421)  loss_box_reg: 0.0512 (0.0526)  loss_mask: 0.2285 (0.2522)  loss_objectness: 0.0036 (0.0061)  loss_rpn_box_reg: 0.0015 (0.0076)  time: 0.4707  data: 0.0078  max mem: 1914\n",
            "Epoch: [1]  [ 30/537]  eta: 0:04:02  lr: 0.005000  loss: 0.3777 (0.3769)  loss_classifier: 0.0421 (0.0441)  loss_box_reg: 0.0553 (0.0599)  loss_mask: 0.2772 (0.2619)  loss_objectness: 0.0034 (0.0052)  loss_rpn_box_reg: 0.0015 (0.0058)  time: 0.4713  data: 0.0077  max mem: 1914\n",
            "Epoch: [1]  [ 40/537]  eta: 0:03:56  lr: 0.005000  loss: 0.3756 (0.3845)  loss_classifier: 0.0421 (0.0459)  loss_box_reg: 0.0555 (0.0587)  loss_mask: 0.2719 (0.2694)  loss_objectness: 0.0034 (0.0056)  loss_rpn_box_reg: 0.0015 (0.0049)  time: 0.4723  data: 0.0081  max mem: 1914\n",
            "Epoch: [1]  [ 50/537]  eta: 0:03:51  lr: 0.005000  loss: 0.3866 (0.3962)  loss_classifier: 0.0563 (0.0490)  loss_box_reg: 0.0582 (0.0606)  loss_mask: 0.2356 (0.2741)  loss_objectness: 0.0070 (0.0080)  loss_rpn_box_reg: 0.0021 (0.0046)  time: 0.4734  data: 0.0084  max mem: 1914\n",
            "Epoch: [1]  [ 60/537]  eta: 0:03:46  lr: 0.005000  loss: 0.3959 (0.3949)  loss_classifier: 0.0563 (0.0496)  loss_box_reg: 0.0608 (0.0603)  loss_mask: 0.2559 (0.2729)  loss_objectness: 0.0077 (0.0078)  loss_rpn_box_reg: 0.0016 (0.0042)  time: 0.4726  data: 0.0082  max mem: 1914\n",
            "Epoch: [1]  [ 70/537]  eta: 0:03:41  lr: 0.005000  loss: 0.4012 (0.3979)  loss_classifier: 0.0447 (0.0499)  loss_box_reg: 0.0608 (0.0612)  loss_mask: 0.2779 (0.2750)  loss_objectness: 0.0053 (0.0076)  loss_rpn_box_reg: 0.0019 (0.0042)  time: 0.4711  data: 0.0078  max mem: 1914\n",
            "Epoch: [1]  [ 80/537]  eta: 0:03:36  lr: 0.005000  loss: 0.3611 (0.3987)  loss_classifier: 0.0419 (0.0494)  loss_box_reg: 0.0692 (0.0622)  loss_mask: 0.2448 (0.2761)  loss_objectness: 0.0024 (0.0070)  loss_rpn_box_reg: 0.0020 (0.0039)  time: 0.4692  data: 0.0079  max mem: 1914\n",
            "Epoch: [1]  [ 90/537]  eta: 0:03:31  lr: 0.005000  loss: 0.3631 (0.4092)  loss_classifier: 0.0543 (0.0514)  loss_box_reg: 0.0611 (0.0636)  loss_mask: 0.2788 (0.2828)  loss_objectness: 0.0041 (0.0076)  loss_rpn_box_reg: 0.0020 (0.0038)  time: 0.4673  data: 0.0079  max mem: 1914\n",
            "Epoch: [1]  [100/537]  eta: 0:03:26  lr: 0.005000  loss: 0.4142 (0.4121)  loss_classifier: 0.0659 (0.0524)  loss_box_reg: 0.0647 (0.0650)  loss_mask: 0.2788 (0.2838)  loss_objectness: 0.0051 (0.0073)  loss_rpn_box_reg: 0.0015 (0.0036)  time: 0.4700  data: 0.0078  max mem: 1914\n",
            "Epoch: [1]  [110/537]  eta: 0:03:22  lr: 0.005000  loss: 0.3490 (0.4076)  loss_classifier: 0.0370 (0.0508)  loss_box_reg: 0.0630 (0.0645)  loss_mask: 0.2316 (0.2819)  loss_objectness: 0.0034 (0.0070)  loss_rpn_box_reg: 0.0014 (0.0034)  time: 0.4727  data: 0.0076  max mem: 1914\n",
            "Epoch: [1]  [120/537]  eta: 0:03:17  lr: 0.005000  loss: 0.3789 (0.4133)  loss_classifier: 0.0388 (0.0523)  loss_box_reg: 0.0608 (0.0650)  loss_mask: 0.2497 (0.2852)  loss_objectness: 0.0058 (0.0074)  loss_rpn_box_reg: 0.0017 (0.0034)  time: 0.4711  data: 0.0075  max mem: 1914\n",
            "Epoch: [1]  [130/537]  eta: 0:03:12  lr: 0.005000  loss: 0.4011 (0.4127)  loss_classifier: 0.0510 (0.0519)  loss_box_reg: 0.0601 (0.0650)  loss_mask: 0.2615 (0.2849)  loss_objectness: 0.0074 (0.0075)  loss_rpn_box_reg: 0.0016 (0.0033)  time: 0.4696  data: 0.0079  max mem: 1914\n",
            "Epoch: [1]  [140/537]  eta: 0:03:07  lr: 0.005000  loss: 0.3634 (0.4105)  loss_classifier: 0.0385 (0.0511)  loss_box_reg: 0.0553 (0.0640)  loss_mask: 0.2430 (0.2848)  loss_objectness: 0.0059 (0.0074)  loss_rpn_box_reg: 0.0014 (0.0032)  time: 0.4713  data: 0.0081  max mem: 1914\n",
            "Epoch: [1]  [150/537]  eta: 0:03:02  lr: 0.005000  loss: 0.3596 (0.4067)  loss_classifier: 0.0355 (0.0502)  loss_box_reg: 0.0491 (0.0632)  loss_mask: 0.2388 (0.2831)  loss_objectness: 0.0027 (0.0071)  loss_rpn_box_reg: 0.0014 (0.0030)  time: 0.4715  data: 0.0077  max mem: 1914\n",
            "Epoch: [1]  [160/537]  eta: 0:02:58  lr: 0.005000  loss: 0.3513 (0.4053)  loss_classifier: 0.0355 (0.0497)  loss_box_reg: 0.0521 (0.0629)  loss_mask: 0.2388 (0.2830)  loss_objectness: 0.0018 (0.0068)  loss_rpn_box_reg: 0.0013 (0.0030)  time: 0.4709  data: 0.0075  max mem: 1914\n",
            "Epoch: [1]  [170/537]  eta: 0:02:53  lr: 0.005000  loss: 0.3088 (0.3996)  loss_classifier: 0.0306 (0.0486)  loss_box_reg: 0.0464 (0.0619)  loss_mask: 0.2212 (0.2795)  loss_objectness: 0.0015 (0.0067)  loss_rpn_box_reg: 0.0009 (0.0030)  time: 0.4727  data: 0.0077  max mem: 1914\n",
            "Epoch: [1]  [180/537]  eta: 0:02:48  lr: 0.005000  loss: 0.3478 (0.4014)  loss_classifier: 0.0371 (0.0493)  loss_box_reg: 0.0622 (0.0626)  loss_mask: 0.2134 (0.2799)  loss_objectness: 0.0023 (0.0067)  loss_rpn_box_reg: 0.0014 (0.0029)  time: 0.4755  data: 0.0078  max mem: 1914\n",
            "Epoch: [1]  [190/537]  eta: 0:02:44  lr: 0.005000  loss: 0.3662 (0.3995)  loss_classifier: 0.0407 (0.0490)  loss_box_reg: 0.0645 (0.0624)  loss_mask: 0.2212 (0.2786)  loss_objectness: 0.0024 (0.0066)  loss_rpn_box_reg: 0.0016 (0.0029)  time: 0.4749  data: 0.0077  max mem: 1914\n",
            "Epoch: [1]  [200/537]  eta: 0:02:39  lr: 0.005000  loss: 0.3174 (0.3959)  loss_classifier: 0.0338 (0.0485)  loss_box_reg: 0.0545 (0.0620)  loss_mask: 0.2212 (0.2761)  loss_objectness: 0.0016 (0.0065)  loss_rpn_box_reg: 0.0013 (0.0028)  time: 0.4724  data: 0.0077  max mem: 1914\n",
            "Epoch: [1]  [210/537]  eta: 0:02:34  lr: 0.005000  loss: 0.3474 (0.3976)  loss_classifier: 0.0382 (0.0484)  loss_box_reg: 0.0536 (0.0617)  loss_mask: 0.2463 (0.2778)  loss_objectness: 0.0048 (0.0070)  loss_rpn_box_reg: 0.0012 (0.0028)  time: 0.4697  data: 0.0077  max mem: 1914\n",
            "Epoch: [1]  [220/537]  eta: 0:02:29  lr: 0.005000  loss: 0.3580 (0.3957)  loss_classifier: 0.0351 (0.0478)  loss_box_reg: 0.0492 (0.0614)  loss_mask: 0.2446 (0.2770)  loss_objectness: 0.0034 (0.0069)  loss_rpn_box_reg: 0.0012 (0.0027)  time: 0.4695  data: 0.0078  max mem: 1914\n",
            "Epoch: [1]  [230/537]  eta: 0:02:25  lr: 0.005000  loss: 0.3115 (0.3920)  loss_classifier: 0.0301 (0.0474)  loss_box_reg: 0.0447 (0.0611)  loss_mask: 0.2158 (0.2742)  loss_objectness: 0.0029 (0.0067)  loss_rpn_box_reg: 0.0011 (0.0026)  time: 0.4726  data: 0.0077  max mem: 1914\n",
            "Epoch: [1]  [240/537]  eta: 0:02:20  lr: 0.005000  loss: 0.3094 (0.3896)  loss_classifier: 0.0269 (0.0468)  loss_box_reg: 0.0471 (0.0607)  loss_mask: 0.2005 (0.2730)  loss_objectness: 0.0029 (0.0066)  loss_rpn_box_reg: 0.0013 (0.0026)  time: 0.4717  data: 0.0077  max mem: 1914\n",
            "Epoch: [1]  [250/537]  eta: 0:02:15  lr: 0.005000  loss: 0.3349 (0.3918)  loss_classifier: 0.0386 (0.0470)  loss_box_reg: 0.0567 (0.0609)  loss_mask: 0.2371 (0.2747)  loss_objectness: 0.0031 (0.0066)  loss_rpn_box_reg: 0.0014 (0.0026)  time: 0.4678  data: 0.0078  max mem: 1914\n",
            "Epoch: [1]  [260/537]  eta: 0:02:10  lr: 0.005000  loss: 0.4464 (0.3941)  loss_classifier: 0.0437 (0.0472)  loss_box_reg: 0.0642 (0.0611)  loss_mask: 0.3102 (0.2767)  loss_objectness: 0.0032 (0.0066)  loss_rpn_box_reg: 0.0015 (0.0026)  time: 0.4710  data: 0.0080  max mem: 1914\n",
            "Epoch: [1]  [270/537]  eta: 0:02:06  lr: 0.005000  loss: 0.3783 (0.3932)  loss_classifier: 0.0433 (0.0474)  loss_box_reg: 0.0589 (0.0615)  loss_mask: 0.2514 (0.2752)  loss_objectness: 0.0024 (0.0064)  loss_rpn_box_reg: 0.0015 (0.0025)  time: 0.4747  data: 0.0081  max mem: 1914\n",
            "Epoch: [1]  [280/537]  eta: 0:02:01  lr: 0.005000  loss: 0.3667 (0.3928)  loss_classifier: 0.0441 (0.0476)  loss_box_reg: 0.0612 (0.0616)  loss_mask: 0.2267 (0.2746)  loss_objectness: 0.0022 (0.0065)  loss_rpn_box_reg: 0.0015 (0.0025)  time: 0.4718  data: 0.0077  max mem: 1914\n",
            "Epoch: [1]  [290/537]  eta: 0:01:56  lr: 0.005000  loss: 0.3579 (0.3921)  loss_classifier: 0.0393 (0.0477)  loss_box_reg: 0.0569 (0.0614)  loss_mask: 0.2181 (0.2739)  loss_objectness: 0.0039 (0.0066)  loss_rpn_box_reg: 0.0013 (0.0025)  time: 0.4695  data: 0.0076  max mem: 1914\n",
            "Epoch: [1]  [300/537]  eta: 0:01:51  lr: 0.005000  loss: 0.3532 (0.3920)  loss_classifier: 0.0382 (0.0478)  loss_box_reg: 0.0595 (0.0616)  loss_mask: 0.2395 (0.2736)  loss_objectness: 0.0039 (0.0066)  loss_rpn_box_reg: 0.0011 (0.0025)  time: 0.4715  data: 0.0076  max mem: 1914\n",
            "Epoch: [1]  [310/537]  eta: 0:01:47  lr: 0.005000  loss: 0.3789 (0.3917)  loss_classifier: 0.0393 (0.0478)  loss_box_reg: 0.0622 (0.0613)  loss_mask: 0.2591 (0.2736)  loss_objectness: 0.0036 (0.0066)  loss_rpn_box_reg: 0.0015 (0.0025)  time: 0.4742  data: 0.0078  max mem: 1914\n",
            "Epoch: [1]  [320/537]  eta: 0:01:42  lr: 0.005000  loss: 0.3526 (0.3911)  loss_classifier: 0.0356 (0.0472)  loss_box_reg: 0.0436 (0.0609)  loss_mask: 0.2589 (0.2741)  loss_objectness: 0.0015 (0.0065)  loss_rpn_box_reg: 0.0015 (0.0024)  time: 0.4714  data: 0.0080  max mem: 1914\n",
            "Epoch: [1]  [330/537]  eta: 0:01:37  lr: 0.005000  loss: 0.3281 (0.3905)  loss_classifier: 0.0234 (0.0468)  loss_box_reg: 0.0414 (0.0606)  loss_mask: 0.2302 (0.2739)  loss_objectness: 0.0012 (0.0067)  loss_rpn_box_reg: 0.0012 (0.0024)  time: 0.4708  data: 0.0079  max mem: 1914\n",
            "Epoch: [1]  [340/537]  eta: 0:01:33  lr: 0.005000  loss: 0.3149 (0.3893)  loss_classifier: 0.0261 (0.0465)  loss_box_reg: 0.0454 (0.0604)  loss_mask: 0.2302 (0.2734)  loss_objectness: 0.0016 (0.0066)  loss_rpn_box_reg: 0.0009 (0.0024)  time: 0.4743  data: 0.0085  max mem: 1914\n",
            "Epoch: [1]  [350/537]  eta: 0:01:28  lr: 0.005000  loss: 0.3042 (0.3863)  loss_classifier: 0.0251 (0.0460)  loss_box_reg: 0.0467 (0.0601)  loss_mask: 0.2187 (0.2715)  loss_objectness: 0.0008 (0.0064)  loss_rpn_box_reg: 0.0007 (0.0023)  time: 0.4763  data: 0.0083  max mem: 1914\n",
            "Epoch: [1]  [360/537]  eta: 0:01:23  lr: 0.005000  loss: 0.3042 (0.3854)  loss_classifier: 0.0358 (0.0461)  loss_box_reg: 0.0506 (0.0599)  loss_mask: 0.2078 (0.2704)  loss_objectness: 0.0009 (0.0067)  loss_rpn_box_reg: 0.0009 (0.0024)  time: 0.4746  data: 0.0078  max mem: 1914\n",
            "Epoch: [1]  [370/537]  eta: 0:01:18  lr: 0.005000  loss: 0.3296 (0.3853)  loss_classifier: 0.0394 (0.0461)  loss_box_reg: 0.0541 (0.0603)  loss_mask: 0.2203 (0.2700)  loss_objectness: 0.0027 (0.0066)  loss_rpn_box_reg: 0.0017 (0.0024)  time: 0.4715  data: 0.0082  max mem: 1914\n",
            "Epoch: [1]  [380/537]  eta: 0:01:14  lr: 0.005000  loss: 0.3840 (0.3841)  loss_classifier: 0.0384 (0.0460)  loss_box_reg: 0.0630 (0.0602)  loss_mask: 0.2374 (0.2690)  loss_objectness: 0.0023 (0.0065)  loss_rpn_box_reg: 0.0016 (0.0024)  time: 0.4719  data: 0.0079  max mem: 1914\n",
            "Epoch: [1]  [390/537]  eta: 0:01:09  lr: 0.005000  loss: 0.3239 (0.3852)  loss_classifier: 0.0361 (0.0459)  loss_box_reg: 0.0505 (0.0603)  loss_mask: 0.2272 (0.2700)  loss_objectness: 0.0027 (0.0066)  loss_rpn_box_reg: 0.0019 (0.0024)  time: 0.4727  data: 0.0076  max mem: 1914\n",
            "Epoch: [1]  [400/537]  eta: 0:01:04  lr: 0.005000  loss: 0.3248 (0.3850)  loss_classifier: 0.0355 (0.0459)  loss_box_reg: 0.0648 (0.0605)  loss_mask: 0.2299 (0.2697)  loss_objectness: 0.0038 (0.0066)  loss_rpn_box_reg: 0.0018 (0.0024)  time: 0.4721  data: 0.0077  max mem: 1914\n",
            "Epoch: [1]  [410/537]  eta: 0:00:59  lr: 0.005000  loss: 0.3629 (0.3851)  loss_classifier: 0.0354 (0.0460)  loss_box_reg: 0.0701 (0.0606)  loss_mask: 0.2398 (0.2696)  loss_objectness: 0.0020 (0.0065)  loss_rpn_box_reg: 0.0013 (0.0024)  time: 0.4708  data: 0.0077  max mem: 1914\n",
            "Epoch: [1]  [420/537]  eta: 0:00:55  lr: 0.005000  loss: 0.3355 (0.3846)  loss_classifier: 0.0406 (0.0460)  loss_box_reg: 0.0630 (0.0606)  loss_mask: 0.2480 (0.2691)  loss_objectness: 0.0022 (0.0065)  loss_rpn_box_reg: 0.0016 (0.0024)  time: 0.4714  data: 0.0076  max mem: 1914\n",
            "Epoch: [1]  [430/537]  eta: 0:00:50  lr: 0.005000  loss: 0.3355 (0.3845)  loss_classifier: 0.0347 (0.0458)  loss_box_reg: 0.0569 (0.0605)  loss_mask: 0.2268 (0.2694)  loss_objectness: 0.0032 (0.0064)  loss_rpn_box_reg: 0.0017 (0.0023)  time: 0.4718  data: 0.0075  max mem: 1914\n",
            "Epoch: [1]  [440/537]  eta: 0:00:45  lr: 0.005000  loss: 0.3158 (0.3841)  loss_classifier: 0.0320 (0.0458)  loss_box_reg: 0.0560 (0.0605)  loss_mask: 0.2124 (0.2691)  loss_objectness: 0.0032 (0.0064)  loss_rpn_box_reg: 0.0013 (0.0023)  time: 0.4721  data: 0.0076  max mem: 1914\n",
            "Epoch: [1]  [450/537]  eta: 0:00:41  lr: 0.005000  loss: 0.3617 (0.3853)  loss_classifier: 0.0329 (0.0459)  loss_box_reg: 0.0545 (0.0604)  loss_mask: 0.2412 (0.2702)  loss_objectness: 0.0020 (0.0065)  loss_rpn_box_reg: 0.0013 (0.0023)  time: 0.4728  data: 0.0077  max mem: 1914\n",
            "Epoch: [1]  [460/537]  eta: 0:00:36  lr: 0.005000  loss: 0.3845 (0.3856)  loss_classifier: 0.0443 (0.0460)  loss_box_reg: 0.0545 (0.0605)  loss_mask: 0.2757 (0.2703)  loss_objectness: 0.0041 (0.0065)  loss_rpn_box_reg: 0.0013 (0.0023)  time: 0.4750  data: 0.0076  max mem: 1914\n",
            "Epoch: [1]  [470/537]  eta: 0:00:31  lr: 0.005000  loss: 0.3669 (0.3851)  loss_classifier: 0.0418 (0.0459)  loss_box_reg: 0.0585 (0.0606)  loss_mask: 0.2470 (0.2698)  loss_objectness: 0.0039 (0.0064)  loss_rpn_box_reg: 0.0014 (0.0023)  time: 0.4743  data: 0.0075  max mem: 1914\n",
            "Epoch: [1]  [480/537]  eta: 0:00:26  lr: 0.005000  loss: 0.3694 (0.3850)  loss_classifier: 0.0394 (0.0458)  loss_box_reg: 0.0599 (0.0606)  loss_mask: 0.2434 (0.2698)  loss_objectness: 0.0023 (0.0064)  loss_rpn_box_reg: 0.0019 (0.0023)  time: 0.4699  data: 0.0078  max mem: 1914\n",
            "Epoch: [1]  [490/537]  eta: 0:00:22  lr: 0.005000  loss: 0.3739 (0.3858)  loss_classifier: 0.0432 (0.0460)  loss_box_reg: 0.0617 (0.0607)  loss_mask: 0.2553 (0.2704)  loss_objectness: 0.0029 (0.0064)  loss_rpn_box_reg: 0.0024 (0.0023)  time: 0.4680  data: 0.0080  max mem: 1914\n",
            "Epoch: [1]  [500/537]  eta: 0:00:17  lr: 0.005000  loss: 0.3004 (0.3840)  loss_classifier: 0.0361 (0.0457)  loss_box_reg: 0.0585 (0.0605)  loss_mask: 0.2331 (0.2690)  loss_objectness: 0.0025 (0.0063)  loss_rpn_box_reg: 0.0016 (0.0023)  time: 0.4711  data: 0.0082  max mem: 1914\n",
            "Epoch: [1]  [510/537]  eta: 0:00:12  lr: 0.005000  loss: 0.3004 (0.3858)  loss_classifier: 0.0332 (0.0459)  loss_box_reg: 0.0600 (0.0608)  loss_mask: 0.2393 (0.2703)  loss_objectness: 0.0024 (0.0063)  loss_rpn_box_reg: 0.0015 (0.0023)  time: 0.4708  data: 0.0081  max mem: 1914\n",
            "Epoch: [1]  [520/537]  eta: 0:00:08  lr: 0.005000  loss: 0.3920 (0.3848)  loss_classifier: 0.0414 (0.0458)  loss_box_reg: 0.0600 (0.0607)  loss_mask: 0.2656 (0.2698)  loss_objectness: 0.0025 (0.0062)  loss_rpn_box_reg: 0.0011 (0.0023)  time: 0.4701  data: 0.0078  max mem: 1914\n",
            "Epoch: [1]  [530/537]  eta: 0:00:03  lr: 0.005000  loss: 0.3209 (0.3845)  loss_classifier: 0.0333 (0.0457)  loss_box_reg: 0.0607 (0.0608)  loss_mask: 0.2214 (0.2695)  loss_objectness: 0.0013 (0.0062)  loss_rpn_box_reg: 0.0010 (0.0023)  time: 0.4749  data: 0.0076  max mem: 1914\n",
            "Epoch: [1]  [536/537]  eta: 0:00:00  lr: 0.005000  loss: 0.2980 (0.3836)  loss_classifier: 0.0327 (0.0455)  loss_box_reg: 0.0620 (0.0608)  loss_mask: 0.2042 (0.2688)  loss_objectness: 0.0011 (0.0061)  loss_rpn_box_reg: 0.0010 (0.0023)  time: 0.4635  data: 0.0074  max mem: 1914\n",
            "Epoch: [1] Total time: 0:04:13 (0.4721 s / it)\n",
            "creating index...\n",
            "index created!\n",
            "Test:  [  0/300]  eta: 0:01:38  model_time: 0.1382 (0.1382)  evaluator_time: 0.0037 (0.0037)  time: 0.3289  data: 0.1860  max mem: 1914\n",
            "Test:  [100/300]  eta: 0:00:20  model_time: 0.0888 (0.0909)  evaluator_time: 0.0032 (0.0041)  time: 0.0975  data: 0.0037  max mem: 1914\n",
            "Test:  [200/300]  eta: 0:00:09  model_time: 0.0883 (0.0904)  evaluator_time: 0.0030 (0.0040)  time: 0.0986  data: 0.0037  max mem: 1914\n",
            "Test:  [299/300]  eta: 0:00:00  model_time: 0.0902 (0.0903)  evaluator_time: 0.0041 (0.0040)  time: 0.1004  data: 0.0041  max mem: 1914\n",
            "Test: Total time: 0:00:29 (0.0998 s / it)\n",
            "Averaged stats: model_time: 0.0902 (0.0903)  evaluator_time: 0.0041 (0.0040)\n",
            "Accumulating evaluation results...\n",
            "DONE (t=0.05s).\n",
            "Accumulating evaluation results...\n",
            "DONE (t=0.05s).\n",
            "IoU metric: bbox\n",
            " Average Precision  (AP) @[ IoU=0.50:0.95 | area=   all | maxDets=100 ] = 0.618\n",
            " Average Precision  (AP) @[ IoU=0.50      | area=   all | maxDets=100 ] = 0.891\n",
            " Average Precision  (AP) @[ IoU=0.75      | area=   all | maxDets=100 ] = 0.728\n",
            " Average Precision  (AP) @[ IoU=0.50:0.95 | area= small | maxDets=100 ] = 0.343\n",
            " Average Precision  (AP) @[ IoU=0.50:0.95 | area=medium | maxDets=100 ] = 0.680\n",
            " Average Precision  (AP) @[ IoU=0.50:0.95 | area= large | maxDets=100 ] = 0.704\n",
            " Average Recall     (AR) @[ IoU=0.50:0.95 | area=   all | maxDets=  1 ] = 0.642\n",
            " Average Recall     (AR) @[ IoU=0.50:0.95 | area=   all | maxDets= 10 ] = 0.682\n",
            " Average Recall     (AR) @[ IoU=0.50:0.95 | area=   all | maxDets=100 ] = 0.683\n",
            " Average Recall     (AR) @[ IoU=0.50:0.95 | area= small | maxDets=100 ] = 0.453\n",
            " Average Recall     (AR) @[ IoU=0.50:0.95 | area=medium | maxDets=100 ] = 0.739\n",
            " Average Recall     (AR) @[ IoU=0.50:0.95 | area= large | maxDets=100 ] = 0.755\n",
            "IoU metric: segm\n",
            " Average Precision  (AP) @[ IoU=0.50:0.95 | area=   all | maxDets=100 ] = 0.554\n",
            " Average Precision  (AP) @[ IoU=0.50      | area=   all | maxDets=100 ] = 0.862\n",
            " Average Precision  (AP) @[ IoU=0.75      | area=   all | maxDets=100 ] = 0.586\n",
            " Average Precision  (AP) @[ IoU=0.50:0.95 | area= small | maxDets=100 ] = 0.220\n",
            " Average Precision  (AP) @[ IoU=0.50:0.95 | area=medium | maxDets=100 ] = 0.617\n",
            " Average Precision  (AP) @[ IoU=0.50:0.95 | area= large | maxDets=100 ] = 0.780\n",
            " Average Recall     (AR) @[ IoU=0.50:0.95 | area=   all | maxDets=  1 ] = 0.588\n",
            " Average Recall     (AR) @[ IoU=0.50:0.95 | area=   all | maxDets= 10 ] = 0.623\n",
            " Average Recall     (AR) @[ IoU=0.50:0.95 | area=   all | maxDets=100 ] = 0.624\n",
            " Average Recall     (AR) @[ IoU=0.50:0.95 | area= small | maxDets=100 ] = 0.417\n",
            " Average Recall     (AR) @[ IoU=0.50:0.95 | area=medium | maxDets=100 ] = 0.671\n",
            " Average Recall     (AR) @[ IoU=0.50:0.95 | area= large | maxDets=100 ] = 0.782\n",
            "Epoch: [2]  [  0/537]  eta: 0:06:04  lr: 0.005000  loss: 0.5793 (0.5793)  loss_classifier: 0.0518 (0.0518)  loss_box_reg: 0.0883 (0.0883)  loss_mask: 0.4349 (0.4349)  loss_objectness: 0.0021 (0.0021)  loss_rpn_box_reg: 0.0022 (0.0022)  time: 0.6794  data: 0.2012  max mem: 1914\n",
            "Epoch: [2]  [ 10/537]  eta: 0:04:21  lr: 0.005000  loss: 0.3877 (0.3748)  loss_classifier: 0.0300 (0.0356)  loss_box_reg: 0.0636 (0.0575)  loss_mask: 0.2689 (0.2780)  loss_objectness: 0.0018 (0.0022)  loss_rpn_box_reg: 0.0008 (0.0015)  time: 0.4965  data: 0.0254  max mem: 1914\n",
            "Epoch: [2]  [ 20/537]  eta: 0:04:12  lr: 0.005000  loss: 0.3602 (0.3756)  loss_classifier: 0.0300 (0.0429)  loss_box_reg: 0.0615 (0.0644)  loss_mask: 0.2581 (0.2634)  loss_objectness: 0.0018 (0.0033)  loss_rpn_box_reg: 0.0010 (0.0017)  time: 0.4792  data: 0.0078  max mem: 1914\n",
            "Epoch: [2]  [ 30/537]  eta: 0:04:05  lr: 0.005000  loss: 0.3388 (0.3647)  loss_classifier: 0.0365 (0.0424)  loss_box_reg: 0.0519 (0.0603)  loss_mask: 0.2074 (0.2571)  loss_objectness: 0.0015 (0.0034)  loss_rpn_box_reg: 0.0014 (0.0016)  time: 0.4773  data: 0.0081  max mem: 1914\n",
            "Epoch: [2]  [ 40/537]  eta: 0:03:59  lr: 0.005000  loss: 0.3403 (0.3710)  loss_classifier: 0.0365 (0.0437)  loss_box_reg: 0.0530 (0.0624)  loss_mask: 0.2275 (0.2596)  loss_objectness: 0.0014 (0.0038)  loss_rpn_box_reg: 0.0014 (0.0016)  time: 0.4746  data: 0.0081  max mem: 1914\n",
            "Epoch: [2]  [ 50/537]  eta: 0:03:53  lr: 0.005000  loss: 0.2847 (0.3523)  loss_classifier: 0.0301 (0.0410)  loss_box_reg: 0.0561 (0.0604)  loss_mask: 0.1994 (0.2456)  loss_objectness: 0.0017 (0.0037)  loss_rpn_box_reg: 0.0013 (0.0015)  time: 0.4736  data: 0.0078  max mem: 1914\n",
            "Epoch: [2]  [ 60/537]  eta: 0:03:48  lr: 0.005000  loss: 0.3103 (0.3585)  loss_classifier: 0.0268 (0.0397)  loss_box_reg: 0.0518 (0.0594)  loss_mask: 0.2038 (0.2544)  loss_objectness: 0.0017 (0.0034)  loss_rpn_box_reg: 0.0009 (0.0016)  time: 0.4755  data: 0.0081  max mem: 1914\n",
            "Epoch: [2]  [ 70/537]  eta: 0:03:43  lr: 0.005000  loss: 0.2770 (0.3422)  loss_classifier: 0.0272 (0.0380)  loss_box_reg: 0.0489 (0.0576)  loss_mask: 0.1867 (0.2420)  loss_objectness: 0.0007 (0.0031)  loss_rpn_box_reg: 0.0008 (0.0015)  time: 0.4763  data: 0.0079  max mem: 1914\n",
            "Epoch: [2]  [ 80/537]  eta: 0:03:38  lr: 0.005000  loss: 0.2699 (0.3405)  loss_classifier: 0.0258 (0.0366)  loss_box_reg: 0.0491 (0.0576)  loss_mask: 0.1805 (0.2416)  loss_objectness: 0.0007 (0.0030)  loss_rpn_box_reg: 0.0008 (0.0015)  time: 0.4764  data: 0.0085  max mem: 1914\n",
            "Epoch: [2]  [ 90/537]  eta: 0:03:33  lr: 0.005000  loss: 0.2995 (0.3378)  loss_classifier: 0.0236 (0.0355)  loss_box_reg: 0.0574 (0.0574)  loss_mask: 0.2317 (0.2406)  loss_objectness: 0.0008 (0.0029)  loss_rpn_box_reg: 0.0009 (0.0015)  time: 0.4779  data: 0.0086  max mem: 1914\n",
            "Epoch: [2]  [100/537]  eta: 0:03:29  lr: 0.005000  loss: 0.2812 (0.3322)  loss_classifier: 0.0236 (0.0355)  loss_box_reg: 0.0584 (0.0570)  loss_mask: 0.1851 (0.2354)  loss_objectness: 0.0008 (0.0028)  loss_rpn_box_reg: 0.0006 (0.0014)  time: 0.4771  data: 0.0076  max mem: 1914\n",
            "Epoch: [2]  [110/537]  eta: 0:03:24  lr: 0.005000  loss: 0.2812 (0.3343)  loss_classifier: 0.0242 (0.0353)  loss_box_reg: 0.0505 (0.0569)  loss_mask: 0.1851 (0.2379)  loss_objectness: 0.0008 (0.0028)  loss_rpn_box_reg: 0.0008 (0.0014)  time: 0.4753  data: 0.0076  max mem: 1914\n",
            "Epoch: [2]  [120/537]  eta: 0:03:19  lr: 0.005000  loss: 0.2662 (0.3309)  loss_classifier: 0.0242 (0.0350)  loss_box_reg: 0.0489 (0.0559)  loss_mask: 0.1939 (0.2355)  loss_objectness: 0.0010 (0.0029)  loss_rpn_box_reg: 0.0012 (0.0015)  time: 0.4727  data: 0.0077  max mem: 1914\n",
            "Epoch: [2]  [130/537]  eta: 0:03:14  lr: 0.005000  loss: 0.2695 (0.3347)  loss_classifier: 0.0271 (0.0355)  loss_box_reg: 0.0481 (0.0561)  loss_mask: 0.2100 (0.2384)  loss_objectness: 0.0013 (0.0031)  loss_rpn_box_reg: 0.0011 (0.0015)  time: 0.4727  data: 0.0078  max mem: 1914\n",
            "Epoch: [2]  [140/537]  eta: 0:03:09  lr: 0.005000  loss: 0.3243 (0.3338)  loss_classifier: 0.0322 (0.0353)  loss_box_reg: 0.0576 (0.0563)  loss_mask: 0.2095 (0.2378)  loss_objectness: 0.0013 (0.0030)  loss_rpn_box_reg: 0.0010 (0.0015)  time: 0.4743  data: 0.0079  max mem: 1914\n",
            "Epoch: [2]  [150/537]  eta: 0:03:04  lr: 0.005000  loss: 0.2965 (0.3341)  loss_classifier: 0.0326 (0.0360)  loss_box_reg: 0.0559 (0.0567)  loss_mask: 0.1974 (0.2365)  loss_objectness: 0.0012 (0.0034)  loss_rpn_box_reg: 0.0010 (0.0015)  time: 0.4747  data: 0.0077  max mem: 1914\n",
            "Epoch: [2]  [160/537]  eta: 0:02:59  lr: 0.005000  loss: 0.2754 (0.3307)  loss_classifier: 0.0285 (0.0354)  loss_box_reg: 0.0538 (0.0564)  loss_mask: 0.1997 (0.2341)  loss_objectness: 0.0011 (0.0034)  loss_rpn_box_reg: 0.0010 (0.0015)  time: 0.4729  data: 0.0075  max mem: 1914\n",
            "Epoch: [2]  [170/537]  eta: 0:02:54  lr: 0.005000  loss: 0.3175 (0.3329)  loss_classifier: 0.0258 (0.0366)  loss_box_reg: 0.0513 (0.0565)  loss_mask: 0.2067 (0.2347)  loss_objectness: 0.0017 (0.0036)  loss_rpn_box_reg: 0.0011 (0.0015)  time: 0.4701  data: 0.0078  max mem: 1914\n",
            "Epoch: [2]  [180/537]  eta: 0:02:49  lr: 0.005000  loss: 0.3694 (0.3347)  loss_classifier: 0.0417 (0.0371)  loss_box_reg: 0.0529 (0.0567)  loss_mask: 0.2332 (0.2357)  loss_objectness: 0.0028 (0.0036)  loss_rpn_box_reg: 0.0015 (0.0015)  time: 0.4713  data: 0.0077  max mem: 1914\n",
            "Epoch: [2]  [190/537]  eta: 0:02:45  lr: 0.005000  loss: 0.3364 (0.3350)  loss_classifier: 0.0383 (0.0374)  loss_box_reg: 0.0578 (0.0567)  loss_mask: 0.2322 (0.2358)  loss_objectness: 0.0021 (0.0035)  loss_rpn_box_reg: 0.0013 (0.0015)  time: 0.4724  data: 0.0074  max mem: 1914\n",
            "Epoch: [2]  [200/537]  eta: 0:02:40  lr: 0.005000  loss: 0.2978 (0.3364)  loss_classifier: 0.0251 (0.0377)  loss_box_reg: 0.0604 (0.0572)  loss_mask: 0.1878 (0.2364)  loss_objectness: 0.0008 (0.0037)  loss_rpn_box_reg: 0.0011 (0.0016)  time: 0.4711  data: 0.0075  max mem: 1914\n",
            "Epoch: [2]  [210/537]  eta: 0:02:35  lr: 0.005000  loss: 0.3067 (0.3361)  loss_classifier: 0.0251 (0.0374)  loss_box_reg: 0.0576 (0.0570)  loss_mask: 0.2137 (0.2366)  loss_objectness: 0.0006 (0.0036)  loss_rpn_box_reg: 0.0012 (0.0016)  time: 0.4734  data: 0.0076  max mem: 1914\n",
            "Epoch: [2]  [220/537]  eta: 0:02:30  lr: 0.005000  loss: 0.3214 (0.3354)  loss_classifier: 0.0222 (0.0372)  loss_box_reg: 0.0417 (0.0567)  loss_mask: 0.2084 (0.2362)  loss_objectness: 0.0013 (0.0037)  loss_rpn_box_reg: 0.0013 (0.0016)  time: 0.4747  data: 0.0076  max mem: 1914\n",
            "Epoch: [2]  [230/537]  eta: 0:02:25  lr: 0.005000  loss: 0.3497 (0.3380)  loss_classifier: 0.0386 (0.0376)  loss_box_reg: 0.0555 (0.0573)  loss_mask: 0.2316 (0.2377)  loss_objectness: 0.0025 (0.0037)  loss_rpn_box_reg: 0.0013 (0.0016)  time: 0.4739  data: 0.0076  max mem: 1914\n",
            "Epoch: [2]  [240/537]  eta: 0:02:21  lr: 0.005000  loss: 0.3259 (0.3363)  loss_classifier: 0.0367 (0.0375)  loss_box_reg: 0.0555 (0.0571)  loss_mask: 0.2316 (0.2364)  loss_objectness: 0.0018 (0.0037)  loss_rpn_box_reg: 0.0011 (0.0016)  time: 0.4743  data: 0.0076  max mem: 1914\n",
            "Epoch: [2]  [250/537]  eta: 0:02:16  lr: 0.005000  loss: 0.3259 (0.3403)  loss_classifier: 0.0320 (0.0379)  loss_box_reg: 0.0548 (0.0578)  loss_mask: 0.2469 (0.2393)  loss_objectness: 0.0011 (0.0037)  loss_rpn_box_reg: 0.0008 (0.0016)  time: 0.4758  data: 0.0076  max mem: 1914\n",
            "Epoch: [2]  [260/537]  eta: 0:02:11  lr: 0.005000  loss: 0.3203 (0.3381)  loss_classifier: 0.0320 (0.0377)  loss_box_reg: 0.0566 (0.0577)  loss_mask: 0.2188 (0.2375)  loss_objectness: 0.0011 (0.0037)  loss_rpn_box_reg: 0.0009 (0.0015)  time: 0.4769  data: 0.0077  max mem: 1914\n",
            "Epoch: [2]  [270/537]  eta: 0:02:06  lr: 0.005000  loss: 0.2616 (0.3370)  loss_classifier: 0.0239 (0.0376)  loss_box_reg: 0.0456 (0.0573)  loss_mask: 0.1858 (0.2368)  loss_objectness: 0.0014 (0.0037)  loss_rpn_box_reg: 0.0011 (0.0015)  time: 0.4757  data: 0.0075  max mem: 1914\n",
            "Epoch: [2]  [280/537]  eta: 0:02:02  lr: 0.005000  loss: 0.3003 (0.3390)  loss_classifier: 0.0257 (0.0373)  loss_box_reg: 0.0517 (0.0575)  loss_mask: 0.2125 (0.2390)  loss_objectness: 0.0023 (0.0036)  loss_rpn_box_reg: 0.0012 (0.0016)  time: 0.4751  data: 0.0077  max mem: 1914\n",
            "Epoch: [2]  [290/537]  eta: 0:01:57  lr: 0.005000  loss: 0.3640 (0.3410)  loss_classifier: 0.0290 (0.0374)  loss_box_reg: 0.0519 (0.0574)  loss_mask: 0.2520 (0.2409)  loss_objectness: 0.0018 (0.0037)  loss_rpn_box_reg: 0.0012 (0.0016)  time: 0.4741  data: 0.0079  max mem: 1914\n",
            "Epoch: [2]  [300/537]  eta: 0:01:52  lr: 0.005000  loss: 0.3384 (0.3408)  loss_classifier: 0.0345 (0.0373)  loss_box_reg: 0.0513 (0.0573)  loss_mask: 0.2311 (0.2408)  loss_objectness: 0.0013 (0.0037)  loss_rpn_box_reg: 0.0016 (0.0016)  time: 0.4715  data: 0.0077  max mem: 1914\n",
            "Epoch: [2]  [310/537]  eta: 0:01:47  lr: 0.005000  loss: 0.2858 (0.3397)  loss_classifier: 0.0297 (0.0370)  loss_box_reg: 0.0480 (0.0572)  loss_mask: 0.2070 (0.2402)  loss_objectness: 0.0010 (0.0036)  loss_rpn_box_reg: 0.0012 (0.0016)  time: 0.4718  data: 0.0076  max mem: 1914\n",
            "Epoch: [2]  [320/537]  eta: 0:01:43  lr: 0.005000  loss: 0.2499 (0.3396)  loss_classifier: 0.0311 (0.0372)  loss_box_reg: 0.0507 (0.0574)  loss_mask: 0.1810 (0.2399)  loss_objectness: 0.0006 (0.0036)  loss_rpn_box_reg: 0.0008 (0.0016)  time: 0.4750  data: 0.0079  max mem: 1914\n",
            "Epoch: [2]  [330/537]  eta: 0:01:38  lr: 0.005000  loss: 0.2499 (0.3385)  loss_classifier: 0.0397 (0.0374)  loss_box_reg: 0.0528 (0.0573)  loss_mask: 0.1542 (0.2386)  loss_objectness: 0.0024 (0.0036)  loss_rpn_box_reg: 0.0010 (0.0016)  time: 0.4758  data: 0.0079  max mem: 1914\n",
            "Epoch: [2]  [340/537]  eta: 0:01:33  lr: 0.005000  loss: 0.2393 (0.3355)  loss_classifier: 0.0255 (0.0370)  loss_box_reg: 0.0371 (0.0569)  loss_mask: 0.1562 (0.2365)  loss_objectness: 0.0016 (0.0035)  loss_rpn_box_reg: 0.0008 (0.0016)  time: 0.4761  data: 0.0079  max mem: 1914\n",
            "Epoch: [2]  [350/537]  eta: 0:01:28  lr: 0.005000  loss: 0.2397 (0.3343)  loss_classifier: 0.0221 (0.0369)  loss_box_reg: 0.0434 (0.0568)  loss_mask: 0.1761 (0.2356)  loss_objectness: 0.0006 (0.0035)  loss_rpn_box_reg: 0.0010 (0.0016)  time: 0.4763  data: 0.0077  max mem: 1914\n",
            "Epoch: [2]  [360/537]  eta: 0:01:24  lr: 0.005000  loss: 0.2799 (0.3335)  loss_classifier: 0.0251 (0.0369)  loss_box_reg: 0.0589 (0.0569)  loss_mask: 0.1876 (0.2346)  loss_objectness: 0.0007 (0.0035)  loss_rpn_box_reg: 0.0013 (0.0016)  time: 0.4757  data: 0.0075  max mem: 1914\n",
            "Epoch: [2]  [370/537]  eta: 0:01:19  lr: 0.005000  loss: 0.2420 (0.3316)  loss_classifier: 0.0251 (0.0367)  loss_box_reg: 0.0526 (0.0566)  loss_mask: 0.1803 (0.2333)  loss_objectness: 0.0007 (0.0035)  loss_rpn_box_reg: 0.0008 (0.0016)  time: 0.4751  data: 0.0084  max mem: 1914\n",
            "Epoch: [2]  [380/537]  eta: 0:01:14  lr: 0.005000  loss: 0.2833 (0.3312)  loss_classifier: 0.0225 (0.0366)  loss_box_reg: 0.0426 (0.0565)  loss_mask: 0.1863 (0.2331)  loss_objectness: 0.0005 (0.0034)  loss_rpn_box_reg: 0.0008 (0.0016)  time: 0.4738  data: 0.0087  max mem: 1914\n",
            "Epoch: [2]  [390/537]  eta: 0:01:09  lr: 0.005000  loss: 0.2923 (0.3317)  loss_classifier: 0.0246 (0.0365)  loss_box_reg: 0.0507 (0.0567)  loss_mask: 0.1996 (0.2335)  loss_objectness: 0.0010 (0.0035)  loss_rpn_box_reg: 0.0010 (0.0016)  time: 0.4735  data: 0.0079  max mem: 1914\n",
            "Epoch: [2]  [400/537]  eta: 0:01:05  lr: 0.005000  loss: 0.2905 (0.3311)  loss_classifier: 0.0318 (0.0366)  loss_box_reg: 0.0510 (0.0567)  loss_mask: 0.1985 (0.2327)  loss_objectness: 0.0010 (0.0034)  loss_rpn_box_reg: 0.0008 (0.0016)  time: 0.4753  data: 0.0079  max mem: 1914\n",
            "Epoch: [2]  [410/537]  eta: 0:01:00  lr: 0.005000  loss: 0.2398 (0.3288)  loss_classifier: 0.0232 (0.0364)  loss_box_reg: 0.0463 (0.0564)  loss_mask: 0.1742 (0.2311)  loss_objectness: 0.0009 (0.0034)  loss_rpn_box_reg: 0.0006 (0.0016)  time: 0.4762  data: 0.0082  max mem: 1914\n",
            "Epoch: [2]  [420/537]  eta: 0:00:55  lr: 0.005000  loss: 0.2370 (0.3282)  loss_classifier: 0.0236 (0.0363)  loss_box_reg: 0.0450 (0.0566)  loss_mask: 0.1629 (0.2304)  loss_objectness: 0.0009 (0.0034)  loss_rpn_box_reg: 0.0008 (0.0015)  time: 0.4756  data: 0.0081  max mem: 1914\n",
            "Epoch: [2]  [430/537]  eta: 0:00:50  lr: 0.005000  loss: 0.2538 (0.3271)  loss_classifier: 0.0251 (0.0362)  loss_box_reg: 0.0450 (0.0563)  loss_mask: 0.1680 (0.2296)  loss_objectness: 0.0008 (0.0035)  loss_rpn_box_reg: 0.0009 (0.0015)  time: 0.4760  data: 0.0078  max mem: 1914\n",
            "Epoch: [2]  [440/537]  eta: 0:00:46  lr: 0.005000  loss: 0.2790 (0.3271)  loss_classifier: 0.0270 (0.0361)  loss_box_reg: 0.0473 (0.0563)  loss_mask: 0.1896 (0.2298)  loss_objectness: 0.0006 (0.0035)  loss_rpn_box_reg: 0.0012 (0.0015)  time: 0.4773  data: 0.0077  max mem: 1914\n",
            "Epoch: [2]  [450/537]  eta: 0:00:41  lr: 0.005000  loss: 0.3221 (0.3289)  loss_classifier: 0.0298 (0.0364)  loss_box_reg: 0.0546 (0.0565)  loss_mask: 0.2463 (0.2310)  loss_objectness: 0.0012 (0.0035)  loss_rpn_box_reg: 0.0013 (0.0015)  time: 0.4748  data: 0.0079  max mem: 1914\n",
            "Epoch: [2]  [460/537]  eta: 0:00:36  lr: 0.005000  loss: 0.3713 (0.3289)  loss_classifier: 0.0348 (0.0364)  loss_box_reg: 0.0520 (0.0564)  loss_mask: 0.2592 (0.2311)  loss_objectness: 0.0012 (0.0035)  loss_rpn_box_reg: 0.0013 (0.0015)  time: 0.4736  data: 0.0078  max mem: 1914\n",
            "Epoch: [2]  [470/537]  eta: 0:00:31  lr: 0.005000  loss: 0.3395 (0.3296)  loss_classifier: 0.0348 (0.0364)  loss_box_reg: 0.0564 (0.0566)  loss_mask: 0.2403 (0.2315)  loss_objectness: 0.0020 (0.0035)  loss_rpn_box_reg: 0.0012 (0.0015)  time: 0.4779  data: 0.0077  max mem: 1914\n",
            "Epoch: [2]  [480/537]  eta: 0:00:27  lr: 0.005000  loss: 0.3463 (0.3302)  loss_classifier: 0.0354 (0.0366)  loss_box_reg: 0.0597 (0.0566)  loss_mask: 0.2204 (0.2319)  loss_objectness: 0.0027 (0.0035)  loss_rpn_box_reg: 0.0013 (0.0015)  time: 0.4765  data: 0.0077  max mem: 1914\n",
            "Epoch: [2]  [490/537]  eta: 0:00:22  lr: 0.005000  loss: 0.3376 (0.3310)  loss_classifier: 0.0324 (0.0366)  loss_box_reg: 0.0610 (0.0569)  loss_mask: 0.2204 (0.2325)  loss_objectness: 0.0026 (0.0035)  loss_rpn_box_reg: 0.0012 (0.0015)  time: 0.4749  data: 0.0078  max mem: 1914\n",
            "Epoch: [2]  [500/537]  eta: 0:00:17  lr: 0.005000  loss: 0.3373 (0.3311)  loss_classifier: 0.0286 (0.0365)  loss_box_reg: 0.0546 (0.0568)  loss_mask: 0.2316 (0.2327)  loss_objectness: 0.0015 (0.0035)  loss_rpn_box_reg: 0.0009 (0.0015)  time: 0.4776  data: 0.0077  max mem: 1914\n",
            "Epoch: [2]  [510/537]  eta: 0:00:12  lr: 0.005000  loss: 0.3188 (0.3305)  loss_classifier: 0.0221 (0.0363)  loss_box_reg: 0.0493 (0.0568)  loss_mask: 0.2316 (0.2324)  loss_objectness: 0.0009 (0.0035)  loss_rpn_box_reg: 0.0006 (0.0015)  time: 0.4776  data: 0.0079  max mem: 1914\n",
            "Epoch: [2]  [520/537]  eta: 0:00:08  lr: 0.005000  loss: 0.3105 (0.3307)  loss_classifier: 0.0234 (0.0362)  loss_box_reg: 0.0506 (0.0568)  loss_mask: 0.2222 (0.2326)  loss_objectness: 0.0009 (0.0034)  loss_rpn_box_reg: 0.0006 (0.0017)  time: 0.4766  data: 0.0082  max mem: 1914\n",
            "Epoch: [2]  [530/537]  eta: 0:00:03  lr: 0.005000  loss: 0.3189 (0.3310)  loss_classifier: 0.0266 (0.0362)  loss_box_reg: 0.0555 (0.0569)  loss_mask: 0.2209 (0.2327)  loss_objectness: 0.0006 (0.0034)  loss_rpn_box_reg: 0.0011 (0.0017)  time: 0.4774  data: 0.0080  max mem: 1914\n",
            "Epoch: [2]  [536/537]  eta: 0:00:00  lr: 0.005000  loss: 0.3189 (0.3306)  loss_classifier: 0.0241 (0.0361)  loss_box_reg: 0.0594 (0.0569)  loss_mask: 0.2079 (0.2326)  loss_objectness: 0.0010 (0.0034)  loss_rpn_box_reg: 0.0010 (0.0017)  time: 0.4657  data: 0.0077  max mem: 1914\n",
            "Epoch: [2] Total time: 0:04:15 (0.4753 s / it)\n",
            "creating index...\n",
            "index created!\n",
            "Test:  [  0/300]  eta: 0:01:38  model_time: 0.1373 (0.1373)  evaluator_time: 0.0036 (0.0036)  time: 0.3288  data: 0.1869  max mem: 1914\n",
            "Test:  [100/300]  eta: 0:00:19  model_time: 0.0867 (0.0886)  evaluator_time: 0.0023 (0.0029)  time: 0.0946  data: 0.0037  max mem: 1914\n",
            "Test:  [200/300]  eta: 0:00:09  model_time: 0.0879 (0.0882)  evaluator_time: 0.0024 (0.0028)  time: 0.0954  data: 0.0038  max mem: 1914\n",
            "Test:  [299/300]  eta: 0:00:00  model_time: 0.0877 (0.0882)  evaluator_time: 0.0028 (0.0029)  time: 0.0963  data: 0.0041  max mem: 1914\n",
            "Test: Total time: 0:00:28 (0.0965 s / it)\n",
            "Averaged stats: model_time: 0.0877 (0.0882)  evaluator_time: 0.0028 (0.0029)\n",
            "Accumulating evaluation results...\n",
            "DONE (t=0.03s).\n",
            "Accumulating evaluation results...\n",
            "DONE (t=0.03s).\n",
            "IoU metric: bbox\n",
            " Average Precision  (AP) @[ IoU=0.50:0.95 | area=   all | maxDets=100 ] = 0.598\n",
            " Average Precision  (AP) @[ IoU=0.50      | area=   all | maxDets=100 ] = 0.885\n",
            " Average Precision  (AP) @[ IoU=0.75      | area=   all | maxDets=100 ] = 0.704\n",
            " Average Precision  (AP) @[ IoU=0.50:0.95 | area= small | maxDets=100 ] = 0.280\n",
            " Average Precision  (AP) @[ IoU=0.50:0.95 | area=medium | maxDets=100 ] = 0.667\n",
            " Average Precision  (AP) @[ IoU=0.50:0.95 | area= large | maxDets=100 ] = 0.757\n",
            " Average Recall     (AR) @[ IoU=0.50:0.95 | area=   all | maxDets=  1 ] = 0.634\n",
            " Average Recall     (AR) @[ IoU=0.50:0.95 | area=   all | maxDets= 10 ] = 0.655\n",
            " Average Recall     (AR) @[ IoU=0.50:0.95 | area=   all | maxDets=100 ] = 0.655\n",
            " Average Recall     (AR) @[ IoU=0.50:0.95 | area= small | maxDets=100 ] = 0.350\n",
            " Average Recall     (AR) @[ IoU=0.50:0.95 | area=medium | maxDets=100 ] = 0.729\n",
            " Average Recall     (AR) @[ IoU=0.50:0.95 | area= large | maxDets=100 ] = 0.773\n",
            "IoU metric: segm\n",
            " Average Precision  (AP) @[ IoU=0.50:0.95 | area=   all | maxDets=100 ] = 0.563\n",
            " Average Precision  (AP) @[ IoU=0.50      | area=   all | maxDets=100 ] = 0.869\n",
            " Average Precision  (AP) @[ IoU=0.75      | area=   all | maxDets=100 ] = 0.599\n",
            " Average Precision  (AP) @[ IoU=0.50:0.95 | area= small | maxDets=100 ] = 0.194\n",
            " Average Precision  (AP) @[ IoU=0.50:0.95 | area=medium | maxDets=100 ] = 0.637\n",
            " Average Precision  (AP) @[ IoU=0.50:0.95 | area= large | maxDets=100 ] = 0.807\n",
            " Average Recall     (AR) @[ IoU=0.50:0.95 | area=   all | maxDets=  1 ] = 0.597\n",
            " Average Recall     (AR) @[ IoU=0.50:0.95 | area=   all | maxDets= 10 ] = 0.622\n",
            " Average Recall     (AR) @[ IoU=0.50:0.95 | area=   all | maxDets=100 ] = 0.622\n",
            " Average Recall     (AR) @[ IoU=0.50:0.95 | area= small | maxDets=100 ] = 0.340\n",
            " Average Recall     (AR) @[ IoU=0.50:0.95 | area=medium | maxDets=100 ] = 0.686\n",
            " Average Recall     (AR) @[ IoU=0.50:0.95 | area= large | maxDets=100 ] = 0.809\n",
            "Epoch: [3]  [  0/537]  eta: 0:06:08  lr: 0.000500  loss: 0.4226 (0.4226)  loss_classifier: 0.0358 (0.0358)  loss_box_reg: 0.0729 (0.0729)  loss_mask: 0.3084 (0.3084)  loss_objectness: 0.0037 (0.0037)  loss_rpn_box_reg: 0.0020 (0.0020)  time: 0.6867  data: 0.2023  max mem: 1914\n",
            "Epoch: [3]  [ 10/537]  eta: 0:04:20  lr: 0.000500  loss: 0.3467 (0.3401)  loss_classifier: 0.0307 (0.0329)  loss_box_reg: 0.0574 (0.0587)  loss_mask: 0.2323 (0.2446)  loss_objectness: 0.0010 (0.0028)  loss_rpn_box_reg: 0.0012 (0.0012)  time: 0.4944  data: 0.0252  max mem: 1914\n",
            "Epoch: [3]  [ 20/537]  eta: 0:04:10  lr: 0.000500  loss: 0.2979 (0.3228)  loss_classifier: 0.0262 (0.0300)  loss_box_reg: 0.0550 (0.0579)  loss_mask: 0.1994 (0.2315)  loss_objectness: 0.0006 (0.0019)  loss_rpn_box_reg: 0.0010 (0.0016)  time: 0.4746  data: 0.0076  max mem: 1914\n",
            "Epoch: [3]  [ 30/537]  eta: 0:04:04  lr: 0.000500  loss: 0.2796 (0.3189)  loss_classifier: 0.0247 (0.0304)  loss_box_reg: 0.0500 (0.0566)  loss_mask: 0.1972 (0.2259)  loss_objectness: 0.0007 (0.0027)  loss_rpn_box_reg: 0.0012 (0.0033)  time: 0.4750  data: 0.0076  max mem: 1914\n",
            "Epoch: [3]  [ 40/537]  eta: 0:03:58  lr: 0.000500  loss: 0.3161 (0.3221)  loss_classifier: 0.0260 (0.0313)  loss_box_reg: 0.0485 (0.0558)  loss_mask: 0.2034 (0.2289)  loss_objectness: 0.0009 (0.0027)  loss_rpn_box_reg: 0.0011 (0.0033)  time: 0.4747  data: 0.0077  max mem: 1914\n",
            "Epoch: [3]  [ 50/537]  eta: 0:03:53  lr: 0.000500  loss: 0.3130 (0.3205)  loss_classifier: 0.0271 (0.0319)  loss_box_reg: 0.0507 (0.0569)  loss_mask: 0.2320 (0.2262)  loss_objectness: 0.0011 (0.0026)  loss_rpn_box_reg: 0.0009 (0.0029)  time: 0.4745  data: 0.0078  max mem: 1914\n",
            "Epoch: [3]  [ 60/537]  eta: 0:03:48  lr: 0.000500  loss: 0.2373 (0.3026)  loss_classifier: 0.0179 (0.0294)  loss_box_reg: 0.0374 (0.0531)  loss_mask: 0.1784 (0.2151)  loss_objectness: 0.0012 (0.0024)  loss_rpn_box_reg: 0.0007 (0.0025)  time: 0.4766  data: 0.0076  max mem: 1914\n",
            "Epoch: [3]  [ 70/537]  eta: 0:03:43  lr: 0.000500  loss: 0.2199 (0.2994)  loss_classifier: 0.0157 (0.0290)  loss_box_reg: 0.0321 (0.0525)  loss_mask: 0.1784 (0.2135)  loss_objectness: 0.0004 (0.0022)  loss_rpn_box_reg: 0.0005 (0.0022)  time: 0.4776  data: 0.0075  max mem: 1914\n",
            "Epoch: [3]  [ 80/537]  eta: 0:03:38  lr: 0.000500  loss: 0.2685 (0.2985)  loss_classifier: 0.0227 (0.0286)  loss_box_reg: 0.0456 (0.0519)  loss_mask: 0.1927 (0.2137)  loss_objectness: 0.0004 (0.0021)  loss_rpn_box_reg: 0.0006 (0.0021)  time: 0.4760  data: 0.0077  max mem: 1914\n",
            "Epoch: [3]  [ 90/537]  eta: 0:03:33  lr: 0.000500  loss: 0.2329 (0.2941)  loss_classifier: 0.0226 (0.0280)  loss_box_reg: 0.0443 (0.0518)  loss_mask: 0.1672 (0.2102)  loss_objectness: 0.0006 (0.0020)  loss_rpn_box_reg: 0.0006 (0.0020)  time: 0.4765  data: 0.0077  max mem: 1914\n",
            "Epoch: [3]  [100/537]  eta: 0:03:28  lr: 0.000500  loss: 0.2163 (0.2898)  loss_classifier: 0.0196 (0.0279)  loss_box_reg: 0.0380 (0.0507)  loss_mask: 0.1656 (0.2074)  loss_objectness: 0.0005 (0.0019)  loss_rpn_box_reg: 0.0005 (0.0019)  time: 0.4783  data: 0.0079  max mem: 1914\n",
            "Epoch: [3]  [110/537]  eta: 0:03:24  lr: 0.000500  loss: 0.2224 (0.2870)  loss_classifier: 0.0189 (0.0276)  loss_box_reg: 0.0380 (0.0504)  loss_mask: 0.1656 (0.2053)  loss_objectness: 0.0003 (0.0018)  loss_rpn_box_reg: 0.0005 (0.0019)  time: 0.4770  data: 0.0078  max mem: 1914\n",
            "Epoch: [3]  [120/537]  eta: 0:03:19  lr: 0.000500  loss: 0.2090 (0.2832)  loss_classifier: 0.0164 (0.0269)  loss_box_reg: 0.0401 (0.0495)  loss_mask: 0.1505 (0.2033)  loss_objectness: 0.0003 (0.0017)  loss_rpn_box_reg: 0.0005 (0.0018)  time: 0.4765  data: 0.0075  max mem: 1914\n",
            "Epoch: [3]  [130/537]  eta: 0:03:14  lr: 0.000500  loss: 0.2312 (0.2890)  loss_classifier: 0.0196 (0.0272)  loss_box_reg: 0.0439 (0.0495)  loss_mask: 0.1697 (0.2085)  loss_objectness: 0.0004 (0.0021)  loss_rpn_box_reg: 0.0006 (0.0018)  time: 0.4762  data: 0.0076  max mem: 1914\n",
            "Epoch: [3]  [140/537]  eta: 0:03:09  lr: 0.000500  loss: 0.2316 (0.2857)  loss_classifier: 0.0196 (0.0276)  loss_box_reg: 0.0433 (0.0487)  loss_mask: 0.1726 (0.2054)  loss_objectness: 0.0005 (0.0023)  loss_rpn_box_reg: 0.0007 (0.0017)  time: 0.4735  data: 0.0078  max mem: 1914\n",
            "Epoch: [3]  [150/537]  eta: 0:03:04  lr: 0.000500  loss: 0.2313 (0.2840)  loss_classifier: 0.0158 (0.0269)  loss_box_reg: 0.0390 (0.0480)  loss_mask: 0.1663 (0.2051)  loss_objectness: 0.0004 (0.0022)  loss_rpn_box_reg: 0.0005 (0.0017)  time: 0.4770  data: 0.0090  max mem: 1914\n",
            "Epoch: [3]  [160/537]  eta: 0:03:00  lr: 0.000500  loss: 0.2567 (0.2883)  loss_classifier: 0.0174 (0.0271)  loss_box_reg: 0.0395 (0.0484)  loss_mask: 0.2098 (0.2090)  loss_objectness: 0.0006 (0.0022)  loss_rpn_box_reg: 0.0006 (0.0016)  time: 0.4795  data: 0.0088  max mem: 1914\n",
            "Epoch: [3]  [170/537]  eta: 0:02:55  lr: 0.000500  loss: 0.2397 (0.2847)  loss_classifier: 0.0181 (0.0265)  loss_box_reg: 0.0351 (0.0477)  loss_mask: 0.1915 (0.2067)  loss_objectness: 0.0005 (0.0021)  loss_rpn_box_reg: 0.0005 (0.0016)  time: 0.4779  data: 0.0078  max mem: 1914\n",
            "Epoch: [3]  [180/537]  eta: 0:02:50  lr: 0.000500  loss: 0.2461 (0.2845)  loss_classifier: 0.0210 (0.0270)  loss_box_reg: 0.0369 (0.0480)  loss_mask: 0.1700 (0.2059)  loss_objectness: 0.0005 (0.0021)  loss_rpn_box_reg: 0.0005 (0.0016)  time: 0.4770  data: 0.0083  max mem: 1914\n",
            "Epoch: [3]  [190/537]  eta: 0:02:45  lr: 0.000500  loss: 0.2471 (0.2821)  loss_classifier: 0.0222 (0.0266)  loss_box_reg: 0.0423 (0.0474)  loss_mask: 0.1680 (0.2045)  loss_objectness: 0.0007 (0.0021)  loss_rpn_box_reg: 0.0005 (0.0015)  time: 0.4770  data: 0.0081  max mem: 1914\n",
            "Epoch: [3]  [200/537]  eta: 0:02:40  lr: 0.000500  loss: 0.1884 (0.2774)  loss_classifier: 0.0179 (0.0261)  loss_box_reg: 0.0333 (0.0466)  loss_mask: 0.1462 (0.2011)  loss_objectness: 0.0003 (0.0020)  loss_rpn_box_reg: 0.0005 (0.0015)  time: 0.4777  data: 0.0075  max mem: 1914\n",
            "Epoch: [3]  [210/537]  eta: 0:02:36  lr: 0.000500  loss: 0.2320 (0.2778)  loss_classifier: 0.0187 (0.0263)  loss_box_reg: 0.0333 (0.0469)  loss_mask: 0.1571 (0.2011)  loss_objectness: 0.0004 (0.0020)  loss_rpn_box_reg: 0.0006 (0.0015)  time: 0.4766  data: 0.0077  max mem: 1914\n",
            "Epoch: [3]  [220/537]  eta: 0:02:31  lr: 0.000500  loss: 0.2724 (0.2779)  loss_classifier: 0.0210 (0.0263)  loss_box_reg: 0.0442 (0.0467)  loss_mask: 0.2019 (0.2014)  loss_objectness: 0.0004 (0.0021)  loss_rpn_box_reg: 0.0007 (0.0015)  time: 0.4754  data: 0.0077  max mem: 1914\n",
            "Epoch: [3]  [230/537]  eta: 0:02:26  lr: 0.000500  loss: 0.2402 (0.2766)  loss_classifier: 0.0196 (0.0262)  loss_box_reg: 0.0398 (0.0463)  loss_mask: 0.1933 (0.2007)  loss_objectness: 0.0003 (0.0020)  loss_rpn_box_reg: 0.0007 (0.0014)  time: 0.4749  data: 0.0075  max mem: 1914\n",
            "Epoch: [3]  [240/537]  eta: 0:02:21  lr: 0.000500  loss: 0.2402 (0.2760)  loss_classifier: 0.0185 (0.0260)  loss_box_reg: 0.0320 (0.0461)  loss_mask: 0.1788 (0.2005)  loss_objectness: 0.0003 (0.0020)  loss_rpn_box_reg: 0.0005 (0.0014)  time: 0.4764  data: 0.0075  max mem: 1914\n",
            "Epoch: [3]  [250/537]  eta: 0:02:16  lr: 0.000500  loss: 0.2363 (0.2763)  loss_classifier: 0.0185 (0.0259)  loss_box_reg: 0.0394 (0.0460)  loss_mask: 0.1740 (0.2010)  loss_objectness: 0.0004 (0.0019)  loss_rpn_box_reg: 0.0006 (0.0014)  time: 0.4765  data: 0.0078  max mem: 1914\n",
            "Epoch: [3]  [260/537]  eta: 0:02:12  lr: 0.000500  loss: 0.2150 (0.2740)  loss_classifier: 0.0176 (0.0258)  loss_box_reg: 0.0373 (0.0457)  loss_mask: 0.1520 (0.1992)  loss_objectness: 0.0005 (0.0019)  loss_rpn_box_reg: 0.0006 (0.0014)  time: 0.4763  data: 0.0078  max mem: 1914\n",
            "Epoch: [3]  [270/537]  eta: 0:02:07  lr: 0.000500  loss: 0.2394 (0.2742)  loss_classifier: 0.0183 (0.0258)  loss_box_reg: 0.0429 (0.0461)  loss_mask: 0.1543 (0.1991)  loss_objectness: 0.0005 (0.0019)  loss_rpn_box_reg: 0.0007 (0.0014)  time: 0.4751  data: 0.0077  max mem: 1914\n",
            "Epoch: [3]  [280/537]  eta: 0:02:02  lr: 0.000500  loss: 0.2591 (0.2755)  loss_classifier: 0.0237 (0.0261)  loss_box_reg: 0.0538 (0.0465)  loss_mask: 0.1713 (0.1996)  loss_objectness: 0.0005 (0.0019)  loss_rpn_box_reg: 0.0007 (0.0014)  time: 0.4752  data: 0.0077  max mem: 1914\n",
            "Epoch: [3]  [290/537]  eta: 0:01:57  lr: 0.000500  loss: 0.2054 (0.2732)  loss_classifier: 0.0213 (0.0259)  loss_box_reg: 0.0370 (0.0460)  loss_mask: 0.1563 (0.1980)  loss_objectness: 0.0005 (0.0018)  loss_rpn_box_reg: 0.0005 (0.0014)  time: 0.4770  data: 0.0077  max mem: 1914\n",
            "Epoch: [3]  [300/537]  eta: 0:01:53  lr: 0.000500  loss: 0.2012 (0.2737)  loss_classifier: 0.0172 (0.0259)  loss_box_reg: 0.0313 (0.0462)  loss_mask: 0.1541 (0.1983)  loss_objectness: 0.0011 (0.0019)  loss_rpn_box_reg: 0.0005 (0.0014)  time: 0.4758  data: 0.0077  max mem: 1914\n",
            "Epoch: [3]  [310/537]  eta: 0:01:48  lr: 0.000500  loss: 0.2505 (0.2733)  loss_classifier: 0.0204 (0.0258)  loss_box_reg: 0.0392 (0.0463)  loss_mask: 0.1666 (0.1979)  loss_objectness: 0.0012 (0.0019)  loss_rpn_box_reg: 0.0008 (0.0014)  time: 0.4741  data: 0.0075  max mem: 1914\n",
            "Epoch: [3]  [320/537]  eta: 0:01:43  lr: 0.000500  loss: 0.2633 (0.2747)  loss_classifier: 0.0198 (0.0260)  loss_box_reg: 0.0376 (0.0464)  loss_mask: 0.1841 (0.1989)  loss_objectness: 0.0005 (0.0019)  loss_rpn_box_reg: 0.0008 (0.0014)  time: 0.4723  data: 0.0076  max mem: 1914\n",
            "Epoch: [3]  [330/537]  eta: 0:01:38  lr: 0.000500  loss: 0.2416 (0.2741)  loss_classifier: 0.0198 (0.0260)  loss_box_reg: 0.0347 (0.0461)  loss_mask: 0.1841 (0.1986)  loss_objectness: 0.0005 (0.0019)  loss_rpn_box_reg: 0.0007 (0.0014)  time: 0.4735  data: 0.0078  max mem: 1914\n",
            "Epoch: [3]  [340/537]  eta: 0:01:33  lr: 0.000500  loss: 0.2496 (0.2754)  loss_classifier: 0.0235 (0.0260)  loss_box_reg: 0.0426 (0.0463)  loss_mask: 0.1751 (0.1998)  loss_objectness: 0.0006 (0.0019)  loss_rpn_box_reg: 0.0005 (0.0014)  time: 0.4764  data: 0.0077  max mem: 1914\n",
            "Epoch: [3]  [350/537]  eta: 0:01:29  lr: 0.000500  loss: 0.2623 (0.2762)  loss_classifier: 0.0251 (0.0263)  loss_box_reg: 0.0560 (0.0466)  loss_mask: 0.1896 (0.2000)  loss_objectness: 0.0006 (0.0019)  loss_rpn_box_reg: 0.0006 (0.0014)  time: 0.4738  data: 0.0077  max mem: 1914\n",
            "Epoch: [3]  [360/537]  eta: 0:01:24  lr: 0.000500  loss: 0.2648 (0.2763)  loss_classifier: 0.0254 (0.0264)  loss_box_reg: 0.0486 (0.0467)  loss_mask: 0.1820 (0.2000)  loss_objectness: 0.0007 (0.0019)  loss_rpn_box_reg: 0.0007 (0.0014)  time: 0.4726  data: 0.0077  max mem: 1914\n",
            "Epoch: [3]  [370/537]  eta: 0:01:19  lr: 0.000500  loss: 0.2352 (0.2759)  loss_classifier: 0.0221 (0.0264)  loss_box_reg: 0.0426 (0.0466)  loss_mask: 0.1820 (0.1996)  loss_objectness: 0.0004 (0.0019)  loss_rpn_box_reg: 0.0006 (0.0014)  time: 0.4746  data: 0.0076  max mem: 1914\n",
            "Epoch: [3]  [380/537]  eta: 0:01:14  lr: 0.000500  loss: 0.2352 (0.2757)  loss_classifier: 0.0221 (0.0265)  loss_box_reg: 0.0426 (0.0467)  loss_mask: 0.1650 (0.1993)  loss_objectness: 0.0007 (0.0019)  loss_rpn_box_reg: 0.0008 (0.0014)  time: 0.4758  data: 0.0080  max mem: 1914\n",
            "Epoch: [3]  [390/537]  eta: 0:01:10  lr: 0.000500  loss: 0.2595 (0.2766)  loss_classifier: 0.0252 (0.0266)  loss_box_reg: 0.0490 (0.0467)  loss_mask: 0.1729 (0.2000)  loss_objectness: 0.0009 (0.0019)  loss_rpn_box_reg: 0.0011 (0.0014)  time: 0.4764  data: 0.0079  max mem: 1914\n",
            "Epoch: [3]  [400/537]  eta: 0:01:05  lr: 0.000500  loss: 0.2658 (0.2769)  loss_classifier: 0.0264 (0.0267)  loss_box_reg: 0.0475 (0.0469)  loss_mask: 0.1979 (0.2000)  loss_objectness: 0.0009 (0.0019)  loss_rpn_box_reg: 0.0013 (0.0014)  time: 0.4747  data: 0.0080  max mem: 1914\n",
            "Epoch: [3]  [410/537]  eta: 0:01:00  lr: 0.000500  loss: 0.2559 (0.2766)  loss_classifier: 0.0192 (0.0266)  loss_box_reg: 0.0394 (0.0467)  loss_mask: 0.1777 (0.2001)  loss_objectness: 0.0007 (0.0019)  loss_rpn_box_reg: 0.0009 (0.0014)  time: 0.4765  data: 0.0082  max mem: 1914\n",
            "Epoch: [3]  [420/537]  eta: 0:00:55  lr: 0.000500  loss: 0.2249 (0.2761)  loss_classifier: 0.0176 (0.0267)  loss_box_reg: 0.0398 (0.0469)  loss_mask: 0.1662 (0.1993)  loss_objectness: 0.0004 (0.0019)  loss_rpn_box_reg: 0.0005 (0.0013)  time: 0.4793  data: 0.0076  max mem: 1914\n",
            "Epoch: [3]  [430/537]  eta: 0:00:50  lr: 0.000500  loss: 0.1874 (0.2747)  loss_classifier: 0.0150 (0.0266)  loss_box_reg: 0.0420 (0.0466)  loss_mask: 0.1340 (0.1984)  loss_objectness: 0.0003 (0.0019)  loss_rpn_box_reg: 0.0004 (0.0013)  time: 0.4786  data: 0.0076  max mem: 1914\n",
            "Epoch: [3]  [440/537]  eta: 0:00:46  lr: 0.000500  loss: 0.2079 (0.2745)  loss_classifier: 0.0152 (0.0267)  loss_box_reg: 0.0302 (0.0465)  loss_mask: 0.1449 (0.1981)  loss_objectness: 0.0005 (0.0019)  loss_rpn_box_reg: 0.0004 (0.0013)  time: 0.4794  data: 0.0078  max mem: 1914\n",
            "Epoch: [3]  [450/537]  eta: 0:00:41  lr: 0.000500  loss: 0.2542 (0.2752)  loss_classifier: 0.0224 (0.0267)  loss_box_reg: 0.0491 (0.0468)  loss_mask: 0.1707 (0.1984)  loss_objectness: 0.0009 (0.0019)  loss_rpn_box_reg: 0.0006 (0.0013)  time: 0.4786  data: 0.0077  max mem: 1914\n",
            "Epoch: [3]  [460/537]  eta: 0:00:36  lr: 0.000500  loss: 0.2755 (0.2752)  loss_classifier: 0.0233 (0.0268)  loss_box_reg: 0.0523 (0.0469)  loss_mask: 0.1893 (0.1984)  loss_objectness: 0.0006 (0.0019)  loss_rpn_box_reg: 0.0008 (0.0013)  time: 0.4770  data: 0.0077  max mem: 1914\n",
            "Epoch: [3]  [470/537]  eta: 0:00:31  lr: 0.000500  loss: 0.2434 (0.2745)  loss_classifier: 0.0233 (0.0268)  loss_box_reg: 0.0422 (0.0468)  loss_mask: 0.1796 (0.1978)  loss_objectness: 0.0008 (0.0019)  loss_rpn_box_reg: 0.0008 (0.0013)  time: 0.4757  data: 0.0077  max mem: 1914\n",
            "Epoch: [3]  [480/537]  eta: 0:00:27  lr: 0.000500  loss: 0.2298 (0.2742)  loss_classifier: 0.0204 (0.0267)  loss_box_reg: 0.0360 (0.0467)  loss_mask: 0.1728 (0.1977)  loss_objectness: 0.0008 (0.0018)  loss_rpn_box_reg: 0.0006 (0.0013)  time: 0.4760  data: 0.0076  max mem: 1914\n",
            "Epoch: [3]  [490/537]  eta: 0:00:22  lr: 0.000500  loss: 0.2289 (0.2743)  loss_classifier: 0.0197 (0.0269)  loss_box_reg: 0.0360 (0.0467)  loss_mask: 0.1661 (0.1974)  loss_objectness: 0.0006 (0.0019)  loss_rpn_box_reg: 0.0007 (0.0013)  time: 0.4776  data: 0.0077  max mem: 1914\n",
            "Epoch: [3]  [500/537]  eta: 0:00:17  lr: 0.000500  loss: 0.2388 (0.2741)  loss_classifier: 0.0205 (0.0269)  loss_box_reg: 0.0422 (0.0468)  loss_mask: 0.1661 (0.1973)  loss_objectness: 0.0005 (0.0019)  loss_rpn_box_reg: 0.0011 (0.0013)  time: 0.4789  data: 0.0080  max mem: 1914\n",
            "Epoch: [3]  [510/537]  eta: 0:00:12  lr: 0.000500  loss: 0.2704 (0.2746)  loss_classifier: 0.0213 (0.0268)  loss_box_reg: 0.0374 (0.0467)  loss_mask: 0.1977 (0.1980)  loss_objectness: 0.0008 (0.0019)  loss_rpn_box_reg: 0.0009 (0.0013)  time: 0.4769  data: 0.0081  max mem: 1914\n",
            "Epoch: [3]  [520/537]  eta: 0:00:08  lr: 0.000500  loss: 0.2667 (0.2742)  loss_classifier: 0.0210 (0.0267)  loss_box_reg: 0.0374 (0.0466)  loss_mask: 0.1794 (0.1978)  loss_objectness: 0.0008 (0.0019)  loss_rpn_box_reg: 0.0006 (0.0013)  time: 0.4723  data: 0.0079  max mem: 1914\n",
            "Epoch: [3]  [530/537]  eta: 0:00:03  lr: 0.000500  loss: 0.2654 (0.2745)  loss_classifier: 0.0211 (0.0266)  loss_box_reg: 0.0508 (0.0466)  loss_mask: 0.1794 (0.1981)  loss_objectness: 0.0010 (0.0019)  loss_rpn_box_reg: 0.0008 (0.0013)  time: 0.4739  data: 0.0078  max mem: 1914\n",
            "Epoch: [3]  [536/537]  eta: 0:00:00  lr: 0.000500  loss: 0.2654 (0.2745)  loss_classifier: 0.0210 (0.0265)  loss_box_reg: 0.0437 (0.0466)  loss_mask: 0.1925 (0.1983)  loss_objectness: 0.0009 (0.0019)  loss_rpn_box_reg: 0.0006 (0.0013)  time: 0.4635  data: 0.0074  max mem: 1914\n",
            "Epoch: [3] Total time: 0:04:15 (0.4764 s / it)\n",
            "creating index...\n",
            "index created!\n",
            "Test:  [  0/300]  eta: 0:01:37  model_time: 0.1352 (0.1352)  evaluator_time: 0.0035 (0.0035)  time: 0.3262  data: 0.1865  max mem: 1914\n",
            "Test:  [100/300]  eta: 0:00:19  model_time: 0.0869 (0.0884)  evaluator_time: 0.0022 (0.0029)  time: 0.0956  data: 0.0044  max mem: 1914\n",
            "Test:  [200/300]  eta: 0:00:09  model_time: 0.0868 (0.0880)  evaluator_time: 0.0024 (0.0028)  time: 0.0952  data: 0.0042  max mem: 1914\n",
            "Test:  [299/300]  eta: 0:00:00  model_time: 0.0872 (0.0880)  evaluator_time: 0.0026 (0.0029)  time: 0.0963  data: 0.0038  max mem: 1914\n",
            "Test: Total time: 0:00:29 (0.0970 s / it)\n",
            "Averaged stats: model_time: 0.0872 (0.0880)  evaluator_time: 0.0026 (0.0029)\n",
            "Accumulating evaluation results...\n",
            "DONE (t=0.04s).\n",
            "Accumulating evaluation results...\n",
            "DONE (t=0.03s).\n",
            "IoU metric: bbox\n",
            " Average Precision  (AP) @[ IoU=0.50:0.95 | area=   all | maxDets=100 ] = 0.664\n",
            " Average Precision  (AP) @[ IoU=0.50      | area=   all | maxDets=100 ] = 0.905\n",
            " Average Precision  (AP) @[ IoU=0.75      | area=   all | maxDets=100 ] = 0.763\n",
            " Average Precision  (AP) @[ IoU=0.50:0.95 | area= small | maxDets=100 ] = 0.388\n",
            " Average Precision  (AP) @[ IoU=0.50:0.95 | area=medium | maxDets=100 ] = 0.725\n",
            " Average Precision  (AP) @[ IoU=0.50:0.95 | area= large | maxDets=100 ] = 0.788\n",
            " Average Recall     (AR) @[ IoU=0.50:0.95 | area=   all | maxDets=  1 ] = 0.696\n",
            " Average Recall     (AR) @[ IoU=0.50:0.95 | area=   all | maxDets= 10 ] = 0.719\n",
            " Average Recall     (AR) @[ IoU=0.50:0.95 | area=   all | maxDets=100 ] = 0.720\n",
            " Average Recall     (AR) @[ IoU=0.50:0.95 | area= small | maxDets=100 ] = 0.465\n",
            " Average Recall     (AR) @[ IoU=0.50:0.95 | area=medium | maxDets=100 ] = 0.782\n",
            " Average Recall     (AR) @[ IoU=0.50:0.95 | area= large | maxDets=100 ] = 0.818\n",
            "IoU metric: segm\n",
            " Average Precision  (AP) @[ IoU=0.50:0.95 | area=   all | maxDets=100 ] = 0.602\n",
            " Average Precision  (AP) @[ IoU=0.50      | area=   all | maxDets=100 ] = 0.888\n",
            " Average Precision  (AP) @[ IoU=0.75      | area=   all | maxDets=100 ] = 0.682\n",
            " Average Precision  (AP) @[ IoU=0.50:0.95 | area= small | maxDets=100 ] = 0.273\n",
            " Average Precision  (AP) @[ IoU=0.50:0.95 | area=medium | maxDets=100 ] = 0.670\n",
            " Average Precision  (AP) @[ IoU=0.50:0.95 | area= large | maxDets=100 ] = 0.807\n",
            " Average Recall     (AR) @[ IoU=0.50:0.95 | area=   all | maxDets=  1 ] = 0.639\n",
            " Average Recall     (AR) @[ IoU=0.50:0.95 | area=   all | maxDets= 10 ] = 0.654\n",
            " Average Recall     (AR) @[ IoU=0.50:0.95 | area=   all | maxDets=100 ] = 0.655\n",
            " Average Recall     (AR) @[ IoU=0.50:0.95 | area= small | maxDets=100 ] = 0.410\n",
            " Average Recall     (AR) @[ IoU=0.50:0.95 | area=medium | maxDets=100 ] = 0.711\n",
            " Average Recall     (AR) @[ IoU=0.50:0.95 | area= large | maxDets=100 ] = 0.809\n",
            "Epoch: [4]  [  0/537]  eta: 0:06:14  lr: 0.000500  loss: 0.4301 (0.4301)  loss_classifier: 0.0208 (0.0208)  loss_box_reg: 0.0803 (0.0803)  loss_mask: 0.3274 (0.3274)  loss_objectness: 0.0005 (0.0005)  loss_rpn_box_reg: 0.0011 (0.0011)  time: 0.6968  data: 0.2158  max mem: 1914\n"
          ]
        },
        {
          "output_type": "error",
          "ename": "KeyboardInterrupt",
          "evalue": "ignored",
          "traceback": [
            "\u001b[0;31m---------------------------------------------------------------------------\u001b[0m",
            "\u001b[0;31mKeyboardInterrupt\u001b[0m                         Traceback (most recent call last)",
            "\u001b[0;32m<ipython-input-29-156f4e6bbfba>\u001b[0m in \u001b[0;36m<module>\u001b[0;34m()\u001b[0m\n\u001b[1;32m      6\u001b[0m \u001b[0;32mfor\u001b[0m \u001b[0mepoch\u001b[0m \u001b[0;32min\u001b[0m \u001b[0mrange\u001b[0m\u001b[0;34m(\u001b[0m\u001b[0mnum_epochs\u001b[0m\u001b[0;34m)\u001b[0m\u001b[0;34m:\u001b[0m\u001b[0;34m\u001b[0m\u001b[0;34m\u001b[0m\u001b[0m\n\u001b[1;32m      7\u001b[0m     \u001b[0;31m# train for one epoch, printing every 10 iterations\u001b[0m\u001b[0;34m\u001b[0m\u001b[0;34m\u001b[0m\u001b[0;34m\u001b[0m\u001b[0m\n\u001b[0;32m----> 8\u001b[0;31m     \u001b[0mtrain_one_epoch\u001b[0m\u001b[0;34m(\u001b[0m\u001b[0mmodel\u001b[0m\u001b[0;34m,\u001b[0m \u001b[0moptimizer\u001b[0m\u001b[0;34m,\u001b[0m \u001b[0mdata_loader\u001b[0m\u001b[0;34m,\u001b[0m \u001b[0mdevice\u001b[0m\u001b[0;34m,\u001b[0m \u001b[0mepoch\u001b[0m\u001b[0;34m,\u001b[0m \u001b[0mprint_freq\u001b[0m\u001b[0;34m=\u001b[0m\u001b[0;36m10\u001b[0m\u001b[0;34m)\u001b[0m\u001b[0;34m\u001b[0m\u001b[0;34m\u001b[0m\u001b[0m\n\u001b[0m\u001b[1;32m      9\u001b[0m     \u001b[0;31m# update the learning rate\u001b[0m\u001b[0;34m\u001b[0m\u001b[0;34m\u001b[0m\u001b[0;34m\u001b[0m\u001b[0m\n\u001b[1;32m     10\u001b[0m     \u001b[0mlr_scheduler\u001b[0m\u001b[0;34m.\u001b[0m\u001b[0mstep\u001b[0m\u001b[0;34m(\u001b[0m\u001b[0;34m)\u001b[0m\u001b[0;34m\u001b[0m\u001b[0;34m\u001b[0m\u001b[0m\n",
            "\u001b[0;32m/content/engine.py\u001b[0m in \u001b[0;36mtrain_one_epoch\u001b[0;34m(model, optimizer, data_loader, device, epoch, print_freq)\u001b[0m\n\u001b[1;32m     28\u001b[0m         \u001b[0mtargets\u001b[0m \u001b[0;34m=\u001b[0m \u001b[0;34m[\u001b[0m\u001b[0;34m{\u001b[0m\u001b[0mk\u001b[0m\u001b[0;34m:\u001b[0m \u001b[0mv\u001b[0m\u001b[0;34m.\u001b[0m\u001b[0mto\u001b[0m\u001b[0;34m(\u001b[0m\u001b[0mdevice\u001b[0m\u001b[0;34m)\u001b[0m \u001b[0;32mfor\u001b[0m \u001b[0mk\u001b[0m\u001b[0;34m,\u001b[0m \u001b[0mv\u001b[0m \u001b[0;32min\u001b[0m \u001b[0mt\u001b[0m\u001b[0;34m.\u001b[0m\u001b[0mitems\u001b[0m\u001b[0;34m(\u001b[0m\u001b[0;34m)\u001b[0m\u001b[0;34m}\u001b[0m \u001b[0;32mfor\u001b[0m \u001b[0mt\u001b[0m \u001b[0;32min\u001b[0m \u001b[0mtargets\u001b[0m\u001b[0;34m]\u001b[0m\u001b[0;34m\u001b[0m\u001b[0;34m\u001b[0m\u001b[0m\n\u001b[1;32m     29\u001b[0m \u001b[0;34m\u001b[0m\u001b[0m\n\u001b[0;32m---> 30\u001b[0;31m         \u001b[0mloss_dict\u001b[0m \u001b[0;34m=\u001b[0m \u001b[0mmodel\u001b[0m\u001b[0;34m(\u001b[0m\u001b[0mimages\u001b[0m\u001b[0;34m,\u001b[0m \u001b[0mtargets\u001b[0m\u001b[0;34m)\u001b[0m\u001b[0;34m\u001b[0m\u001b[0;34m\u001b[0m\u001b[0m\n\u001b[0m\u001b[1;32m     31\u001b[0m \u001b[0;34m\u001b[0m\u001b[0m\n\u001b[1;32m     32\u001b[0m         \u001b[0mlosses\u001b[0m \u001b[0;34m=\u001b[0m \u001b[0msum\u001b[0m\u001b[0;34m(\u001b[0m\u001b[0mloss\u001b[0m \u001b[0;32mfor\u001b[0m \u001b[0mloss\u001b[0m \u001b[0;32min\u001b[0m \u001b[0mloss_dict\u001b[0m\u001b[0;34m.\u001b[0m\u001b[0mvalues\u001b[0m\u001b[0;34m(\u001b[0m\u001b[0;34m)\u001b[0m\u001b[0;34m)\u001b[0m\u001b[0;34m\u001b[0m\u001b[0;34m\u001b[0m\u001b[0m\n",
            "\u001b[0;32m/usr/local/lib/python3.7/dist-packages/torch/nn/modules/module.py\u001b[0m in \u001b[0;36m_call_impl\u001b[0;34m(self, *input, **kwargs)\u001b[0m\n\u001b[1;32m   1108\u001b[0m         if not (self._backward_hooks or self._forward_hooks or self._forward_pre_hooks or _global_backward_hooks\n\u001b[1;32m   1109\u001b[0m                 or _global_forward_hooks or _global_forward_pre_hooks):\n\u001b[0;32m-> 1110\u001b[0;31m             \u001b[0;32mreturn\u001b[0m \u001b[0mforward_call\u001b[0m\u001b[0;34m(\u001b[0m\u001b[0;34m*\u001b[0m\u001b[0minput\u001b[0m\u001b[0;34m,\u001b[0m \u001b[0;34m**\u001b[0m\u001b[0mkwargs\u001b[0m\u001b[0;34m)\u001b[0m\u001b[0;34m\u001b[0m\u001b[0;34m\u001b[0m\u001b[0m\n\u001b[0m\u001b[1;32m   1111\u001b[0m         \u001b[0;31m# Do not call functions when jit is used\u001b[0m\u001b[0;34m\u001b[0m\u001b[0;34m\u001b[0m\u001b[0;34m\u001b[0m\u001b[0m\n\u001b[1;32m   1112\u001b[0m         \u001b[0mfull_backward_hooks\u001b[0m\u001b[0;34m,\u001b[0m \u001b[0mnon_full_backward_hooks\u001b[0m \u001b[0;34m=\u001b[0m \u001b[0;34m[\u001b[0m\u001b[0;34m]\u001b[0m\u001b[0;34m,\u001b[0m \u001b[0;34m[\u001b[0m\u001b[0;34m]\u001b[0m\u001b[0;34m\u001b[0m\u001b[0;34m\u001b[0m\u001b[0m\n",
            "\u001b[0;32m/usr/local/lib/python3.7/dist-packages/torchvision/models/detection/generalized_rcnn.py\u001b[0m in \u001b[0;36mforward\u001b[0;34m(self, images, targets)\u001b[0m\n\u001b[1;32m     96\u001b[0m         \u001b[0;32mif\u001b[0m \u001b[0misinstance\u001b[0m\u001b[0;34m(\u001b[0m\u001b[0mfeatures\u001b[0m\u001b[0;34m,\u001b[0m \u001b[0mtorch\u001b[0m\u001b[0;34m.\u001b[0m\u001b[0mTensor\u001b[0m\u001b[0;34m)\u001b[0m\u001b[0;34m:\u001b[0m\u001b[0;34m\u001b[0m\u001b[0;34m\u001b[0m\u001b[0m\n\u001b[1;32m     97\u001b[0m             \u001b[0mfeatures\u001b[0m \u001b[0;34m=\u001b[0m \u001b[0mOrderedDict\u001b[0m\u001b[0;34m(\u001b[0m\u001b[0;34m[\u001b[0m\u001b[0;34m(\u001b[0m\u001b[0;34m\"0\"\u001b[0m\u001b[0;34m,\u001b[0m \u001b[0mfeatures\u001b[0m\u001b[0;34m)\u001b[0m\u001b[0;34m]\u001b[0m\u001b[0;34m)\u001b[0m\u001b[0;34m\u001b[0m\u001b[0;34m\u001b[0m\u001b[0m\n\u001b[0;32m---> 98\u001b[0;31m         \u001b[0mproposals\u001b[0m\u001b[0;34m,\u001b[0m \u001b[0mproposal_losses\u001b[0m \u001b[0;34m=\u001b[0m \u001b[0mself\u001b[0m\u001b[0;34m.\u001b[0m\u001b[0mrpn\u001b[0m\u001b[0;34m(\u001b[0m\u001b[0mimages\u001b[0m\u001b[0;34m,\u001b[0m \u001b[0mfeatures\u001b[0m\u001b[0;34m,\u001b[0m \u001b[0mtargets\u001b[0m\u001b[0;34m)\u001b[0m\u001b[0;34m\u001b[0m\u001b[0;34m\u001b[0m\u001b[0m\n\u001b[0m\u001b[1;32m     99\u001b[0m         \u001b[0mdetections\u001b[0m\u001b[0;34m,\u001b[0m \u001b[0mdetector_losses\u001b[0m \u001b[0;34m=\u001b[0m \u001b[0mself\u001b[0m\u001b[0;34m.\u001b[0m\u001b[0mroi_heads\u001b[0m\u001b[0;34m(\u001b[0m\u001b[0mfeatures\u001b[0m\u001b[0;34m,\u001b[0m \u001b[0mproposals\u001b[0m\u001b[0;34m,\u001b[0m \u001b[0mimages\u001b[0m\u001b[0;34m.\u001b[0m\u001b[0mimage_sizes\u001b[0m\u001b[0;34m,\u001b[0m \u001b[0mtargets\u001b[0m\u001b[0;34m)\u001b[0m\u001b[0;34m\u001b[0m\u001b[0;34m\u001b[0m\u001b[0m\n\u001b[1;32m    100\u001b[0m         \u001b[0mdetections\u001b[0m \u001b[0;34m=\u001b[0m \u001b[0mself\u001b[0m\u001b[0;34m.\u001b[0m\u001b[0mtransform\u001b[0m\u001b[0;34m.\u001b[0m\u001b[0mpostprocess\u001b[0m\u001b[0;34m(\u001b[0m\u001b[0mdetections\u001b[0m\u001b[0;34m,\u001b[0m \u001b[0mimages\u001b[0m\u001b[0;34m.\u001b[0m\u001b[0mimage_sizes\u001b[0m\u001b[0;34m,\u001b[0m \u001b[0moriginal_image_sizes\u001b[0m\u001b[0;34m)\u001b[0m  \u001b[0;31m# type: ignore[operator]\u001b[0m\u001b[0;34m\u001b[0m\u001b[0;34m\u001b[0m\u001b[0m\n",
            "\u001b[0;32m/usr/local/lib/python3.7/dist-packages/torch/nn/modules/module.py\u001b[0m in \u001b[0;36m_call_impl\u001b[0;34m(self, *input, **kwargs)\u001b[0m\n\u001b[1;32m   1108\u001b[0m         if not (self._backward_hooks or self._forward_hooks or self._forward_pre_hooks or _global_backward_hooks\n\u001b[1;32m   1109\u001b[0m                 or _global_forward_hooks or _global_forward_pre_hooks):\n\u001b[0;32m-> 1110\u001b[0;31m             \u001b[0;32mreturn\u001b[0m \u001b[0mforward_call\u001b[0m\u001b[0;34m(\u001b[0m\u001b[0;34m*\u001b[0m\u001b[0minput\u001b[0m\u001b[0;34m,\u001b[0m \u001b[0;34m**\u001b[0m\u001b[0mkwargs\u001b[0m\u001b[0;34m)\u001b[0m\u001b[0;34m\u001b[0m\u001b[0;34m\u001b[0m\u001b[0m\n\u001b[0m\u001b[1;32m   1111\u001b[0m         \u001b[0;31m# Do not call functions when jit is used\u001b[0m\u001b[0;34m\u001b[0m\u001b[0;34m\u001b[0m\u001b[0;34m\u001b[0m\u001b[0m\n\u001b[1;32m   1112\u001b[0m         \u001b[0mfull_backward_hooks\u001b[0m\u001b[0;34m,\u001b[0m \u001b[0mnon_full_backward_hooks\u001b[0m \u001b[0;34m=\u001b[0m \u001b[0;34m[\u001b[0m\u001b[0;34m]\u001b[0m\u001b[0;34m,\u001b[0m \u001b[0;34m[\u001b[0m\u001b[0;34m]\u001b[0m\u001b[0;34m\u001b[0m\u001b[0;34m\u001b[0m\u001b[0m\n",
            "\u001b[0;32m/usr/local/lib/python3.7/dist-packages/torchvision/models/detection/rpn.py\u001b[0m in \u001b[0;36mforward\u001b[0;34m(self, images, features, targets)\u001b[0m\n\u001b[1;32m    356\u001b[0m         \u001b[0;32mif\u001b[0m \u001b[0mself\u001b[0m\u001b[0;34m.\u001b[0m\u001b[0mtraining\u001b[0m\u001b[0;34m:\u001b[0m\u001b[0;34m\u001b[0m\u001b[0;34m\u001b[0m\u001b[0m\n\u001b[1;32m    357\u001b[0m             \u001b[0;32massert\u001b[0m \u001b[0mtargets\u001b[0m \u001b[0;32mis\u001b[0m \u001b[0;32mnot\u001b[0m \u001b[0;32mNone\u001b[0m\u001b[0;34m\u001b[0m\u001b[0;34m\u001b[0m\u001b[0m\n\u001b[0;32m--> 358\u001b[0;31m             \u001b[0mlabels\u001b[0m\u001b[0;34m,\u001b[0m \u001b[0mmatched_gt_boxes\u001b[0m \u001b[0;34m=\u001b[0m \u001b[0mself\u001b[0m\u001b[0;34m.\u001b[0m\u001b[0massign_targets_to_anchors\u001b[0m\u001b[0;34m(\u001b[0m\u001b[0manchors\u001b[0m\u001b[0;34m,\u001b[0m \u001b[0mtargets\u001b[0m\u001b[0;34m)\u001b[0m\u001b[0;34m\u001b[0m\u001b[0;34m\u001b[0m\u001b[0m\n\u001b[0m\u001b[1;32m    359\u001b[0m             \u001b[0mregression_targets\u001b[0m \u001b[0;34m=\u001b[0m \u001b[0mself\u001b[0m\u001b[0;34m.\u001b[0m\u001b[0mbox_coder\u001b[0m\u001b[0;34m.\u001b[0m\u001b[0mencode\u001b[0m\u001b[0;34m(\u001b[0m\u001b[0mmatched_gt_boxes\u001b[0m\u001b[0;34m,\u001b[0m \u001b[0manchors\u001b[0m\u001b[0;34m)\u001b[0m\u001b[0;34m\u001b[0m\u001b[0;34m\u001b[0m\u001b[0m\n\u001b[1;32m    360\u001b[0m             loss_objectness, loss_rpn_box_reg = self.compute_loss(\n",
            "\u001b[0;32m/usr/local/lib/python3.7/dist-packages/torchvision/models/detection/rpn.py\u001b[0m in \u001b[0;36massign_targets_to_anchors\u001b[0;34m(self, anchors, targets)\u001b[0m\n\u001b[1;32m    181\u001b[0m             \u001b[0;32melse\u001b[0m\u001b[0;34m:\u001b[0m\u001b[0;34m\u001b[0m\u001b[0;34m\u001b[0m\u001b[0m\n\u001b[1;32m    182\u001b[0m                 \u001b[0mmatch_quality_matrix\u001b[0m \u001b[0;34m=\u001b[0m \u001b[0mself\u001b[0m\u001b[0;34m.\u001b[0m\u001b[0mbox_similarity\u001b[0m\u001b[0;34m(\u001b[0m\u001b[0mgt_boxes\u001b[0m\u001b[0;34m,\u001b[0m \u001b[0manchors_per_image\u001b[0m\u001b[0;34m)\u001b[0m\u001b[0;34m\u001b[0m\u001b[0;34m\u001b[0m\u001b[0m\n\u001b[0;32m--> 183\u001b[0;31m                 \u001b[0mmatched_idxs\u001b[0m \u001b[0;34m=\u001b[0m \u001b[0mself\u001b[0m\u001b[0;34m.\u001b[0m\u001b[0mproposal_matcher\u001b[0m\u001b[0;34m(\u001b[0m\u001b[0mmatch_quality_matrix\u001b[0m\u001b[0;34m)\u001b[0m\u001b[0;34m\u001b[0m\u001b[0;34m\u001b[0m\u001b[0m\n\u001b[0m\u001b[1;32m    184\u001b[0m                 \u001b[0;31m# get the targets corresponding GT for each proposal\u001b[0m\u001b[0;34m\u001b[0m\u001b[0;34m\u001b[0m\u001b[0;34m\u001b[0m\u001b[0m\n\u001b[1;32m    185\u001b[0m                 \u001b[0;31m# NB: need to clamp the indices because we can have a single\u001b[0m\u001b[0;34m\u001b[0m\u001b[0;34m\u001b[0m\u001b[0;34m\u001b[0m\u001b[0m\n",
            "\u001b[0;32m/usr/local/lib/python3.7/dist-packages/torchvision/models/detection/_utils.py\u001b[0m in \u001b[0;36m__call__\u001b[0;34m(self, match_quality_matrix)\u001b[0m\n\u001b[1;32m    361\u001b[0m         \u001b[0mmatched_vals\u001b[0m\u001b[0;34m,\u001b[0m \u001b[0mmatches\u001b[0m \u001b[0;34m=\u001b[0m \u001b[0mmatch_quality_matrix\u001b[0m\u001b[0;34m.\u001b[0m\u001b[0mmax\u001b[0m\u001b[0;34m(\u001b[0m\u001b[0mdim\u001b[0m\u001b[0;34m=\u001b[0m\u001b[0;36m0\u001b[0m\u001b[0;34m)\u001b[0m\u001b[0;34m\u001b[0m\u001b[0;34m\u001b[0m\u001b[0m\n\u001b[1;32m    362\u001b[0m         \u001b[0;32mif\u001b[0m \u001b[0mself\u001b[0m\u001b[0;34m.\u001b[0m\u001b[0mallow_low_quality_matches\u001b[0m\u001b[0;34m:\u001b[0m\u001b[0;34m\u001b[0m\u001b[0;34m\u001b[0m\u001b[0m\n\u001b[0;32m--> 363\u001b[0;31m             \u001b[0mall_matches\u001b[0m \u001b[0;34m=\u001b[0m \u001b[0mmatches\u001b[0m\u001b[0;34m.\u001b[0m\u001b[0mclone\u001b[0m\u001b[0;34m(\u001b[0m\u001b[0;34m)\u001b[0m\u001b[0;34m\u001b[0m\u001b[0;34m\u001b[0m\u001b[0m\n\u001b[0m\u001b[1;32m    364\u001b[0m         \u001b[0;32melse\u001b[0m\u001b[0;34m:\u001b[0m\u001b[0;34m\u001b[0m\u001b[0;34m\u001b[0m\u001b[0m\n\u001b[1;32m    365\u001b[0m             \u001b[0mall_matches\u001b[0m \u001b[0;34m=\u001b[0m \u001b[0;32mNone\u001b[0m  \u001b[0;31m# type: ignore[assignment]\u001b[0m\u001b[0;34m\u001b[0m\u001b[0;34m\u001b[0m\u001b[0m\n",
            "\u001b[0;31mKeyboardInterrupt\u001b[0m: "
          ]
        }
      ]
    },
    {
      "cell_type": "markdown",
      "metadata": {
        "id": "Z6mYGFLxkO8F"
      },
      "source": [
        "Посмотрим на примеры предсказаний"
      ]
    },
    {
      "cell_type": "code",
      "metadata": {
        "id": "YHwIdxH76uPj"
      },
      "source": [
        "# pick one image from the test set\n",
        "img, _ = dataset_test[0]\n",
        "# put the model in evaluation mode\n",
        "model.eval()\n",
        "with torch.no_grad():\n",
        "    prediction = model([img.to(device)])"
      ],
      "execution_count": 30,
      "outputs": []
    },
    {
      "cell_type": "code",
      "source": [
        "torch.save(model.state_dict(), 'segment.pth')"
      ],
      "metadata": {
        "id": "A1gmVXTIr843"
      },
      "execution_count": 31,
      "outputs": []
    },
    {
      "cell_type": "code",
      "source": [
        "prediction[0]['masks'][0][0].shape"
      ],
      "metadata": {
        "id": "DaKlCKbSi0N2",
        "outputId": "e9cb6dab-5a78-4114-d70e-7797cc1624f2",
        "colab": {
          "base_uri": "https://localhost:8080/"
        }
      },
      "execution_count": 32,
      "outputs": [
        {
          "output_type": "execute_result",
          "data": {
            "text/plain": [
              "torch.Size([256, 256])"
            ]
          },
          "metadata": {},
          "execution_count": 32
        }
      ]
    },
    {
      "cell_type": "markdown",
      "source": [
        "Вывод модели представляет из себя позицию объекта на фотографии, его класс и маску, а также уверенность модели"
      ],
      "metadata": {
        "id": "KsfVgKAqi2-_"
      }
    },
    {
      "cell_type": "markdown",
      "metadata": {
        "id": "RwT21rzotFbH"
      },
      "source": [
        "Посмотрим на пример"
      ]
    },
    {
      "cell_type": "code",
      "metadata": {
        "id": "bpqN9t1u7B2J",
        "colab": {
          "base_uri": "https://localhost:8080/",
          "height": 273
        },
        "outputId": "93d563bc-2e98-414c-fbdf-b95ed5be0c16"
      },
      "source": [
        "Image.fromarray(img.mul(255).permute(1, 2, 0).byte().numpy())"
      ],
      "execution_count": 33,
      "outputs": [
        {
          "output_type": "execute_result",
          "data": {
            "text/plain": [
              "<PIL.Image.Image image mode=RGB size=256x256 at 0x7FDD006CC4D0>"
            ],
            "image/png": "[encoded data removed]"
          },
          "metadata": {},
          "execution_count": 33
        }
      ]
    },
    {
      "cell_type": "markdown",
      "metadata": {
        "id": "M58J3O9OtT1G"
      },
      "source": [
        "Посмотрим на предсказанную маску"
      ]
    },
    {
      "cell_type": "code",
      "metadata": {
        "id": "5v5S3bm07SO1",
        "colab": {
          "base_uri": "https://localhost:8080/",
          "height": 273
        },
        "outputId": "64c03e8a-ec10-49ff-c09f-767b273d6867"
      },
      "source": [
        "Image.fromarray(prediction[0]['masks'][0, 0].mul(255).byte().cpu().numpy())"
      ],
      "execution_count": 34,
      "outputs": [
        {
          "output_type": "execute_result",
          "data": {
            "text/plain": [
              "<PIL.Image.Image image mode=L size=256x256 at 0x7FDD03EA3950>"
            ],
            "image/png": "[encoded data removed]"
          },
          "metadata": {},
          "execution_count": 34
        }
      ]
    },
    {
      "cell_type": "code",
      "source": [
        "def get_mask(image_path, model):\n",
        "    model.eval()\n",
        "\n",
        "    img_original = cv2.imread(image_path)\n",
        "    img, _ = get_transform(train=False)(img_original, {})\n",
        "\n",
        "    with torch.no_grad():\n",
        "        prediction = model([img.to(device)])\n",
        "\n",
        "    if len(prediction) == 0 or len(prediction[0]['labels']) == 0:\n",
        "        return np.zeros_like(img_original[:, :, 0])\n",
        "\n",
        "    mask = prediction[0]['masks'][0][0]\n",
        "    mask = mask.mul(255).byte().cpu().numpy()\n",
        "\n",
        "    return mask"
      ],
      "metadata": {
        "id": "Qn-LD2xmifQT"
      },
      "execution_count": 35,
      "outputs": []
    },
    {
      "cell_type": "markdown",
      "source": [
        "## Классификация + сегментация\n",
        "\n",
        "Скачаем другой датасет - Brain Tumor Classification. Там нет выделения опухолей, но есть классы. Будем сегментировать с помощью прошлой сетки и классифицировать одновременно"
      ],
      "metadata": {
        "id": "u_CZI489e__r"
      }
    },
    {
      "cell_type": "code",
      "source": [
        "!kaggle datasets download \"sartajbhuvaji/brain-tumor-classification-mri\""
      ],
      "metadata": {
        "colab": {
          "base_uri": "https://localhost:8080/"
        },
        "id": "bGlvUUL8e8Um",
        "outputId": "8a0587d2-23ad-44cc-9896-26a137f78b1e"
      },
      "execution_count": 36,
      "outputs": [
        {
          "output_type": "stream",
          "name": "stdout",
          "text": [
            "Downloading brain-tumor-classification-mri.zip to /content\n",
            " 82% 71.0M/86.8M [00:00<00:00, 261MB/s]\n",
            "100% 86.8M/86.8M [00:00<00:00, 268MB/s]\n"
          ]
        }
      ]
    },
    {
      "cell_type": "code",
      "source": [
        "!unzip brain-tumor-classification-mri.zip"
      ],
      "metadata": {
        "id": "VmBI_AgshWOu"
      },
      "execution_count": null,
      "outputs": []
    },
    {
      "cell_type": "code",
      "source": [
        "example_img_path = glob('Training/*/*.jpg')[2]\n",
        "example_img = cv2.imread(example_img_path)\n",
        "example_img_mask = get_mask(example_img_path, model)\n",
        "\n",
        "_, axes = plt.subplots(1, 2)\n",
        "axes[0].imshow(example_img)\n",
        "axes[1].imshow(example_img_mask)"
      ],
      "metadata": {
        "colab": {
          "base_uri": "https://localhost:8080/",
          "height": 222
        },
        "id": "DbopP06XjTEa",
        "outputId": "d8416431-c498-4dff-f0f6-4ae21cc2b09f"
      },
      "execution_count": 39,
      "outputs": [
        {
          "output_type": "execute_result",
          "data": {
            "text/plain": [
              "<matplotlib.image.AxesImage at 0x7fdd01272f90>"
            ]
          },
          "metadata": {},
          "execution_count": 39
        },
        {
          "output_type": "display_data",
          "data": {
            "text/plain": [
              "<Figure size 432x288 with 2 Axes>"
            ],
            "image/png": "[encoded data removed]"
          },
          "metadata": {
            "needs_background": "light"
          }
        }
      ]
    },
    {
      "cell_type": "code",
      "source": [
        "from collections import defaultdict\n",
        "from tqdm.notebook import tqdm"
      ],
      "metadata": {
        "id": "Bm8yfveWhlJS"
      },
      "execution_count": 40,
      "outputs": []
    },
    {
      "cell_type": "code",
      "source": [
        "!mkdir classification_masks"
      ],
      "metadata": {
        "id": "Fe5LJ6bniCkH"
      },
      "execution_count": 41,
      "outputs": []
    },
    {
      "cell_type": "code",
      "source": [
        "data = defaultdict(list)\n",
        "\n",
        "for filepath in tqdm(glob('Training/*/*.jpg')):\n",
        "    tumor_class = filepath.split('/')[-2]\n",
        "    image_path = filepath\n",
        "\n",
        "    mask = get_mask(image_path, model)\n",
        "    image_name = os.path.basename(filepath)\n",
        "\n",
        "    mask_path = 'classification_masks/' + image_name\n",
        "    cv2.imwrite(mask_path, mask)\n",
        "\n",
        "    data['mask_path'].append(mask_path)\n",
        "    data['image_path'].append(image_path)\n",
        "    data['tumor_name'].append(tumor_class)\n",
        "\n",
        "df = pd.DataFrame(data)"
      ],
      "metadata": {
        "colab": {
          "base_uri": "https://localhost:8080/",
          "height": 49,
          "referenced_widgets": [
            "a7bc507e17554dedb1a4b166b13f82e8",
            "f5579c33d8df4c198be054bdf9995e7f",
            "b85390621c9c4819aa4965ccee759317",
            "9014aab38cca49e5adab78aa6c95802e",
            "ee4e3e2ac8c848a7bf3e2031f757603c",
            "1f05203cc828473198d0e189f3282819",
            "82511628a2f34bbdbee6646e9e132977",
            "29116ddb3aec4831bf039e94258a8a7a",
            "77a56dd8f999463b84fcf905b4750e52",
            "eacf3d8842af444fa230299ed4fbfb6b",
            "b4b03e19e7754400a8e66cc22e93451f"
          ]
        },
        "id": "skDnuhwBhejv",
        "outputId": "34d9f4e4-ed35-43d8-a431-9046051daee5"
      },
      "execution_count": 43,
      "outputs": [
        {
          "output_type": "display_data",
          "data": {
            "text/plain": [
              "  0%|          | 0/2870 [00:00<?, ?it/s]"
            ],
            "application/vnd.jupyter.widget-view+json": {
              "version_major": 2,
              "version_minor": 0,
              "model_id": "a7bc507e17554dedb1a4b166b13f82e8"
            }
          },
          "metadata": {}
        }
      ]
    },
    {
      "cell_type": "code",
      "source": [
        "from sklearn.preprocessing import LabelEncoder\n",
        "tqdm.pandas()"
      ],
      "metadata": {
        "id": "CQiR65BknPn2"
      },
      "execution_count": 47,
      "outputs": []
    },
    {
      "cell_type": "code",
      "source": [
        "df['tumor_class'] = LabelEncoder().fit_transform(df.tumor_name)"
      ],
      "metadata": {
        "id": "iKSwPB5Jm846"
      },
      "execution_count": 45,
      "outputs": []
    },
    {
      "cell_type": "code",
      "source": [
        "df['has_mask'] = df['mask_path'].progress_apply(lambda x: cv2.imread(x).max() > 0)"
      ],
      "metadata": {
        "colab": {
          "base_uri": "https://localhost:8080/",
          "height": 49,
          "referenced_widgets": [
            "9297eff0d9134c90a1698bd712f9658e",
            "cb23a2b43190402b9e4ec2cabf9d1b2a",
            "12cfc42423804f7a958a5ac560e263a7",
            "9a959763296540e69a6864f7fd7c5c7f",
            "79c7eb7741fa44669b3fe476abaf0d77",
            "09e6d4893eea4d9088a686ed3963f033",
            "e3f808fd6b3341608909774bd63ce4f5",
            "c4465d6fd3d04977873325f5205f0235",
            "82018525355b48aa87096575764912a5",
            "8425a19b72604520888875433e3fccc3",
            "905cbc04113a4fceb14e973737ad8922"
          ]
        },
        "id": "y4FzyJfbto9f",
        "outputId": "0bde3a21-9017-4441-97b3-c7371f8299c7"
      },
      "execution_count": 48,
      "outputs": [
        {
          "output_type": "display_data",
          "data": {
            "text/plain": [
              "  0%|          | 0/2870 [00:00<?, ?it/s]"
            ],
            "application/vnd.jupyter.widget-view+json": {
              "version_major": 2,
              "version_minor": 0,
              "model_id": "9297eff0d9134c90a1698bd712f9658e"
            }
          },
          "metadata": {}
        }
      ]
    },
    {
      "cell_type": "code",
      "source": [
        "df.head()"
      ],
      "metadata": {
        "colab": {
          "base_uri": "https://localhost:8080/",
          "height": 206
        },
        "id": "l9wMALaJnCXA",
        "outputId": "ca77cb8d-b32c-4db3-da2b-e7fa2aff4e89"
      },
      "execution_count": 49,
      "outputs": [
        {
          "output_type": "execute_result",
          "data": {
            "text/plain": [
              "                          mask_path                            image_path  \\\n",
              "0  classification_masks/p (398).jpg  Training/pituitary_tumor/p (398).jpg   \n",
              "1  classification_masks/p (153).jpg  Training/pituitary_tumor/p (153).jpg   \n",
              "2   classification_masks/p (20).jpg   Training/pituitary_tumor/p (20).jpg   \n",
              "3  classification_masks/p (336).jpg  Training/pituitary_tumor/p (336).jpg   \n",
              "4  classification_masks/p (114).jpg  Training/pituitary_tumor/p (114).jpg   \n",
              "\n",
              "        tumor_name  tumor_class  has_mask  \n",
              "0  pituitary_tumor            3      True  \n",
              "1  pituitary_tumor            3      True  \n",
              "2  pituitary_tumor            3      True  \n",
              "3  pituitary_tumor            3      True  \n",
              "4  pituitary_tumor            3      True  "
            ],
            "text/html": [
              "\n",
              "  <div id=\"df-84220704-c760-4cea-ab44-372f3560eba9\">\n",
              "    <div class=\"colab-df-container\">\n",
              "      <div>\n",
              "<style scoped>\n",
              "    .dataframe tbody tr th:only-of-type {\n",
              "        vertical-align: middle;\n",
              "    }\n",
              "\n",
              "    .dataframe tbody tr th {\n",
              "        vertical-align: top;\n",
              "    }\n",
              "\n",
              "    .dataframe thead th {\n",
              "        text-align: right;\n",
              "    }\n",
              "</style>\n",
              "<table border=\"1\" class=\"dataframe\">\n",
              "  <thead>\n",
              "    <tr style=\"text-align: right;\">\n",
              "      <th></th>\n",
              "      <th>mask_path</th>\n",
              "      <th>image_path</th>\n",
              "      <th>tumor_name</th>\n",
              "      <th>tumor_class</th>\n",
              "      <th>has_mask</th>\n",
              "    </tr>\n",
              "  </thead>\n",
              "  <tbody>\n",
              "    <tr>\n",
              "      <th>0</th>\n",
              "      <td>classification_masks/p (398).jpg</td>\n",
              "      <td>Training/pituitary_tumor/p (398).jpg</td>\n",
              "      <td>pituitary_tumor</td>\n",
              "      <td>3</td>\n",
              "      <td>True</td>\n",
              "    </tr>\n",
              "    <tr>\n",
              "      <th>1</th>\n",
              "      <td>classification_masks/p (153).jpg</td>\n",
              "      <td>Training/pituitary_tumor/p (153).jpg</td>\n",
              "      <td>pituitary_tumor</td>\n",
              "      <td>3</td>\n",
              "      <td>True</td>\n",
              "    </tr>\n",
              "    <tr>\n",
              "      <th>2</th>\n",
              "      <td>classification_masks/p (20).jpg</td>\n",
              "      <td>Training/pituitary_tumor/p (20).jpg</td>\n",
              "      <td>pituitary_tumor</td>\n",
              "      <td>3</td>\n",
              "      <td>True</td>\n",
              "    </tr>\n",
              "    <tr>\n",
              "      <th>3</th>\n",
              "      <td>classification_masks/p (336).jpg</td>\n",
              "      <td>Training/pituitary_tumor/p (336).jpg</td>\n",
              "      <td>pituitary_tumor</td>\n",
              "      <td>3</td>\n",
              "      <td>True</td>\n",
              "    </tr>\n",
              "    <tr>\n",
              "      <th>4</th>\n",
              "      <td>classification_masks/p (114).jpg</td>\n",
              "      <td>Training/pituitary_tumor/p (114).jpg</td>\n",
              "      <td>pituitary_tumor</td>\n",
              "      <td>3</td>\n",
              "      <td>True</td>\n",
              "    </tr>\n",
              "  </tbody>\n",
              "</table>\n",
              "</div>\n",
              "      <button class=\"colab-df-convert\" onclick=\"convertToInteractive('df-84220704-c760-4cea-ab44-372f3560eba9')\"\n",
              "              title=\"Convert this dataframe to an interactive table.\"\n",
              "              style=\"display:none;\">\n",
              "        \n",
              "  <svg xmlns=\"http://www.w3.org/2000/svg\" height=\"24px\"viewBox=\"0 0 24 24\"\n",
              "       width=\"24px\">\n",
              "    <path d=\"M0 0h24v24H0V0z\" fill=\"none\"/>\n",
              "    <path d=\"M18.56 5.44l.94 2.06.94-2.06 2.06-.94-2.06-.94-.94-2.06-.94 2.06-2.06.94zm-11 1L8.5 8.5l.94-2.06 2.06-.94-2.06-.94L8.5 2.5l-.94 2.06-2.06.94zm10 10l.94 2.06.94-2.06 2.06-.94-2.06-.94-.94-2.06-.94 2.06-2.06.94z\"/><path d=\"M17.41 7.96l-1.37-1.37c-.4-.4-.92-.59-1.43-.59-.52 0-1.04.2-1.43.59L10.3 9.45l-7.72 7.72c-.78.78-.78 2.05 0 2.83L4 21.41c.39.39.9.59 1.41.59.51 0 1.02-.2 1.41-.59l7.78-7.78 2.81-2.81c.8-.78.8-2.07 0-2.86zM5.41 20L4 18.59l7.72-7.72 1.47 1.35L5.41 20z\"/>\n",
              "  </svg>\n",
              "      </button>\n",
              "      \n",
              "  <style>\n",
              "    .colab-df-container {\n",
              "      display:flex;\n",
              "      flex-wrap:wrap;\n",
              "      gap: 12px;\n",
              "    }\n",
              "\n",
              "    .colab-df-convert {\n",
              "      background-color: #E8F0FE;\n",
              "      border: none;\n",
              "      border-radius: 50%;\n",
              "      cursor: pointer;\n",
              "      display: none;\n",
              "      fill: #1967D2;\n",
              "      height: 32px;\n",
              "      padding: 0 0 0 0;\n",
              "      width: 32px;\n",
              "    }\n",
              "\n",
              "    .colab-df-convert:hover {\n",
              "      background-color: #E2EBFA;\n",
              "      box-shadow: 0px 1px 2px rgba(60, 64, 67, 0.3), 0px 1px 3px 1px rgba(60, 64, 67, 0.15);\n",
              "      fill: #174EA6;\n",
              "    }\n",
              "\n",
              "    [theme=dark] .colab-df-convert {\n",
              "      background-color: #3B4455;\n",
              "      fill: #D2E3FC;\n",
              "    }\n",
              "\n",
              "    [theme=dark] .colab-df-convert:hover {\n",
              "      background-color: #434B5C;\n",
              "      box-shadow: 0px 1px 3px 1px rgba(0, 0, 0, 0.15);\n",
              "      filter: drop-shadow(0px 1px 2px rgba(0, 0, 0, 0.3));\n",
              "      fill: #FFFFFF;\n",
              "    }\n",
              "  </style>\n",
              "\n",
              "      <script>\n",
              "        const buttonEl =\n",
              "          document.querySelector('#df-84220704-c760-4cea-ab44-372f3560eba9 button.colab-df-convert');\n",
              "        buttonEl.style.display =\n",
              "          google.colab.kernel.accessAllowed ? 'block' : 'none';\n",
              "\n",
              "        async function convertToInteractive(key) {\n",
              "          const element = document.querySelector('#df-84220704-c760-4cea-ab44-372f3560eba9');\n",
              "          const dataTable =\n",
              "            await google.colab.kernel.invokeFunction('convertToInteractive',\n",
              "                                                     [key], {});\n",
              "          if (!dataTable) return;\n",
              "\n",
              "          const docLinkHtml = 'Like what you see? Visit the ' +\n",
              "            '<a target=\"_blank\" href=https://colab.research.google.com/notebooks/data_table.ipynb>data table notebook</a>'\n",
              "            + ' to learn more about interactive tables.';\n",
              "          element.innerHTML = '';\n",
              "          dataTable['output_type'] = 'display_data';\n",
              "          await google.colab.output.renderOutput(dataTable, element);\n",
              "          const docLink = document.createElement('div');\n",
              "          docLink.innerHTML = docLinkHtml;\n",
              "          element.appendChild(docLink);\n",
              "        }\n",
              "      </script>\n",
              "    </div>\n",
              "  </div>\n",
              "  "
            ]
          },
          "metadata": {},
          "execution_count": 49
        }
      ]
    },
    {
      "cell_type": "code",
      "source": [
        "df['has_mask'].value_counts()"
      ],
      "metadata": {
        "colab": {
          "base_uri": "https://localhost:8080/"
        },
        "id": "SJvdRePRnWO8",
        "outputId": "35bc088b-95e6-4f6f-8bd9-cd93bed528c9"
      },
      "execution_count": 50,
      "outputs": [
        {
          "output_type": "execute_result",
          "data": {
            "text/plain": [
              "True     2564\n",
              "False     306\n",
              "Name: has_mask, dtype: int64"
            ]
          },
          "metadata": {},
          "execution_count": 50
        }
      ]
    },
    {
      "cell_type": "code",
      "source": [
        "import os\n",
        "import numpy as np\n",
        "import torch\n",
        "import torch.utils.data\n",
        "from PIL import Image\n",
        "\n",
        "\n",
        "class MRIClassificationDataset(torch.utils.data.Dataset):\n",
        "    def __init__(self, df, transforms=None):\n",
        "        self.transforms = transforms\n",
        "        self.imgs = df['image_path'].tolist()\n",
        "        self.masks = df['mask_path'].tolist()\n",
        "        self.classes = df['tumor_class'].tolist()\n",
        "\n",
        "    def __getitem__(self, idx):\n",
        "        img_path = self.imgs[idx]\n",
        "        mask_path = self.masks[idx]\n",
        "        tumor_class = self.classes[idx]\n",
        "\n",
        "        img = cv2.imread(img_path)\n",
        "        mask = cv2.imread(mask_path)[:, :, 0]\n",
        "        mask = cv2.threshold(mask, 100, 255, cv2.THRESH_BINARY)[1]\n",
        "        mask[mask == 255] = 1\n",
        "\n",
        "        pos = np.where(mask)\n",
        "\n",
        "        xmin = np.min(pos[1])\n",
        "        xmax = np.max(pos[1])\n",
        "        ymin = np.min(pos[0])\n",
        "        ymax = np.max(pos[0])\n",
        "\n",
        "        boxes = torch.as_tensor([[xmin, ymin, xmax, ymax]])\n",
        "\n",
        "        labels = torch.as_tensor(np.array([tumor_class]), dtype=torch.int64)\n",
        "        masks = torch.as_tensor(np.array([mask]), dtype=torch.uint8)\n",
        "        image_id = torch.tensor([idx])\n",
        "        area = (boxes[:, 3] - boxes[:, 1]) * (boxes[:, 2] - boxes[:, 0])\n",
        "        # suppose all instances are not crowd\n",
        "        iscrowd = torch.zeros((1, ), dtype=torch.int64)\n",
        "\n",
        "        target = {}\n",
        "        target[\"boxes\"] = boxes\n",
        "        target[\"labels\"] = labels\n",
        "        target[\"masks\"] = masks\n",
        "        target[\"image_id\"] = image_id\n",
        "        target[\"area\"] = area\n",
        "        target[\"iscrowd\"] = iscrowd\n",
        "\n",
        "        if self.transforms is not None:\n",
        "            img, target = self.transforms(img, target)\n",
        "\n",
        "        return img, target\n",
        "\n",
        "    def __len__(self):\n",
        "        return len(self.imgs)"
      ],
      "metadata": {
        "id": "PeZGOmayfQtb"
      },
      "execution_count": 51,
      "outputs": []
    },
    {
      "cell_type": "code",
      "source": [
        "# use our dataset and defined transformations\n",
        "dataset = MRIClassificationDataset(df.query('has_mask == True'), get_transform(train=True))\n",
        "dataset_test = MRIClassificationDataset(df.query('has_mask == True'), get_transform(train=False))\n",
        "\n",
        "# split the dataset in train and test set\n",
        "torch.manual_seed(1)\n",
        "indices = torch.randperm(len(dataset)).tolist()\n",
        "dataset = torch.utils.data.Subset(dataset, indices[:-400])\n",
        "dataset_test = torch.utils.data.Subset(dataset_test, indices[-400:])\n",
        "\n",
        "# define training and validation data loaders\n",
        "data_loader = torch.utils.data.DataLoader(\n",
        "    dataset, batch_size=2, shuffle=True, num_workers=4,\n",
        "    collate_fn=utils.collate_fn)\n",
        "\n",
        "data_loader_test = torch.utils.data.DataLoader(\n",
        "    dataset_test, batch_size=1, shuffle=False, num_workers=4,\n",
        "    collate_fn=utils.collate_fn)"
      ],
      "metadata": {
        "colab": {
          "base_uri": "https://localhost:8080/"
        },
        "id": "xz6jbxxol9P0",
        "outputId": "5a03bb8a-8e32-4278-f043-3276de83d187"
      },
      "execution_count": 52,
      "outputs": [
        {
          "output_type": "stream",
          "name": "stderr",
          "text": [
            "/usr/local/lib/python3.7/dist-packages/torch/utils/data/dataloader.py:490: UserWarning: This DataLoader will create 4 worker processes in total. Our suggested max number of worker in current system is 2, which is smaller than what this DataLoader is going to create. Please be aware that excessive worker creation might get DataLoader running slow or even freeze, lower the worker number to avoid potential slowness/freeze if necessary.\n",
            "  cpuset_checked))\n"
          ]
        }
      ]
    },
    {
      "cell_type": "code",
      "source": [
        "device = torch.device('cuda') if torch.cuda.is_available() else torch.device('cpu')\n",
        "\n",
        "num_classes = len(df['tumor_class'].unique()) + 1\n",
        "\n",
        "if 'classification_model' in locals():\n",
        "    del classification_model\n",
        "\n",
        "classification_model = get_instance_segmentation_model(num_classes)\n",
        "classification_model.to(device)\n",
        "\n",
        "params = [p for p in classification_model.parameters() if p.requires_grad]\n",
        "optimizer = torch.optim.SGD(params, lr=0.005,\n",
        "                            momentum=0.9, weight_decay=0.0005)\n",
        "\n",
        "# and a learning rate scheduler which decreases the learning rate by\n",
        "# 10x every 3 epochs\n",
        "lr_scheduler = torch.optim.lr_scheduler.StepLR(optimizer,\n",
        "                                               step_size=3,\n",
        "                                               gamma=0.1)"
      ],
      "metadata": {
        "id": "ZDaKmmBImmq-"
      },
      "execution_count": 53,
      "outputs": []
    },
    {
      "cell_type": "code",
      "source": [
        "# let's train it for 10 epochs\n",
        "from torch.optim.lr_scheduler import StepLR\n",
        "num_epochs = 10\n",
        "\n",
        "\n",
        "for epoch in range(num_epochs):\n",
        "    # train for one epoch, printing every 10 iterations\n",
        "    train_one_epoch(classification_model, optimizer, data_loader, device, epoch, print_freq=10)\n",
        "    # update the learning rate\n",
        "    lr_scheduler.step()\n",
        "    # evaluate on the test dataset\n",
        "    evaluate(classification_model, data_loader_test, device=device)"
      ],
      "metadata": {
        "colab": {
          "base_uri": "https://localhost:8080/"
        },
        "id": "yINx3u1xmwQy",
        "outputId": "773dd4c1-2df7-49ed-f3e2-722b5038df20"
      },
      "execution_count": null,
      "outputs": [
        {
          "output_type": "stream",
          "name": "stderr",
          "text": [
            "/usr/local/lib/python3.7/dist-packages/torch/utils/data/dataloader.py:490: UserWarning: This DataLoader will create 4 worker processes in total. Our suggested max number of worker in current system is 2, which is smaller than what this DataLoader is going to create. Please be aware that excessive worker creation might get DataLoader running slow or even freeze, lower the worker number to avoid potential slowness/freeze if necessary.\n",
            "  cpuset_checked))\n"
          ]
        },
        {
          "output_type": "stream",
          "name": "stdout",
          "text": [
            "Epoch: [0]  [   0/1082]  eta: 0:16:35  lr: 0.000010  loss: 3.3827 (3.3827)  loss_classifier: 1.6939 (1.6939)  loss_box_reg: 0.0009 (0.0009)  loss_mask: 1.5786 (1.5786)  loss_objectness: 0.1045 (0.1045)  loss_rpn_box_reg: 0.0048 (0.0048)  time: 0.9197  data: 0.4030  max mem: 3091\n",
            "Epoch: [0]  [  10/1082]  eta: 0:09:37  lr: 0.000060  loss: 4.2533 (4.5757)  loss_classifier: 1.6258 (1.5488)  loss_box_reg: 0.0677 (0.0629)  loss_mask: 2.7651 (2.8999)  loss_objectness: 0.0417 (0.0608)  loss_rpn_box_reg: 0.0027 (0.0033)  time: 0.5387  data: 0.0423  max mem: 4043\n",
            "Epoch: [0]  [  20/1082]  eta: 0:09:06  lr: 0.000110  loss: 2.7362 (3.3341)  loss_classifier: 1.1409 (1.1312)  loss_box_reg: 0.0613 (0.0580)  loss_mask: 1.5471 (2.0657)  loss_objectness: 0.0667 (0.0754)  loss_rpn_box_reg: 0.0032 (0.0038)  time: 0.4943  data: 0.0095  max mem: 4043\n",
            "Epoch: [0]  [  30/1082]  eta: 0:08:44  lr: 0.000160  loss: 1.1354 (2.5871)  loss_classifier: 0.2144 (0.8109)  loss_box_reg: 0.0419 (0.0542)  loss_mask: 0.7568 (1.6388)  loss_objectness: 0.0737 (0.0787)  loss_rpn_box_reg: 0.0043 (0.0045)  time: 0.4770  data: 0.0113  max mem: 4043\n",
            "Epoch: [0]  [  40/1082]  eta: 0:08:34  lr: 0.000210  loss: 0.9291 (2.1517)  loss_classifier: 0.0968 (0.6317)  loss_box_reg: 0.0369 (0.0513)  loss_mask: 0.6775 (1.3777)  loss_objectness: 0.0663 (0.0862)  loss_rpn_box_reg: 0.0038 (0.0048)  time: 0.4723  data: 0.0100  max mem: 4043\n",
            "Epoch: [0]  [  50/1082]  eta: 0:08:25  lr: 0.000260  loss: 0.8245 (1.8924)  loss_classifier: 0.0879 (0.5267)  loss_box_reg: 0.0407 (0.0514)  loss_mask: 0.6280 (1.2312)  loss_objectness: 0.0465 (0.0785)  loss_rpn_box_reg: 0.0034 (0.0046)  time: 0.4767  data: 0.0097  max mem: 4043\n",
            "Epoch: [0]  [  60/1082]  eta: 0:08:22  lr: 0.000310  loss: 0.8319 (1.7160)  loss_classifier: 0.1044 (0.4612)  loss_box_reg: 0.0668 (0.0559)  loss_mask: 0.6053 (1.1237)  loss_objectness: 0.0282 (0.0708)  loss_rpn_box_reg: 0.0030 (0.0044)  time: 0.4866  data: 0.0097  max mem: 4043\n",
            "Epoch: [0]  [  70/1082]  eta: 0:08:15  lr: 0.000360  loss: 0.8235 (1.5745)  loss_classifier: 0.1101 (0.4110)  loss_box_reg: 0.0674 (0.0574)  loss_mask: 0.5978 (1.0354)  loss_objectness: 0.0335 (0.0664)  loss_rpn_box_reg: 0.0032 (0.0043)  time: 0.4891  data: 0.0104  max mem: 4043\n",
            "Epoch: [0]  [  80/1082]  eta: 0:08:10  lr: 0.000410  loss: 0.5718 (1.4430)  loss_classifier: 0.0899 (0.3707)  loss_box_reg: 0.0558 (0.0575)  loss_mask: 0.4285 (0.9493)  loss_objectness: 0.0274 (0.0610)  loss_rpn_box_reg: 0.0039 (0.0044)  time: 0.4835  data: 0.0102  max mem: 4043\n",
            "Epoch: [0]  [  90/1082]  eta: 0:08:03  lr: 0.000460  loss: 0.5718 (1.3630)  loss_classifier: 0.0988 (0.3445)  loss_box_reg: 0.0730 (0.0620)  loss_mask: 0.3548 (0.8956)  loss_objectness: 0.0186 (0.0566)  loss_rpn_box_reg: 0.0037 (0.0043)  time: 0.4809  data: 0.0099  max mem: 4043\n",
            "Epoch: [0]  [ 100/1082]  eta: 0:07:57  lr: 0.000509  loss: 0.5778 (1.2793)  loss_classifier: 0.1006 (0.3193)  loss_box_reg: 0.0742 (0.0626)  loss_mask: 0.3166 (0.8395)  loss_objectness: 0.0217 (0.0536)  loss_rpn_box_reg: 0.0028 (0.0042)  time: 0.4717  data: 0.0100  max mem: 4043\n",
            "Epoch: [0]  [ 110/1082]  eta: 0:07:52  lr: 0.000559  loss: 0.5282 (1.2161)  loss_classifier: 0.0791 (0.2985)  loss_box_reg: 0.0509 (0.0628)  loss_mask: 0.3165 (0.7967)  loss_objectness: 0.0218 (0.0538)  loss_rpn_box_reg: 0.0028 (0.0043)  time: 0.4775  data: 0.0101  max mem: 4085\n",
            "Epoch: [0]  [ 120/1082]  eta: 0:07:49  lr: 0.000609  loss: 0.5600 (1.1627)  loss_classifier: 0.0930 (0.2829)  loss_box_reg: 0.0724 (0.0649)  loss_mask: 0.3258 (0.7592)  loss_objectness: 0.0215 (0.0514)  loss_rpn_box_reg: 0.0036 (0.0044)  time: 0.4960  data: 0.0097  max mem: 4142\n",
            "Epoch: [0]  [ 130/1082]  eta: 0:07:42  lr: 0.000659  loss: 0.5600 (1.1118)  loss_classifier: 0.1041 (0.2672)  loss_box_reg: 0.0777 (0.0648)  loss_mask: 0.3082 (0.7260)  loss_objectness: 0.0166 (0.0494)  loss_rpn_box_reg: 0.0032 (0.0043)  time: 0.4861  data: 0.0096  max mem: 4142\n",
            "Epoch: [0]  [ 140/1082]  eta: 0:07:37  lr: 0.000709  loss: 0.5461 (1.0763)  loss_classifier: 0.0845 (0.2545)  loss_box_reg: 0.0584 (0.0642)  loss_mask: 0.3401 (0.7056)  loss_objectness: 0.0162 (0.0476)  loss_rpn_box_reg: 0.0032 (0.0044)  time: 0.4758  data: 0.0101  max mem: 4142\n",
            "Epoch: [0]  [ 150/1082]  eta: 0:07:32  lr: 0.000759  loss: 0.5445 (1.0392)  loss_classifier: 0.0956 (0.2441)  loss_box_reg: 0.0587 (0.0647)  loss_mask: 0.3693 (0.6787)  loss_objectness: 0.0155 (0.0475)  loss_rpn_box_reg: 0.0035 (0.0044)  time: 0.4836  data: 0.0097  max mem: 4142\n",
            "Epoch: [0]  [ 160/1082]  eta: 0:07:29  lr: 0.000809  loss: 0.4796 (1.0061)  loss_classifier: 0.0907 (0.2335)  loss_box_reg: 0.0519 (0.0643)  loss_mask: 0.2568 (0.6583)  loss_objectness: 0.0160 (0.0458)  loss_rpn_box_reg: 0.0021 (0.0043)  time: 0.4950  data: 0.0093  max mem: 4315\n",
            "Epoch: [0]  [ 170/1082]  eta: 0:07:23  lr: 0.000859  loss: 0.4271 (0.9716)  loss_classifier: 0.0617 (0.2241)  loss_box_reg: 0.0509 (0.0644)  loss_mask: 0.2544 (0.6346)  loss_objectness: 0.0178 (0.0442)  loss_rpn_box_reg: 0.0020 (0.0043)  time: 0.4869  data: 0.0095  max mem: 4315\n",
            "Epoch: [0]  [ 180/1082]  eta: 0:07:18  lr: 0.000909  loss: 0.4724 (0.9467)  loss_classifier: 0.0967 (0.2176)  loss_box_reg: 0.0817 (0.0668)  loss_mask: 0.2472 (0.6155)  loss_objectness: 0.0125 (0.0425)  loss_rpn_box_reg: 0.0012 (0.0041)  time: 0.4812  data: 0.0094  max mem: 4315\n",
            "Epoch: [0]  [ 190/1082]  eta: 0:07:12  lr: 0.000959  loss: 0.5001 (0.9237)  loss_classifier: 0.0967 (0.2111)  loss_box_reg: 0.0864 (0.0676)  loss_mask: 0.2580 (0.5997)  loss_objectness: 0.0107 (0.0413)  loss_rpn_box_reg: 0.0012 (0.0040)  time: 0.4811  data: 0.0094  max mem: 4315\n",
            "Epoch: [0]  [ 200/1082]  eta: 0:07:07  lr: 0.001009  loss: 0.4521 (0.8994)  loss_classifier: 0.0834 (0.2046)  loss_box_reg: 0.0716 (0.0688)  loss_mask: 0.2215 (0.5818)  loss_objectness: 0.0160 (0.0402)  loss_rpn_box_reg: 0.0020 (0.0040)  time: 0.4709  data: 0.0096  max mem: 4315\n",
            "Epoch: [0]  [ 210/1082]  eta: 0:07:03  lr: 0.001059  loss: 0.4394 (0.8775)  loss_classifier: 0.0834 (0.1996)  loss_box_reg: 0.1025 (0.0706)  loss_mask: 0.1959 (0.5639)  loss_objectness: 0.0086 (0.0394)  loss_rpn_box_reg: 0.0023 (0.0041)  time: 0.4837  data: 0.0124  max mem: 4315\n",
            "Epoch: [0]  [ 220/1082]  eta: 0:06:57  lr: 0.001109  loss: 0.3474 (0.8519)  loss_classifier: 0.0603 (0.1931)  loss_box_reg: 0.0774 (0.0702)  loss_mask: 0.1638 (0.5467)  loss_objectness: 0.0083 (0.0380)  loss_rpn_box_reg: 0.0020 (0.0040)  time: 0.4752  data: 0.0118  max mem: 4315\n",
            "Epoch: [0]  [ 230/1082]  eta: 0:06:52  lr: 0.001159  loss: 0.3922 (0.8384)  loss_classifier: 0.0596 (0.1884)  loss_box_reg: 0.0691 (0.0707)  loss_mask: 0.1700 (0.5386)  loss_objectness: 0.0067 (0.0367)  loss_rpn_box_reg: 0.0013 (0.0039)  time: 0.4755  data: 0.0096  max mem: 4315\n",
            "Epoch: [0]  [ 240/1082]  eta: 0:06:48  lr: 0.001209  loss: 0.5124 (0.8244)  loss_classifier: 0.0828 (0.1850)  loss_box_reg: 0.0842 (0.0715)  loss_mask: 0.3094 (0.5284)  loss_objectness: 0.0072 (0.0358)  loss_rpn_box_reg: 0.0014 (0.0038)  time: 0.4956  data: 0.0103  max mem: 4315\n",
            "Epoch: [0]  [ 250/1082]  eta: 0:06:43  lr: 0.001259  loss: 0.3984 (0.8060)  loss_classifier: 0.0804 (0.1802)  loss_box_reg: 0.0854 (0.0717)  loss_mask: 0.1737 (0.5153)  loss_objectness: 0.0072 (0.0351)  loss_rpn_box_reg: 0.0016 (0.0037)  time: 0.4871  data: 0.0095  max mem: 4315\n",
            "Epoch: [0]  [ 260/1082]  eta: 0:06:38  lr: 0.001309  loss: 0.3073 (0.7914)  loss_classifier: 0.0715 (0.1768)  loss_box_reg: 0.0854 (0.0725)  loss_mask: 0.1711 (0.5043)  loss_objectness: 0.0065 (0.0342)  loss_rpn_box_reg: 0.0014 (0.0037)  time: 0.4811  data: 0.0097  max mem: 4315\n",
            "Epoch: [0]  [ 270/1082]  eta: 0:06:33  lr: 0.001359  loss: 0.3383 (0.7754)  loss_classifier: 0.0727 (0.1731)  loss_box_reg: 0.0865 (0.0725)  loss_mask: 0.1771 (0.4928)  loss_objectness: 0.0078 (0.0333)  loss_rpn_box_reg: 0.0014 (0.0036)  time: 0.4870  data: 0.0099  max mem: 4315\n",
            "Epoch: [0]  [ 280/1082]  eta: 0:06:28  lr: 0.001409  loss: 0.3369 (0.7599)  loss_classifier: 0.0706 (0.1697)  loss_box_reg: 0.0589 (0.0725)  loss_mask: 0.1705 (0.4815)  loss_objectness: 0.0110 (0.0327)  loss_rpn_box_reg: 0.0014 (0.0036)  time: 0.4793  data: 0.0095  max mem: 4315\n",
            "Epoch: [0]  [ 290/1082]  eta: 0:06:23  lr: 0.001459  loss: 0.3303 (0.7465)  loss_classifier: 0.0682 (0.1665)  loss_box_reg: 0.0589 (0.0726)  loss_mask: 0.1347 (0.4721)  loss_objectness: 0.0059 (0.0318)  loss_rpn_box_reg: 0.0011 (0.0035)  time: 0.4728  data: 0.0094  max mem: 4315\n",
            "Epoch: [0]  [ 300/1082]  eta: 0:06:18  lr: 0.001508  loss: 0.3288 (0.7317)  loss_classifier: 0.0639 (0.1629)  loss_box_reg: 0.0660 (0.0723)  loss_mask: 0.1450 (0.4618)  loss_objectness: 0.0049 (0.0312)  loss_rpn_box_reg: 0.0010 (0.0035)  time: 0.4789  data: 0.0099  max mem: 4315\n",
            "Epoch: [0]  [ 310/1082]  eta: 0:06:14  lr: 0.001558  loss: 0.3800 (0.7262)  loss_classifier: 0.0813 (0.1606)  loss_box_reg: 0.0709 (0.0723)  loss_mask: 0.2252 (0.4593)  loss_objectness: 0.0071 (0.0305)  loss_rpn_box_reg: 0.0010 (0.0034)  time: 0.4974  data: 0.0099  max mem: 4315\n",
            "Epoch: [0]  [ 320/1082]  eta: 0:06:09  lr: 0.001608  loss: 0.4726 (0.7164)  loss_classifier: 0.0937 (0.1583)  loss_box_reg: 0.0779 (0.0724)  loss_mask: 0.2424 (0.4523)  loss_objectness: 0.0072 (0.0299)  loss_rpn_box_reg: 0.0016 (0.0034)  time: 0.4963  data: 0.0093  max mem: 4315\n",
            "Epoch: [0]  [ 330/1082]  eta: 0:06:04  lr: 0.001658  loss: 0.4207 (0.7066)  loss_classifier: 0.0760 (0.1560)  loss_box_reg: 0.0721 (0.0726)  loss_mask: 0.2066 (0.4454)  loss_objectness: 0.0072 (0.0293)  loss_rpn_box_reg: 0.0015 (0.0033)  time: 0.4771  data: 0.0095  max mem: 4315\n",
            "Epoch: [0]  [ 340/1082]  eta: 0:05:59  lr: 0.001708  loss: 0.4174 (0.6976)  loss_classifier: 0.0835 (0.1539)  loss_box_reg: 0.0693 (0.0722)  loss_mask: 0.1747 (0.4384)  loss_objectness: 0.0085 (0.0296)  loss_rpn_box_reg: 0.0016 (0.0035)  time: 0.4723  data: 0.0096  max mem: 4315\n",
            "Epoch: [0]  [ 350/1082]  eta: 0:05:54  lr: 0.001758  loss: 0.3546 (0.6862)  loss_classifier: 0.0669 (0.1513)  loss_box_reg: 0.0551 (0.0715)  loss_mask: 0.1621 (0.4309)  loss_objectness: 0.0099 (0.0290)  loss_rpn_box_reg: 0.0013 (0.0034)  time: 0.4792  data: 0.0095  max mem: 4315\n",
            "Epoch: [0]  [ 360/1082]  eta: 0:05:49  lr: 0.001808  loss: 0.2751 (0.6773)  loss_classifier: 0.0601 (0.1490)  loss_box_reg: 0.0506 (0.0709)  loss_mask: 0.1461 (0.4254)  loss_objectness: 0.0096 (0.0285)  loss_rpn_box_reg: 0.0008 (0.0034)  time: 0.4812  data: 0.0093  max mem: 4315\n",
            "Epoch: [0]  [ 370/1082]  eta: 0:05:44  lr: 0.001858  loss: 0.3269 (0.6685)  loss_classifier: 0.0697 (0.1475)  loss_box_reg: 0.0573 (0.0706)  loss_mask: 0.1754 (0.4190)  loss_objectness: 0.0072 (0.0280)  loss_rpn_box_reg: 0.0013 (0.0033)  time: 0.4739  data: 0.0094  max mem: 4315\n",
            "Epoch: [0]  [ 380/1082]  eta: 0:05:39  lr: 0.001908  loss: 0.3664 (0.6611)  loss_classifier: 0.0910 (0.1461)  loss_box_reg: 0.0562 (0.0703)  loss_mask: 0.1887 (0.4139)  loss_objectness: 0.0065 (0.0276)  loss_rpn_box_reg: 0.0012 (0.0033)  time: 0.4777  data: 0.0096  max mem: 4315\n",
            "Epoch: [0]  [ 390/1082]  eta: 0:05:34  lr: 0.001958  loss: 0.4023 (0.6553)  loss_classifier: 0.0778 (0.1447)  loss_box_reg: 0.0562 (0.0701)  loss_mask: 0.2431 (0.4100)  loss_objectness: 0.0077 (0.0274)  loss_rpn_box_reg: 0.0013 (0.0032)  time: 0.4819  data: 0.0095  max mem: 4315\n",
            "Epoch: [0]  [ 400/1082]  eta: 0:05:30  lr: 0.002008  loss: 0.4109 (0.6495)  loss_classifier: 0.1026 (0.1438)  loss_box_reg: 0.0695 (0.0702)  loss_mask: 0.2077 (0.4053)  loss_objectness: 0.0077 (0.0269)  loss_rpn_box_reg: 0.0016 (0.0032)  time: 0.4987  data: 0.0093  max mem: 4315\n",
            "Epoch: [0]  [ 410/1082]  eta: 0:05:25  lr: 0.002058  loss: 0.3797 (0.6426)  loss_classifier: 0.1004 (0.1424)  loss_box_reg: 0.0697 (0.0703)  loss_mask: 0.1838 (0.4002)  loss_objectness: 0.0074 (0.0265)  loss_rpn_box_reg: 0.0009 (0.0032)  time: 0.5001  data: 0.0092  max mem: 4315\n",
            "Epoch: [0]  [ 420/1082]  eta: 0:05:21  lr: 0.002108  loss: 0.3443 (0.6374)  loss_classifier: 0.0852 (0.1415)  loss_box_reg: 0.0726 (0.0706)  loss_mask: 0.1741 (0.3961)  loss_objectness: 0.0033 (0.0261)  loss_rpn_box_reg: 0.0007 (0.0031)  time: 0.5045  data: 0.0093  max mem: 4315\n",
            "Epoch: [0]  [ 430/1082]  eta: 0:05:16  lr: 0.002158  loss: 0.3763 (0.6316)  loss_classifier: 0.0897 (0.1404)  loss_box_reg: 0.0736 (0.0706)  loss_mask: 0.1741 (0.3918)  loss_objectness: 0.0049 (0.0257)  loss_rpn_box_reg: 0.0011 (0.0031)  time: 0.5191  data: 0.0090  max mem: 4315\n",
            "Epoch: [0]  [ 440/1082]  eta: 0:05:11  lr: 0.002208  loss: 0.3520 (0.6260)  loss_classifier: 0.0869 (0.1392)  loss_box_reg: 0.0583 (0.0704)  loss_mask: 0.2095 (0.3880)  loss_objectness: 0.0053 (0.0253)  loss_rpn_box_reg: 0.0013 (0.0031)  time: 0.4895  data: 0.0088  max mem: 4315\n",
            "Epoch: [0]  [ 450/1082]  eta: 0:05:06  lr: 0.002258  loss: 0.3444 (0.6181)  loss_classifier: 0.0792 (0.1379)  loss_box_reg: 0.0465 (0.0697)  loss_mask: 0.1503 (0.3826)  loss_objectness: 0.0050 (0.0249)  loss_rpn_box_reg: 0.0013 (0.0030)  time: 0.4641  data: 0.0090  max mem: 4315\n",
            "Epoch: [0]  [ 460/1082]  eta: 0:05:01  lr: 0.002308  loss: 0.3418 (0.6125)  loss_classifier: 0.0834 (0.1369)  loss_box_reg: 0.0543 (0.0695)  loss_mask: 0.1487 (0.3784)  loss_objectness: 0.0067 (0.0246)  loss_rpn_box_reg: 0.0012 (0.0030)  time: 0.4715  data: 0.0089  max mem: 4315\n",
            "Epoch: [0]  [ 470/1082]  eta: 0:04:56  lr: 0.002358  loss: 0.3241 (0.6062)  loss_classifier: 0.0717 (0.1355)  loss_box_reg: 0.0476 (0.0689)  loss_mask: 0.1704 (0.3743)  loss_objectness: 0.0078 (0.0244)  loss_rpn_box_reg: 0.0012 (0.0030)  time: 0.4840  data: 0.0090  max mem: 4315\n",
            "Epoch: [0]  [ 480/1082]  eta: 0:04:51  lr: 0.002408  loss: 0.3191 (0.6001)  loss_classifier: 0.0683 (0.1340)  loss_box_reg: 0.0362 (0.0682)  loss_mask: 0.1488 (0.3703)  loss_objectness: 0.0072 (0.0246)  loss_rpn_box_reg: 0.0011 (0.0031)  time: 0.4862  data: 0.0092  max mem: 4315\n",
            "Epoch: [0]  [ 490/1082]  eta: 0:04:47  lr: 0.002458  loss: 0.3053 (0.5949)  loss_classifier: 0.0687 (0.1328)  loss_box_reg: 0.0398 (0.0679)  loss_mask: 0.1273 (0.3667)  loss_objectness: 0.0078 (0.0244)  loss_rpn_box_reg: 0.0011 (0.0031)  time: 0.4895  data: 0.0097  max mem: 4315\n",
            "Epoch: [0]  [ 500/1082]  eta: 0:04:42  lr: 0.002507  loss: 0.2471 (0.5870)  loss_classifier: 0.0647 (0.1310)  loss_box_reg: 0.0396 (0.0672)  loss_mask: 0.1226 (0.3617)  loss_objectness: 0.0052 (0.0241)  loss_rpn_box_reg: 0.0013 (0.0030)  time: 0.4799  data: 0.0098  max mem: 4315\n",
            "Epoch: [0]  [ 510/1082]  eta: 0:04:37  lr: 0.002557  loss: 0.2123 (0.5818)  loss_classifier: 0.0459 (0.1301)  loss_box_reg: 0.0379 (0.0667)  loss_mask: 0.1226 (0.3581)  loss_objectness: 0.0052 (0.0238)  loss_rpn_box_reg: 0.0014 (0.0030)  time: 0.4774  data: 0.0099  max mem: 4315\n",
            "Epoch: [0]  [ 520/1082]  eta: 0:04:32  lr: 0.002607  loss: 0.3430 (0.5779)  loss_classifier: 0.0620 (0.1287)  loss_box_reg: 0.0421 (0.0661)  loss_mask: 0.1976 (0.3564)  loss_objectness: 0.0087 (0.0236)  loss_rpn_box_reg: 0.0019 (0.0030)  time: 0.4767  data: 0.0102  max mem: 4315\n",
            "Epoch: [0]  [ 530/1082]  eta: 0:04:27  lr: 0.002657  loss: 0.3892 (0.5766)  loss_classifier: 0.0635 (0.1278)  loss_box_reg: 0.0411 (0.0658)  loss_mask: 0.2632 (0.3565)  loss_objectness: 0.0130 (0.0235)  loss_rpn_box_reg: 0.0019 (0.0030)  time: 0.4710  data: 0.0105  max mem: 4315\n",
            "Epoch: [0]  [ 540/1082]  eta: 0:04:22  lr: 0.002707  loss: 0.4135 (0.5725)  loss_classifier: 0.0711 (0.1273)  loss_box_reg: 0.0458 (0.0656)  loss_mask: 0.2262 (0.3533)  loss_objectness: 0.0114 (0.0233)  loss_rpn_box_reg: 0.0018 (0.0030)  time: 0.4749  data: 0.0099  max mem: 4315\n",
            "Epoch: [0]  [ 550/1082]  eta: 0:04:17  lr: 0.002757  loss: 0.4070 (0.5694)  loss_classifier: 0.1032 (0.1273)  loss_box_reg: 0.0571 (0.0657)  loss_mask: 0.1981 (0.3504)  loss_objectness: 0.0091 (0.0231)  loss_rpn_box_reg: 0.0018 (0.0030)  time: 0.4796  data: 0.0094  max mem: 4315\n",
            "Epoch: [0]  [ 560/1082]  eta: 0:04:12  lr: 0.002807  loss: 0.4014 (0.5662)  loss_classifier: 0.1088 (0.1267)  loss_box_reg: 0.0614 (0.0654)  loss_mask: 0.1967 (0.3483)  loss_objectness: 0.0076 (0.0228)  loss_rpn_box_reg: 0.0016 (0.0030)  time: 0.4885  data: 0.0101  max mem: 4315\n",
            "Epoch: [0]  [ 570/1082]  eta: 0:04:07  lr: 0.002857  loss: 0.3938 (0.5645)  loss_classifier: 0.0818 (0.1259)  loss_box_reg: 0.0440 (0.0651)  loss_mask: 0.2628 (0.3479)  loss_objectness: 0.0076 (0.0227)  loss_rpn_box_reg: 0.0018 (0.0029)  time: 0.4765  data: 0.0101  max mem: 4315\n",
            "Epoch: [0]  [ 580/1082]  eta: 0:04:02  lr: 0.002907  loss: 0.3938 (0.5610)  loss_classifier: 0.0656 (0.1249)  loss_box_reg: 0.0481 (0.0647)  loss_mask: 0.2341 (0.3458)  loss_objectness: 0.0114 (0.0226)  loss_rpn_box_reg: 0.0015 (0.0029)  time: 0.4700  data: 0.0101  max mem: 4315\n",
            "Epoch: [0]  [ 590/1082]  eta: 0:03:58  lr: 0.002957  loss: 0.3805 (0.5576)  loss_classifier: 0.0647 (0.1241)  loss_box_reg: 0.0481 (0.0643)  loss_mask: 0.1889 (0.3436)  loss_objectness: 0.0114 (0.0226)  loss_rpn_box_reg: 0.0015 (0.0030)  time: 0.4869  data: 0.0100  max mem: 4315\n",
            "Epoch: [0]  [ 600/1082]  eta: 0:03:53  lr: 0.003007  loss: 0.2940 (0.5545)  loss_classifier: 0.0644 (0.1233)  loss_box_reg: 0.0450 (0.0641)  loss_mask: 0.1724 (0.3415)  loss_objectness: 0.0118 (0.0225)  loss_rpn_box_reg: 0.0020 (0.0030)  time: 0.4959  data: 0.0094  max mem: 4315\n",
            "Epoch: [0]  [ 610/1082]  eta: 0:03:48  lr: 0.003057  loss: 0.3720 (0.5516)  loss_classifier: 0.0744 (0.1226)  loss_box_reg: 0.0454 (0.0638)  loss_mask: 0.2169 (0.3397)  loss_objectness: 0.0143 (0.0224)  loss_rpn_box_reg: 0.0025 (0.0030)  time: 0.4902  data: 0.0096  max mem: 4315\n",
            "Epoch: [0]  [ 620/1082]  eta: 0:03:43  lr: 0.003107  loss: 0.3720 (0.5472)  loss_classifier: 0.0744 (0.1218)  loss_box_reg: 0.0552 (0.0635)  loss_mask: 0.2169 (0.3368)  loss_objectness: 0.0096 (0.0221)  loss_rpn_box_reg: 0.0016 (0.0030)  time: 0.4868  data: 0.0096  max mem: 4315\n",
            "Epoch: [0]  [ 630/1082]  eta: 0:03:38  lr: 0.003157  loss: 0.2655 (0.5423)  loss_classifier: 0.0656 (0.1209)  loss_box_reg: 0.0533 (0.0632)  loss_mask: 0.1315 (0.3333)  loss_objectness: 0.0063 (0.0220)  loss_rpn_box_reg: 0.0016 (0.0030)  time: 0.4882  data: 0.0104  max mem: 4315\n",
            "Epoch: [0]  [ 640/1082]  eta: 0:03:33  lr: 0.003207  loss: 0.1736 (0.5377)  loss_classifier: 0.0432 (0.1201)  loss_box_reg: 0.0277 (0.0628)  loss_mask: 0.0921 (0.3301)  loss_objectness: 0.0063 (0.0218)  loss_rpn_box_reg: 0.0016 (0.0030)  time: 0.4800  data: 0.0107  max mem: 4315\n",
            "Epoch: [0]  [ 650/1082]  eta: 0:03:29  lr: 0.003257  loss: 0.2332 (0.5345)  loss_classifier: 0.0777 (0.1197)  loss_box_reg: 0.0493 (0.0627)  loss_mask: 0.1085 (0.3276)  loss_objectness: 0.0049 (0.0216)  loss_rpn_box_reg: 0.0012 (0.0029)  time: 0.4770  data: 0.0102  max mem: 4315\n",
            "Epoch: [0]  [ 660/1082]  eta: 0:03:24  lr: 0.003307  loss: 0.3196 (0.5321)  loss_classifier: 0.0799 (0.1191)  loss_box_reg: 0.0488 (0.0624)  loss_mask: 0.1465 (0.3263)  loss_objectness: 0.0042 (0.0214)  loss_rpn_box_reg: 0.0012 (0.0029)  time: 0.4821  data: 0.0103  max mem: 4315\n",
            "Epoch: [0]  [ 670/1082]  eta: 0:03:19  lr: 0.003357  loss: 0.3460 (0.5290)  loss_classifier: 0.0747 (0.1183)  loss_box_reg: 0.0431 (0.0622)  loss_mask: 0.2049 (0.3244)  loss_objectness: 0.0046 (0.0212)  loss_rpn_box_reg: 0.0013 (0.0029)  time: 0.4872  data: 0.0100  max mem: 4315\n",
            "Epoch: [0]  [ 680/1082]  eta: 0:03:14  lr: 0.003407  loss: 0.3601 (0.5260)  loss_classifier: 0.0889 (0.1182)  loss_box_reg: 0.0489 (0.0621)  loss_mask: 0.1851 (0.3218)  loss_objectness: 0.0044 (0.0210)  loss_rpn_box_reg: 0.0015 (0.0029)  time: 0.4881  data: 0.0099  max mem: 4315\n",
            "Epoch: [0]  [ 690/1082]  eta: 0:03:09  lr: 0.003457  loss: 0.3601 (0.5242)  loss_classifier: 0.0945 (0.1178)  loss_box_reg: 0.0591 (0.0621)  loss_mask: 0.1753 (0.3208)  loss_objectness: 0.0048 (0.0208)  loss_rpn_box_reg: 0.0015 (0.0029)  time: 0.4954  data: 0.0100  max mem: 4315\n",
            "Epoch: [0]  [ 700/1082]  eta: 0:03:04  lr: 0.003506  loss: 0.3299 (0.5205)  loss_classifier: 0.0709 (0.1170)  loss_box_reg: 0.0462 (0.0618)  loss_mask: 0.1658 (0.3182)  loss_objectness: 0.0056 (0.0206)  loss_rpn_box_reg: 0.0014 (0.0029)  time: 0.4871  data: 0.0100  max mem: 4315\n",
            "Epoch: [0]  [ 710/1082]  eta: 0:03:00  lr: 0.003556  loss: 0.2569 (0.5179)  loss_classifier: 0.0722 (0.1166)  loss_box_reg: 0.0346 (0.0616)  loss_mask: 0.1325 (0.3163)  loss_objectness: 0.0091 (0.0206)  loss_rpn_box_reg: 0.0012 (0.0028)  time: 0.4694  data: 0.0098  max mem: 4315\n",
            "Epoch: [0]  [ 720/1082]  eta: 0:02:55  lr: 0.003606  loss: 0.3139 (0.5158)  loss_classifier: 0.0731 (0.1162)  loss_box_reg: 0.0344 (0.0615)  loss_mask: 0.1685 (0.3149)  loss_objectness: 0.0091 (0.0205)  loss_rpn_box_reg: 0.0008 (0.0028)  time: 0.4740  data: 0.0100  max mem: 4315\n",
            "Epoch: [0]  [ 730/1082]  eta: 0:02:50  lr: 0.003656  loss: 0.3145 (0.5137)  loss_classifier: 0.0750 (0.1159)  loss_box_reg: 0.0470 (0.0614)  loss_mask: 0.1769 (0.3133)  loss_objectness: 0.0095 (0.0203)  loss_rpn_box_reg: 0.0012 (0.0028)  time: 0.4827  data: 0.0100  max mem: 4315\n",
            "Epoch: [0]  [ 740/1082]  eta: 0:02:45  lr: 0.003706  loss: 0.3145 (0.5112)  loss_classifier: 0.0815 (0.1155)  loss_box_reg: 0.0470 (0.0613)  loss_mask: 0.1769 (0.3114)  loss_objectness: 0.0099 (0.0202)  loss_rpn_box_reg: 0.0012 (0.0028)  time: 0.4799  data: 0.0096  max mem: 4315\n",
            "Epoch: [0]  [ 750/1082]  eta: 0:02:40  lr: 0.003756  loss: 0.3019 (0.5087)  loss_classifier: 0.0780 (0.1151)  loss_box_reg: 0.0516 (0.0612)  loss_mask: 0.1259 (0.3096)  loss_objectness: 0.0077 (0.0201)  loss_rpn_box_reg: 0.0014 (0.0028)  time: 0.4858  data: 0.0100  max mem: 4315\n",
            "Epoch: [0]  [ 760/1082]  eta: 0:02:35  lr: 0.003806  loss: 0.3113 (0.5060)  loss_classifier: 0.0839 (0.1148)  loss_box_reg: 0.0525 (0.0611)  loss_mask: 0.1254 (0.3074)  loss_objectness: 0.0061 (0.0200)  loss_rpn_box_reg: 0.0011 (0.0028)  time: 0.4968  data: 0.0101  max mem: 4315\n",
            "Epoch: [0]  [ 770/1082]  eta: 0:02:31  lr: 0.003856  loss: 0.3415 (0.5037)  loss_classifier: 0.0639 (0.1144)  loss_box_reg: 0.0364 (0.0609)  loss_mask: 0.1294 (0.3058)  loss_objectness: 0.0044 (0.0198)  loss_rpn_box_reg: 0.0010 (0.0027)  time: 0.4830  data: 0.0099  max mem: 4315\n",
            "Epoch: [0]  [ 780/1082]  eta: 0:02:26  lr: 0.003906  loss: 0.2763 (0.5007)  loss_classifier: 0.0591 (0.1140)  loss_box_reg: 0.0364 (0.0606)  loss_mask: 0.1244 (0.3036)  loss_objectness: 0.0066 (0.0197)  loss_rpn_box_reg: 0.0009 (0.0027)  time: 0.4827  data: 0.0105  max mem: 4315\n",
            "Epoch: [0]  [ 790/1082]  eta: 0:02:21  lr: 0.003956  loss: 0.2763 (0.4987)  loss_classifier: 0.0858 (0.1136)  loss_box_reg: 0.0427 (0.0605)  loss_mask: 0.1244 (0.3025)  loss_objectness: 0.0074 (0.0195)  loss_rpn_box_reg: 0.0008 (0.0027)  time: 0.4829  data: 0.0098  max mem: 4315\n",
            "Epoch: [0]  [ 800/1082]  eta: 0:02:16  lr: 0.004006  loss: 0.3452 (0.4975)  loss_classifier: 0.0923 (0.1134)  loss_box_reg: 0.0504 (0.0604)  loss_mask: 0.1883 (0.3016)  loss_objectness: 0.0074 (0.0195)  loss_rpn_box_reg: 0.0012 (0.0027)  time: 0.4831  data: 0.0093  max mem: 4315\n",
            "Epoch: [0]  [ 810/1082]  eta: 0:02:11  lr: 0.004056  loss: 0.3187 (0.4964)  loss_classifier: 0.0880 (0.1131)  loss_box_reg: 0.0493 (0.0602)  loss_mask: 0.1883 (0.3011)  loss_objectness: 0.0061 (0.0193)  loss_rpn_box_reg: 0.0012 (0.0027)  time: 0.4971  data: 0.0095  max mem: 4315\n",
            "Epoch: [0]  [ 820/1082]  eta: 0:02:06  lr: 0.004106  loss: 0.2874 (0.4942)  loss_classifier: 0.0757 (0.1125)  loss_box_reg: 0.0414 (0.0599)  loss_mask: 0.1568 (0.2998)  loss_objectness: 0.0051 (0.0193)  loss_rpn_box_reg: 0.0011 (0.0027)  time: 0.4845  data: 0.0088  max mem: 4315\n",
            "Epoch: [0]  [ 830/1082]  eta: 0:02:01  lr: 0.004156  loss: 0.2874 (0.4928)  loss_classifier: 0.0647 (0.1123)  loss_box_reg: 0.0414 (0.0598)  loss_mask: 0.1568 (0.2988)  loss_objectness: 0.0070 (0.0192)  loss_rpn_box_reg: 0.0013 (0.0027)  time: 0.4715  data: 0.0089  max mem: 4315\n",
            "Epoch: [0]  [ 840/1082]  eta: 0:01:57  lr: 0.004206  loss: 0.3719 (0.4912)  loss_classifier: 0.0686 (0.1118)  loss_box_reg: 0.0500 (0.0596)  loss_mask: 0.2196 (0.2980)  loss_objectness: 0.0087 (0.0191)  loss_rpn_box_reg: 0.0011 (0.0027)  time: 0.4776  data: 0.0099  max mem: 4315\n",
            "Epoch: [0]  [ 850/1082]  eta: 0:01:52  lr: 0.004256  loss: 0.3168 (0.4899)  loss_classifier: 0.0733 (0.1115)  loss_box_reg: 0.0455 (0.0595)  loss_mask: 0.2162 (0.2972)  loss_objectness: 0.0087 (0.0190)  loss_rpn_box_reg: 0.0014 (0.0026)  time: 0.4760  data: 0.0096  max mem: 4315\n",
            "Epoch: [0]  [ 860/1082]  eta: 0:01:47  lr: 0.004306  loss: 0.4308 (0.4888)  loss_classifier: 0.0807 (0.1114)  loss_box_reg: 0.0515 (0.0596)  loss_mask: 0.1925 (0.2963)  loss_objectness: 0.0075 (0.0189)  loss_rpn_box_reg: 0.0011 (0.0026)  time: 0.4792  data: 0.0095  max mem: 4315\n",
            "Epoch: [0]  [ 870/1082]  eta: 0:01:42  lr: 0.004356  loss: 0.3179 (0.4873)  loss_classifier: 0.0846 (0.1113)  loss_box_reg: 0.0515 (0.0597)  loss_mask: 0.1596 (0.2949)  loss_objectness: 0.0070 (0.0188)  loss_rpn_box_reg: 0.0010 (0.0026)  time: 0.4890  data: 0.0103  max mem: 4315\n",
            "Epoch: [0]  [ 880/1082]  eta: 0:01:37  lr: 0.004406  loss: 0.3164 (0.4863)  loss_classifier: 0.0860 (0.1113)  loss_box_reg: 0.0495 (0.0597)  loss_mask: 0.1478 (0.2940)  loss_objectness: 0.0068 (0.0188)  loss_rpn_box_reg: 0.0012 (0.0026)  time: 0.4917  data: 0.0100  max mem: 4315\n",
            "Epoch: [0]  [ 890/1082]  eta: 0:01:32  lr: 0.004456  loss: 0.2432 (0.4833)  loss_classifier: 0.0782 (0.1107)  loss_box_reg: 0.0416 (0.0594)  loss_mask: 0.1305 (0.2919)  loss_objectness: 0.0042 (0.0186)  loss_rpn_box_reg: 0.0011 (0.0026)  time: 0.4888  data: 0.0097  max mem: 4315\n",
            "Epoch: [0]  [ 900/1082]  eta: 0:01:28  lr: 0.004505  loss: 0.2357 (0.4818)  loss_classifier: 0.0659 (0.1105)  loss_box_reg: 0.0460 (0.0594)  loss_mask: 0.1283 (0.2908)  loss_objectness: 0.0038 (0.0185)  loss_rpn_box_reg: 0.0007 (0.0026)  time: 0.4763  data: 0.0098  max mem: 4315\n",
            "Epoch: [0]  [ 910/1082]  eta: 0:01:23  lr: 0.004555  loss: 0.3035 (0.4804)  loss_classifier: 0.0767 (0.1103)  loss_box_reg: 0.0481 (0.0593)  loss_mask: 0.1486 (0.2898)  loss_objectness: 0.0042 (0.0184)  loss_rpn_box_reg: 0.0011 (0.0026)  time: 0.4816  data: 0.0095  max mem: 4315\n",
            "Epoch: [0]  [ 920/1082]  eta: 0:01:18  lr: 0.004605  loss: 0.3054 (0.4783)  loss_classifier: 0.0731 (0.1099)  loss_box_reg: 0.0412 (0.0591)  loss_mask: 0.1492 (0.2884)  loss_objectness: 0.0088 (0.0184)  loss_rpn_box_reg: 0.0011 (0.0026)  time: 0.4873  data: 0.0100  max mem: 4315\n",
            "Epoch: [0]  [ 930/1082]  eta: 0:01:13  lr: 0.004655  loss: 0.2712 (0.4765)  loss_classifier: 0.0565 (0.1094)  loss_box_reg: 0.0253 (0.0588)  loss_mask: 0.1823 (0.2875)  loss_objectness: 0.0064 (0.0183)  loss_rpn_box_reg: 0.0011 (0.0026)  time: 0.4817  data: 0.0100  max mem: 4315\n",
            "Epoch: [0]  [ 940/1082]  eta: 0:01:08  lr: 0.004705  loss: 0.3566 (0.4757)  loss_classifier: 0.0637 (0.1092)  loss_box_reg: 0.0393 (0.0588)  loss_mask: 0.2142 (0.2871)  loss_objectness: 0.0062 (0.0182)  loss_rpn_box_reg: 0.0013 (0.0025)  time: 0.4823  data: 0.0092  max mem: 4315\n",
            "Epoch: [0]  [ 950/1082]  eta: 0:01:03  lr: 0.004755  loss: 0.3262 (0.4735)  loss_classifier: 0.0708 (0.1087)  loss_box_reg: 0.0393 (0.0585)  loss_mask: 0.1655 (0.2856)  loss_objectness: 0.0054 (0.0181)  loss_rpn_box_reg: 0.0016 (0.0025)  time: 0.4857  data: 0.0088  max mem: 4315\n",
            "Epoch: [0]  [ 960/1082]  eta: 0:00:59  lr: 0.004805  loss: 0.2915 (0.4717)  loss_classifier: 0.0563 (0.1082)  loss_box_reg: 0.0268 (0.0583)  loss_mask: 0.1491 (0.2847)  loss_objectness: 0.0055 (0.0180)  loss_rpn_box_reg: 0.0014 (0.0025)  time: 0.4832  data: 0.0094  max mem: 4315\n",
            "Epoch: [0]  [ 970/1082]  eta: 0:00:54  lr: 0.004855  loss: 0.2915 (0.4703)  loss_classifier: 0.0489 (0.1080)  loss_box_reg: 0.0299 (0.0581)  loss_mask: 0.1564 (0.2837)  loss_objectness: 0.0069 (0.0179)  loss_rpn_box_reg: 0.0013 (0.0025)  time: 0.4710  data: 0.0098  max mem: 4315\n",
            "Epoch: [0]  [ 980/1082]  eta: 0:00:49  lr: 0.004905  loss: 0.3453 (0.4693)  loss_classifier: 0.0715 (0.1077)  loss_box_reg: 0.0449 (0.0580)  loss_mask: 0.1564 (0.2833)  loss_objectness: 0.0050 (0.0178)  loss_rpn_box_reg: 0.0011 (0.0025)  time: 0.4967  data: 0.0089  max mem: 4315\n",
            "Epoch: [0]  [ 990/1082]  eta: 0:00:44  lr: 0.004955  loss: 0.3379 (0.4687)  loss_classifier: 0.0808 (0.1077)  loss_box_reg: 0.0471 (0.0579)  loss_mask: 0.1814 (0.2828)  loss_objectness: 0.0051 (0.0177)  loss_rpn_box_reg: 0.0013 (0.0025)  time: 0.5173  data: 0.0091  max mem: 4315\n",
            "Epoch: [0]  [1000/1082]  eta: 0:00:39  lr: 0.005000  loss: 0.3229 (0.4675)  loss_classifier: 0.0961 (0.1075)  loss_box_reg: 0.0416 (0.0579)  loss_mask: 0.1807 (0.2819)  loss_objectness: 0.0119 (0.0177)  loss_rpn_box_reg: 0.0016 (0.0025)  time: 0.5199  data: 0.0097  max mem: 4863\n",
            "Epoch: [0]  [1010/1082]  eta: 0:00:34  lr: 0.005000  loss: 0.3018 (0.4667)  loss_classifier: 0.0866 (0.1074)  loss_box_reg: 0.0423 (0.0578)  loss_mask: 0.1695 (0.2814)  loss_objectness: 0.0047 (0.0176)  loss_rpn_box_reg: 0.0014 (0.0025)  time: 0.5131  data: 0.0102  max mem: 4863\n",
            "Epoch: [0]  [1020/1082]  eta: 0:00:30  lr: 0.005000  loss: 0.4166 (0.4671)  loss_classifier: 0.0920 (0.1075)  loss_box_reg: 0.0520 (0.0579)  loss_mask: 0.1984 (0.2816)  loss_objectness: 0.0067 (0.0176)  loss_rpn_box_reg: 0.0018 (0.0025)  time: 0.4858  data: 0.0104  max mem: 4863\n",
            "Epoch: [0]  [1030/1082]  eta: 0:00:25  lr: 0.005000  loss: 0.4181 (0.4655)  loss_classifier: 0.0786 (0.1071)  loss_box_reg: 0.0463 (0.0578)  loss_mask: 0.2359 (0.2807)  loss_objectness: 0.0135 (0.0175)  loss_rpn_box_reg: 0.0021 (0.0025)  time: 0.4736  data: 0.0100  max mem: 4863\n",
            "Epoch: [0]  [1040/1082]  eta: 0:00:20  lr: 0.005000  loss: 0.2936 (0.4643)  loss_classifier: 0.0488 (0.1069)  loss_box_reg: 0.0376 (0.0578)  loss_mask: 0.1544 (0.2796)  loss_objectness: 0.0096 (0.0174)  loss_rpn_box_reg: 0.0015 (0.0025)  time: 0.4742  data: 0.0098  max mem: 4863\n",
            "Epoch: [0]  [1050/1082]  eta: 0:00:15  lr: 0.005000  loss: 0.2936 (0.4624)  loss_classifier: 0.0592 (0.1065)  loss_box_reg: 0.0397 (0.0577)  loss_mask: 0.1544 (0.2784)  loss_objectness: 0.0091 (0.0174)  loss_rpn_box_reg: 0.0017 (0.0025)  time: 0.4742  data: 0.0104  max mem: 4863\n",
            "Epoch: [0]  [1060/1082]  eta: 0:00:10  lr: 0.005000  loss: 0.2938 (0.4616)  loss_classifier: 0.0746 (0.1062)  loss_box_reg: 0.0425 (0.0576)  loss_mask: 0.1619 (0.2780)  loss_objectness: 0.0098 (0.0173)  loss_rpn_box_reg: 0.0019 (0.0025)  time: 0.4692  data: 0.0107  max mem: 4863\n",
            "Epoch: [0]  [1070/1082]  eta: 0:00:05  lr: 0.005000  loss: 0.3089 (0.4605)  loss_classifier: 0.0811 (0.1060)  loss_box_reg: 0.0445 (0.0575)  loss_mask: 0.1905 (0.2773)  loss_objectness: 0.0052 (0.0172)  loss_rpn_box_reg: 0.0015 (0.0025)  time: 0.4807  data: 0.0099  max mem: 4863\n",
            "Epoch: [0]  [1080/1082]  eta: 0:00:00  lr: 0.005000  loss: 0.3703 (0.4601)  loss_classifier: 0.0948 (0.1059)  loss_box_reg: 0.0568 (0.0576)  loss_mask: 0.2145 (0.2770)  loss_objectness: 0.0056 (0.0172)  loss_rpn_box_reg: 0.0015 (0.0025)  time: 0.4836  data: 0.0092  max mem: 4863\n",
            "Epoch: [0]  [1081/1082]  eta: 0:00:00  lr: 0.005000  loss: 0.3703 (0.4598)  loss_classifier: 0.0948 (0.1059)  loss_box_reg: 0.0568 (0.0575)  loss_mask: 0.2145 (0.2768)  loss_objectness: 0.0060 (0.0172)  loss_rpn_box_reg: 0.0015 (0.0025)  time: 0.4808  data: 0.0091  max mem: 4863\n",
            "Epoch: [0] Total time: 0:08:44 (0.4846 s / it)\n"
          ]
        }
      ]
    },
    {
      "cell_type": "code",
      "source": [
        "torch.save(classification_model.state_dict(), 'classification_model.pth')"
      ],
      "metadata": {
        "id": "G76vsfqfveub"
      },
      "execution_count": 64,
      "outputs": []
    },
    {
      "cell_type": "code",
      "source": [
        "img_path = glob('Testing/*/*')[0]\n",
        "img_original = cv2.imread(img_path)\n",
        "img, _ = get_transform(train=False)(img_original, {})\n",
        "classification_model.eval()\n",
        "\n",
        "with torch.no_grad():\n",
        "    prediction = classification_model([img.to(device)])"
      ],
      "metadata": {
        "id": "kPyHQzZ-1QNW"
      },
      "execution_count": 84,
      "outputs": []
    },
    {
      "cell_type": "code",
      "source": [
        "img_path"
      ],
      "metadata": {
        "colab": {
          "base_uri": "https://localhost:8080/",
          "height": 35
        },
        "id": "H2aOp4fT64kn",
        "outputId": "7b37cfb8-3796-4428-b476-00fa6367612c"
      },
      "execution_count": 72,
      "outputs": [
        {
          "output_type": "execute_result",
          "data": {
            "text/plain": [
              "'Testing/pituitary_tumor/image(48).jpg'"
            ],
            "application/vnd.google.colaboratory.intrinsic+json": {
              "type": "string"
            }
          },
          "metadata": {},
          "execution_count": 72
        }
      ]
    },
    {
      "cell_type": "code",
      "source": [
        "class_to_name = dict(df[['tumor_class', 'tumor_name']].to_numpy())"
      ],
      "metadata": {
        "id": "n9lAqDwP65LG"
      },
      "execution_count": 80,
      "outputs": []
    },
    {
      "cell_type": "code",
      "source": [
        "plt.title('pituitary_tumor')\n",
        "plt.imshow(img_original)"
      ],
      "metadata": {
        "colab": {
          "base_uri": "https://localhost:8080/",
          "height": 299
        },
        "id": "Nbyw_N8z7VDA",
        "outputId": "601530c3-deb2-459a-eb70-5abae8231b97"
      },
      "execution_count": 86,
      "outputs": [
        {
          "output_type": "execute_result",
          "data": {
            "text/plain": [
              "<matplotlib.image.AxesImage at 0x7f21ae254350>"
            ]
          },
          "metadata": {},
          "execution_count": 86
        },
        {
          "output_type": "display_data",
          "data": {
            "text/plain": [
              "<Figure size 432x288 with 1 Axes>"
            ],
            "image/png": "[encoded data removed]"
          },
          "metadata": {
            "needs_background": "light"
          }
        }
      ]
    },
    {
      "cell_type": "code",
      "source": [
        "def get_tumor_mask_and_class(img_path):\n",
        "    img_original = cv2.imread(img_path)\n",
        "    img, _ = get_transform(train=False)(img_original, {})\n",
        "    \n",
        "    with torch.no_grad():\n",
        "        prediction = classification_model([img.to(device)])\n",
        "\n",
        "    overall_desease = None\n",
        "    total_mask = np.zeros_like(img_original)[:, :, 0]\n",
        "\n",
        "    for label, mask, score in zip(prediction[0]['labels'], prediction[0]['masks'], prediction[0]['scores']):\n",
        "        if label.item() != 2 and score.item() > 0.15 and (not overall_desease or label.item() == overall_desease):\n",
        "            mask = mask[0].mul(255).byte().cpu().numpy()\n",
        "            mask = cv2.threshold(mask, 100, 255, cv2.THRESH_BINARY)[1]\n",
        "            overall_desease = label.item()\n",
        "\n",
        "            total_mask[mask == 255] = 255\n",
        "\n",
        "    return {'mask': total_mask, 'label': overall_desease or 0}"
      ],
      "metadata": {
        "id": "JNdgtplt-GQl"
      },
      "execution_count": 137,
      "outputs": []
    },
    {
      "cell_type": "code",
      "source": [
        "answer = get_tumor_mask_and_class(glob('Testing/*/*')[0])\n",
        "\n",
        "plt.title(answer['label'])\n",
        "plt.imshow(answer['mask'])"
      ],
      "metadata": {
        "colab": {
          "base_uri": "https://localhost:8080/",
          "height": 299
        },
        "id": "asX3Kjwf6Y7C",
        "outputId": "cbce8c13-f082-43cc-b144-286fa6c4a1b3"
      },
      "execution_count": 138,
      "outputs": [
        {
          "output_type": "execute_result",
          "data": {
            "text/plain": [
              "<matplotlib.image.AxesImage at 0x7f20d0bae810>"
            ]
          },
          "metadata": {},
          "execution_count": 138
        },
        {
          "output_type": "display_data",
          "data": {
            "text/plain": [
              "<Figure size 432x288 with 1 Axes>"
            ],
            "image/png": "[encoded data removed]"
          },
          "metadata": {
            "needs_background": "light"
          }
        }
      ]
    },
    {
      "cell_type": "code",
      "source": [
        "labels = [get_tumor_mask_and_class(f)['label'] for f in tqdm(df.image_path)]"
      ],
      "metadata": {
        "colab": {
          "base_uri": "https://localhost:8080/",
          "height": 49,
          "referenced_widgets": [
            "0a4ff02a8c17416089d255577ec6d92e",
            "813df6e1bb3e47739d17769b8b54c250",
            "7cd01257247940d99e73bc0bd5fa1502",
            "d80c59e332884ad085d14f844af69079",
            "5709cfde4cb1477491ddeb762bf35980",
            "f30de7f2b09d4d4688e843a51909abfb",
            "b51f33989cd849db9cd34e8ddb97a5cf",
            "f84ecc6b82c14e02b36142bda3e26a09",
            "353cd38e5be04272ae33f293e01549ca",
            "2dbe7d0836b14ed392c6dd1582573d3d",
            "b346c01e763f4bdbb0d78349cc300fd0"
          ]
        },
        "id": "Je6pgDmX6bu4",
        "outputId": "7fb3edd4-00f3-4924-c805-b9d241e28fb6"
      },
      "execution_count": 139,
      "outputs": [
        {
          "output_type": "display_data",
          "data": {
            "text/plain": [
              "  0%|          | 0/2870 [00:00<?, ?it/s]"
            ],
            "application/vnd.jupyter.widget-view+json": {
              "version_major": 2,
              "version_minor": 0,
              "model_id": "0a4ff02a8c17416089d255577ec6d92e"
            }
          },
          "metadata": {}
        }
      ]
    },
    {
      "cell_type": "code",
      "source": [
        "from sklearn.metrics import accuracy_score"
      ],
      "metadata": {
        "id": "0GtyAnvP-2o3"
      },
      "execution_count": 140,
      "outputs": []
    },
    {
      "cell_type": "code",
      "source": [
        "ll = list(map(lambda x: x if x else 0, labels))"
      ],
      "metadata": {
        "id": "1ZU3Lln8AoqV"
      },
      "execution_count": 151,
      "outputs": []
    },
    {
      "cell_type": "code",
      "source": [
        "accuracy_score(ll, df['tumor_class'])"
      ],
      "metadata": {
        "colab": {
          "base_uri": "https://localhost:8080/"
        },
        "id": "hCB0sWfLAe8v",
        "outputId": "b402a8ea-fca7-4572-ae59-c5c5ee8a7f50"
      },
      "execution_count": 152,
      "outputs": [
        {
          "output_type": "execute_result",
          "data": {
            "text/plain": [
              "0.6320557491289198"
            ]
          },
          "metadata": {},
          "execution_count": 152
        }
      ]
    }
  ]
}