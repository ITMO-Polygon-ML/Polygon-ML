{
  "nbformat": 4,
  "nbformat_minor": 0,
  "metadata": {
    "accelerator": "GPU",
    "colab": {
      "name": "MRI BRAIN SEGMENTATION",
      "provenance": [],
      "collapsed_sections": []
    },
    "kernelspec": {
      "display_name": "Python 3",
      "language": "python",
      "name": "python3"
    },
    "language_info": {
      "codemirror_mode": {
        "name": "ipython",
        "version": 3
      },
      "file_extension": ".py",
      "mimetype": "text/x-python",
      "name": "python",
      "nbconvert_exporter": "python",
      "pygments_lexer": "ipython3",
      "version": "3.6.4"
    },
    "widgets": {
      "application/vnd.jupyter.widget-state+json": {
        "844f809a1620456b8bd6fb55dbb50aa4": {
          "model_module": "@jupyter-widgets/controls",
          "model_name": "HBoxModel",
          "model_module_version": "1.5.0",
          "state": {
            "_dom_classes": [],
            "_model_module": "@jupyter-widgets/controls",
            "_model_module_version": "1.5.0",
            "_model_name": "HBoxModel",
            "_view_count": null,
            "_view_module": "@jupyter-widgets/controls",
            "_view_module_version": "1.5.0",
            "_view_name": "HBoxView",
            "box_style": "",
            "children": [
              "IPY_MODEL_2d6536da440b422995f57956419e7f69",
              "IPY_MODEL_d40ea804ae9e40cb9414555c9159b481",
              "IPY_MODEL_a3d6f96d11f346b5a062f453e3c8e5e8"
            ],
            "layout": "IPY_MODEL_d6efaee07f8346db8628b9439ee8f975"
          }
        },
        "2d6536da440b422995f57956419e7f69": {
          "model_module": "@jupyter-widgets/controls",
          "model_name": "HTMLModel",
          "model_module_version": "1.5.0",
          "state": {
            "_dom_classes": [],
            "_model_module": "@jupyter-widgets/controls",
            "_model_module_version": "1.5.0",
            "_model_name": "HTMLModel",
            "_view_count": null,
            "_view_module": "@jupyter-widgets/controls",
            "_view_module_version": "1.5.0",
            "_view_name": "HTMLView",
            "description": "",
            "description_tooltip": null,
            "layout": "IPY_MODEL_17801d4278a141baa0968d038d7bdd6b",
            "placeholder": "​",
            "style": "IPY_MODEL_18a4e365cbd24d45beda4f1ca66fe61a",
            "value": "100%"
          }
        },
        "d40ea804ae9e40cb9414555c9159b481": {
          "model_module": "@jupyter-widgets/controls",
          "model_name": "FloatProgressModel",
          "model_module_version": "1.5.0",
          "state": {
            "_dom_classes": [],
            "_model_module": "@jupyter-widgets/controls",
            "_model_module_version": "1.5.0",
            "_model_name": "FloatProgressModel",
            "_view_count": null,
            "_view_module": "@jupyter-widgets/controls",
            "_view_module_version": "1.5.0",
            "_view_name": "ProgressView",
            "bar_style": "success",
            "description": "",
            "description_tooltip": null,
            "layout": "IPY_MODEL_894cd1084c7f4e4dbecd7616a1010f85",
            "max": 2870,
            "min": 0,
            "orientation": "horizontal",
            "style": "IPY_MODEL_22e2b64c3341467f89b49f81420834ca",
            "value": 2870
          }
        },
        "a3d6f96d11f346b5a062f453e3c8e5e8": {
          "model_module": "@jupyter-widgets/controls",
          "model_name": "HTMLModel",
          "model_module_version": "1.5.0",
          "state": {
            "_dom_classes": [],
            "_model_module": "@jupyter-widgets/controls",
            "_model_module_version": "1.5.0",
            "_model_name": "HTMLModel",
            "_view_count": null,
            "_view_module": "@jupyter-widgets/controls",
            "_view_module_version": "1.5.0",
            "_view_name": "HTMLView",
            "description": "",
            "description_tooltip": null,
            "layout": "IPY_MODEL_53c55d49a9ba4f80b426c8cf1ea8abbd",
            "placeholder": "​",
            "style": "IPY_MODEL_ee2937626640431098f8bd7e5ee12171",
            "value": " 2870/2870 [00:00&lt;00:00, 54360.79it/s]"
          }
        },
        "d6efaee07f8346db8628b9439ee8f975": {
          "model_module": "@jupyter-widgets/base",
          "model_name": "LayoutModel",
          "model_module_version": "1.2.0",
          "state": {
            "_model_module": "@jupyter-widgets/base",
            "_model_module_version": "1.2.0",
            "_model_name": "LayoutModel",
            "_view_count": null,
            "_view_module": "@jupyter-widgets/base",
            "_view_module_version": "1.2.0",
            "_view_name": "LayoutView",
            "align_content": null,
            "align_items": null,
            "align_self": null,
            "border": null,
            "bottom": null,
            "display": null,
            "flex": null,
            "flex_flow": null,
            "grid_area": null,
            "grid_auto_columns": null,
            "grid_auto_flow": null,
            "grid_auto_rows": null,
            "grid_column": null,
            "grid_gap": null,
            "grid_row": null,
            "grid_template_areas": null,
            "grid_template_columns": null,
            "grid_template_rows": null,
            "height": null,
            "justify_content": null,
            "justify_items": null,
            "left": null,
            "margin": null,
            "max_height": null,
            "max_width": null,
            "min_height": null,
            "min_width": null,
            "object_fit": null,
            "object_position": null,
            "order": null,
            "overflow": null,
            "overflow_x": null,
            "overflow_y": null,
            "padding": null,
            "right": null,
            "top": null,
            "visibility": null,
            "width": null
          }
        },
        "17801d4278a141baa0968d038d7bdd6b": {
          "model_module": "@jupyter-widgets/base",
          "model_name": "LayoutModel",
          "model_module_version": "1.2.0",
          "state": {
            "_model_module": "@jupyter-widgets/base",
            "_model_module_version": "1.2.0",
            "_model_name": "LayoutModel",
            "_view_count": null,
            "_view_module": "@jupyter-widgets/base",
            "_view_module_version": "1.2.0",
            "_view_name": "LayoutView",
            "align_content": null,
            "align_items": null,
            "align_self": null,
            "border": null,
            "bottom": null,
            "display": null,
            "flex": null,
            "flex_flow": null,
            "grid_area": null,
            "grid_auto_columns": null,
            "grid_auto_flow": null,
            "grid_auto_rows": null,
            "grid_column": null,
            "grid_gap": null,
            "grid_row": null,
            "grid_template_areas": null,
            "grid_template_columns": null,
            "grid_template_rows": null,
            "height": null,
            "justify_content": null,
            "justify_items": null,
            "left": null,
            "margin": null,
            "max_height": null,
            "max_width": null,
            "min_height": null,
            "min_width": null,
            "object_fit": null,
            "object_position": null,
            "order": null,
            "overflow": null,
            "overflow_x": null,
            "overflow_y": null,
            "padding": null,
            "right": null,
            "top": null,
            "visibility": null,
            "width": null
          }
        },
        "18a4e365cbd24d45beda4f1ca66fe61a": {
          "model_module": "@jupyter-widgets/controls",
          "model_name": "DescriptionStyleModel",
          "model_module_version": "1.5.0",
          "state": {
            "_model_module": "@jupyter-widgets/controls",
            "_model_module_version": "1.5.0",
            "_model_name": "DescriptionStyleModel",
            "_view_count": null,
            "_view_module": "@jupyter-widgets/base",
            "_view_module_version": "1.2.0",
            "_view_name": "StyleView",
            "description_width": ""
          }
        },
        "894cd1084c7f4e4dbecd7616a1010f85": {
          "model_module": "@jupyter-widgets/base",
          "model_name": "LayoutModel",
          "model_module_version": "1.2.0",
          "state": {
            "_model_module": "@jupyter-widgets/base",
            "_model_module_version": "1.2.0",
            "_model_name": "LayoutModel",
            "_view_count": null,
            "_view_module": "@jupyter-widgets/base",
            "_view_module_version": "1.2.0",
            "_view_name": "LayoutView",
            "align_content": null,
            "align_items": null,
            "align_self": null,
            "border": null,
            "bottom": null,
            "display": null,
            "flex": null,
            "flex_flow": null,
            "grid_area": null,
            "grid_auto_columns": null,
            "grid_auto_flow": null,
            "grid_auto_rows": null,
            "grid_column": null,
            "grid_gap": null,
            "grid_row": null,
            "grid_template_areas": null,
            "grid_template_columns": null,
            "grid_template_rows": null,
            "height": null,
            "justify_content": null,
            "justify_items": null,
            "left": null,
            "margin": null,
            "max_height": null,
            "max_width": null,
            "min_height": null,
            "min_width": null,
            "object_fit": null,
            "object_position": null,
            "order": null,
            "overflow": null,
            "overflow_x": null,
            "overflow_y": null,
            "padding": null,
            "right": null,
            "top": null,
            "visibility": null,
            "width": null
          }
        },
        "22e2b64c3341467f89b49f81420834ca": {
          "model_module": "@jupyter-widgets/controls",
          "model_name": "ProgressStyleModel",
          "model_module_version": "1.5.0",
          "state": {
            "_model_module": "@jupyter-widgets/controls",
            "_model_module_version": "1.5.0",
            "_model_name": "ProgressStyleModel",
            "_view_count": null,
            "_view_module": "@jupyter-widgets/base",
            "_view_module_version": "1.2.0",
            "_view_name": "StyleView",
            "bar_color": null,
            "description_width": ""
          }
        },
        "53c55d49a9ba4f80b426c8cf1ea8abbd": {
          "model_module": "@jupyter-widgets/base",
          "model_name": "LayoutModel",
          "model_module_version": "1.2.0",
          "state": {
            "_model_module": "@jupyter-widgets/base",
            "_model_module_version": "1.2.0",
            "_model_name": "LayoutModel",
            "_view_count": null,
            "_view_module": "@jupyter-widgets/base",
            "_view_module_version": "1.2.0",
            "_view_name": "LayoutView",
            "align_content": null,
            "align_items": null,
            "align_self": null,
            "border": null,
            "bottom": null,
            "display": null,
            "flex": null,
            "flex_flow": null,
            "grid_area": null,
            "grid_auto_columns": null,
            "grid_auto_flow": null,
            "grid_auto_rows": null,
            "grid_column": null,
            "grid_gap": null,
            "grid_row": null,
            "grid_template_areas": null,
            "grid_template_columns": null,
            "grid_template_rows": null,
            "height": null,
            "justify_content": null,
            "justify_items": null,
            "left": null,
            "margin": null,
            "max_height": null,
            "max_width": null,
            "min_height": null,
            "min_width": null,
            "object_fit": null,
            "object_position": null,
            "order": null,
            "overflow": null,
            "overflow_x": null,
            "overflow_y": null,
            "padding": null,
            "right": null,
            "top": null,
            "visibility": null,
            "width": null
          }
        },
        "ee2937626640431098f8bd7e5ee12171": {
          "model_module": "@jupyter-widgets/controls",
          "model_name": "DescriptionStyleModel",
          "model_module_version": "1.5.0",
          "state": {
            "_model_module": "@jupyter-widgets/controls",
            "_model_module_version": "1.5.0",
            "_model_name": "DescriptionStyleModel",
            "_view_count": null,
            "_view_module": "@jupyter-widgets/base",
            "_view_module_version": "1.2.0",
            "_view_name": "StyleView",
            "description_width": ""
          }
        },
        "0a4ff02a8c17416089d255577ec6d92e": {
          "model_module": "@jupyter-widgets/controls",
          "model_name": "HBoxModel",
          "model_module_version": "1.5.0",
          "state": {
            "_dom_classes": [],
            "_model_module": "@jupyter-widgets/controls",
            "_model_module_version": "1.5.0",
            "_model_name": "HBoxModel",
            "_view_count": null,
            "_view_module": "@jupyter-widgets/controls",
            "_view_module_version": "1.5.0",
            "_view_name": "HBoxView",
            "box_style": "",
            "children": [
              "IPY_MODEL_813df6e1bb3e47739d17769b8b54c250",
              "IPY_MODEL_7cd01257247940d99e73bc0bd5fa1502",
              "IPY_MODEL_d80c59e332884ad085d14f844af69079"
            ],
            "layout": "IPY_MODEL_5709cfde4cb1477491ddeb762bf35980"
          }
        },
        "813df6e1bb3e47739d17769b8b54c250": {
          "model_module": "@jupyter-widgets/controls",
          "model_name": "HTMLModel",
          "model_module_version": "1.5.0",
          "state": {
            "_dom_classes": [],
            "_model_module": "@jupyter-widgets/controls",
            "_model_module_version": "1.5.0",
            "_model_name": "HTMLModel",
            "_view_count": null,
            "_view_module": "@jupyter-widgets/controls",
            "_view_module_version": "1.5.0",
            "_view_name": "HTMLView",
            "description": "",
            "description_tooltip": null,
            "layout": "IPY_MODEL_f30de7f2b09d4d4688e843a51909abfb",
            "placeholder": "​",
            "style": "IPY_MODEL_b51f33989cd849db9cd34e8ddb97a5cf",
            "value": "100%"
          }
        },
        "7cd01257247940d99e73bc0bd5fa1502": {
          "model_module": "@jupyter-widgets/controls",
          "model_name": "FloatProgressModel",
          "model_module_version": "1.5.0",
          "state": {
            "_dom_classes": [],
            "_model_module": "@jupyter-widgets/controls",
            "_model_module_version": "1.5.0",
            "_model_name": "FloatProgressModel",
            "_view_count": null,
            "_view_module": "@jupyter-widgets/controls",
            "_view_module_version": "1.5.0",
            "_view_name": "ProgressView",
            "bar_style": "success",
            "description": "",
            "description_tooltip": null,
            "layout": "IPY_MODEL_f84ecc6b82c14e02b36142bda3e26a09",
            "max": 2870,
            "min": 0,
            "orientation": "horizontal",
            "style": "IPY_MODEL_353cd38e5be04272ae33f293e01549ca",
            "value": 2870
          }
        },
        "d80c59e332884ad085d14f844af69079": {
          "model_module": "@jupyter-widgets/controls",
          "model_name": "HTMLModel",
          "model_module_version": "1.5.0",
          "state": {
            "_dom_classes": [],
            "_model_module": "@jupyter-widgets/controls",
            "_model_module_version": "1.5.0",
            "_model_name": "HTMLModel",
            "_view_count": null,
            "_view_module": "@jupyter-widgets/controls",
            "_view_module_version": "1.5.0",
            "_view_name": "HTMLView",
            "description": "",
            "description_tooltip": null,
            "layout": "IPY_MODEL_2dbe7d0836b14ed392c6dd1582573d3d",
            "placeholder": "​",
            "style": "IPY_MODEL_b346c01e763f4bdbb0d78349cc300fd0",
            "value": " 2870/2870 [04:39&lt;00:00, 10.53it/s]"
          }
        },
        "5709cfde4cb1477491ddeb762bf35980": {
          "model_module": "@jupyter-widgets/base",
          "model_name": "LayoutModel",
          "model_module_version": "1.2.0",
          "state": {
            "_model_module": "@jupyter-widgets/base",
            "_model_module_version": "1.2.0",
            "_model_name": "LayoutModel",
            "_view_count": null,
            "_view_module": "@jupyter-widgets/base",
            "_view_module_version": "1.2.0",
            "_view_name": "LayoutView",
            "align_content": null,
            "align_items": null,
            "align_self": null,
            "border": null,
            "bottom": null,
            "display": null,
            "flex": null,
            "flex_flow": null,
            "grid_area": null,
            "grid_auto_columns": null,
            "grid_auto_flow": null,
            "grid_auto_rows": null,
            "grid_column": null,
            "grid_gap": null,
            "grid_row": null,
            "grid_template_areas": null,
            "grid_template_columns": null,
            "grid_template_rows": null,
            "height": null,
            "justify_content": null,
            "justify_items": null,
            "left": null,
            "margin": null,
            "max_height": null,
            "max_width": null,
            "min_height": null,
            "min_width": null,
            "object_fit": null,
            "object_position": null,
            "order": null,
            "overflow": null,
            "overflow_x": null,
            "overflow_y": null,
            "padding": null,
            "right": null,
            "top": null,
            "visibility": null,
            "width": null
          }
        },
        "f30de7f2b09d4d4688e843a51909abfb": {
          "model_module": "@jupyter-widgets/base",
          "model_name": "LayoutModel",
          "model_module_version": "1.2.0",
          "state": {
            "_model_module": "@jupyter-widgets/base",
            "_model_module_version": "1.2.0",
            "_model_name": "LayoutModel",
            "_view_count": null,
            "_view_module": "@jupyter-widgets/base",
            "_view_module_version": "1.2.0",
            "_view_name": "LayoutView",
            "align_content": null,
            "align_items": null,
            "align_self": null,
            "border": null,
            "bottom": null,
            "display": null,
            "flex": null,
            "flex_flow": null,
            "grid_area": null,
            "grid_auto_columns": null,
            "grid_auto_flow": null,
            "grid_auto_rows": null,
            "grid_column": null,
            "grid_gap": null,
            "grid_row": null,
            "grid_template_areas": null,
            "grid_template_columns": null,
            "grid_template_rows": null,
            "height": null,
            "justify_content": null,
            "justify_items": null,
            "left": null,
            "margin": null,
            "max_height": null,
            "max_width": null,
            "min_height": null,
            "min_width": null,
            "object_fit": null,
            "object_position": null,
            "order": null,
            "overflow": null,
            "overflow_x": null,
            "overflow_y": null,
            "padding": null,
            "right": null,
            "top": null,
            "visibility": null,
            "width": null
          }
        },
        "b51f33989cd849db9cd34e8ddb97a5cf": {
          "model_module": "@jupyter-widgets/controls",
          "model_name": "DescriptionStyleModel",
          "model_module_version": "1.5.0",
          "state": {
            "_model_module": "@jupyter-widgets/controls",
            "_model_module_version": "1.5.0",
            "_model_name": "DescriptionStyleModel",
            "_view_count": null,
            "_view_module": "@jupyter-widgets/base",
            "_view_module_version": "1.2.0",
            "_view_name": "StyleView",
            "description_width": ""
          }
        },
        "f84ecc6b82c14e02b36142bda3e26a09": {
          "model_module": "@jupyter-widgets/base",
          "model_name": "LayoutModel",
          "model_module_version": "1.2.0",
          "state": {
            "_model_module": "@jupyter-widgets/base",
            "_model_module_version": "1.2.0",
            "_model_name": "LayoutModel",
            "_view_count": null,
            "_view_module": "@jupyter-widgets/base",
            "_view_module_version": "1.2.0",
            "_view_name": "LayoutView",
            "align_content": null,
            "align_items": null,
            "align_self": null,
            "border": null,
            "bottom": null,
            "display": null,
            "flex": null,
            "flex_flow": null,
            "grid_area": null,
            "grid_auto_columns": null,
            "grid_auto_flow": null,
            "grid_auto_rows": null,
            "grid_column": null,
            "grid_gap": null,
            "grid_row": null,
            "grid_template_areas": null,
            "grid_template_columns": null,
            "grid_template_rows": null,
            "height": null,
            "justify_content": null,
            "justify_items": null,
            "left": null,
            "margin": null,
            "max_height": null,
            "max_width": null,
            "min_height": null,
            "min_width": null,
            "object_fit": null,
            "object_position": null,
            "order": null,
            "overflow": null,
            "overflow_x": null,
            "overflow_y": null,
            "padding": null,
            "right": null,
            "top": null,
            "visibility": null,
            "width": null
          }
        },
        "353cd38e5be04272ae33f293e01549ca": {
          "model_module": "@jupyter-widgets/controls",
          "model_name": "ProgressStyleModel",
          "model_module_version": "1.5.0",
          "state": {
            "_model_module": "@jupyter-widgets/controls",
            "_model_module_version": "1.5.0",
            "_model_name": "ProgressStyleModel",
            "_view_count": null,
            "_view_module": "@jupyter-widgets/base",
            "_view_module_version": "1.2.0",
            "_view_name": "StyleView",
            "bar_color": null,
            "description_width": ""
          }
        },
        "2dbe7d0836b14ed392c6dd1582573d3d": {
          "model_module": "@jupyter-widgets/base",
          "model_name": "LayoutModel",
          "model_module_version": "1.2.0",
          "state": {
            "_model_module": "@jupyter-widgets/base",
            "_model_module_version": "1.2.0",
            "_model_name": "LayoutModel",
            "_view_count": null,
            "_view_module": "@jupyter-widgets/base",
            "_view_module_version": "1.2.0",
            "_view_name": "LayoutView",
            "align_content": null,
            "align_items": null,
            "align_self": null,
            "border": null,
            "bottom": null,
            "display": null,
            "flex": null,
            "flex_flow": null,
            "grid_area": null,
            "grid_auto_columns": null,
            "grid_auto_flow": null,
            "grid_auto_rows": null,
            "grid_column": null,
            "grid_gap": null,
            "grid_row": null,
            "grid_template_areas": null,
            "grid_template_columns": null,
            "grid_template_rows": null,
            "height": null,
            "justify_content": null,
            "justify_items": null,
            "left": null,
            "margin": null,
            "max_height": null,
            "max_width": null,
            "min_height": null,
            "min_width": null,
            "object_fit": null,
            "object_position": null,
            "order": null,
            "overflow": null,
            "overflow_x": null,
            "overflow_y": null,
            "padding": null,
            "right": null,
            "top": null,
            "visibility": null,
            "width": null
          }
        },
        "b346c01e763f4bdbb0d78349cc300fd0": {
          "model_module": "@jupyter-widgets/controls",
          "model_name": "DescriptionStyleModel",
          "model_module_version": "1.5.0",
          "state": {
            "_model_module": "@jupyter-widgets/controls",
            "_model_module_version": "1.5.0",
            "_model_name": "DescriptionStyleModel",
            "_view_count": null,
            "_view_module": "@jupyter-widgets/base",
            "_view_module_version": "1.2.0",
            "_view_name": "StyleView",
            "description_width": ""
          }
        }
      }
    }
  },
  "cells": [
    {
      "cell_type": "markdown",
      "metadata": {
        "id": "DfPPQ6ztJhv4"
      },
      "source": [
        "# MRI Instance Segmentation Finetuning\n",
        "\n",
        "Сегментация с помощью Finetuning-а модели resnet50 с использованием FastRCCN и MaskRCCN"
      ]
    },
    {
      "cell_type": "code",
      "source": [
        "import pandas as pd\n",
        "from glob import glob\n",
        "import matplotlib.pyplot as plt"
      ],
      "metadata": {
        "id": "2NykTZLphOG8"
      },
      "execution_count": 2,
      "outputs": []
    },
    {
      "cell_type": "code",
      "metadata": {
        "id": "DBIoe_tHTQgV",
        "colab": {
          "base_uri": "https://localhost:8080/"
        },
        "outputId": "77230b17-1cd9-4bed-fa7d-b55c6357f87f"
      },
      "source": [
        "%%shell\n",
        "\n",
        "pip install kaggle\n",
        "pip install cython\n",
        "# Install pycocotools, the version by default in Colab\n",
        "# has a bug fixed in https://github.com/cocodataset/cocoapi/pull/354\n",
        "pip install -U 'git+https://github.com/cocodataset/cocoapi.git#subdirectory=PythonAPI'"
      ],
      "execution_count": 2,
      "outputs": [
        {
          "output_type": "stream",
          "name": "stdout",
          "text": [
            "Looking in indexes: https://pypi.org/simple, https://us-python.pkg.dev/colab-wheels/public/simple/\n",
            "Requirement already satisfied: kaggle in /usr/local/lib/python3.7/dist-packages (1.5.12)\n",
            "Requirement already satisfied: six>=1.10 in /usr/local/lib/python3.7/dist-packages (from kaggle) (1.15.0)\n",
            "Requirement already satisfied: tqdm in /usr/local/lib/python3.7/dist-packages (from kaggle) (4.64.0)\n",
            "Requirement already satisfied: requests in /usr/local/lib/python3.7/dist-packages (from kaggle) (2.23.0)\n",
            "Requirement already satisfied: python-slugify in /usr/local/lib/python3.7/dist-packages (from kaggle) (6.1.2)\n",
            "Requirement already satisfied: python-dateutil in /usr/local/lib/python3.7/dist-packages (from kaggle) (2.8.2)\n",
            "Requirement already satisfied: urllib3 in /usr/local/lib/python3.7/dist-packages (from kaggle) (1.24.3)\n",
            "Requirement already satisfied: certifi in /usr/local/lib/python3.7/dist-packages (from kaggle) (2022.5.18.1)\n",
            "Requirement already satisfied: text-unidecode>=1.3 in /usr/local/lib/python3.7/dist-packages (from python-slugify->kaggle) (1.3)\n",
            "Requirement already satisfied: idna<3,>=2.5 in /usr/local/lib/python3.7/dist-packages (from requests->kaggle) (2.10)\n",
            "Requirement already satisfied: chardet<4,>=3.0.2 in /usr/local/lib/python3.7/dist-packages (from requests->kaggle) (3.0.4)\n",
            "Looking in indexes: https://pypi.org/simple, https://us-python.pkg.dev/colab-wheels/public/simple/\n",
            "Requirement already satisfied: cython in /usr/local/lib/python3.7/dist-packages (0.29.30)\n",
            "Looking in indexes: https://pypi.org/simple, https://us-python.pkg.dev/colab-wheels/public/simple/\n",
            "Collecting git+https://github.com/cocodataset/cocoapi.git#subdirectory=PythonAPI\n",
            "  Cloning https://github.com/cocodataset/cocoapi.git to /tmp/pip-req-build-wpkwsl0u\n",
            "  Running command git clone -q https://github.com/cocodataset/cocoapi.git /tmp/pip-req-build-wpkwsl0u\n",
            "Requirement already satisfied: setuptools>=18.0 in /usr/local/lib/python3.7/dist-packages (from pycocotools==2.0) (57.4.0)\n",
            "Requirement already satisfied: cython>=0.27.3 in /usr/local/lib/python3.7/dist-packages (from pycocotools==2.0) (0.29.30)\n",
            "Requirement already satisfied: matplotlib>=2.1.0 in /usr/local/lib/python3.7/dist-packages (from pycocotools==2.0) (3.2.2)\n",
            "Requirement already satisfied: python-dateutil>=2.1 in /usr/local/lib/python3.7/dist-packages (from matplotlib>=2.1.0->pycocotools==2.0) (2.8.2)\n",
            "Requirement already satisfied: kiwisolver>=1.0.1 in /usr/local/lib/python3.7/dist-packages (from matplotlib>=2.1.0->pycocotools==2.0) (1.4.2)\n",
            "Requirement already satisfied: numpy>=1.11 in /usr/local/lib/python3.7/dist-packages (from matplotlib>=2.1.0->pycocotools==2.0) (1.21.6)\n",
            "Requirement already satisfied: pyparsing!=2.0.4,!=2.1.2,!=2.1.6,>=2.0.1 in /usr/local/lib/python3.7/dist-packages (from matplotlib>=2.1.0->pycocotools==2.0) (3.0.9)\n",
            "Requirement already satisfied: cycler>=0.10 in /usr/local/lib/python3.7/dist-packages (from matplotlib>=2.1.0->pycocotools==2.0) (0.11.0)\n",
            "Requirement already satisfied: typing-extensions in /usr/local/lib/python3.7/dist-packages (from kiwisolver>=1.0.1->matplotlib>=2.1.0->pycocotools==2.0) (4.2.0)\n",
            "Requirement already satisfied: six>=1.5 in /usr/local/lib/python3.7/dist-packages (from python-dateutil>=2.1->matplotlib>=2.1.0->pycocotools==2.0) (1.15.0)\n",
            "Building wheels for collected packages: pycocotools\n",
            "  Building wheel for pycocotools (setup.py) ... \u001b[?25l\u001b[?25hdone\n",
            "  Created wheel for pycocotools: filename=pycocotools-2.0-cp37-cp37m-linux_x86_64.whl size=265177 sha256=716113ff461db89d6b8dc57e1b8eb82e431056db51e8df8e039b294684087144\n",
            "  Stored in directory: /tmp/pip-ephem-wheel-cache-_lytkm1m/wheels/e2/6b/1d/344ac773c7495ea0b85eb228bc66daec7400a143a92d36b7b1\n",
            "Successfully built pycocotools\n",
            "Installing collected packages: pycocotools\n",
            "  Attempting uninstall: pycocotools\n",
            "    Found existing installation: pycocotools 2.0.4\n",
            "    Uninstalling pycocotools-2.0.4:\n",
            "      Successfully uninstalled pycocotools-2.0.4\n",
            "Successfully installed pycocotools-2.0\n"
          ]
        },
        {
          "output_type": "execute_result",
          "data": {
            "text/plain": [
              ""
            ]
          },
          "metadata": {},
          "execution_count": 2
        }
      ]
    },
    {
      "cell_type": "markdown",
      "metadata": {
        "id": "5Sd4jlGp2eLm"
      },
      "source": [
        "## Датасет\n",
        "\n",
        "[Датасет](https://www.kaggle.com/datasets/mateuszbuda/lgg-mri-segmentation?datasetId=181273) представлен на платформе kaggle. Оно представляет из себя снимки МРТ 110 пациентов. Примечателен датасет тем, что в нем есть исходы (смерти) пациентов."
      ]
    },
    {
      "cell_type": "code",
      "source": [
        "from google.colab import files\n",
        "\n",
        "uploaded = files.upload()\n",
        "\n",
        "for fn in uploaded.keys():\n",
        "  print('User uploaded file \"{name}\" with length {length} bytes'.format(\n",
        "      name=fn, length=len(uploaded[fn])))\n",
        "  \n",
        "# Then move kaggle.json into the folder where the API expects to find it.\n",
        "!mkdir -p ~/.kaggle/ && mv kaggle.json ~/.kaggle/ && chmod 600 ~/.kaggle/kaggle.json"
      ],
      "metadata": {
        "id": "o9eLEYuWVSdj",
        "outputId": "635c529d-14b1-4f70-a929-3bf1eeabd407",
        "colab": {
          "resources": {
            "http://localhost:8080/nbextensions/google.colab/files.js": {
              "data": "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",
              "ok": true,
              "headers": [
                [
                  "content-type",
                  "application/javascript"
                ]
              ],
              "status": 200,
              "status_text": ""
            }
          },
          "base_uri": "https://localhost:8080/",
          "height": 56
        }
      },
      "execution_count": 3,
      "outputs": [
        {
          "output_type": "display_data",
          "data": {
            "text/plain": [
              "<IPython.core.display.HTML object>"
            ],
            "text/html": [
              "\n",
              "     <input type=\"file\" id=\"files-47ace709-e8d0-43da-a0f1-7f4863636c07\" name=\"files[]\" multiple disabled\n",
              "        style=\"border:none\" />\n",
              "     <output id=\"result-47ace709-e8d0-43da-a0f1-7f4863636c07\">\n",
              "      Upload widget is only available when the cell has been executed in the\n",
              "      current browser session. Please rerun this cell to enable.\n",
              "      </output>\n",
              "      <script src=\"/nbextensions/google.colab/files.js\"></script> "
            ]
          },
          "metadata": {}
        },
        {
          "output_type": "stream",
          "name": "stdout",
          "text": [
            "mv: cannot stat 'kaggle.json': No such file or directory\n"
          ]
        }
      ]
    },
    {
      "cell_type": "code",
      "source": [
        "!kaggle datasets download \"mateuszbuda/lgg-mri-segmentation\""
      ],
      "metadata": {
        "id": "azh-OFN4V1v4",
        "outputId": "adbdd4fc-0ac8-40ff-8c85-42c5c00f6bc5",
        "colab": {
          "base_uri": "https://localhost:8080/"
        }
      },
      "execution_count": 4,
      "outputs": [
        {
          "output_type": "stream",
          "name": "stdout",
          "text": [
            "Downloading lgg-mri-segmentation.zip to /content\n",
            " 99% 706M/714M [00:06<00:00, 82.3MB/s]\n",
            "100% 714M/714M [00:06<00:00, 120MB/s] \n"
          ]
        }
      ]
    },
    {
      "cell_type": "code",
      "source": [
        "!unzip -d ./ lgg-mri-segmentation.zip"
      ],
      "metadata": {
        "id": "t_lVzdZhcZOg"
      },
      "execution_count": null,
      "outputs": []
    },
    {
      "cell_type": "code",
      "source": [
        "df = pd.read_csv(\n",
        "    './kaggle_3m/data.csv',\n",
        "    usecols=['Patient', 'gender', 'age_at_initial_pathologic', 'race', 'ethnicity', 'death01']\n",
        ")"
      ],
      "metadata": {
        "id": "DWOA73txX-4L"
      },
      "execution_count": 8,
      "outputs": []
    },
    {
      "cell_type": "markdown",
      "source": [
        "Прослеживается исход лечения у пациентов."
      ],
      "metadata": {
        "id": "65ziFW75haNR"
      }
    },
    {
      "cell_type": "code",
      "source": [
        "df.head()"
      ],
      "metadata": {
        "id": "QyaHofiFYb94",
        "outputId": "dff5d1e7-aeac-43ef-d9d4-5f51675d117a",
        "colab": {
          "base_uri": "https://localhost:8080/",
          "height": 206
        }
      },
      "execution_count": 9,
      "outputs": [
        {
          "output_type": "execute_result",
          "data": {
            "text/plain": [
              "        Patient  gender  age_at_initial_pathologic  race  ethnicity  death01\n",
              "0  TCGA_CS_4941     2.0                       67.0   3.0        2.0      1.0\n",
              "1  TCGA_CS_4942     1.0                       44.0   2.0        NaN      1.0\n",
              "2  TCGA_CS_4943     2.0                       37.0   3.0        NaN      0.0\n",
              "3  TCGA_CS_4944     2.0                       50.0   3.0        NaN      0.0\n",
              "4  TCGA_CS_5393     2.0                       39.0   3.0        NaN      0.0"
            ],
            "text/html": [
              "\n",
              "  <div id=\"df-9f06058b-849e-4f27-9a8d-7cc98f64390c\">\n",
              "    <div class=\"colab-df-container\">\n",
              "      <div>\n",
              "<style scoped>\n",
              "    .dataframe tbody tr th:only-of-type {\n",
              "        vertical-align: middle;\n",
              "    }\n",
              "\n",
              "    .dataframe tbody tr th {\n",
              "        vertical-align: top;\n",
              "    }\n",
              "\n",
              "    .dataframe thead th {\n",
              "        text-align: right;\n",
              "    }\n",
              "</style>\n",
              "<table border=\"1\" class=\"dataframe\">\n",
              "  <thead>\n",
              "    <tr style=\"text-align: right;\">\n",
              "      <th></th>\n",
              "      <th>Patient</th>\n",
              "      <th>gender</th>\n",
              "      <th>age_at_initial_pathologic</th>\n",
              "      <th>race</th>\n",
              "      <th>ethnicity</th>\n",
              "      <th>death01</th>\n",
              "    </tr>\n",
              "  </thead>\n",
              "  <tbody>\n",
              "    <tr>\n",
              "      <th>0</th>\n",
              "      <td>TCGA_CS_4941</td>\n",
              "      <td>2.0</td>\n",
              "      <td>67.0</td>\n",
              "      <td>3.0</td>\n",
              "      <td>2.0</td>\n",
              "      <td>1.0</td>\n",
              "    </tr>\n",
              "    <tr>\n",
              "      <th>1</th>\n",
              "      <td>TCGA_CS_4942</td>\n",
              "      <td>1.0</td>\n",
              "      <td>44.0</td>\n",
              "      <td>2.0</td>\n",
              "      <td>NaN</td>\n",
              "      <td>1.0</td>\n",
              "    </tr>\n",
              "    <tr>\n",
              "      <th>2</th>\n",
              "      <td>TCGA_CS_4943</td>\n",
              "      <td>2.0</td>\n",
              "      <td>37.0</td>\n",
              "      <td>3.0</td>\n",
              "      <td>NaN</td>\n",
              "      <td>0.0</td>\n",
              "    </tr>\n",
              "    <tr>\n",
              "      <th>3</th>\n",
              "      <td>TCGA_CS_4944</td>\n",
              "      <td>2.0</td>\n",
              "      <td>50.0</td>\n",
              "      <td>3.0</td>\n",
              "      <td>NaN</td>\n",
              "      <td>0.0</td>\n",
              "    </tr>\n",
              "    <tr>\n",
              "      <th>4</th>\n",
              "      <td>TCGA_CS_5393</td>\n",
              "      <td>2.0</td>\n",
              "      <td>39.0</td>\n",
              "      <td>3.0</td>\n",
              "      <td>NaN</td>\n",
              "      <td>0.0</td>\n",
              "    </tr>\n",
              "  </tbody>\n",
              "</table>\n",
              "</div>\n",
              "      <button class=\"colab-df-convert\" onclick=\"convertToInteractive('df-9f06058b-849e-4f27-9a8d-7cc98f64390c')\"\n",
              "              title=\"Convert this dataframe to an interactive table.\"\n",
              "              style=\"display:none;\">\n",
              "        \n",
              "  <svg xmlns=\"http://www.w3.org/2000/svg\" height=\"24px\"viewBox=\"0 0 24 24\"\n",
              "       width=\"24px\">\n",
              "    <path d=\"M0 0h24v24H0V0z\" fill=\"none\"/>\n",
              "    <path d=\"M18.56 5.44l.94 2.06.94-2.06 2.06-.94-2.06-.94-.94-2.06-.94 2.06-2.06.94zm-11 1L8.5 8.5l.94-2.06 2.06-.94-2.06-.94L8.5 2.5l-.94 2.06-2.06.94zm10 10l.94 2.06.94-2.06 2.06-.94-2.06-.94-.94-2.06-.94 2.06-2.06.94z\"/><path d=\"M17.41 7.96l-1.37-1.37c-.4-.4-.92-.59-1.43-.59-.52 0-1.04.2-1.43.59L10.3 9.45l-7.72 7.72c-.78.78-.78 2.05 0 2.83L4 21.41c.39.39.9.59 1.41.59.51 0 1.02-.2 1.41-.59l7.78-7.78 2.81-2.81c.8-.78.8-2.07 0-2.86zM5.41 20L4 18.59l7.72-7.72 1.47 1.35L5.41 20z\"/>\n",
              "  </svg>\n",
              "      </button>\n",
              "      \n",
              "  <style>\n",
              "    .colab-df-container {\n",
              "      display:flex;\n",
              "      flex-wrap:wrap;\n",
              "      gap: 12px;\n",
              "    }\n",
              "\n",
              "    .colab-df-convert {\n",
              "      background-color: #E8F0FE;\n",
              "      border: none;\n",
              "      border-radius: 50%;\n",
              "      cursor: pointer;\n",
              "      display: none;\n",
              "      fill: #1967D2;\n",
              "      height: 32px;\n",
              "      padding: 0 0 0 0;\n",
              "      width: 32px;\n",
              "    }\n",
              "\n",
              "    .colab-df-convert:hover {\n",
              "      background-color: #E2EBFA;\n",
              "      box-shadow: 0px 1px 2px rgba(60, 64, 67, 0.3), 0px 1px 3px 1px rgba(60, 64, 67, 0.15);\n",
              "      fill: #174EA6;\n",
              "    }\n",
              "\n",
              "    [theme=dark] .colab-df-convert {\n",
              "      background-color: #3B4455;\n",
              "      fill: #D2E3FC;\n",
              "    }\n",
              "\n",
              "    [theme=dark] .colab-df-convert:hover {\n",
              "      background-color: #434B5C;\n",
              "      box-shadow: 0px 1px 3px 1px rgba(0, 0, 0, 0.15);\n",
              "      filter: drop-shadow(0px 1px 2px rgba(0, 0, 0, 0.3));\n",
              "      fill: #FFFFFF;\n",
              "    }\n",
              "  </style>\n",
              "\n",
              "      <script>\n",
              "        const buttonEl =\n",
              "          document.querySelector('#df-9f06058b-849e-4f27-9a8d-7cc98f64390c button.colab-df-convert');\n",
              "        buttonEl.style.display =\n",
              "          google.colab.kernel.accessAllowed ? 'block' : 'none';\n",
              "\n",
              "        async function convertToInteractive(key) {\n",
              "          const element = document.querySelector('#df-9f06058b-849e-4f27-9a8d-7cc98f64390c');\n",
              "          const dataTable =\n",
              "            await google.colab.kernel.invokeFunction('convertToInteractive',\n",
              "                                                     [key], {});\n",
              "          if (!dataTable) return;\n",
              "\n",
              "          const docLinkHtml = 'Like what you see? Visit the ' +\n",
              "            '<a target=\"_blank\" href=https://colab.research.google.com/notebooks/data_table.ipynb>data table notebook</a>'\n",
              "            + ' to learn more about interactive tables.';\n",
              "          element.innerHTML = '';\n",
              "          dataTable['output_type'] = 'display_data';\n",
              "          await google.colab.output.renderOutput(dataTable, element);\n",
              "          const docLink = document.createElement('div');\n",
              "          docLink.innerHTML = docLinkHtml;\n",
              "          element.appendChild(docLink);\n",
              "        }\n",
              "      </script>\n",
              "    </div>\n",
              "  </div>\n",
              "  "
            ]
          },
          "metadata": {},
          "execution_count": 9
        }
      ]
    },
    {
      "cell_type": "markdown",
      "source": [
        "Загрузим сами снимки. Нужно учесть, что там не всегда есть новообразование"
      ],
      "metadata": {
        "id": "pPbNmde0hdah"
      }
    },
    {
      "cell_type": "code",
      "source": [
        "import os"
      ],
      "metadata": {
        "id": "iBUcmC9JcmQ3"
      },
      "execution_count": 12,
      "outputs": []
    },
    {
      "cell_type": "code",
      "source": [
        "data_map = []\n",
        "for sub_dir_path in glob(\"/content/kaggle_3m/*\"):\n",
        "    if os.path.isdir(sub_dir_path):\n",
        "        dir_name = sub_dir_path.split('/')[-1]\n",
        "        for filename in os.listdir(sub_dir_path):\n",
        "            image_path = sub_dir_path + '/' + filename\n",
        "            data_map.extend([dir_name, image_path])\n"
      ],
      "metadata": {
        "id": "3hzOOu-WYwpQ"
      },
      "execution_count": 13,
      "outputs": []
    },
    {
      "cell_type": "code",
      "source": [
        "data = pd.DataFrame({\"patient_id\" : data_map[::2],\n",
        "                   \"path\" : data_map[1::2]})\n",
        "data.head()"
      ],
      "metadata": {
        "id": "tMnSd1ISaJPW",
        "outputId": "1b4b0e00-0f01-445a-c4a7-4c09cb5cbe23",
        "colab": {
          "base_uri": "https://localhost:8080/",
          "height": 206
        }
      },
      "execution_count": 14,
      "outputs": [
        {
          "output_type": "execute_result",
          "data": {
            "text/plain": [
              "              patient_id                                               path\n",
              "0  TCGA_DU_6400_19830518  /content/kaggle_3m/TCGA_DU_6400_19830518/TCGA_...\n",
              "1  TCGA_DU_6400_19830518  /content/kaggle_3m/TCGA_DU_6400_19830518/TCGA_...\n",
              "2  TCGA_DU_6400_19830518  /content/kaggle_3m/TCGA_DU_6400_19830518/TCGA_...\n",
              "3  TCGA_DU_6400_19830518  /content/kaggle_3m/TCGA_DU_6400_19830518/TCGA_...\n",
              "4  TCGA_DU_6400_19830518  /content/kaggle_3m/TCGA_DU_6400_19830518/TCGA_..."
            ],
            "text/html": [
              "\n",
              "  <div id=\"df-9d2355ed-1a33-4315-b791-b0efbd188051\">\n",
              "    <div class=\"colab-df-container\">\n",
              "      <div>\n",
              "<style scoped>\n",
              "    .dataframe tbody tr th:only-of-type {\n",
              "        vertical-align: middle;\n",
              "    }\n",
              "\n",
              "    .dataframe tbody tr th {\n",
              "        vertical-align: top;\n",
              "    }\n",
              "\n",
              "    .dataframe thead th {\n",
              "        text-align: right;\n",
              "    }\n",
              "</style>\n",
              "<table border=\"1\" class=\"dataframe\">\n",
              "  <thead>\n",
              "    <tr style=\"text-align: right;\">\n",
              "      <th></th>\n",
              "      <th>patient_id</th>\n",
              "      <th>path</th>\n",
              "    </tr>\n",
              "  </thead>\n",
              "  <tbody>\n",
              "    <tr>\n",
              "      <th>0</th>\n",
              "      <td>TCGA_DU_6400_19830518</td>\n",
              "      <td>/content/kaggle_3m/TCGA_DU_6400_19830518/TCGA_...</td>\n",
              "    </tr>\n",
              "    <tr>\n",
              "      <th>1</th>\n",
              "      <td>TCGA_DU_6400_19830518</td>\n",
              "      <td>/content/kaggle_3m/TCGA_DU_6400_19830518/TCGA_...</td>\n",
              "    </tr>\n",
              "    <tr>\n",
              "      <th>2</th>\n",
              "      <td>TCGA_DU_6400_19830518</td>\n",
              "      <td>/content/kaggle_3m/TCGA_DU_6400_19830518/TCGA_...</td>\n",
              "    </tr>\n",
              "    <tr>\n",
              "      <th>3</th>\n",
              "      <td>TCGA_DU_6400_19830518</td>\n",
              "      <td>/content/kaggle_3m/TCGA_DU_6400_19830518/TCGA_...</td>\n",
              "    </tr>\n",
              "    <tr>\n",
              "      <th>4</th>\n",
              "      <td>TCGA_DU_6400_19830518</td>\n",
              "      <td>/content/kaggle_3m/TCGA_DU_6400_19830518/TCGA_...</td>\n",
              "    </tr>\n",
              "  </tbody>\n",
              "</table>\n",
              "</div>\n",
              "      <button class=\"colab-df-convert\" onclick=\"convertToInteractive('df-9d2355ed-1a33-4315-b791-b0efbd188051')\"\n",
              "              title=\"Convert this dataframe to an interactive table.\"\n",
              "              style=\"display:none;\">\n",
              "        \n",
              "  <svg xmlns=\"http://www.w3.org/2000/svg\" height=\"24px\"viewBox=\"0 0 24 24\"\n",
              "       width=\"24px\">\n",
              "    <path d=\"M0 0h24v24H0V0z\" fill=\"none\"/>\n",
              "    <path d=\"M18.56 5.44l.94 2.06.94-2.06 2.06-.94-2.06-.94-.94-2.06-.94 2.06-2.06.94zm-11 1L8.5 8.5l.94-2.06 2.06-.94-2.06-.94L8.5 2.5l-.94 2.06-2.06.94zm10 10l.94 2.06.94-2.06 2.06-.94-2.06-.94-.94-2.06-.94 2.06-2.06.94z\"/><path d=\"M17.41 7.96l-1.37-1.37c-.4-.4-.92-.59-1.43-.59-.52 0-1.04.2-1.43.59L10.3 9.45l-7.72 7.72c-.78.78-.78 2.05 0 2.83L4 21.41c.39.39.9.59 1.41.59.51 0 1.02-.2 1.41-.59l7.78-7.78 2.81-2.81c.8-.78.8-2.07 0-2.86zM5.41 20L4 18.59l7.72-7.72 1.47 1.35L5.41 20z\"/>\n",
              "  </svg>\n",
              "      </button>\n",
              "      \n",
              "  <style>\n",
              "    .colab-df-container {\n",
              "      display:flex;\n",
              "      flex-wrap:wrap;\n",
              "      gap: 12px;\n",
              "    }\n",
              "\n",
              "    .colab-df-convert {\n",
              "      background-color: #E8F0FE;\n",
              "      border: none;\n",
              "      border-radius: 50%;\n",
              "      cursor: pointer;\n",
              "      display: none;\n",
              "      fill: #1967D2;\n",
              "      height: 32px;\n",
              "      padding: 0 0 0 0;\n",
              "      width: 32px;\n",
              "    }\n",
              "\n",
              "    .colab-df-convert:hover {\n",
              "      background-color: #E2EBFA;\n",
              "      box-shadow: 0px 1px 2px rgba(60, 64, 67, 0.3), 0px 1px 3px 1px rgba(60, 64, 67, 0.15);\n",
              "      fill: #174EA6;\n",
              "    }\n",
              "\n",
              "    [theme=dark] .colab-df-convert {\n",
              "      background-color: #3B4455;\n",
              "      fill: #D2E3FC;\n",
              "    }\n",
              "\n",
              "    [theme=dark] .colab-df-convert:hover {\n",
              "      background-color: #434B5C;\n",
              "      box-shadow: 0px 1px 3px 1px rgba(0, 0, 0, 0.15);\n",
              "      filter: drop-shadow(0px 1px 2px rgba(0, 0, 0, 0.3));\n",
              "      fill: #FFFFFF;\n",
              "    }\n",
              "  </style>\n",
              "\n",
              "      <script>\n",
              "        const buttonEl =\n",
              "          document.querySelector('#df-9d2355ed-1a33-4315-b791-b0efbd188051 button.colab-df-convert');\n",
              "        buttonEl.style.display =\n",
              "          google.colab.kernel.accessAllowed ? 'block' : 'none';\n",
              "\n",
              "        async function convertToInteractive(key) {\n",
              "          const element = document.querySelector('#df-9d2355ed-1a33-4315-b791-b0efbd188051');\n",
              "          const dataTable =\n",
              "            await google.colab.kernel.invokeFunction('convertToInteractive',\n",
              "                                                     [key], {});\n",
              "          if (!dataTable) return;\n",
              "\n",
              "          const docLinkHtml = 'Like what you see? Visit the ' +\n",
              "            '<a target=\"_blank\" href=https://colab.research.google.com/notebooks/data_table.ipynb>data table notebook</a>'\n",
              "            + ' to learn more about interactive tables.';\n",
              "          element.innerHTML = '';\n",
              "          dataTable['output_type'] = 'display_data';\n",
              "          await google.colab.output.renderOutput(dataTable, element);\n",
              "          const docLink = document.createElement('div');\n",
              "          docLink.innerHTML = docLinkHtml;\n",
              "          element.appendChild(docLink);\n",
              "        }\n",
              "      </script>\n",
              "    </div>\n",
              "  </div>\n",
              "  "
            ]
          },
          "metadata": {},
          "execution_count": 14
        }
      ]
    },
    {
      "cell_type": "code",
      "source": [
        "import re\n",
        "import random"
      ],
      "metadata": {
        "id": "1HEy1HqNa-b6"
      },
      "execution_count": 15,
      "outputs": []
    },
    {
      "cell_type": "code",
      "source": [
        "data_imgs = data[~data['path'].str.contains(\"mask\")]\n",
        "data_masks = data[data['path'].str.contains(\"mask\")]\n",
        "\n",
        "# Data sorting\n",
        "imgs = sorted(data_imgs[\"path\"].values, key=lambda x : int(re.findall('_(\\d+)\\.tif', x)[0]))\n",
        "masks = sorted(data_masks[\"path\"].values, key=lambda x : int(re.findall('_(\\d+)\\_mask.tif', x)[0]))\n",
        "\n",
        "# Sorting check\n",
        "idx = random.randint(0, len(imgs)-1)\n",
        "print(\"Path to the Image:\", imgs[idx], \"\\nPath to the Mask:\", masks[idx])"
      ],
      "metadata": {
        "id": "MQDBa5DpaJ5u",
        "outputId": "1d5a450c-4703-4f53-a41a-9375fae6f301",
        "colab": {
          "base_uri": "https://localhost:8080/"
        }
      },
      "execution_count": 16,
      "outputs": [
        {
          "output_type": "stream",
          "name": "stdout",
          "text": [
            "Path to the Image: /content/kaggle_3m/TCGA_DU_7301_19911112/TCGA_DU_7301_19911112_34.tif \n",
            "Path to the Mask: /content/kaggle_3m/TCGA_DU_7301_19911112/TCGA_DU_7301_19911112_34_mask.tif\n"
          ]
        }
      ]
    },
    {
      "cell_type": "code",
      "source": [
        "brain_data = pd.DataFrame({\"patient_id\": data_imgs.patient_id.values,\n",
        "                             \"image_path\": imgs,\n",
        "                             \"mask_path\": masks\n",
        "                            })\n",
        "\n",
        "def pos_neg_diagnosis(mask_path):\n",
        "    value = np.max(cv2.imread(mask_path))\n",
        "    if value > 0: \n",
        "        return 1\n",
        "    else:\n",
        "        return 0\n",
        "    \n",
        "brain_data['mask'] = brain_data['mask_path'].apply(lambda x: pos_neg_diagnosis(x))"
      ],
      "metadata": {
        "id": "SC3j9TbhbT4n"
      },
      "execution_count": 20,
      "outputs": []
    },
    {
      "cell_type": "code",
      "source": [
        "brain_data['mask'].value_counts()"
      ],
      "metadata": {
        "id": "J8pJSvkybJr5",
        "outputId": "7de93c7e-2a27-43db-ae2e-229f6dde1798",
        "colab": {
          "base_uri": "https://localhost:8080/"
        }
      },
      "execution_count": 21,
      "outputs": [
        {
          "output_type": "execute_result",
          "data": {
            "text/plain": [
              "0    2556\n",
              "1    1373\n",
              "Name: mask, dtype: int64"
            ]
          },
          "metadata": {},
          "execution_count": 21
        }
      ]
    },
    {
      "cell_type": "code",
      "source": [
        "mask_imgs_idx = []\n",
        "for i in range(len(brain_data)):\n",
        "    if cv2.imread(brain_data.mask_path[i]).max() > 0:\n",
        "        mask_imgs_idx.append(i)"
      ],
      "metadata": {
        "id": "YOfkx-MzbpkW"
      },
      "execution_count": 22,
      "outputs": []
    },
    {
      "cell_type": "code",
      "source": [
        "i = random.choice(mask_imgs_idx)"
      ],
      "metadata": {
        "id": "R3P4geCKbqH7"
      },
      "execution_count": 23,
      "outputs": []
    },
    {
      "cell_type": "markdown",
      "source": [
        "Пример новообразования"
      ],
      "metadata": {
        "id": "_uGoe9jfhtrj"
      }
    },
    {
      "cell_type": "code",
      "metadata": {
        "id": "cFHKCvCTxiff",
        "colab": {
          "base_uri": "https://localhost:8080/",
          "height": 361
        },
        "outputId": "2e8e1997-444c-44f2-82d9-e735286aa8c7"
      },
      "source": [
        "fig, axes = plt.subplots(1, 3, figsize=(16, 9))\n",
        "\n",
        "img = cv2.imread(brain_data.image_path[i])\n",
        "axes.flat[0].title.set_text(\"Brain MRI\")\n",
        "axes.flat[0].imshow(img)\n",
        "\n",
        "mask = cv2.imread(brain_data.mask_path[i])[:, :, 2]\n",
        "axes.flat[1].title.set_text(\"Mask\")\n",
        "axes.flat[1].imshow(mask, cmap='gray')\n",
        "\n",
        "img[mask == 255] = (0, 255, 150)  # change pixel color at the position of mask\n",
        "axes.flat[2].title.set_text(\"MRI with Mask\")\n",
        "axes.flat[2].imshow(img)\n",
        "\n",
        "fig.tight_layout()"
      ],
      "execution_count": 24,
      "outputs": [
        {
          "output_type": "display_data",
          "data": {
            "text/plain": [
              "<Figure size 1152x648 with 3 Axes>"
            ],
            "image/png": "[encoded data removed]"
          },
          "metadata": {
            "needs_background": "light"
          }
        }
      ]
    },
    {
      "cell_type": "markdown",
      "source": [
        "Реализуем датасет для дальнейшей обработки"
      ],
      "metadata": {
        "id": "c9bZD376hzpn"
      }
    },
    {
      "cell_type": "code",
      "metadata": {
        "id": "mTgWtixZTs3X"
      },
      "source": [
        "class MRIDataset(torch.utils.data.Dataset):\n",
        "    def __init__(self, df, transforms=None):\n",
        "        self.transforms = transforms\n",
        "        self.imgs = df['image_path'].tolist()\n",
        "        self.masks = df['mask_path'].tolist()\n",
        "\n",
        "    def __getitem__(self, idx):\n",
        "        img_path = self.imgs[idx]\n",
        "        mask_path = self.masks[idx]\n",
        "\n",
        "        img = cv2.imread(img_path)\n",
        "        mask = cv2.imread(mask_path)[:, :, 0]\n",
        "        mask[mask == 255] = 1\n",
        "\n",
        "        pos = np.where(mask)\n",
        "        xmin = np.min(pos[1])\n",
        "        xmax = np.max(pos[1])\n",
        "        ymin = np.min(pos[0])\n",
        "        ymax = np.max(pos[0])\n",
        "        boxes = torch.as_tensor([[xmin, ymin, xmax, ymax]])\n",
        "\n",
        "        labels = torch.ones((1, ), dtype=torch.int64)\n",
        "        masks = torch.as_tensor(np.array([mask]), dtype=torch.uint8)\n",
        "        image_id = torch.tensor([idx])\n",
        "        area = (boxes[:, 3] - boxes[:, 1]) * (boxes[:, 2] - boxes[:, 0])\n",
        "        # suppose all instances are not crowd\n",
        "        iscrowd = torch.zeros((1, ), dtype=torch.int64)\n",
        "\n",
        "        target = {}\n",
        "        target[\"boxes\"] = boxes\n",
        "        target[\"labels\"] = labels\n",
        "        target[\"masks\"] = masks\n",
        "        target[\"image_id\"] = image_id\n",
        "        target[\"area\"] = area\n",
        "        target[\"iscrowd\"] = iscrowd\n",
        "\n",
        "        if self.transforms is not None:\n",
        "            img, target = self.transforms(img, target)\n",
        "\n",
        "        return img, target\n",
        "\n",
        "    def __len__(self):\n",
        "        return len(self.imgs)"
      ],
      "execution_count": 25,
      "outputs": []
    },
    {
      "cell_type": "code",
      "metadata": {
        "id": "ZEARO4B_ye0s"
      },
      "source": [
        "dataset = MRIDataset(brain_data.query('mask == 1'))"
      ],
      "execution_count": 26,
      "outputs": []
    },
    {
      "cell_type": "markdown",
      "metadata": {
        "id": "RoAEkUgn4uEq"
      },
      "source": [
        "## Defining your model\n",
        "\n",
        "Во вовремя работы мы будем использовать [Mask R-CNN](https://arxiv.org/abs/1703.06870), который базируется на[Faster R-CNN](https://arxiv.org/abs/1506.01497). Faster R-CNN это модель, который одновременно предсказывает позицию и класс объекта в фотографии. \n",
        "\n",
        "Mask R-CNN добавляет дополнительную ветку в Faster R-CNN, который также будет сегментировать маски для каждого объекта.\n"
      ]
    },
    {
      "cell_type": "code",
      "metadata": {
        "id": "YjNHjVMOyYlH"
      },
      "source": [
        "def get_instance_segmentation_model(num_classes):\n",
        "    model = torchvision.models.detection.maskrcnn_resnet50_fpn(pretrained=True)\n",
        "\n",
        "    in_features = model.roi_heads.box_predictor.cls_score.in_features\n",
        "    model.roi_heads.box_predictor = FastRCNNPredictor(in_features, num_classes)\n",
        "\n",
        "    in_features_mask = model.roi_heads.mask_predictor.conv5_mask.in_channels\n",
        "    hidden_layer = 256\n",
        "\n",
        "    model.roi_heads.mask_predictor = MaskRCNNPredictor(in_features_mask,\n",
        "                                                       hidden_layer,\n",
        "                                                       num_classes)\n",
        "\n",
        "    return model"
      ],
      "execution_count": 5,
      "outputs": []
    },
    {
      "cell_type": "markdown",
      "source": [
        "Подготовка скриптов для запуска"
      ],
      "metadata": {
        "id": "hzlrwB8Hig-M"
      }
    },
    {
      "cell_type": "code",
      "metadata": {
        "id": "UYDb7PBw55b-",
        "colab": {
          "base_uri": "https://localhost:8080/"
        },
        "outputId": "9c510893-7c26-48f2-e5dd-af6d2f9f05c0"
      },
      "source": [
        "%%shell\n",
        "\n",
        "# Download TorchVision repo to use some files from\n",
        "# references/detection\n",
        "git clone https://github.com/pytorch/vision.git\n",
        "cd vision\n",
        "git checkout v0.8.2\n",
        "\n",
        "cp references/detection/utils.py ../\n",
        "cp references/detection/transforms.py ../\n",
        "cp references/detection/coco_eval.py ../\n",
        "cp references/detection/engine.py ../\n",
        "cp references/detection/coco_utils.py ../"
      ],
      "execution_count": 28,
      "outputs": [
        {
          "output_type": "stream",
          "name": "stdout",
          "text": [
            "Cloning into 'vision'...\n",
            "remote: Enumerating objects: 153206, done.\u001b[K\n",
            "remote: Counting objects: 100% (5579/5579), done.\u001b[K\n",
            "remote: Compressing objects: 100% (1005/1005), done.\u001b[K\n",
            "remote: Total 153206 (delta 5042), reused 4980 (delta 4551), pack-reused 147627\u001b[K\n",
            "Receiving objects: 100% (153206/153206), 300.13 MiB | 36.77 MiB/s, done.\n",
            "Resolving deltas: 100% (135635/135635), done.\n",
            "Note: checking out 'v0.8.2'.\n",
            "\n",
            "You are in 'detached HEAD' state. You can look around, make experimental\n",
            "changes and commit them, and you can discard any commits you make in this\n",
            "state without impacting any branches by performing another checkout.\n",
            "\n",
            "If you want to create a new branch to retain commits you create, you may\n",
            "do so (now or later) by using -b with the checkout command again. Example:\n",
            "\n",
            "  git checkout -b <new-branch-name>\n",
            "\n",
            "HEAD is now at 2f40a483d [v0.8.X] .circleci: Add Python 3.9 to CI (#3063)\n"
          ]
        },
        {
          "output_type": "execute_result",
          "data": {
            "text/plain": [
              ""
            ]
          },
          "metadata": {},
          "execution_count": 28
        }
      ]
    },
    {
      "cell_type": "code",
      "metadata": {
        "id": "l79ivkwKy357"
      },
      "source": [
        "from engine import train_one_epoch, evaluate\n",
        "import utils\n",
        "import transforms as T\n",
        "\n",
        "\n",
        "def get_transform(train):\n",
        "    transforms = []\n",
        "    # converts the image, a PIL image, into a PyTorch Tensor\n",
        "    transforms.append(T.ToTensor())\n",
        "    if train:\n",
        "        # during training, randomly flip the training images\n",
        "        # and ground-truth for data augmentation\n",
        "        transforms.append(T.RandomHorizontalFlip(0.5))\n",
        "    return T.Compose(transforms)"
      ],
      "execution_count": 6,
      "outputs": []
    },
    {
      "cell_type": "markdown",
      "source": [
        "Создание DataLoader-ов"
      ],
      "metadata": {
        "id": "oICeRIC6infp"
      }
    },
    {
      "cell_type": "code",
      "metadata": {
        "id": "a5dGaIezze3y",
        "outputId": "1453a233-64c1-4e63-ed3c-996cbcaf4874",
        "colab": {
          "base_uri": "https://localhost:8080/"
        }
      },
      "source": [
        "# use our dataset and defined transformations\n",
        "dataset = MRIDataset(brain_data.query('mask == 1'), get_transform(train=True))\n",
        "dataset_test = MRIDataset(brain_data.query('mask == 1'), get_transform(train=False))\n",
        "\n",
        "# split the dataset in train and test set\n",
        "torch.manual_seed(1)\n",
        "indices = torch.randperm(len(dataset)).tolist()\n",
        "dataset = torch.utils.data.Subset(dataset, indices[:-300])\n",
        "dataset_test = torch.utils.data.Subset(dataset_test, indices[-300:])\n",
        "\n",
        "# define training and validation data loaders\n",
        "data_loader = torch.utils.data.DataLoader(\n",
        "    dataset, batch_size=2, shuffle=True, num_workers=4,\n",
        "    collate_fn=utils.collate_fn)\n",
        "\n",
        "data_loader_test = torch.utils.data.DataLoader(\n",
        "    dataset_test, batch_size=1, shuffle=False, num_workers=4,\n",
        "    collate_fn=utils.collate_fn)"
      ],
      "execution_count": 34,
      "outputs": [
        {
          "output_type": "stream",
          "name": "stderr",
          "text": [
            "/usr/local/lib/python3.7/dist-packages/torch/utils/data/dataloader.py:490: UserWarning: This DataLoader will create 4 worker processes in total. Our suggested max number of worker in current system is 2, which is smaller than what this DataLoader is going to create. Please be aware that excessive worker creation might get DataLoader running slow or even freeze, lower the worker number to avoid potential slowness/freeze if necessary.\n",
            "  cpuset_checked))\n"
          ]
        }
      ]
    },
    {
      "cell_type": "markdown",
      "metadata": {
        "id": "L5yvZUprj4ZN"
      },
      "source": [
        "Теперь инициализиуем саму модель и оптимизатор - SGD"
      ]
    },
    {
      "cell_type": "code",
      "metadata": {
        "id": "zoenkCj18C4h"
      },
      "source": [
        "device = torch.device('cuda') if torch.cuda.is_available() else torch.device('cpu')\n",
        "\n",
        "# our dataset has two classes only - background and person\n",
        "num_classes = 2\n",
        "\n",
        "# get the model using our helper function\n",
        "model = get_instance_segmentation_model(num_classes)\n",
        "# move model to the right device\n",
        "model.to(device)\n",
        "\n",
        "# construct an optimizer\n",
        "params = [p for p in model.parameters() if p.requires_grad]\n",
        "optimizer = torch.optim.SGD(params, lr=0.005,\n",
        "                            momentum=0.9, weight_decay=0.0005)\n",
        "\n",
        "# and a learning rate scheduler which decreases the learning rate by\n",
        "# 10x every 3 epochs\n",
        "lr_scheduler = torch.optim.lr_scheduler.StepLR(optimizer,\n",
        "                                               step_size=3,\n",
        "                                               gamma=0.1)"
      ],
      "execution_count": 36,
      "outputs": []
    },
    {
      "cell_type": "code",
      "source": [
        "model"
      ],
      "metadata": {
        "id": "WD7NYldYc1_9"
      },
      "execution_count": null,
      "outputs": []
    },
    {
      "cell_type": "markdown",
      "metadata": {
        "id": "XAd56lt4kDxc"
      },
      "source": [
        "And now let's train the model for 10 epochs, evaluating at the end of every epoch."
      ]
    },
    {
      "cell_type": "code",
      "metadata": {
        "id": "at-h4OWK0aoc",
        "colab": {
          "base_uri": "https://localhost:8080/",
          "height": 1000
        },
        "outputId": "4ebc3f78-2d17-4815-e91a-778aad499d02"
      },
      "source": [
        "# let's train it for 10 epochs\n",
        "from torch.optim.lr_scheduler import StepLR\n",
        "num_epochs = 10\n",
        "\n",
        "\n",
        "for epoch in range(num_epochs):\n",
        "    # train for one epoch, printing every 10 iterations\n",
        "    train_one_epoch(model, optimizer, data_loader, device, epoch, print_freq=10)\n",
        "    # update the learning rate\n",
        "    lr_scheduler.step()\n",
        "    # evaluate on the test dataset\n",
        "    evaluate(model, data_loader_test, device=device)"
      ],
      "execution_count": 37,
      "outputs": [
        {
          "output_type": "stream",
          "name": "stderr",
          "text": [
            "/usr/local/lib/python3.7/dist-packages/torch/utils/data/dataloader.py:490: UserWarning: This DataLoader will create 4 worker processes in total. Our suggested max number of worker in current system is 2, which is smaller than what this DataLoader is going to create. Please be aware that excessive worker creation might get DataLoader running slow or even freeze, lower the worker number to avoid potential slowness/freeze if necessary.\n",
            "  cpuset_checked))\n"
          ]
        },
        {
          "output_type": "stream",
          "name": "stdout",
          "text": [
            "Epoch: [0]  [  0/537]  eta: 0:13:22  lr: 0.000014  loss: 3.3602 (3.3602)  loss_classifier: 0.4142 (0.4142)  loss_box_reg: 0.0150 (0.0150)  loss_mask: 2.8861 (2.8861)  loss_objectness: 0.0410 (0.0410)  loss_rpn_box_reg: 0.0040 (0.0040)  time: 1.4947  data: 0.2520  max mem: 1813\n",
            "Epoch: [0]  [ 10/537]  eta: 0:04:36  lr: 0.000108  loss: 2.2212 (2.3437)  loss_classifier: 0.3925 (0.3705)  loss_box_reg: 0.0983 (0.0906)  loss_mask: 1.6196 (1.8375)  loss_objectness: 0.0304 (0.0387)  loss_rpn_box_reg: 0.0061 (0.0064)  time: 0.5246  data: 0.0302  max mem: 2085\n",
            "Epoch: [0]  [ 20/537]  eta: 0:04:06  lr: 0.000201  loss: 1.3814 (1.8369)  loss_classifier: 0.2371 (0.2645)  loss_box_reg: 0.0704 (0.0824)  loss_mask: 1.0572 (1.4466)  loss_objectness: 0.0304 (0.0364)  loss_rpn_box_reg: 0.0068 (0.0070)  time: 0.4255  data: 0.0079  max mem: 2085\n",
            "Epoch: [0]  [ 30/537]  eta: 0:03:53  lr: 0.000294  loss: 1.0559 (1.4930)  loss_classifier: 0.1012 (0.2073)  loss_box_reg: 0.0704 (0.0827)  loss_mask: 0.7254 (1.1574)  loss_objectness: 0.0272 (0.0393)  loss_rpn_box_reg: 0.0062 (0.0063)  time: 0.4251  data: 0.0077  max mem: 2085\n",
            "Epoch: [0]  [ 40/537]  eta: 0:03:45  lr: 0.000387  loss: 0.7841 (1.3297)  loss_classifier: 0.0959 (0.1830)  loss_box_reg: 0.0969 (0.0921)  loss_mask: 0.5185 (1.0161)  loss_objectness: 0.0125 (0.0330)  loss_rpn_box_reg: 0.0026 (0.0055)  time: 0.4301  data: 0.0078  max mem: 2085\n",
            "Epoch: [0]  [ 50/537]  eta: 0:03:39  lr: 0.000480  loss: 0.7501 (1.2124)  loss_classifier: 0.0959 (0.1661)  loss_box_reg: 0.1167 (0.0957)  loss_mask: 0.5071 (0.9136)  loss_objectness: 0.0125 (0.0311)  loss_rpn_box_reg: 0.0027 (0.0058)  time: 0.4335  data: 0.0078  max mem: 2085\n",
            "Epoch: [0]  [ 60/537]  eta: 0:03:33  lr: 0.000573  loss: 0.6431 (1.1178)  loss_classifier: 0.0914 (0.1539)  loss_box_reg: 0.1167 (0.1009)  loss_mask: 0.3890 (0.8242)  loss_objectness: 0.0117 (0.0329)  loss_rpn_box_reg: 0.0029 (0.0059)  time: 0.4352  data: 0.0076  max mem: 2085\n",
            "Epoch: [0]  [ 70/537]  eta: 0:03:28  lr: 0.000667  loss: 0.6278 (1.0549)  loss_classifier: 0.0811 (0.1444)  loss_box_reg: 0.1179 (0.1040)  loss_mask: 0.3828 (0.7702)  loss_objectness: 0.0084 (0.0305)  loss_rpn_box_reg: 0.0025 (0.0058)  time: 0.4362  data: 0.0080  max mem: 2085\n",
            "Epoch: [0]  [ 80/537]  eta: 0:03:23  lr: 0.000760  loss: 0.6011 (0.9941)  loss_classifier: 0.0765 (0.1360)  loss_box_reg: 0.1133 (0.1046)  loss_mask: 0.3745 (0.7189)  loss_objectness: 0.0114 (0.0292)  loss_rpn_box_reg: 0.0025 (0.0054)  time: 0.4361  data: 0.0082  max mem: 2085\n",
            "Epoch: [0]  [ 90/537]  eta: 0:03:18  lr: 0.000853  loss: 0.5764 (0.9593)  loss_classifier: 0.0751 (0.1301)  loss_box_reg: 0.0911 (0.1043)  loss_mask: 0.3574 (0.6919)  loss_objectness: 0.0106 (0.0278)  loss_rpn_box_reg: 0.0025 (0.0053)  time: 0.4361  data: 0.0083  max mem: 2085\n",
            "Epoch: [0]  [100/537]  eta: 0:03:13  lr: 0.000946  loss: 0.5450 (0.9184)  loss_classifier: 0.0784 (0.1243)  loss_box_reg: 0.1152 (0.1062)  loss_mask: 0.3507 (0.6560)  loss_objectness: 0.0092 (0.0266)  loss_rpn_box_reg: 0.0032 (0.0052)  time: 0.4395  data: 0.0083  max mem: 2085\n",
            "Epoch: [0]  [110/537]  eta: 0:03:09  lr: 0.001039  loss: 0.4897 (0.8764)  loss_classifier: 0.0660 (0.1192)  loss_box_reg: 0.1022 (0.1061)  loss_mask: 0.2739 (0.6207)  loss_objectness: 0.0052 (0.0253)  loss_rpn_box_reg: 0.0025 (0.0051)  time: 0.4422  data: 0.0079  max mem: 2085\n",
            "Epoch: [0]  [120/537]  eta: 0:03:04  lr: 0.001133  loss: 0.4493 (0.8490)  loss_classifier: 0.0515 (0.1146)  loss_box_reg: 0.0963 (0.1057)  loss_mask: 0.2419 (0.5989)  loss_objectness: 0.0036 (0.0249)  loss_rpn_box_reg: 0.0021 (0.0049)  time: 0.4407  data: 0.0080  max mem: 2085\n",
            "Epoch: [0]  [130/537]  eta: 0:03:00  lr: 0.001226  loss: 0.4800 (0.8195)  loss_classifier: 0.0515 (0.1104)  loss_box_reg: 0.1077 (0.1066)  loss_mask: 0.2679 (0.5741)  loss_objectness: 0.0044 (0.0238)  loss_rpn_box_reg: 0.0018 (0.0047)  time: 0.4446  data: 0.0083  max mem: 2085\n",
            "Epoch: [0]  [140/537]  eta: 0:02:56  lr: 0.001319  loss: 0.4573 (0.7972)  loss_classifier: 0.0486 (0.1063)  loss_box_reg: 0.1013 (0.1063)  loss_mask: 0.2565 (0.5579)  loss_objectness: 0.0024 (0.0222)  loss_rpn_box_reg: 0.0020 (0.0045)  time: 0.4479  data: 0.0081  max mem: 2085\n",
            "Epoch: [0]  [150/537]  eta: 0:02:51  lr: 0.001412  loss: 0.3846 (0.7745)  loss_classifier: 0.0422 (0.1030)  loss_box_reg: 0.0877 (0.1052)  loss_mask: 0.2567 (0.5404)  loss_objectness: 0.0024 (0.0216)  loss_rpn_box_reg: 0.0019 (0.0043)  time: 0.4459  data: 0.0080  max mem: 2085\n",
            "Epoch: [0]  [160/537]  eta: 0:02:47  lr: 0.001505  loss: 0.4121 (0.7525)  loss_classifier: 0.0408 (0.0998)  loss_box_reg: 0.0847 (0.1034)  loss_mask: 0.2527 (0.5230)  loss_objectness: 0.0095 (0.0221)  loss_rpn_box_reg: 0.0017 (0.0042)  time: 0.4572  data: 0.0100  max mem: 2085\n",
            "Epoch: [0]  [170/537]  eta: 0:02:43  lr: 0.001599  loss: 0.4223 (0.7395)  loss_classifier: 0.0461 (0.0977)  loss_box_reg: 0.0848 (0.1023)  loss_mask: 0.2711 (0.5137)  loss_objectness: 0.0094 (0.0216)  loss_rpn_box_reg: 0.0019 (0.0042)  time: 0.4604  data: 0.0110  max mem: 2085\n",
            "Epoch: [0]  [180/537]  eta: 0:02:39  lr: 0.001692  loss: 0.4460 (0.7231)  loss_classifier: 0.0532 (0.0954)  loss_box_reg: 0.0797 (0.1008)  loss_mask: 0.2882 (0.5015)  loss_objectness: 0.0047 (0.0213)  loss_rpn_box_reg: 0.0017 (0.0040)  time: 0.4510  data: 0.0096  max mem: 2085\n",
            "Epoch: [0]  [190/537]  eta: 0:02:34  lr: 0.001785  loss: 0.4405 (0.7088)  loss_classifier: 0.0489 (0.0929)  loss_box_reg: 0.0759 (0.0994)  loss_mask: 0.2735 (0.4919)  loss_objectness: 0.0044 (0.0208)  loss_rpn_box_reg: 0.0015 (0.0039)  time: 0.4499  data: 0.0084  max mem: 2085\n",
            "Epoch: [0]  [200/537]  eta: 0:02:30  lr: 0.001878  loss: 0.4015 (0.6965)  loss_classifier: 0.0378 (0.0903)  loss_box_reg: 0.0690 (0.0979)  loss_mask: 0.2592 (0.4841)  loss_objectness: 0.0015 (0.0203)  loss_rpn_box_reg: 0.0018 (0.0039)  time: 0.4491  data: 0.0079  max mem: 2085\n",
            "Epoch: [0]  [210/537]  eta: 0:02:26  lr: 0.001971  loss: 0.4182 (0.6860)  loss_classifier: 0.0412 (0.0890)  loss_box_reg: 0.0690 (0.0969)  loss_mask: 0.2820 (0.4764)  loss_objectness: 0.0029 (0.0199)  loss_rpn_box_reg: 0.0019 (0.0039)  time: 0.4505  data: 0.0079  max mem: 2085\n",
            "Epoch: [0]  [220/537]  eta: 0:02:21  lr: 0.002065  loss: 0.4182 (0.6757)  loss_classifier: 0.0535 (0.0875)  loss_box_reg: 0.0702 (0.0956)  loss_mask: 0.2811 (0.4694)  loss_objectness: 0.0033 (0.0193)  loss_rpn_box_reg: 0.0023 (0.0038)  time: 0.4496  data: 0.0077  max mem: 2085\n",
            "Epoch: [0]  [230/537]  eta: 0:02:17  lr: 0.002158  loss: 0.3715 (0.6633)  loss_classifier: 0.0359 (0.0856)  loss_box_reg: 0.0639 (0.0944)  loss_mask: 0.2766 (0.4609)  loss_objectness: 0.0037 (0.0188)  loss_rpn_box_reg: 0.0019 (0.0038)  time: 0.4526  data: 0.0077  max mem: 2085\n",
            "Epoch: [0]  [240/537]  eta: 0:02:12  lr: 0.002251  loss: 0.3759 (0.6526)  loss_classifier: 0.0350 (0.0835)  loss_box_reg: 0.0645 (0.0932)  loss_mask: 0.2766 (0.4540)  loss_objectness: 0.0039 (0.0182)  loss_rpn_box_reg: 0.0014 (0.0037)  time: 0.4576  data: 0.0081  max mem: 2085\n",
            "Epoch: [0]  [250/537]  eta: 0:02:08  lr: 0.002344  loss: 0.3963 (0.6440)  loss_classifier: 0.0411 (0.0820)  loss_box_reg: 0.0664 (0.0921)  loss_mask: 0.2858 (0.4486)  loss_objectness: 0.0039 (0.0177)  loss_rpn_box_reg: 0.0016 (0.0036)  time: 0.4657  data: 0.0100  max mem: 2085\n",
            "Epoch: [0]  [260/537]  eta: 0:02:04  lr: 0.002437  loss: 0.3963 (0.6350)  loss_classifier: 0.0430 (0.0807)  loss_box_reg: 0.0664 (0.0909)  loss_mask: 0.2711 (0.4423)  loss_objectness: 0.0035 (0.0174)  loss_rpn_box_reg: 0.0017 (0.0036)  time: 0.4825  data: 0.0157  max mem: 2085\n",
            "Epoch: [0]  [270/537]  eta: 0:02:00  lr: 0.002530  loss: 0.3729 (0.6277)  loss_classifier: 0.0516 (0.0801)  loss_box_reg: 0.0657 (0.0902)  loss_mask: 0.2295 (0.4367)  loss_objectness: 0.0060 (0.0171)  loss_rpn_box_reg: 0.0018 (0.0035)  time: 0.4750  data: 0.0138  max mem: 2085\n",
            "Epoch: [0]  [280/537]  eta: 0:01:55  lr: 0.002624  loss: 0.4143 (0.6224)  loss_classifier: 0.0647 (0.0796)  loss_box_reg: 0.0716 (0.0900)  loss_mask: 0.2662 (0.4324)  loss_objectness: 0.0065 (0.0169)  loss_rpn_box_reg: 0.0020 (0.0035)  time: 0.4590  data: 0.0079  max mem: 2085\n",
            "Epoch: [0]  [290/537]  eta: 0:01:51  lr: 0.002717  loss: 0.4598 (0.6189)  loss_classifier: 0.0580 (0.0791)  loss_box_reg: 0.0758 (0.0895)  loss_mask: 0.3244 (0.4298)  loss_objectness: 0.0069 (0.0171)  loss_rpn_box_reg: 0.0025 (0.0035)  time: 0.4595  data: 0.0079  max mem: 2085\n",
            "Epoch: [0]  [300/537]  eta: 0:01:47  lr: 0.002810  loss: 0.4541 (0.6144)  loss_classifier: 0.0464 (0.0783)  loss_box_reg: 0.0698 (0.0890)  loss_mask: 0.3293 (0.4268)  loss_objectness: 0.0061 (0.0168)  loss_rpn_box_reg: 0.0020 (0.0034)  time: 0.4629  data: 0.0079  max mem: 2085\n",
            "Epoch: [0]  [310/537]  eta: 0:01:42  lr: 0.002903  loss: 0.4541 (0.6083)  loss_classifier: 0.0447 (0.0773)  loss_box_reg: 0.0628 (0.0883)  loss_mask: 0.2968 (0.4227)  loss_objectness: 0.0041 (0.0166)  loss_rpn_box_reg: 0.0020 (0.0034)  time: 0.4641  data: 0.0077  max mem: 2085\n",
            "Epoch: [0]  [320/537]  eta: 0:01:38  lr: 0.002996  loss: 0.4208 (0.6022)  loss_classifier: 0.0333 (0.0763)  loss_box_reg: 0.0558 (0.0874)  loss_mask: 0.2968 (0.4190)  loss_objectness: 0.0023 (0.0162)  loss_rpn_box_reg: 0.0017 (0.0033)  time: 0.4604  data: 0.0077  max mem: 2085\n",
            "Epoch: [0]  [330/537]  eta: 0:01:33  lr: 0.003090  loss: 0.4170 (0.5978)  loss_classifier: 0.0307 (0.0757)  loss_box_reg: 0.0675 (0.0871)  loss_mask: 0.3112 (0.4159)  loss_objectness: 0.0023 (0.0159)  loss_rpn_box_reg: 0.0014 (0.0033)  time: 0.4574  data: 0.0081  max mem: 2085\n",
            "Epoch: [0]  [340/537]  eta: 0:01:29  lr: 0.003183  loss: 0.4740 (0.5942)  loss_classifier: 0.0568 (0.0753)  loss_box_reg: 0.0807 (0.0868)  loss_mask: 0.3090 (0.4129)  loss_objectness: 0.0054 (0.0159)  loss_rpn_box_reg: 0.0022 (0.0034)  time: 0.4550  data: 0.0079  max mem: 2085\n",
            "Epoch: [0]  [350/537]  eta: 0:01:24  lr: 0.003276  loss: 0.4229 (0.5874)  loss_classifier: 0.0543 (0.0745)  loss_box_reg: 0.0714 (0.0863)  loss_mask: 0.2621 (0.4075)  loss_objectness: 0.0100 (0.0157)  loss_rpn_box_reg: 0.0019 (0.0033)  time: 0.4564  data: 0.0077  max mem: 2085\n",
            "Epoch: [0]  [360/537]  eta: 0:01:20  lr: 0.003369  loss: 0.3820 (0.5831)  loss_classifier: 0.0466 (0.0742)  loss_box_reg: 0.0656 (0.0859)  loss_mask: 0.2226 (0.4042)  loss_objectness: 0.0060 (0.0155)  loss_rpn_box_reg: 0.0013 (0.0033)  time: 0.4578  data: 0.0079  max mem: 2085\n",
            "Epoch: [0]  [370/537]  eta: 0:01:15  lr: 0.003462  loss: 0.4109 (0.5808)  loss_classifier: 0.0465 (0.0736)  loss_box_reg: 0.0639 (0.0855)  loss_mask: 0.2580 (0.4031)  loss_objectness: 0.0033 (0.0153)  loss_rpn_box_reg: 0.0018 (0.0033)  time: 0.4596  data: 0.0081  max mem: 2085\n",
            "Epoch: [0]  [380/537]  eta: 0:01:11  lr: 0.003556  loss: 0.3865 (0.5772)  loss_classifier: 0.0380 (0.0728)  loss_box_reg: 0.0673 (0.0849)  loss_mask: 0.2951 (0.4012)  loss_objectness: 0.0028 (0.0150)  loss_rpn_box_reg: 0.0014 (0.0032)  time: 0.4597  data: 0.0080  max mem: 2085\n",
            "Epoch: [0]  [390/537]  eta: 0:01:06  lr: 0.003649  loss: 0.3930 (0.5726)  loss_classifier: 0.0380 (0.0722)  loss_box_reg: 0.0673 (0.0844)  loss_mask: 0.2654 (0.3975)  loss_objectness: 0.0025 (0.0151)  loss_rpn_box_reg: 0.0017 (0.0034)  time: 0.4578  data: 0.0077  max mem: 2085\n",
            "Epoch: [0]  [400/537]  eta: 0:01:02  lr: 0.003742  loss: 0.3897 (0.5682)  loss_classifier: 0.0298 (0.0713)  loss_box_reg: 0.0556 (0.0838)  loss_mask: 0.2308 (0.3946)  loss_objectness: 0.0036 (0.0151)  loss_rpn_box_reg: 0.0016 (0.0034)  time: 0.4577  data: 0.0079  max mem: 2085\n",
            "Epoch: [0]  [410/537]  eta: 0:00:57  lr: 0.003835  loss: 0.3387 (0.5642)  loss_classifier: 0.0271 (0.0705)  loss_box_reg: 0.0564 (0.0835)  loss_mask: 0.2358 (0.3918)  loss_objectness: 0.0030 (0.0149)  loss_rpn_box_reg: 0.0012 (0.0034)  time: 0.4563  data: 0.0079  max mem: 2085\n",
            "Epoch: [0]  [420/537]  eta: 0:00:53  lr: 0.003928  loss: 0.3387 (0.5597)  loss_classifier: 0.0336 (0.0698)  loss_box_reg: 0.0596 (0.0831)  loss_mask: 0.2368 (0.3888)  loss_objectness: 0.0013 (0.0146)  loss_rpn_box_reg: 0.0010 (0.0034)  time: 0.4581  data: 0.0079  max mem: 2085\n",
            "Epoch: [0]  [430/537]  eta: 0:00:48  lr: 0.004022  loss: 0.4348 (0.5592)  loss_classifier: 0.0444 (0.0697)  loss_box_reg: 0.0618 (0.0831)  loss_mask: 0.3105 (0.3885)  loss_objectness: 0.0033 (0.0145)  loss_rpn_box_reg: 0.0017 (0.0034)  time: 0.4584  data: 0.0079  max mem: 2085\n",
            "Epoch: [0]  [440/537]  eta: 0:00:44  lr: 0.004115  loss: 0.4589 (0.5569)  loss_classifier: 0.0444 (0.0692)  loss_box_reg: 0.0697 (0.0829)  loss_mask: 0.3275 (0.3872)  loss_objectness: 0.0071 (0.0143)  loss_rpn_box_reg: 0.0024 (0.0033)  time: 0.4565  data: 0.0077  max mem: 2085\n",
            "Epoch: [0]  [450/537]  eta: 0:00:39  lr: 0.004208  loss: 0.4108 (0.5526)  loss_classifier: 0.0395 (0.0687)  loss_box_reg: 0.0613 (0.0825)  loss_mask: 0.2891 (0.3840)  loss_objectness: 0.0028 (0.0141)  loss_rpn_box_reg: 0.0015 (0.0033)  time: 0.4572  data: 0.0078  max mem: 2085\n",
            "Epoch: [0]  [460/537]  eta: 0:00:34  lr: 0.004301  loss: 0.3786 (0.5495)  loss_classifier: 0.0438 (0.0682)  loss_box_reg: 0.0561 (0.0820)  loss_mask: 0.2402 (0.3821)  loss_objectness: 0.0054 (0.0141)  loss_rpn_box_reg: 0.0009 (0.0033)  time: 0.4583  data: 0.0079  max mem: 2085\n",
            "Epoch: [0]  [470/537]  eta: 0:00:30  lr: 0.004394  loss: 0.3897 (0.5464)  loss_classifier: 0.0438 (0.0677)  loss_box_reg: 0.0563 (0.0815)  loss_mask: 0.2657 (0.3802)  loss_objectness: 0.0065 (0.0139)  loss_rpn_box_reg: 0.0012 (0.0032)  time: 0.4588  data: 0.0077  max mem: 2085\n",
            "Epoch: [0]  [480/537]  eta: 0:00:25  lr: 0.004487  loss: 0.3628 (0.5421)  loss_classifier: 0.0338 (0.0672)  loss_box_reg: 0.0536 (0.0810)  loss_mask: 0.2496 (0.3771)  loss_objectness: 0.0037 (0.0137)  loss_rpn_box_reg: 0.0010 (0.0032)  time: 0.4598  data: 0.0077  max mem: 2085\n",
            "Epoch: [0]  [490/537]  eta: 0:00:21  lr: 0.004581  loss: 0.2801 (0.5383)  loss_classifier: 0.0272 (0.0666)  loss_box_reg: 0.0548 (0.0805)  loss_mask: 0.2044 (0.3745)  loss_objectness: 0.0012 (0.0135)  loss_rpn_box_reg: 0.0009 (0.0032)  time: 0.4597  data: 0.0082  max mem: 2085\n",
            "Epoch: [0]  [500/537]  eta: 0:00:16  lr: 0.004674  loss: 0.3344 (0.5354)  loss_classifier: 0.0327 (0.0661)  loss_box_reg: 0.0632 (0.0801)  loss_mask: 0.2340 (0.3726)  loss_objectness: 0.0026 (0.0134)  loss_rpn_box_reg: 0.0014 (0.0032)  time: 0.4585  data: 0.0082  max mem: 2085\n",
            "Epoch: [0]  [510/537]  eta: 0:00:12  lr: 0.004767  loss: 0.3680 (0.5325)  loss_classifier: 0.0369 (0.0656)  loss_box_reg: 0.0632 (0.0797)  loss_mask: 0.2432 (0.3707)  loss_objectness: 0.0038 (0.0133)  loss_rpn_box_reg: 0.0014 (0.0032)  time: 0.4603  data: 0.0077  max mem: 2085\n",
            "Epoch: [0]  [520/537]  eta: 0:00:07  lr: 0.004860  loss: 0.3709 (0.5299)  loss_classifier: 0.0449 (0.0653)  loss_box_reg: 0.0597 (0.0794)  loss_mask: 0.2432 (0.3689)  loss_objectness: 0.0036 (0.0131)  loss_rpn_box_reg: 0.0016 (0.0031)  time: 0.4611  data: 0.0078  max mem: 2085\n",
            "Epoch: [0]  [530/537]  eta: 0:00:03  lr: 0.004953  loss: 0.3866 (0.5274)  loss_classifier: 0.0432 (0.0649)  loss_box_reg: 0.0603 (0.0792)  loss_mask: 0.2695 (0.3673)  loss_objectness: 0.0019 (0.0130)  loss_rpn_box_reg: 0.0016 (0.0031)  time: 0.4595  data: 0.0078  max mem: 2085\n",
            "Epoch: [0]  [536/537]  eta: 0:00:00  lr: 0.005000  loss: 0.3780 (0.5254)  loss_classifier: 0.0377 (0.0646)  loss_box_reg: 0.0591 (0.0789)  loss_mask: 0.2732 (0.3660)  loss_objectness: 0.0014 (0.0128)  loss_rpn_box_reg: 0.0016 (0.0031)  time: 0.4481  data: 0.0075  max mem: 2085\n",
            "Epoch: [0] Total time: 0:04:04 (0.4546 s / it)\n",
            "creating index...\n",
            "index created!\n",
            "Test:  [  0/300]  eta: 0:01:37  model_time: 0.1368 (0.1368)  evaluator_time: 0.0048 (0.0048)  time: 0.3240  data: 0.1816  max mem: 2085\n",
            "Test:  [100/300]  eta: 0:00:19  model_time: 0.0864 (0.0880)  evaluator_time: 0.0034 (0.0038)  time: 0.0960  data: 0.0039  max mem: 2085\n",
            "Test:  [200/300]  eta: 0:00:10  model_time: 0.0886 (0.0906)  evaluator_time: 0.0036 (0.0049)  time: 0.1118  data: 0.0067  max mem: 2085\n",
            "Test:  [299/300]  eta: 0:00:00  model_time: 0.0870 (0.0901)  evaluator_time: 0.0035 (0.0047)  time: 0.0964  data: 0.0037  max mem: 2085\n",
            "Test: Total time: 0:00:30 (0.1018 s / it)\n",
            "Averaged stats: model_time: 0.0870 (0.0901)  evaluator_time: 0.0035 (0.0047)\n",
            "Accumulating evaluation results...\n",
            "DONE (t=0.05s).\n",
            "Accumulating evaluation results...\n",
            "DONE (t=0.05s).\n",
            "IoU metric: bbox\n",
            " Average Precision  (AP) @[ IoU=0.50:0.95 | area=   all | maxDets=100 ] = 0.510\n",
            " Average Precision  (AP) @[ IoU=0.50      | area=   all | maxDets=100 ] = 0.828\n",
            " Average Precision  (AP) @[ IoU=0.75      | area=   all | maxDets=100 ] = 0.606\n",
            " Average Precision  (AP) @[ IoU=0.50:0.95 | area= small | maxDets=100 ] = 0.230\n",
            " Average Precision  (AP) @[ IoU=0.50:0.95 | area=medium | maxDets=100 ] = 0.586\n",
            " Average Precision  (AP) @[ IoU=0.50:0.95 | area= large | maxDets=100 ] = 0.551\n",
            " Average Recall     (AR) @[ IoU=0.50:0.95 | area=   all | maxDets=  1 ] = 0.556\n",
            " Average Recall     (AR) @[ IoU=0.50:0.95 | area=   all | maxDets= 10 ] = 0.599\n",
            " Average Recall     (AR) @[ IoU=0.50:0.95 | area=   all | maxDets=100 ] = 0.599\n",
            " Average Recall     (AR) @[ IoU=0.50:0.95 | area= small | maxDets=100 ] = 0.335\n",
            " Average Recall     (AR) @[ IoU=0.50:0.95 | area=medium | maxDets=100 ] = 0.667\n",
            " Average Recall     (AR) @[ IoU=0.50:0.95 | area= large | maxDets=100 ] = 0.627\n",
            "IoU metric: segm\n",
            " Average Precision  (AP) @[ IoU=0.50:0.95 | area=   all | maxDets=100 ] = 0.482\n",
            " Average Precision  (AP) @[ IoU=0.50      | area=   all | maxDets=100 ] = 0.803\n",
            " Average Precision  (AP) @[ IoU=0.75      | area=   all | maxDets=100 ] = 0.506\n",
            " Average Precision  (AP) @[ IoU=0.50:0.95 | area= small | maxDets=100 ] = 0.163\n",
            " Average Precision  (AP) @[ IoU=0.50:0.95 | area=medium | maxDets=100 ] = 0.570\n",
            " Average Precision  (AP) @[ IoU=0.50:0.95 | area= large | maxDets=100 ] = 0.638\n",
            " Average Recall     (AR) @[ IoU=0.50:0.95 | area=   all | maxDets=  1 ] = 0.523\n",
            " Average Recall     (AR) @[ IoU=0.50:0.95 | area=   all | maxDets= 10 ] = 0.565\n",
            " Average Recall     (AR) @[ IoU=0.50:0.95 | area=   all | maxDets=100 ] = 0.565\n",
            " Average Recall     (AR) @[ IoU=0.50:0.95 | area= small | maxDets=100 ] = 0.352\n",
            " Average Recall     (AR) @[ IoU=0.50:0.95 | area=medium | maxDets=100 ] = 0.617\n",
            " Average Recall     (AR) @[ IoU=0.50:0.95 | area= large | maxDets=100 ] = 0.645\n",
            "Epoch: [1]  [  0/537]  eta: 0:05:59  lr: 0.005000  loss: 0.2023 (0.2023)  loss_classifier: 0.0169 (0.0169)  loss_box_reg: 0.0254 (0.0254)  loss_mask: 0.1585 (0.1585)  loss_objectness: 0.0012 (0.0012)  loss_rpn_box_reg: 0.0003 (0.0003)  time: 0.6695  data: 0.2064  max mem: 2085\n",
            "Epoch: [1]  [ 10/537]  eta: 0:04:14  lr: 0.005000  loss: 0.3181 (0.3466)  loss_classifier: 0.0359 (0.0357)  loss_box_reg: 0.0493 (0.0581)  loss_mask: 0.2461 (0.2443)  loss_objectness: 0.0012 (0.0019)  loss_rpn_box_reg: 0.0009 (0.0065)  time: 0.4839  data: 0.0269  max mem: 2085\n",
            "Epoch: [1]  [ 20/537]  eta: 0:04:04  lr: 0.005000  loss: 0.3359 (0.3594)  loss_classifier: 0.0357 (0.0411)  loss_box_reg: 0.0528 (0.0588)  loss_mask: 0.2461 (0.2513)  loss_objectness: 0.0013 (0.0038)  loss_rpn_box_reg: 0.0011 (0.0043)  time: 0.4637  data: 0.0092  max mem: 2085\n",
            "Epoch: [1]  [ 30/537]  eta: 0:03:58  lr: 0.005000  loss: 0.3988 (0.3776)  loss_classifier: 0.0388 (0.0433)  loss_box_reg: 0.0698 (0.0652)  loss_mask: 0.2570 (0.2624)  loss_objectness: 0.0023 (0.0033)  loss_rpn_box_reg: 0.0013 (0.0034)  time: 0.4629  data: 0.0087  max mem: 2085\n",
            "Epoch: [1]  [ 40/537]  eta: 0:03:52  lr: 0.005000  loss: 0.4056 (0.3877)  loss_classifier: 0.0515 (0.0477)  loss_box_reg: 0.0675 (0.0658)  loss_mask: 0.2593 (0.2659)  loss_objectness: 0.0027 (0.0052)  loss_rpn_box_reg: 0.0017 (0.0031)  time: 0.4632  data: 0.0082  max mem: 2085\n",
            "Epoch: [1]  [ 50/537]  eta: 0:03:47  lr: 0.005000  loss: 0.3359 (0.3857)  loss_classifier: 0.0424 (0.0476)  loss_box_reg: 0.0635 (0.0645)  loss_mask: 0.2474 (0.2642)  loss_objectness: 0.0061 (0.0065)  loss_rpn_box_reg: 0.0018 (0.0030)  time: 0.4617  data: 0.0083  max mem: 2085\n",
            "Epoch: [1]  [ 60/537]  eta: 0:03:42  lr: 0.005000  loss: 0.3283 (0.3793)  loss_classifier: 0.0325 (0.0452)  loss_box_reg: 0.0635 (0.0648)  loss_mask: 0.2189 (0.2607)  loss_objectness: 0.0023 (0.0059)  loss_rpn_box_reg: 0.0017 (0.0027)  time: 0.4614  data: 0.0080  max mem: 2085\n",
            "Epoch: [1]  [ 70/537]  eta: 0:03:37  lr: 0.005000  loss: 0.3458 (0.3835)  loss_classifier: 0.0325 (0.0460)  loss_box_reg: 0.0708 (0.0666)  loss_mask: 0.2203 (0.2625)  loss_objectness: 0.0019 (0.0056)  loss_rpn_box_reg: 0.0017 (0.0028)  time: 0.4623  data: 0.0076  max mem: 2085\n",
            "Epoch: [1]  [ 80/537]  eta: 0:03:32  lr: 0.005000  loss: 0.3748 (0.3822)  loss_classifier: 0.0466 (0.0464)  loss_box_reg: 0.0735 (0.0667)  loss_mask: 0.2203 (0.2608)  loss_objectness: 0.0015 (0.0057)  loss_rpn_box_reg: 0.0017 (0.0027)  time: 0.4630  data: 0.0077  max mem: 2085\n",
            "Epoch: [1]  [ 90/537]  eta: 0:03:27  lr: 0.005000  loss: 0.3938 (0.3999)  loss_classifier: 0.0545 (0.0494)  loss_box_reg: 0.0673 (0.0684)  loss_mask: 0.2473 (0.2734)  loss_objectness: 0.0039 (0.0061)  loss_rpn_box_reg: 0.0016 (0.0027)  time: 0.4617  data: 0.0078  max mem: 2085\n",
            "Epoch: [1]  [100/537]  eta: 0:03:23  lr: 0.005000  loss: 0.3940 (0.3998)  loss_classifier: 0.0493 (0.0490)  loss_box_reg: 0.0703 (0.0679)  loss_mask: 0.2627 (0.2743)  loss_objectness: 0.0059 (0.0060)  loss_rpn_box_reg: 0.0014 (0.0026)  time: 0.4612  data: 0.0077  max mem: 2085\n",
            "Epoch: [1]  [110/537]  eta: 0:03:18  lr: 0.005000  loss: 0.3715 (0.3982)  loss_classifier: 0.0407 (0.0485)  loss_box_reg: 0.0558 (0.0670)  loss_mask: 0.2627 (0.2739)  loss_objectness: 0.0039 (0.0063)  loss_rpn_box_reg: 0.0013 (0.0025)  time: 0.4628  data: 0.0076  max mem: 2085\n",
            "Epoch: [1]  [120/537]  eta: 0:03:13  lr: 0.005000  loss: 0.3696 (0.4042)  loss_classifier: 0.0496 (0.0490)  loss_box_reg: 0.0616 (0.0669)  loss_mask: 0.2670 (0.2787)  loss_objectness: 0.0057 (0.0070)  loss_rpn_box_reg: 0.0014 (0.0025)  time: 0.4666  data: 0.0097  max mem: 2085\n",
            "Epoch: [1]  [130/537]  eta: 0:03:09  lr: 0.005000  loss: 0.3634 (0.4024)  loss_classifier: 0.0524 (0.0487)  loss_box_reg: 0.0627 (0.0669)  loss_mask: 0.2348 (0.2773)  loss_objectness: 0.0044 (0.0070)  loss_rpn_box_reg: 0.0014 (0.0025)  time: 0.4671  data: 0.0097  max mem: 2085\n",
            "Epoch: [1]  [140/537]  eta: 0:03:04  lr: 0.005000  loss: 0.3546 (0.4024)  loss_classifier: 0.0348 (0.0481)  loss_box_reg: 0.0554 (0.0662)  loss_mask: 0.2250 (0.2789)  loss_objectness: 0.0021 (0.0067)  loss_rpn_box_reg: 0.0015 (0.0024)  time: 0.4631  data: 0.0077  max mem: 2085\n",
            "Epoch: [1]  [150/537]  eta: 0:03:00  lr: 0.005000  loss: 0.3612 (0.4019)  loss_classifier: 0.0436 (0.0487)  loss_box_reg: 0.0581 (0.0657)  loss_mask: 0.2390 (0.2785)  loss_objectness: 0.0026 (0.0067)  loss_rpn_box_reg: 0.0011 (0.0024)  time: 0.4737  data: 0.0116  max mem: 2085\n",
            "Epoch: [1]  [160/537]  eta: 0:02:56  lr: 0.005000  loss: 0.3500 (0.4004)  loss_classifier: 0.0436 (0.0482)  loss_box_reg: 0.0591 (0.0656)  loss_mask: 0.2353 (0.2778)  loss_objectness: 0.0026 (0.0065)  loss_rpn_box_reg: 0.0012 (0.0024)  time: 0.4825  data: 0.0144  max mem: 2085\n",
            "Epoch: [1]  [170/537]  eta: 0:02:51  lr: 0.005000  loss: 0.3119 (0.3950)  loss_classifier: 0.0330 (0.0472)  loss_box_reg: 0.0591 (0.0649)  loss_mask: 0.2058 (0.2743)  loss_objectness: 0.0017 (0.0063)  loss_rpn_box_reg: 0.0012 (0.0023)  time: 0.4725  data: 0.0106  max mem: 2085\n",
            "Epoch: [1]  [180/537]  eta: 0:02:46  lr: 0.005000  loss: 0.2970 (0.3960)  loss_classifier: 0.0333 (0.0476)  loss_box_reg: 0.0579 (0.0654)  loss_mask: 0.2033 (0.2746)  loss_objectness: 0.0019 (0.0061)  loss_rpn_box_reg: 0.0012 (0.0023)  time: 0.4650  data: 0.0078  max mem: 2085\n",
            "Epoch: [1]  [190/537]  eta: 0:02:41  lr: 0.005000  loss: 0.3198 (0.3940)  loss_classifier: 0.0399 (0.0475)  loss_box_reg: 0.0614 (0.0653)  loss_mask: 0.2199 (0.2729)  loss_objectness: 0.0019 (0.0060)  loss_rpn_box_reg: 0.0016 (0.0023)  time: 0.4644  data: 0.0078  max mem: 2085\n",
            "Epoch: [1]  [200/537]  eta: 0:02:37  lr: 0.005000  loss: 0.3228 (0.3912)  loss_classifier: 0.0373 (0.0474)  loss_box_reg: 0.0607 (0.0651)  loss_mask: 0.2105 (0.2706)  loss_objectness: 0.0017 (0.0059)  loss_rpn_box_reg: 0.0011 (0.0022)  time: 0.4636  data: 0.0078  max mem: 2085\n",
            "Epoch: [1]  [210/537]  eta: 0:02:32  lr: 0.005000  loss: 0.3412 (0.3954)  loss_classifier: 0.0382 (0.0477)  loss_box_reg: 0.0610 (0.0649)  loss_mask: 0.2501 (0.2742)  loss_objectness: 0.0040 (0.0064)  loss_rpn_box_reg: 0.0008 (0.0022)  time: 0.4606  data: 0.0078  max mem: 2085\n",
            "Epoch: [1]  [220/537]  eta: 0:02:27  lr: 0.005000  loss: 0.3685 (0.3939)  loss_classifier: 0.0378 (0.0470)  loss_box_reg: 0.0577 (0.0644)  loss_mask: 0.2596 (0.2740)  loss_objectness: 0.0039 (0.0063)  loss_rpn_box_reg: 0.0011 (0.0022)  time: 0.4596  data: 0.0078  max mem: 2085\n",
            "Epoch: [1]  [230/537]  eta: 0:02:22  lr: 0.005000  loss: 0.3247 (0.3899)  loss_classifier: 0.0227 (0.0464)  loss_box_reg: 0.0503 (0.0642)  loss_mask: 0.2454 (0.2711)  loss_objectness: 0.0024 (0.0061)  loss_rpn_box_reg: 0.0011 (0.0021)  time: 0.4617  data: 0.0076  max mem: 2085\n",
            "Epoch: [1]  [240/537]  eta: 0:02:18  lr: 0.005000  loss: 0.2863 (0.3880)  loss_classifier: 0.0216 (0.0456)  loss_box_reg: 0.0527 (0.0637)  loss_mask: 0.2041 (0.2705)  loss_objectness: 0.0011 (0.0060)  loss_rpn_box_reg: 0.0012 (0.0021)  time: 0.4647  data: 0.0091  max mem: 2085\n",
            "Epoch: [1]  [250/537]  eta: 0:02:13  lr: 0.005000  loss: 0.3085 (0.3892)  loss_classifier: 0.0352 (0.0458)  loss_box_reg: 0.0565 (0.0639)  loss_mask: 0.2156 (0.2714)  loss_objectness: 0.0014 (0.0059)  loss_rpn_box_reg: 0.0012 (0.0021)  time: 0.4689  data: 0.0114  max mem: 2085\n",
            "Epoch: [1]  [260/537]  eta: 0:02:09  lr: 0.005000  loss: 0.4394 (0.3919)  loss_classifier: 0.0420 (0.0462)  loss_box_reg: 0.0571 (0.0639)  loss_mask: 0.3237 (0.2738)  loss_objectness: 0.0018 (0.0059)  loss_rpn_box_reg: 0.0015 (0.0021)  time: 0.4787  data: 0.0153  max mem: 2085\n",
            "Epoch: [1]  [270/537]  eta: 0:02:04  lr: 0.005000  loss: 0.3759 (0.3904)  loss_classifier: 0.0498 (0.0464)  loss_box_reg: 0.0667 (0.0640)  loss_mask: 0.2876 (0.2721)  loss_objectness: 0.0016 (0.0058)  loss_rpn_box_reg: 0.0012 (0.0021)  time: 0.4740  data: 0.0130  max mem: 2085\n",
            "Epoch: [1]  [280/537]  eta: 0:01:59  lr: 0.005000  loss: 0.3520 (0.3902)  loss_classifier: 0.0498 (0.0465)  loss_box_reg: 0.0677 (0.0643)  loss_mask: 0.2313 (0.2715)  loss_objectness: 0.0015 (0.0058)  loss_rpn_box_reg: 0.0013 (0.0021)  time: 0.4637  data: 0.0081  max mem: 2085\n",
            "Epoch: [1]  [290/537]  eta: 0:01:55  lr: 0.005000  loss: 0.3197 (0.3888)  loss_classifier: 0.0358 (0.0465)  loss_box_reg: 0.0631 (0.0641)  loss_mask: 0.2283 (0.2704)  loss_objectness: 0.0016 (0.0058)  loss_rpn_box_reg: 0.0013 (0.0020)  time: 0.4657  data: 0.0094  max mem: 2085\n",
            "Epoch: [1]  [300/537]  eta: 0:01:50  lr: 0.005000  loss: 0.3245 (0.3887)  loss_classifier: 0.0340 (0.0465)  loss_box_reg: 0.0584 (0.0641)  loss_mask: 0.2316 (0.2702)  loss_objectness: 0.0020 (0.0058)  loss_rpn_box_reg: 0.0013 (0.0021)  time: 0.4653  data: 0.0102  max mem: 2085\n",
            "Epoch: [1]  [310/537]  eta: 0:01:45  lr: 0.005000  loss: 0.3471 (0.3879)  loss_classifier: 0.0334 (0.0465)  loss_box_reg: 0.0562 (0.0638)  loss_mask: 0.2525 (0.2697)  loss_objectness: 0.0026 (0.0058)  loss_rpn_box_reg: 0.0017 (0.0021)  time: 0.4620  data: 0.0087  max mem: 2085\n",
            "Epoch: [1]  [320/537]  eta: 0:01:41  lr: 0.005000  loss: 0.3471 (0.3882)  loss_classifier: 0.0306 (0.0461)  loss_box_reg: 0.0514 (0.0634)  loss_mask: 0.2563 (0.2708)  loss_objectness: 0.0025 (0.0058)  loss_rpn_box_reg: 0.0017 (0.0021)  time: 0.4582  data: 0.0077  max mem: 2085\n",
            "Epoch: [1]  [330/537]  eta: 0:01:36  lr: 0.005000  loss: 0.3668 (0.3887)  loss_classifier: 0.0266 (0.0458)  loss_box_reg: 0.0448 (0.0631)  loss_mask: 0.2716 (0.2718)  loss_objectness: 0.0020 (0.0059)  loss_rpn_box_reg: 0.0014 (0.0021)  time: 0.4580  data: 0.0079  max mem: 2085\n",
            "Epoch: [1]  [340/537]  eta: 0:01:31  lr: 0.005000  loss: 0.3523 (0.3879)  loss_classifier: 0.0274 (0.0457)  loss_box_reg: 0.0448 (0.0628)  loss_mask: 0.2716 (0.2716)  loss_objectness: 0.0019 (0.0058)  loss_rpn_box_reg: 0.0011 (0.0020)  time: 0.4578  data: 0.0078  max mem: 2085\n",
            "Epoch: [1]  [350/537]  eta: 0:01:27  lr: 0.005000  loss: 0.2876 (0.3853)  loss_classifier: 0.0308 (0.0452)  loss_box_reg: 0.0448 (0.0624)  loss_mask: 0.2112 (0.2700)  loss_objectness: 0.0011 (0.0057)  loss_rpn_box_reg: 0.0007 (0.0020)  time: 0.4597  data: 0.0079  max mem: 2085\n",
            "Epoch: [1]  [360/537]  eta: 0:01:22  lr: 0.005000  loss: 0.3080 (0.3844)  loss_classifier: 0.0353 (0.0455)  loss_box_reg: 0.0538 (0.0623)  loss_mask: 0.1876 (0.2689)  loss_objectness: 0.0012 (0.0057)  loss_rpn_box_reg: 0.0011 (0.0020)  time: 0.4661  data: 0.0110  max mem: 2085\n",
            "Epoch: [1]  [370/537]  eta: 0:01:17  lr: 0.005000  loss: 0.3368 (0.3847)  loss_classifier: 0.0480 (0.0455)  loss_box_reg: 0.0677 (0.0627)  loss_mask: 0.2180 (0.2687)  loss_objectness: 0.0042 (0.0057)  loss_rpn_box_reg: 0.0016 (0.0020)  time: 0.4731  data: 0.0131  max mem: 2085\n",
            "Epoch: [1]  [380/537]  eta: 0:01:13  lr: 0.005000  loss: 0.3667 (0.3843)  loss_classifier: 0.0329 (0.0457)  loss_box_reg: 0.0650 (0.0626)  loss_mask: 0.2480 (0.2683)  loss_objectness: 0.0020 (0.0057)  loss_rpn_box_reg: 0.0017 (0.0021)  time: 0.4676  data: 0.0101  max mem: 2085\n",
            "Epoch: [1]  [390/537]  eta: 0:01:08  lr: 0.005000  loss: 0.3347 (0.3849)  loss_classifier: 0.0359 (0.0456)  loss_box_reg: 0.0548 (0.0626)  loss_mask: 0.2281 (0.2688)  loss_objectness: 0.0032 (0.0058)  loss_rpn_box_reg: 0.0014 (0.0021)  time: 0.4612  data: 0.0080  max mem: 2085\n",
            "Epoch: [1]  [400/537]  eta: 0:01:03  lr: 0.005000  loss: 0.3403 (0.3846)  loss_classifier: 0.0364 (0.0456)  loss_box_reg: 0.0570 (0.0625)  loss_mask: 0.2281 (0.2685)  loss_objectness: 0.0042 (0.0058)  loss_rpn_box_reg: 0.0014 (0.0021)  time: 0.4621  data: 0.0080  max mem: 2085\n",
            "Epoch: [1]  [410/537]  eta: 0:00:59  lr: 0.005000  loss: 0.3434 (0.3843)  loss_classifier: 0.0364 (0.0456)  loss_box_reg: 0.0581 (0.0625)  loss_mask: 0.2455 (0.2684)  loss_objectness: 0.0032 (0.0058)  loss_rpn_box_reg: 0.0012 (0.0021)  time: 0.4615  data: 0.0080  max mem: 2085\n",
            "Epoch: [1]  [420/537]  eta: 0:00:54  lr: 0.005000  loss: 0.3423 (0.3838)  loss_classifier: 0.0297 (0.0455)  loss_box_reg: 0.0581 (0.0625)  loss_mask: 0.2657 (0.2680)  loss_objectness: 0.0022 (0.0058)  loss_rpn_box_reg: 0.0012 (0.0021)  time: 0.4628  data: 0.0079  max mem: 2085\n",
            "Epoch: [1]  [430/537]  eta: 0:00:49  lr: 0.005000  loss: 0.3423 (0.3836)  loss_classifier: 0.0357 (0.0453)  loss_box_reg: 0.0527 (0.0623)  loss_mask: 0.2625 (0.2683)  loss_objectness: 0.0025 (0.0057)  loss_rpn_box_reg: 0.0021 (0.0021)  time: 0.4610  data: 0.0077  max mem: 2085\n",
            "Epoch: [1]  [440/537]  eta: 0:00:45  lr: 0.005000  loss: 0.3403 (0.3831)  loss_classifier: 0.0295 (0.0451)  loss_box_reg: 0.0435 (0.0620)  loss_mask: 0.2358 (0.2683)  loss_objectness: 0.0025 (0.0057)  loss_rpn_box_reg: 0.0015 (0.0020)  time: 0.4600  data: 0.0078  max mem: 2085\n",
            "Epoch: [1]  [450/537]  eta: 0:00:40  lr: 0.005000  loss: 0.3551 (0.3839)  loss_classifier: 0.0295 (0.0453)  loss_box_reg: 0.0490 (0.0621)  loss_mask: 0.2308 (0.2687)  loss_objectness: 0.0019 (0.0057)  loss_rpn_box_reg: 0.0013 (0.0020)  time: 0.4642  data: 0.0091  max mem: 2085\n",
            "Epoch: [1]  [460/537]  eta: 0:00:35  lr: 0.005000  loss: 0.3634 (0.3835)  loss_classifier: 0.0352 (0.0452)  loss_box_reg: 0.0544 (0.0622)  loss_mask: 0.2692 (0.2684)  loss_objectness: 0.0028 (0.0057)  loss_rpn_box_reg: 0.0012 (0.0020)  time: 0.4783  data: 0.0119  max mem: 2085\n",
            "Epoch: [1]  [470/537]  eta: 0:00:31  lr: 0.005000  loss: 0.3090 (0.3825)  loss_classifier: 0.0340 (0.0451)  loss_box_reg: 0.0540 (0.0621)  loss_mask: 0.2128 (0.2676)  loss_objectness: 0.0030 (0.0057)  loss_rpn_box_reg: 0.0012 (0.0020)  time: 0.4815  data: 0.0129  max mem: 2085\n",
            "Epoch: [1]  [480/537]  eta: 0:00:26  lr: 0.005000  loss: 0.3134 (0.3814)  loss_classifier: 0.0272 (0.0450)  loss_box_reg: 0.0539 (0.0619)  loss_mask: 0.2220 (0.2668)  loss_objectness: 0.0030 (0.0057)  loss_rpn_box_reg: 0.0019 (0.0020)  time: 0.4679  data: 0.0108  max mem: 2085\n",
            "Epoch: [1]  [490/537]  eta: 0:00:21  lr: 0.005000  loss: 0.3572 (0.3826)  loss_classifier: 0.0412 (0.0452)  loss_box_reg: 0.0539 (0.0620)  loss_mask: 0.2441 (0.2676)  loss_objectness: 0.0037 (0.0056)  loss_rpn_box_reg: 0.0019 (0.0020)  time: 0.4579  data: 0.0085  max mem: 2085\n",
            "Epoch: [1]  [500/537]  eta: 0:00:17  lr: 0.005000  loss: 0.3277 (0.3808)  loss_classifier: 0.0329 (0.0450)  loss_box_reg: 0.0539 (0.0618)  loss_mask: 0.2251 (0.2664)  loss_objectness: 0.0019 (0.0056)  loss_rpn_box_reg: 0.0013 (0.0020)  time: 0.4638  data: 0.0087  max mem: 2085\n",
            "Epoch: [1]  [510/537]  eta: 0:00:12  lr: 0.005000  loss: 0.3602 (0.3829)  loss_classifier: 0.0368 (0.0453)  loss_box_reg: 0.0616 (0.0622)  loss_mask: 0.2518 (0.2677)  loss_objectness: 0.0018 (0.0056)  loss_rpn_box_reg: 0.0013 (0.0021)  time: 0.4656  data: 0.0087  max mem: 2085\n",
            "Epoch: [1]  [520/537]  eta: 0:00:07  lr: 0.005000  loss: 0.3761 (0.3820)  loss_classifier: 0.0380 (0.0453)  loss_box_reg: 0.0616 (0.0621)  loss_mask: 0.2663 (0.2670)  loss_objectness: 0.0018 (0.0056)  loss_rpn_box_reg: 0.0010 (0.0020)  time: 0.4609  data: 0.0078  max mem: 2085\n",
            "Epoch: [1]  [530/537]  eta: 0:00:03  lr: 0.005000  loss: 0.2957 (0.3816)  loss_classifier: 0.0323 (0.0452)  loss_box_reg: 0.0560 (0.0621)  loss_mask: 0.1962 (0.2669)  loss_objectness: 0.0011 (0.0055)  loss_rpn_box_reg: 0.0009 (0.0020)  time: 0.4643  data: 0.0077  max mem: 2085\n",
            "Epoch: [1]  [536/537]  eta: 0:00:00  lr: 0.005000  loss: 0.2866 (0.3805)  loss_classifier: 0.0320 (0.0450)  loss_box_reg: 0.0624 (0.0620)  loss_mask: 0.1855 (0.2660)  loss_objectness: 0.0012 (0.0054)  loss_rpn_box_reg: 0.0008 (0.0020)  time: 0.4535  data: 0.0073  max mem: 2085\n",
            "Epoch: [1] Total time: 0:04:09 (0.4653 s / it)\n",
            "creating index...\n",
            "index created!\n",
            "Test:  [  0/300]  eta: 0:01:38  model_time: 0.1334 (0.1334)  evaluator_time: 0.0045 (0.0045)  time: 0.3281  data: 0.1893  max mem: 2085\n",
            "Test:  [100/300]  eta: 0:00:19  model_time: 0.0858 (0.0874)  evaluator_time: 0.0027 (0.0034)  time: 0.0944  data: 0.0039  max mem: 2085\n",
            "Test:  [200/300]  eta: 0:00:09  model_time: 0.0857 (0.0869)  evaluator_time: 0.0028 (0.0033)  time: 0.0942  data: 0.0039  max mem: 2085\n",
            "Test:  [299/300]  eta: 0:00:00  model_time: 0.0862 (0.0868)  evaluator_time: 0.0028 (0.0032)  time: 0.0947  data: 0.0039  max mem: 2085\n",
            "Test: Total time: 0:00:28 (0.0958 s / it)\n",
            "Averaged stats: model_time: 0.0862 (0.0868)  evaluator_time: 0.0028 (0.0032)\n",
            "Accumulating evaluation results...\n",
            "DONE (t=0.04s).\n",
            "Accumulating evaluation results...\n",
            "DONE (t=0.05s).\n",
            "IoU metric: bbox\n",
            " Average Precision  (AP) @[ IoU=0.50:0.95 | area=   all | maxDets=100 ] = 0.620\n",
            " Average Precision  (AP) @[ IoU=0.50      | area=   all | maxDets=100 ] = 0.902\n",
            " Average Precision  (AP) @[ IoU=0.75      | area=   all | maxDets=100 ] = 0.724\n",
            " Average Precision  (AP) @[ IoU=0.50:0.95 | area= small | maxDets=100 ] = 0.355\n",
            " Average Precision  (AP) @[ IoU=0.50:0.95 | area=medium | maxDets=100 ] = 0.680\n",
            " Average Precision  (AP) @[ IoU=0.50:0.95 | area= large | maxDets=100 ] = 0.719\n",
            " Average Recall     (AR) @[ IoU=0.50:0.95 | area=   all | maxDets=  1 ] = 0.657\n",
            " Average Recall     (AR) @[ IoU=0.50:0.95 | area=   all | maxDets= 10 ] = 0.678\n",
            " Average Recall     (AR) @[ IoU=0.50:0.95 | area=   all | maxDets=100 ] = 0.678\n",
            " Average Recall     (AR) @[ IoU=0.50:0.95 | area= small | maxDets=100 ] = 0.438\n",
            " Average Recall     (AR) @[ IoU=0.50:0.95 | area=medium | maxDets=100 ] = 0.737\n",
            " Average Recall     (AR) @[ IoU=0.50:0.95 | area= large | maxDets=100 ] = 0.764\n",
            "IoU metric: segm\n",
            " Average Precision  (AP) @[ IoU=0.50:0.95 | area=   all | maxDets=100 ] = 0.547\n",
            " Average Precision  (AP) @[ IoU=0.50      | area=   all | maxDets=100 ] = 0.877\n",
            " Average Precision  (AP) @[ IoU=0.75      | area=   all | maxDets=100 ] = 0.589\n",
            " Average Precision  (AP) @[ IoU=0.50:0.95 | area= small | maxDets=100 ] = 0.220\n",
            " Average Precision  (AP) @[ IoU=0.50:0.95 | area=medium | maxDets=100 ] = 0.610\n",
            " Average Precision  (AP) @[ IoU=0.50:0.95 | area= large | maxDets=100 ] = 0.799\n",
            " Average Recall     (AR) @[ IoU=0.50:0.95 | area=   all | maxDets=  1 ] = 0.587\n",
            " Average Recall     (AR) @[ IoU=0.50:0.95 | area=   all | maxDets= 10 ] = 0.612\n",
            " Average Recall     (AR) @[ IoU=0.50:0.95 | area=   all | maxDets=100 ] = 0.612\n",
            " Average Recall     (AR) @[ IoU=0.50:0.95 | area= small | maxDets=100 ] = 0.377\n",
            " Average Recall     (AR) @[ IoU=0.50:0.95 | area=medium | maxDets=100 ] = 0.664\n",
            " Average Recall     (AR) @[ IoU=0.50:0.95 | area= large | maxDets=100 ] = 0.800\n",
            "Epoch: [2]  [  0/537]  eta: 0:06:14  lr: 0.005000  loss: 0.5126 (0.5126)  loss_classifier: 0.0638 (0.0638)  loss_box_reg: 0.0882 (0.0882)  loss_mask: 0.3555 (0.3555)  loss_objectness: 0.0022 (0.0022)  loss_rpn_box_reg: 0.0029 (0.0029)  time: 0.6982  data: 0.2387  max mem: 2085\n",
            "Epoch: [2]  [ 10/537]  eta: 0:04:13  lr: 0.005000  loss: 0.4143 (0.4104)  loss_classifier: 0.0276 (0.0437)  loss_box_reg: 0.0637 (0.0587)  loss_mask: 0.2962 (0.3012)  loss_objectness: 0.0010 (0.0051)  loss_rpn_box_reg: 0.0014 (0.0017)  time: 0.4813  data: 0.0289  max mem: 2085\n",
            "Epoch: [2]  [ 20/537]  eta: 0:04:05  lr: 0.005000  loss: 0.3857 (0.3924)  loss_classifier: 0.0278 (0.0457)  loss_box_reg: 0.0603 (0.0620)  loss_mask: 0.2720 (0.2785)  loss_objectness: 0.0017 (0.0045)  loss_rpn_box_reg: 0.0010 (0.0016)  time: 0.4632  data: 0.0079  max mem: 2085\n",
            "Epoch: [2]  [ 30/537]  eta: 0:03:59  lr: 0.005000  loss: 0.3792 (0.3771)  loss_classifier: 0.0342 (0.0446)  loss_box_reg: 0.0513 (0.0603)  loss_mask: 0.2578 (0.2666)  loss_objectness: 0.0026 (0.0040)  loss_rpn_box_reg: 0.0010 (0.0016)  time: 0.4670  data: 0.0081  max mem: 2085\n",
            "Epoch: [2]  [ 40/537]  eta: 0:03:53  lr: 0.005000  loss: 0.3620 (0.3789)  loss_classifier: 0.0397 (0.0461)  loss_box_reg: 0.0519 (0.0617)  loss_mask: 0.2206 (0.2656)  loss_objectness: 0.0019 (0.0039)  loss_rpn_box_reg: 0.0017 (0.0017)  time: 0.4659  data: 0.0082  max mem: 2085\n",
            "Epoch: [2]  [ 50/537]  eta: 0:03:48  lr: 0.005000  loss: 0.3042 (0.3576)  loss_classifier: 0.0372 (0.0428)  loss_box_reg: 0.0562 (0.0600)  loss_mask: 0.1860 (0.2495)  loss_objectness: 0.0010 (0.0037)  loss_rpn_box_reg: 0.0018 (0.0017)  time: 0.4630  data: 0.0078  max mem: 2085\n",
            "Epoch: [2]  [ 60/537]  eta: 0:03:43  lr: 0.005000  loss: 0.3304 (0.3673)  loss_classifier: 0.0336 (0.0427)  loss_box_reg: 0.0540 (0.0604)  loss_mask: 0.2053 (0.2590)  loss_objectness: 0.0015 (0.0035)  loss_rpn_box_reg: 0.0011 (0.0017)  time: 0.4627  data: 0.0080  max mem: 2085\n",
            "Epoch: [2]  [ 70/537]  eta: 0:03:38  lr: 0.005000  loss: 0.2852 (0.3504)  loss_classifier: 0.0336 (0.0407)  loss_box_reg: 0.0477 (0.0585)  loss_mask: 0.1850 (0.2463)  loss_objectness: 0.0015 (0.0032)  loss_rpn_box_reg: 0.0010 (0.0016)  time: 0.4630  data: 0.0079  max mem: 2085\n",
            "Epoch: [2]  [ 80/537]  eta: 0:03:33  lr: 0.005000  loss: 0.2723 (0.3486)  loss_classifier: 0.0281 (0.0408)  loss_box_reg: 0.0456 (0.0577)  loss_mask: 0.1829 (0.2451)  loss_objectness: 0.0014 (0.0034)  loss_rpn_box_reg: 0.0010 (0.0017)  time: 0.4650  data: 0.0079  max mem: 2085\n",
            "Epoch: [2]  [ 90/537]  eta: 0:03:28  lr: 0.005000  loss: 0.3185 (0.3447)  loss_classifier: 0.0253 (0.0399)  loss_box_reg: 0.0509 (0.0574)  loss_mask: 0.2315 (0.2425)  loss_objectness: 0.0021 (0.0033)  loss_rpn_box_reg: 0.0008 (0.0016)  time: 0.4659  data: 0.0080  max mem: 2085\n",
            "Epoch: [2]  [100/537]  eta: 0:03:23  lr: 0.005000  loss: 0.2711 (0.3401)  loss_classifier: 0.0249 (0.0392)  loss_box_reg: 0.0530 (0.0574)  loss_mask: 0.1991 (0.2387)  loss_objectness: 0.0019 (0.0033)  loss_rpn_box_reg: 0.0008 (0.0015)  time: 0.4638  data: 0.0080  max mem: 2085\n",
            "Epoch: [2]  [110/537]  eta: 0:03:18  lr: 0.005000  loss: 0.3115 (0.3410)  loss_classifier: 0.0281 (0.0389)  loss_box_reg: 0.0481 (0.0564)  loss_mask: 0.2012 (0.2410)  loss_objectness: 0.0009 (0.0032)  loss_rpn_box_reg: 0.0010 (0.0015)  time: 0.4622  data: 0.0079  max mem: 2085\n",
            "Epoch: [2]  [120/537]  eta: 0:03:14  lr: 0.005000  loss: 0.2881 (0.3365)  loss_classifier: 0.0267 (0.0382)  loss_box_reg: 0.0419 (0.0550)  loss_mask: 0.2140 (0.2383)  loss_objectness: 0.0009 (0.0034)  loss_rpn_box_reg: 0.0011 (0.0016)  time: 0.4596  data: 0.0079  max mem: 2085\n",
            "Epoch: [2]  [130/537]  eta: 0:03:09  lr: 0.005000  loss: 0.2881 (0.3387)  loss_classifier: 0.0271 (0.0385)  loss_box_reg: 0.0484 (0.0549)  loss_mask: 0.2193 (0.2403)  loss_objectness: 0.0014 (0.0035)  loss_rpn_box_reg: 0.0011 (0.0016)  time: 0.4607  data: 0.0081  max mem: 2085\n",
            "Epoch: [2]  [140/537]  eta: 0:03:04  lr: 0.005000  loss: 0.3248 (0.3362)  loss_classifier: 0.0294 (0.0378)  loss_box_reg: 0.0490 (0.0546)  loss_mask: 0.2312 (0.2388)  loss_objectness: 0.0013 (0.0033)  loss_rpn_box_reg: 0.0009 (0.0016)  time: 0.4634  data: 0.0085  max mem: 2085\n",
            "Epoch: [2]  [150/537]  eta: 0:02:59  lr: 0.005000  loss: 0.2913 (0.3354)  loss_classifier: 0.0269 (0.0378)  loss_box_reg: 0.0498 (0.0550)  loss_mask: 0.2057 (0.2372)  loss_objectness: 0.0009 (0.0038)  loss_rpn_box_reg: 0.0011 (0.0016)  time: 0.4649  data: 0.0095  max mem: 2085\n",
            "Epoch: [2]  [160/537]  eta: 0:02:55  lr: 0.005000  loss: 0.2913 (0.3324)  loss_classifier: 0.0269 (0.0372)  loss_box_reg: 0.0548 (0.0549)  loss_mask: 0.1912 (0.2351)  loss_objectness: 0.0005 (0.0036)  loss_rpn_box_reg: 0.0007 (0.0016)  time: 0.4625  data: 0.0090  max mem: 2085\n",
            "Epoch: [2]  [170/537]  eta: 0:02:50  lr: 0.005000  loss: 0.3040 (0.3325)  loss_classifier: 0.0280 (0.0376)  loss_box_reg: 0.0482 (0.0549)  loss_mask: 0.2034 (0.2343)  loss_objectness: 0.0007 (0.0041)  loss_rpn_box_reg: 0.0010 (0.0016)  time: 0.4646  data: 0.0100  max mem: 2085\n",
            "Epoch: [2]  [180/537]  eta: 0:02:45  lr: 0.005000  loss: 0.3438 (0.3334)  loss_classifier: 0.0325 (0.0377)  loss_box_reg: 0.0543 (0.0552)  loss_mask: 0.2411 (0.2348)  loss_objectness: 0.0014 (0.0041)  loss_rpn_box_reg: 0.0016 (0.0016)  time: 0.4647  data: 0.0100  max mem: 2085\n",
            "Epoch: [2]  [190/537]  eta: 0:02:41  lr: 0.005000  loss: 0.3488 (0.3328)  loss_classifier: 0.0313 (0.0378)  loss_box_reg: 0.0587 (0.0556)  loss_mask: 0.1989 (0.2338)  loss_objectness: 0.0023 (0.0040)  loss_rpn_box_reg: 0.0011 (0.0016)  time: 0.4616  data: 0.0080  max mem: 2085\n",
            "Epoch: [2]  [200/537]  eta: 0:02:36  lr: 0.005000  loss: 0.2809 (0.3341)  loss_classifier: 0.0220 (0.0380)  loss_box_reg: 0.0530 (0.0559)  loss_mask: 0.1878 (0.2345)  loss_objectness: 0.0019 (0.0041)  loss_rpn_box_reg: 0.0010 (0.0016)  time: 0.4597  data: 0.0079  max mem: 2085\n",
            "Epoch: [2]  [210/537]  eta: 0:02:31  lr: 0.005000  loss: 0.2900 (0.3334)  loss_classifier: 0.0273 (0.0375)  loss_box_reg: 0.0530 (0.0555)  loss_mask: 0.2194 (0.2345)  loss_objectness: 0.0009 (0.0041)  loss_rpn_box_reg: 0.0013 (0.0016)  time: 0.4593  data: 0.0080  max mem: 2085\n",
            "Epoch: [2]  [220/537]  eta: 0:02:27  lr: 0.005000  loss: 0.3103 (0.3332)  loss_classifier: 0.0240 (0.0373)  loss_box_reg: 0.0438 (0.0556)  loss_mask: 0.2330 (0.2346)  loss_objectness: 0.0016 (0.0041)  loss_rpn_box_reg: 0.0012 (0.0016)  time: 0.4623  data: 0.0081  max mem: 2085\n",
            "Epoch: [2]  [230/537]  eta: 0:02:22  lr: 0.005000  loss: 0.3307 (0.3351)  loss_classifier: 0.0411 (0.0376)  loss_box_reg: 0.0497 (0.0558)  loss_mask: 0.2407 (0.2359)  loss_objectness: 0.0022 (0.0041)  loss_rpn_box_reg: 0.0011 (0.0016)  time: 0.4614  data: 0.0079  max mem: 2085\n",
            "Epoch: [2]  [240/537]  eta: 0:02:17  lr: 0.005000  loss: 0.3290 (0.3332)  loss_classifier: 0.0355 (0.0373)  loss_box_reg: 0.0527 (0.0555)  loss_mask: 0.2144 (0.2347)  loss_objectness: 0.0017 (0.0040)  loss_rpn_box_reg: 0.0011 (0.0016)  time: 0.4624  data: 0.0078  max mem: 2085\n",
            "Epoch: [2]  [250/537]  eta: 0:02:13  lr: 0.005000  loss: 0.3275 (0.3368)  loss_classifier: 0.0307 (0.0379)  loss_box_reg: 0.0527 (0.0560)  loss_mask: 0.2348 (0.2372)  loss_objectness: 0.0009 (0.0040)  loss_rpn_box_reg: 0.0009 (0.0016)  time: 0.4641  data: 0.0079  max mem: 2085\n",
            "Epoch: [2]  [260/537]  eta: 0:02:08  lr: 0.005000  loss: 0.3149 (0.3364)  loss_classifier: 0.0330 (0.0380)  loss_box_reg: 0.0561 (0.0563)  loss_mask: 0.2348 (0.2366)  loss_objectness: 0.0016 (0.0040)  loss_rpn_box_reg: 0.0010 (0.0016)  time: 0.4651  data: 0.0079  max mem: 2085\n",
            "Epoch: [2]  [270/537]  eta: 0:02:03  lr: 0.005000  loss: 0.2633 (0.3361)  loss_classifier: 0.0296 (0.0380)  loss_box_reg: 0.0561 (0.0562)  loss_mask: 0.1846 (0.2362)  loss_objectness: 0.0019 (0.0041)  loss_rpn_box_reg: 0.0011 (0.0016)  time: 0.4649  data: 0.0078  max mem: 2085\n",
            "Epoch: [2]  [280/537]  eta: 0:01:59  lr: 0.005000  loss: 0.3411 (0.3376)  loss_classifier: 0.0301 (0.0380)  loss_box_reg: 0.0581 (0.0565)  loss_mask: 0.2128 (0.2374)  loss_objectness: 0.0022 (0.0040)  loss_rpn_box_reg: 0.0011 (0.0016)  time: 0.4629  data: 0.0083  max mem: 2085\n",
            "Epoch: [2]  [290/537]  eta: 0:01:54  lr: 0.005000  loss: 0.3879 (0.3407)  loss_classifier: 0.0388 (0.0382)  loss_box_reg: 0.0541 (0.0567)  loss_mask: 0.2550 (0.2401)  loss_objectness: 0.0024 (0.0040)  loss_rpn_box_reg: 0.0015 (0.0016)  time: 0.4615  data: 0.0084  max mem: 2085\n",
            "Epoch: [2]  [300/537]  eta: 0:01:49  lr: 0.005000  loss: 0.3621 (0.3408)  loss_classifier: 0.0388 (0.0382)  loss_box_reg: 0.0539 (0.0568)  loss_mask: 0.2434 (0.2401)  loss_objectness: 0.0026 (0.0041)  loss_rpn_box_reg: 0.0016 (0.0017)  time: 0.4621  data: 0.0079  max mem: 2085\n",
            "Epoch: [2]  [310/537]  eta: 0:01:45  lr: 0.005000  loss: 0.2660 (0.3392)  loss_classifier: 0.0313 (0.0379)  loss_box_reg: 0.0410 (0.0567)  loss_mask: 0.1917 (0.2390)  loss_objectness: 0.0016 (0.0040)  loss_rpn_box_reg: 0.0012 (0.0017)  time: 0.4627  data: 0.0079  max mem: 2085\n",
            "Epoch: [2]  [320/537]  eta: 0:01:40  lr: 0.005000  loss: 0.2592 (0.3394)  loss_classifier: 0.0317 (0.0379)  loss_box_reg: 0.0469 (0.0567)  loss_mask: 0.1767 (0.2392)  loss_objectness: 0.0016 (0.0040)  loss_rpn_box_reg: 0.0012 (0.0016)  time: 0.4621  data: 0.0077  max mem: 2085\n",
            "Epoch: [2]  [330/537]  eta: 0:01:35  lr: 0.005000  loss: 0.2502 (0.3383)  loss_classifier: 0.0378 (0.0378)  loss_box_reg: 0.0532 (0.0568)  loss_mask: 0.1642 (0.2381)  loss_objectness: 0.0020 (0.0040)  loss_rpn_box_reg: 0.0013 (0.0017)  time: 0.4636  data: 0.0085  max mem: 2085\n",
            "Epoch: [2]  [340/537]  eta: 0:01:31  lr: 0.005000  loss: 0.2201 (0.3353)  loss_classifier: 0.0237 (0.0374)  loss_box_reg: 0.0416 (0.0563)  loss_mask: 0.1642 (0.2361)  loss_objectness: 0.0009 (0.0039)  loss_rpn_box_reg: 0.0008 (0.0016)  time: 0.4649  data: 0.0087  max mem: 2085\n",
            "Epoch: [2]  [350/537]  eta: 0:01:26  lr: 0.005000  loss: 0.2495 (0.3343)  loss_classifier: 0.0248 (0.0373)  loss_box_reg: 0.0422 (0.0563)  loss_mask: 0.1818 (0.2353)  loss_objectness: 0.0004 (0.0038)  loss_rpn_box_reg: 0.0010 (0.0016)  time: 0.4639  data: 0.0078  max mem: 2085\n",
            "Epoch: [2]  [360/537]  eta: 0:01:22  lr: 0.005000  loss: 0.3039 (0.3341)  loss_classifier: 0.0290 (0.0373)  loss_box_reg: 0.0491 (0.0564)  loss_mask: 0.2055 (0.2349)  loss_objectness: 0.0013 (0.0038)  loss_rpn_box_reg: 0.0011 (0.0017)  time: 0.4629  data: 0.0077  max mem: 2085\n",
            "Epoch: [2]  [370/537]  eta: 0:01:17  lr: 0.005000  loss: 0.2586 (0.3323)  loss_classifier: 0.0268 (0.0372)  loss_box_reg: 0.0480 (0.0561)  loss_mask: 0.1975 (0.2335)  loss_objectness: 0.0016 (0.0038)  loss_rpn_box_reg: 0.0008 (0.0016)  time: 0.4634  data: 0.0078  max mem: 2085\n",
            "Epoch: [2]  [380/537]  eta: 0:01:12  lr: 0.005000  loss: 0.2702 (0.3320)  loss_classifier: 0.0295 (0.0371)  loss_box_reg: 0.0447 (0.0559)  loss_mask: 0.1975 (0.2335)  loss_objectness: 0.0011 (0.0038)  loss_rpn_box_reg: 0.0008 (0.0016)  time: 0.4633  data: 0.0077  max mem: 2085\n",
            "Epoch: [2]  [390/537]  eta: 0:01:08  lr: 0.005000  loss: 0.3080 (0.3322)  loss_classifier: 0.0345 (0.0371)  loss_box_reg: 0.0474 (0.0560)  loss_mask: 0.2277 (0.2338)  loss_objectness: 0.0010 (0.0037)  loss_rpn_box_reg: 0.0010 (0.0016)  time: 0.4631  data: 0.0081  max mem: 2085\n",
            "Epoch: [2]  [400/537]  eta: 0:01:03  lr: 0.005000  loss: 0.3285 (0.3319)  loss_classifier: 0.0392 (0.0374)  loss_box_reg: 0.0524 (0.0560)  loss_mask: 0.2135 (0.2331)  loss_objectness: 0.0011 (0.0037)  loss_rpn_box_reg: 0.0010 (0.0016)  time: 0.4616  data: 0.0082  max mem: 2085\n",
            "Epoch: [2]  [410/537]  eta: 0:00:58  lr: 0.005000  loss: 0.2675 (0.3298)  loss_classifier: 0.0194 (0.0371)  loss_box_reg: 0.0436 (0.0557)  loss_mask: 0.1789 (0.2317)  loss_objectness: 0.0014 (0.0037)  loss_rpn_box_reg: 0.0008 (0.0016)  time: 0.4608  data: 0.0080  max mem: 2085\n",
            "Epoch: [2]  [420/537]  eta: 0:00:54  lr: 0.005000  loss: 0.2262 (0.3294)  loss_classifier: 0.0192 (0.0370)  loss_box_reg: 0.0474 (0.0558)  loss_mask: 0.1596 (0.2315)  loss_objectness: 0.0014 (0.0036)  loss_rpn_box_reg: 0.0006 (0.0016)  time: 0.4629  data: 0.0079  max mem: 2085\n",
            "Epoch: [2]  [430/537]  eta: 0:00:49  lr: 0.005000  loss: 0.2428 (0.3277)  loss_classifier: 0.0190 (0.0367)  loss_box_reg: 0.0474 (0.0554)  loss_mask: 0.1603 (0.2303)  loss_objectness: 0.0010 (0.0037)  loss_rpn_box_reg: 0.0006 (0.0016)  time: 0.4631  data: 0.0078  max mem: 2085\n",
            "Epoch: [2]  [440/537]  eta: 0:00:44  lr: 0.005000  loss: 0.2428 (0.3272)  loss_classifier: 0.0174 (0.0364)  loss_box_reg: 0.0470 (0.0554)  loss_mask: 0.1795 (0.2301)  loss_objectness: 0.0006 (0.0037)  loss_rpn_box_reg: 0.0009 (0.0016)  time: 0.4638  data: 0.0078  max mem: 2085\n",
            "Epoch: [2]  [450/537]  eta: 0:00:40  lr: 0.005000  loss: 0.3186 (0.3287)  loss_classifier: 0.0283 (0.0364)  loss_box_reg: 0.0618 (0.0559)  loss_mask: 0.2327 (0.2312)  loss_objectness: 0.0009 (0.0037)  loss_rpn_box_reg: 0.0012 (0.0016)  time: 0.4631  data: 0.0078  max mem: 2085\n",
            "Epoch: [2]  [460/537]  eta: 0:00:35  lr: 0.005000  loss: 0.3186 (0.3279)  loss_classifier: 0.0254 (0.0363)  loss_box_reg: 0.0594 (0.0556)  loss_mask: 0.2327 (0.2308)  loss_objectness: 0.0006 (0.0036)  loss_rpn_box_reg: 0.0013 (0.0016)  time: 0.4630  data: 0.0079  max mem: 2085\n",
            "Epoch: [2]  [470/537]  eta: 0:00:31  lr: 0.005000  loss: 0.3053 (0.3288)  loss_classifier: 0.0254 (0.0364)  loss_box_reg: 0.0440 (0.0558)  loss_mask: 0.2257 (0.2315)  loss_objectness: 0.0010 (0.0036)  loss_rpn_box_reg: 0.0009 (0.0016)  time: 0.4639  data: 0.0079  max mem: 2085\n",
            "Epoch: [2]  [480/537]  eta: 0:00:26  lr: 0.005000  loss: 0.3384 (0.3295)  loss_classifier: 0.0358 (0.0365)  loss_box_reg: 0.0660 (0.0559)  loss_mask: 0.2279 (0.2320)  loss_objectness: 0.0014 (0.0035)  loss_rpn_box_reg: 0.0012 (0.0016)  time: 0.4620  data: 0.0079  max mem: 2085\n",
            "Epoch: [2]  [490/537]  eta: 0:00:21  lr: 0.005000  loss: 0.3147 (0.3299)  loss_classifier: 0.0264 (0.0364)  loss_box_reg: 0.0588 (0.0559)  loss_mask: 0.2134 (0.2325)  loss_objectness: 0.0012 (0.0035)  loss_rpn_box_reg: 0.0015 (0.0016)  time: 0.4594  data: 0.0079  max mem: 2085\n",
            "Epoch: [2]  [500/537]  eta: 0:00:17  lr: 0.005000  loss: 0.3060 (0.3303)  loss_classifier: 0.0227 (0.0363)  loss_box_reg: 0.0521 (0.0560)  loss_mask: 0.2337 (0.2330)  loss_objectness: 0.0012 (0.0035)  loss_rpn_box_reg: 0.0010 (0.0016)  time: 0.4584  data: 0.0081  max mem: 2085\n",
            "Epoch: [2]  [510/537]  eta: 0:00:12  lr: 0.005000  loss: 0.3075 (0.3300)  loss_classifier: 0.0197 (0.0361)  loss_box_reg: 0.0521 (0.0559)  loss_mask: 0.2448 (0.2329)  loss_objectness: 0.0013 (0.0035)  loss_rpn_box_reg: 0.0010 (0.0016)  time: 0.4605  data: 0.0080  max mem: 2085\n",
            "Epoch: [2]  [520/537]  eta: 0:00:07  lr: 0.005000  loss: 0.3056 (0.3304)  loss_classifier: 0.0216 (0.0360)  loss_box_reg: 0.0487 (0.0559)  loss_mask: 0.2272 (0.2333)  loss_objectness: 0.0016 (0.0034)  loss_rpn_box_reg: 0.0011 (0.0017)  time: 0.4630  data: 0.0078  max mem: 2085\n",
            "Epoch: [2]  [530/537]  eta: 0:00:03  lr: 0.005000  loss: 0.3407 (0.3309)  loss_classifier: 0.0232 (0.0361)  loss_box_reg: 0.0538 (0.0560)  loss_mask: 0.2272 (0.2336)  loss_objectness: 0.0008 (0.0035)  loss_rpn_box_reg: 0.0011 (0.0017)  time: 0.4634  data: 0.0078  max mem: 2085\n",
            "Epoch: [2]  [536/537]  eta: 0:00:00  lr: 0.005000  loss: 0.3720 (0.3306)  loss_classifier: 0.0216 (0.0361)  loss_box_reg: 0.0593 (0.0560)  loss_mask: 0.2519 (0.2334)  loss_objectness: 0.0008 (0.0034)  loss_rpn_box_reg: 0.0011 (0.0017)  time: 0.4525  data: 0.0076  max mem: 2085\n",
            "Epoch: [2] Total time: 0:04:08 (0.4632 s / it)\n",
            "creating index...\n",
            "index created!\n",
            "Test:  [  0/300]  eta: 0:02:07  model_time: 0.1519 (0.1519)  evaluator_time: 0.0058 (0.0058)  time: 0.4257  data: 0.2671  max mem: 2085\n",
            "Test:  [100/300]  eta: 0:00:19  model_time: 0.0872 (0.0885)  evaluator_time: 0.0031 (0.0039)  time: 0.0953  data: 0.0039  max mem: 2085\n",
            "Test:  [200/300]  eta: 0:00:09  model_time: 0.0868 (0.0880)  evaluator_time: 0.0033 (0.0038)  time: 0.0961  data: 0.0040  max mem: 2085\n",
            "Test:  [299/300]  eta: 0:00:00  model_time: 0.0864 (0.0881)  evaluator_time: 0.0033 (0.0039)  time: 0.0981  data: 0.0039  max mem: 2085\n",
            "Test: Total time: 0:00:29 (0.0980 s / it)\n",
            "Averaged stats: model_time: 0.0864 (0.0881)  evaluator_time: 0.0033 (0.0039)\n",
            "Accumulating evaluation results...\n",
            "DONE (t=0.05s).\n",
            "Accumulating evaluation results...\n",
            "DONE (t=0.05s).\n",
            "IoU metric: bbox\n",
            " Average Precision  (AP) @[ IoU=0.50:0.95 | area=   all | maxDets=100 ] = 0.611\n",
            " Average Precision  (AP) @[ IoU=0.50      | area=   all | maxDets=100 ] = 0.903\n",
            " Average Precision  (AP) @[ IoU=0.75      | area=   all | maxDets=100 ] = 0.737\n",
            " Average Precision  (AP) @[ IoU=0.50:0.95 | area= small | maxDets=100 ] = 0.364\n",
            " Average Precision  (AP) @[ IoU=0.50:0.95 | area=medium | maxDets=100 ] = 0.673\n",
            " Average Precision  (AP) @[ IoU=0.50:0.95 | area= large | maxDets=100 ] = 0.593\n",
            " Average Recall     (AR) @[ IoU=0.50:0.95 | area=   all | maxDets=  1 ] = 0.641\n",
            " Average Recall     (AR) @[ IoU=0.50:0.95 | area=   all | maxDets= 10 ] = 0.674\n",
            " Average Recall     (AR) @[ IoU=0.50:0.95 | area=   all | maxDets=100 ] = 0.675\n",
            " Average Recall     (AR) @[ IoU=0.50:0.95 | area= small | maxDets=100 ] = 0.475\n",
            " Average Recall     (AR) @[ IoU=0.50:0.95 | area=medium | maxDets=100 ] = 0.730\n",
            " Average Recall     (AR) @[ IoU=0.50:0.95 | area= large | maxDets=100 ] = 0.627\n",
            "IoU metric: segm\n",
            " Average Precision  (AP) @[ IoU=0.50:0.95 | area=   all | maxDets=100 ] = 0.570\n",
            " Average Precision  (AP) @[ IoU=0.50      | area=   all | maxDets=100 ] = 0.880\n",
            " Average Precision  (AP) @[ IoU=0.75      | area=   all | maxDets=100 ] = 0.626\n",
            " Average Precision  (AP) @[ IoU=0.50:0.95 | area= small | maxDets=100 ] = 0.249\n",
            " Average Precision  (AP) @[ IoU=0.50:0.95 | area=medium | maxDets=100 ] = 0.641\n",
            " Average Precision  (AP) @[ IoU=0.50:0.95 | area= large | maxDets=100 ] = 0.570\n",
            " Average Recall     (AR) @[ IoU=0.50:0.95 | area=   all | maxDets=  1 ] = 0.599\n",
            " Average Recall     (AR) @[ IoU=0.50:0.95 | area=   all | maxDets= 10 ] = 0.630\n",
            " Average Recall     (AR) @[ IoU=0.50:0.95 | area=   all | maxDets=100 ] = 0.631\n",
            " Average Recall     (AR) @[ IoU=0.50:0.95 | area= small | maxDets=100 ] = 0.438\n",
            " Average Recall     (AR) @[ IoU=0.50:0.95 | area=medium | maxDets=100 ] = 0.685\n",
            " Average Recall     (AR) @[ IoU=0.50:0.95 | area= large | maxDets=100 ] = 0.573\n",
            "Epoch: [3]  [  0/537]  eta: 0:06:21  lr: 0.000500  loss: 0.4047 (0.4047)  loss_classifier: 0.0349 (0.0349)  loss_box_reg: 0.0714 (0.0714)  loss_mask: 0.2939 (0.2939)  loss_objectness: 0.0015 (0.0015)  loss_rpn_box_reg: 0.0031 (0.0031)  time: 0.7104  data: 0.2441  max mem: 2085\n",
            "Epoch: [3]  [ 10/537]  eta: 0:04:15  lr: 0.000500  loss: 0.2796 (0.3330)  loss_classifier: 0.0293 (0.0328)  loss_box_reg: 0.0541 (0.0606)  loss_mask: 0.2101 (0.2365)  loss_objectness: 0.0015 (0.0018)  loss_rpn_box_reg: 0.0011 (0.0014)  time: 0.4847  data: 0.0292  max mem: 2085\n",
            "Epoch: [3]  [ 20/537]  eta: 0:04:05  lr: 0.000500  loss: 0.2745 (0.3145)  loss_classifier: 0.0273 (0.0307)  loss_box_reg: 0.0532 (0.0552)  loss_mask: 0.2002 (0.2255)  loss_objectness: 0.0014 (0.0016)  loss_rpn_box_reg: 0.0013 (0.0016)  time: 0.4623  data: 0.0080  max mem: 2085\n"
          ]
        },
        {
          "output_type": "error",
          "ename": "KeyboardInterrupt",
          "evalue": "ignored",
          "traceback": [
            "\u001b[0;31m---------------------------------------------------------------------------\u001b[0m",
            "\u001b[0;31mKeyboardInterrupt\u001b[0m                         Traceback (most recent call last)",
            "\u001b[0;32m<ipython-input-37-156f4e6bbfba>\u001b[0m in \u001b[0;36m<module>\u001b[0;34m()\u001b[0m\n\u001b[1;32m      6\u001b[0m \u001b[0;32mfor\u001b[0m \u001b[0mepoch\u001b[0m \u001b[0;32min\u001b[0m \u001b[0mrange\u001b[0m\u001b[0;34m(\u001b[0m\u001b[0mnum_epochs\u001b[0m\u001b[0;34m)\u001b[0m\u001b[0;34m:\u001b[0m\u001b[0;34m\u001b[0m\u001b[0;34m\u001b[0m\u001b[0m\n\u001b[1;32m      7\u001b[0m     \u001b[0;31m# train for one epoch, printing every 10 iterations\u001b[0m\u001b[0;34m\u001b[0m\u001b[0;34m\u001b[0m\u001b[0;34m\u001b[0m\u001b[0m\n\u001b[0;32m----> 8\u001b[0;31m     \u001b[0mtrain_one_epoch\u001b[0m\u001b[0;34m(\u001b[0m\u001b[0mmodel\u001b[0m\u001b[0;34m,\u001b[0m \u001b[0moptimizer\u001b[0m\u001b[0;34m,\u001b[0m \u001b[0mdata_loader\u001b[0m\u001b[0;34m,\u001b[0m \u001b[0mdevice\u001b[0m\u001b[0;34m,\u001b[0m \u001b[0mepoch\u001b[0m\u001b[0;34m,\u001b[0m \u001b[0mprint_freq\u001b[0m\u001b[0;34m=\u001b[0m\u001b[0;36m10\u001b[0m\u001b[0;34m)\u001b[0m\u001b[0;34m\u001b[0m\u001b[0;34m\u001b[0m\u001b[0m\n\u001b[0m\u001b[1;32m      9\u001b[0m     \u001b[0;31m# update the learning rate\u001b[0m\u001b[0;34m\u001b[0m\u001b[0;34m\u001b[0m\u001b[0;34m\u001b[0m\u001b[0m\n\u001b[1;32m     10\u001b[0m     \u001b[0mlr_scheduler\u001b[0m\u001b[0;34m.\u001b[0m\u001b[0mstep\u001b[0m\u001b[0;34m(\u001b[0m\u001b[0;34m)\u001b[0m\u001b[0;34m\u001b[0m\u001b[0;34m\u001b[0m\u001b[0m\n",
            "\u001b[0;32m/content/engine.py\u001b[0m in \u001b[0;36mtrain_one_epoch\u001b[0;34m(model, optimizer, data_loader, device, epoch, print_freq)\u001b[0m\n\u001b[1;32m     28\u001b[0m         \u001b[0mtargets\u001b[0m \u001b[0;34m=\u001b[0m \u001b[0;34m[\u001b[0m\u001b[0;34m{\u001b[0m\u001b[0mk\u001b[0m\u001b[0;34m:\u001b[0m \u001b[0mv\u001b[0m\u001b[0;34m.\u001b[0m\u001b[0mto\u001b[0m\u001b[0;34m(\u001b[0m\u001b[0mdevice\u001b[0m\u001b[0;34m)\u001b[0m \u001b[0;32mfor\u001b[0m \u001b[0mk\u001b[0m\u001b[0;34m,\u001b[0m \u001b[0mv\u001b[0m \u001b[0;32min\u001b[0m \u001b[0mt\u001b[0m\u001b[0;34m.\u001b[0m\u001b[0mitems\u001b[0m\u001b[0;34m(\u001b[0m\u001b[0;34m)\u001b[0m\u001b[0;34m}\u001b[0m \u001b[0;32mfor\u001b[0m \u001b[0mt\u001b[0m \u001b[0;32min\u001b[0m \u001b[0mtargets\u001b[0m\u001b[0;34m]\u001b[0m\u001b[0;34m\u001b[0m\u001b[0;34m\u001b[0m\u001b[0m\n\u001b[1;32m     29\u001b[0m \u001b[0;34m\u001b[0m\u001b[0m\n\u001b[0;32m---> 30\u001b[0;31m         \u001b[0mloss_dict\u001b[0m \u001b[0;34m=\u001b[0m \u001b[0mmodel\u001b[0m\u001b[0;34m(\u001b[0m\u001b[0mimages\u001b[0m\u001b[0;34m,\u001b[0m \u001b[0mtargets\u001b[0m\u001b[0;34m)\u001b[0m\u001b[0;34m\u001b[0m\u001b[0;34m\u001b[0m\u001b[0m\n\u001b[0m\u001b[1;32m     31\u001b[0m \u001b[0;34m\u001b[0m\u001b[0m\n\u001b[1;32m     32\u001b[0m         \u001b[0mlosses\u001b[0m \u001b[0;34m=\u001b[0m \u001b[0msum\u001b[0m\u001b[0;34m(\u001b[0m\u001b[0mloss\u001b[0m \u001b[0;32mfor\u001b[0m \u001b[0mloss\u001b[0m \u001b[0;32min\u001b[0m \u001b[0mloss_dict\u001b[0m\u001b[0;34m.\u001b[0m\u001b[0mvalues\u001b[0m\u001b[0;34m(\u001b[0m\u001b[0;34m)\u001b[0m\u001b[0;34m)\u001b[0m\u001b[0;34m\u001b[0m\u001b[0;34m\u001b[0m\u001b[0m\n",
            "\u001b[0;32m/usr/local/lib/python3.7/dist-packages/torch/nn/modules/module.py\u001b[0m in \u001b[0;36m_call_impl\u001b[0;34m(self, *input, **kwargs)\u001b[0m\n\u001b[1;32m   1108\u001b[0m         if not (self._backward_hooks or self._forward_hooks or self._forward_pre_hooks or _global_backward_hooks\n\u001b[1;32m   1109\u001b[0m                 or _global_forward_hooks or _global_forward_pre_hooks):\n\u001b[0;32m-> 1110\u001b[0;31m             \u001b[0;32mreturn\u001b[0m \u001b[0mforward_call\u001b[0m\u001b[0;34m(\u001b[0m\u001b[0;34m*\u001b[0m\u001b[0minput\u001b[0m\u001b[0;34m,\u001b[0m \u001b[0;34m**\u001b[0m\u001b[0mkwargs\u001b[0m\u001b[0;34m)\u001b[0m\u001b[0;34m\u001b[0m\u001b[0;34m\u001b[0m\u001b[0m\n\u001b[0m\u001b[1;32m   1111\u001b[0m         \u001b[0;31m# Do not call functions when jit is used\u001b[0m\u001b[0;34m\u001b[0m\u001b[0;34m\u001b[0m\u001b[0;34m\u001b[0m\u001b[0m\n\u001b[1;32m   1112\u001b[0m         \u001b[0mfull_backward_hooks\u001b[0m\u001b[0;34m,\u001b[0m \u001b[0mnon_full_backward_hooks\u001b[0m \u001b[0;34m=\u001b[0m \u001b[0;34m[\u001b[0m\u001b[0;34m]\u001b[0m\u001b[0;34m,\u001b[0m \u001b[0;34m[\u001b[0m\u001b[0;34m]\u001b[0m\u001b[0;34m\u001b[0m\u001b[0;34m\u001b[0m\u001b[0m\n",
            "\u001b[0;32m/usr/local/lib/python3.7/dist-packages/torchvision/models/detection/generalized_rcnn.py\u001b[0m in \u001b[0;36mforward\u001b[0;34m(self, images, targets)\u001b[0m\n\u001b[1;32m     96\u001b[0m         \u001b[0;32mif\u001b[0m \u001b[0misinstance\u001b[0m\u001b[0;34m(\u001b[0m\u001b[0mfeatures\u001b[0m\u001b[0;34m,\u001b[0m \u001b[0mtorch\u001b[0m\u001b[0;34m.\u001b[0m\u001b[0mTensor\u001b[0m\u001b[0;34m)\u001b[0m\u001b[0;34m:\u001b[0m\u001b[0;34m\u001b[0m\u001b[0;34m\u001b[0m\u001b[0m\n\u001b[1;32m     97\u001b[0m             \u001b[0mfeatures\u001b[0m \u001b[0;34m=\u001b[0m \u001b[0mOrderedDict\u001b[0m\u001b[0;34m(\u001b[0m\u001b[0;34m[\u001b[0m\u001b[0;34m(\u001b[0m\u001b[0;34m\"0\"\u001b[0m\u001b[0;34m,\u001b[0m \u001b[0mfeatures\u001b[0m\u001b[0;34m)\u001b[0m\u001b[0;34m]\u001b[0m\u001b[0;34m)\u001b[0m\u001b[0;34m\u001b[0m\u001b[0;34m\u001b[0m\u001b[0m\n\u001b[0;32m---> 98\u001b[0;31m         \u001b[0mproposals\u001b[0m\u001b[0;34m,\u001b[0m \u001b[0mproposal_losses\u001b[0m \u001b[0;34m=\u001b[0m \u001b[0mself\u001b[0m\u001b[0;34m.\u001b[0m\u001b[0mrpn\u001b[0m\u001b[0;34m(\u001b[0m\u001b[0mimages\u001b[0m\u001b[0;34m,\u001b[0m \u001b[0mfeatures\u001b[0m\u001b[0;34m,\u001b[0m \u001b[0mtargets\u001b[0m\u001b[0;34m)\u001b[0m\u001b[0;34m\u001b[0m\u001b[0;34m\u001b[0m\u001b[0m\n\u001b[0m\u001b[1;32m     99\u001b[0m         \u001b[0mdetections\u001b[0m\u001b[0;34m,\u001b[0m \u001b[0mdetector_losses\u001b[0m \u001b[0;34m=\u001b[0m \u001b[0mself\u001b[0m\u001b[0;34m.\u001b[0m\u001b[0mroi_heads\u001b[0m\u001b[0;34m(\u001b[0m\u001b[0mfeatures\u001b[0m\u001b[0;34m,\u001b[0m \u001b[0mproposals\u001b[0m\u001b[0;34m,\u001b[0m \u001b[0mimages\u001b[0m\u001b[0;34m.\u001b[0m\u001b[0mimage_sizes\u001b[0m\u001b[0;34m,\u001b[0m \u001b[0mtargets\u001b[0m\u001b[0;34m)\u001b[0m\u001b[0;34m\u001b[0m\u001b[0;34m\u001b[0m\u001b[0m\n\u001b[1;32m    100\u001b[0m         \u001b[0mdetections\u001b[0m \u001b[0;34m=\u001b[0m \u001b[0mself\u001b[0m\u001b[0;34m.\u001b[0m\u001b[0mtransform\u001b[0m\u001b[0;34m.\u001b[0m\u001b[0mpostprocess\u001b[0m\u001b[0;34m(\u001b[0m\u001b[0mdetections\u001b[0m\u001b[0;34m,\u001b[0m \u001b[0mimages\u001b[0m\u001b[0;34m.\u001b[0m\u001b[0mimage_sizes\u001b[0m\u001b[0;34m,\u001b[0m \u001b[0moriginal_image_sizes\u001b[0m\u001b[0;34m)\u001b[0m  \u001b[0;31m# type: ignore[operator]\u001b[0m\u001b[0;34m\u001b[0m\u001b[0;34m\u001b[0m\u001b[0m\n",
            "\u001b[0;32m/usr/local/lib/python3.7/dist-packages/torch/nn/modules/module.py\u001b[0m in \u001b[0;36m_call_impl\u001b[0;34m(self, *input, **kwargs)\u001b[0m\n\u001b[1;32m   1108\u001b[0m         if not (self._backward_hooks or self._forward_hooks or self._forward_pre_hooks or _global_backward_hooks\n\u001b[1;32m   1109\u001b[0m                 or _global_forward_hooks or _global_forward_pre_hooks):\n\u001b[0;32m-> 1110\u001b[0;31m             \u001b[0;32mreturn\u001b[0m \u001b[0mforward_call\u001b[0m\u001b[0;34m(\u001b[0m\u001b[0;34m*\u001b[0m\u001b[0minput\u001b[0m\u001b[0;34m,\u001b[0m \u001b[0;34m**\u001b[0m\u001b[0mkwargs\u001b[0m\u001b[0;34m)\u001b[0m\u001b[0;34m\u001b[0m\u001b[0;34m\u001b[0m\u001b[0m\n\u001b[0m\u001b[1;32m   1111\u001b[0m         \u001b[0;31m# Do not call functions when jit is used\u001b[0m\u001b[0;34m\u001b[0m\u001b[0;34m\u001b[0m\u001b[0;34m\u001b[0m\u001b[0m\n\u001b[1;32m   1112\u001b[0m         \u001b[0mfull_backward_hooks\u001b[0m\u001b[0;34m,\u001b[0m \u001b[0mnon_full_backward_hooks\u001b[0m \u001b[0;34m=\u001b[0m \u001b[0;34m[\u001b[0m\u001b[0;34m]\u001b[0m\u001b[0;34m,\u001b[0m \u001b[0;34m[\u001b[0m\u001b[0;34m]\u001b[0m\u001b[0;34m\u001b[0m\u001b[0;34m\u001b[0m\u001b[0m\n",
            "\u001b[0;32m/usr/local/lib/python3.7/dist-packages/torchvision/models/detection/rpn.py\u001b[0m in \u001b[0;36mforward\u001b[0;34m(self, images, features, targets)\u001b[0m\n\u001b[1;32m    340\u001b[0m         \u001b[0mfeatures\u001b[0m \u001b[0;34m=\u001b[0m \u001b[0mlist\u001b[0m\u001b[0;34m(\u001b[0m\u001b[0mfeatures\u001b[0m\u001b[0;34m.\u001b[0m\u001b[0mvalues\u001b[0m\u001b[0;34m(\u001b[0m\u001b[0;34m)\u001b[0m\u001b[0;34m)\u001b[0m\u001b[0;34m\u001b[0m\u001b[0;34m\u001b[0m\u001b[0m\n\u001b[1;32m    341\u001b[0m         \u001b[0mobjectness\u001b[0m\u001b[0;34m,\u001b[0m \u001b[0mpred_bbox_deltas\u001b[0m \u001b[0;34m=\u001b[0m \u001b[0mself\u001b[0m\u001b[0;34m.\u001b[0m\u001b[0mhead\u001b[0m\u001b[0;34m(\u001b[0m\u001b[0mfeatures\u001b[0m\u001b[0;34m)\u001b[0m\u001b[0;34m\u001b[0m\u001b[0;34m\u001b[0m\u001b[0m\n\u001b[0;32m--> 342\u001b[0;31m         \u001b[0manchors\u001b[0m \u001b[0;34m=\u001b[0m \u001b[0mself\u001b[0m\u001b[0;34m.\u001b[0m\u001b[0manchor_generator\u001b[0m\u001b[0;34m(\u001b[0m\u001b[0mimages\u001b[0m\u001b[0;34m,\u001b[0m \u001b[0mfeatures\u001b[0m\u001b[0;34m)\u001b[0m\u001b[0;34m\u001b[0m\u001b[0;34m\u001b[0m\u001b[0m\n\u001b[0m\u001b[1;32m    343\u001b[0m \u001b[0;34m\u001b[0m\u001b[0m\n\u001b[1;32m    344\u001b[0m         \u001b[0mnum_images\u001b[0m \u001b[0;34m=\u001b[0m \u001b[0mlen\u001b[0m\u001b[0;34m(\u001b[0m\u001b[0manchors\u001b[0m\u001b[0;34m)\u001b[0m\u001b[0;34m\u001b[0m\u001b[0;34m\u001b[0m\u001b[0m\n",
            "\u001b[0;32m/usr/local/lib/python3.7/dist-packages/torch/nn/modules/module.py\u001b[0m in \u001b[0;36m_call_impl\u001b[0;34m(self, *input, **kwargs)\u001b[0m\n\u001b[1;32m   1108\u001b[0m         if not (self._backward_hooks or self._forward_hooks or self._forward_pre_hooks or _global_backward_hooks\n\u001b[1;32m   1109\u001b[0m                 or _global_forward_hooks or _global_forward_pre_hooks):\n\u001b[0;32m-> 1110\u001b[0;31m             \u001b[0;32mreturn\u001b[0m \u001b[0mforward_call\u001b[0m\u001b[0;34m(\u001b[0m\u001b[0;34m*\u001b[0m\u001b[0minput\u001b[0m\u001b[0;34m,\u001b[0m \u001b[0;34m**\u001b[0m\u001b[0mkwargs\u001b[0m\u001b[0;34m)\u001b[0m\u001b[0;34m\u001b[0m\u001b[0;34m\u001b[0m\u001b[0m\n\u001b[0m\u001b[1;32m   1111\u001b[0m         \u001b[0;31m# Do not call functions when jit is used\u001b[0m\u001b[0;34m\u001b[0m\u001b[0;34m\u001b[0m\u001b[0;34m\u001b[0m\u001b[0m\n\u001b[1;32m   1112\u001b[0m         \u001b[0mfull_backward_hooks\u001b[0m\u001b[0;34m,\u001b[0m \u001b[0mnon_full_backward_hooks\u001b[0m \u001b[0;34m=\u001b[0m \u001b[0;34m[\u001b[0m\u001b[0;34m]\u001b[0m\u001b[0;34m,\u001b[0m \u001b[0;34m[\u001b[0m\u001b[0;34m]\u001b[0m\u001b[0;34m\u001b[0m\u001b[0;34m\u001b[0m\u001b[0m\n",
            "\u001b[0;32m/usr/local/lib/python3.7/dist-packages/torchvision/models/detection/anchor_utils.py\u001b[0m in \u001b[0;36mforward\u001b[0;34m(self, image_list, feature_maps)\u001b[0m\n\u001b[1;32m    125\u001b[0m                 \u001b[0mtorch\u001b[0m\u001b[0;34m.\u001b[0m\u001b[0mtensor\u001b[0m\u001b[0;34m(\u001b[0m\u001b[0mimage_size\u001b[0m\u001b[0;34m[\u001b[0m\u001b[0;36m1\u001b[0m\u001b[0;34m]\u001b[0m \u001b[0;34m//\u001b[0m \u001b[0mg\u001b[0m\u001b[0;34m[\u001b[0m\u001b[0;36m1\u001b[0m\u001b[0;34m]\u001b[0m\u001b[0;34m,\u001b[0m \u001b[0mdtype\u001b[0m\u001b[0;34m=\u001b[0m\u001b[0mtorch\u001b[0m\u001b[0;34m.\u001b[0m\u001b[0mint64\u001b[0m\u001b[0;34m,\u001b[0m \u001b[0mdevice\u001b[0m\u001b[0;34m=\u001b[0m\u001b[0mdevice\u001b[0m\u001b[0;34m)\u001b[0m\u001b[0;34m,\u001b[0m\u001b[0;34m\u001b[0m\u001b[0;34m\u001b[0m\u001b[0m\n\u001b[1;32m    126\u001b[0m             ]\n\u001b[0;32m--> 127\u001b[0;31m             \u001b[0;32mfor\u001b[0m \u001b[0mg\u001b[0m \u001b[0;32min\u001b[0m \u001b[0mgrid_sizes\u001b[0m\u001b[0;34m\u001b[0m\u001b[0;34m\u001b[0m\u001b[0m\n\u001b[0m\u001b[1;32m    128\u001b[0m         ]\n\u001b[1;32m    129\u001b[0m         \u001b[0mself\u001b[0m\u001b[0;34m.\u001b[0m\u001b[0mset_cell_anchors\u001b[0m\u001b[0;34m(\u001b[0m\u001b[0mdtype\u001b[0m\u001b[0;34m,\u001b[0m \u001b[0mdevice\u001b[0m\u001b[0;34m)\u001b[0m\u001b[0;34m\u001b[0m\u001b[0;34m\u001b[0m\u001b[0m\n",
            "\u001b[0;32m/usr/local/lib/python3.7/dist-packages/torchvision/models/detection/anchor_utils.py\u001b[0m in \u001b[0;36m<listcomp>\u001b[0;34m(.0)\u001b[0m\n\u001b[1;32m    125\u001b[0m                 \u001b[0mtorch\u001b[0m\u001b[0;34m.\u001b[0m\u001b[0mtensor\u001b[0m\u001b[0;34m(\u001b[0m\u001b[0mimage_size\u001b[0m\u001b[0;34m[\u001b[0m\u001b[0;36m1\u001b[0m\u001b[0;34m]\u001b[0m \u001b[0;34m//\u001b[0m \u001b[0mg\u001b[0m\u001b[0;34m[\u001b[0m\u001b[0;36m1\u001b[0m\u001b[0;34m]\u001b[0m\u001b[0;34m,\u001b[0m \u001b[0mdtype\u001b[0m\u001b[0;34m=\u001b[0m\u001b[0mtorch\u001b[0m\u001b[0;34m.\u001b[0m\u001b[0mint64\u001b[0m\u001b[0;34m,\u001b[0m \u001b[0mdevice\u001b[0m\u001b[0;34m=\u001b[0m\u001b[0mdevice\u001b[0m\u001b[0;34m)\u001b[0m\u001b[0;34m,\u001b[0m\u001b[0;34m\u001b[0m\u001b[0;34m\u001b[0m\u001b[0m\n\u001b[1;32m    126\u001b[0m             ]\n\u001b[0;32m--> 127\u001b[0;31m             \u001b[0;32mfor\u001b[0m \u001b[0mg\u001b[0m \u001b[0;32min\u001b[0m \u001b[0mgrid_sizes\u001b[0m\u001b[0;34m\u001b[0m\u001b[0;34m\u001b[0m\u001b[0m\n\u001b[0m\u001b[1;32m    128\u001b[0m         ]\n\u001b[1;32m    129\u001b[0m         \u001b[0mself\u001b[0m\u001b[0;34m.\u001b[0m\u001b[0mset_cell_anchors\u001b[0m\u001b[0;34m(\u001b[0m\u001b[0mdtype\u001b[0m\u001b[0;34m,\u001b[0m \u001b[0mdevice\u001b[0m\u001b[0;34m)\u001b[0m\u001b[0;34m\u001b[0m\u001b[0;34m\u001b[0m\u001b[0m\n",
            "\u001b[0;31mKeyboardInterrupt\u001b[0m: "
          ]
        }
      ]
    },
    {
      "cell_type": "markdown",
      "metadata": {
        "id": "Z6mYGFLxkO8F"
      },
      "source": [
        "Посмотрим на примеры предсказаний"
      ]
    },
    {
      "cell_type": "code",
      "metadata": {
        "id": "YHwIdxH76uPj"
      },
      "source": [
        "# pick one image from the test set\n",
        "img, _ = dataset_test[0]\n",
        "# put the model in evaluation mode\n",
        "model.eval()\n",
        "with torch.no_grad():\n",
        "    prediction = model([img.to(device)])"
      ],
      "execution_count": 38,
      "outputs": []
    },
    {
      "cell_type": "code",
      "source": [
        "torch.save(model.state_dict(), 'segment.pth')"
      ],
      "metadata": {
        "id": "A1gmVXTIr843"
      },
      "execution_count": 221,
      "outputs": []
    },
    {
      "cell_type": "code",
      "source": [
        "prediction[0]['masks'][0][0].shape"
      ],
      "metadata": {
        "id": "DaKlCKbSi0N2",
        "outputId": "a4e37cb2-4c84-42d4-e2ef-8d75596102f6",
        "colab": {
          "base_uri": "https://localhost:8080/"
        }
      },
      "execution_count": 51,
      "outputs": [
        {
          "output_type": "execute_result",
          "data": {
            "text/plain": [
              "torch.Size([256, 256])"
            ]
          },
          "metadata": {},
          "execution_count": 51
        }
      ]
    },
    {
      "cell_type": "markdown",
      "source": [
        "Вывод модели представляет из себя позицию объекта на фотографии, его класс и маску, а также уверенность модели"
      ],
      "metadata": {
        "id": "KsfVgKAqi2-_"
      }
    },
    {
      "cell_type": "markdown",
      "metadata": {
        "id": "RwT21rzotFbH"
      },
      "source": [
        "Посмотрим на пример"
      ]
    },
    {
      "cell_type": "code",
      "metadata": {
        "id": "bpqN9t1u7B2J",
        "colab": {
          "base_uri": "https://localhost:8080/",
          "height": 273
        },
        "outputId": "4622f309-65d3-4689-e8c6-12b5a2bbe265"
      },
      "source": [
        "Image.fromarray(img.mul(255).permute(1, 2, 0).byte().numpy())"
      ],
      "execution_count": 40,
      "outputs": [
        {
          "output_type": "execute_result",
          "data": {
            "text/plain": [
              "<PIL.Image.Image image mode=RGB size=256x256 at 0x7F3D2020DDD0>"
            ],
            "image/png": "[encoded data removed]"
          },
          "metadata": {},
          "execution_count": 40
        }
      ]
    },
    {
      "cell_type": "markdown",
      "metadata": {
        "id": "M58J3O9OtT1G"
      },
      "source": [
        "Посмотрим на предсказанную маску"
      ]
    },
    {
      "cell_type": "code",
      "metadata": {
        "id": "5v5S3bm07SO1",
        "colab": {
          "base_uri": "https://localhost:8080/",
          "height": 273
        },
        "outputId": "daa652a5-b70b-402a-cfab-5ca7fedfbac9"
      },
      "source": [
        "Image.fromarray(prediction[0]['masks'][0, 0].mul(255).byte().cpu().numpy())"
      ],
      "execution_count": 41,
      "outputs": [
        {
          "output_type": "execute_result",
          "data": {
            "text/plain": [
              "<PIL.Image.Image image mode=L size=256x256 at 0x7F3D20391BD0>"
            ],
            "image/png": "[encoded data removed]"
          },
          "metadata": {},
          "execution_count": 41
        }
      ]
    },
    {
      "cell_type": "code",
      "source": [
        "def get_mask(image_path, model):\n",
        "    model.eval()\n",
        "\n",
        "    img_original = cv2.imread(image_path)\n",
        "    img, _ = get_transform(train=False)(img_original, {})\n",
        "\n",
        "    with torch.no_grad():\n",
        "        prediction = model([img.to(device)])\n",
        "\n",
        "    if len(prediction) == 0 or len(prediction[0]['labels']) == 0:\n",
        "        return np.zeros_like(img_original[:, :, 0])\n",
        "\n",
        "    mask = prediction[0]['masks'][0][0]\n",
        "    mask = mask.mul(255).byte().cpu().numpy()\n",
        "\n",
        "    return mask"
      ],
      "metadata": {
        "id": "Qn-LD2xmifQT"
      },
      "execution_count": 104,
      "outputs": []
    },
    {
      "cell_type": "markdown",
      "source": [
        "## Классификация + сегментация\n",
        "\n",
        "Скачаем другой датасет - Brain Tumor Classification. Там нет выделения опухолей, но есть классы. Будем сегментировать с помощью прошлой сетки и классифицировать одновременно"
      ],
      "metadata": {
        "id": "u_CZI489e__r"
      }
    },
    {
      "cell_type": "code",
      "source": [
        "import torchvision\n",
        "from torchvision.models.detection.faster_rcnn import FastRCNNPredictor\n",
        "from torchvision.models.detection.mask_rcnn import MaskRCNNPredictor\n",
        "import os\n",
        "import numpy as np\n",
        "import torch\n",
        "import torch.utils.data\n",
        "from PIL import Image\n",
        "import cv2\n",
        "import numpy as np"
      ],
      "metadata": {
        "id": "TJ6fcRnXsXxv"
      },
      "execution_count": null,
      "outputs": []
    },
    {
      "cell_type": "code",
      "source": [
        "!kaggle datasets download \"sartajbhuvaji/brain-tumor-classification-mri\""
      ],
      "metadata": {
        "colab": {
          "base_uri": "https://localhost:8080/"
        },
        "id": "bGlvUUL8e8Um",
        "outputId": "b741072c-2d3a-443b-a4be-7d9c3aa54d66"
      },
      "execution_count": 42,
      "outputs": [
        {
          "output_type": "stream",
          "name": "stdout",
          "text": [
            "Downloading brain-tumor-classification-mri.zip to /content\n",
            " 89% 77.0M/86.8M [00:00<00:00, 158MB/s]\n",
            "100% 86.8M/86.8M [00:00<00:00, 140MB/s]\n"
          ]
        }
      ]
    },
    {
      "cell_type": "code",
      "source": [
        "!unzip brain-tumor-classification-mri.zip"
      ],
      "metadata": {
        "id": "VmBI_AgshWOu"
      },
      "execution_count": null,
      "outputs": []
    },
    {
      "cell_type": "code",
      "source": [
        "example_img[:, :, 0].shape, example_img_mask.shape"
      ],
      "metadata": {
        "colab": {
          "base_uri": "https://localhost:8080/"
        },
        "id": "4ivZbJ7ojvgn",
        "outputId": "c9512595-f0ce-46a5-b210-fdea8f198f8f"
      },
      "execution_count": 72,
      "outputs": [
        {
          "output_type": "execute_result",
          "data": {
            "text/plain": [
              "((512, 512), (512, 512))"
            ]
          },
          "metadata": {},
          "execution_count": 72
        }
      ]
    },
    {
      "cell_type": "code",
      "source": [
        "np.unique(example_img_mask)"
      ],
      "metadata": {
        "colab": {
          "base_uri": "https://localhost:8080/"
        },
        "id": "WMl1V9wLj5qv",
        "outputId": "32b4fd7a-9f0f-4d14-9d24-db2d68f58a3b"
      },
      "execution_count": 75,
      "outputs": [
        {
          "output_type": "execute_result",
          "data": {
            "text/plain": [
              "array([0.0000000e+00, 2.8703097e-04, 3.6576195e-04, ..., 9.9110579e-01,\n",
              "       9.9137110e-01, 9.9185550e-01], dtype=float32)"
            ]
          },
          "metadata": {},
          "execution_count": 75
        }
      ]
    },
    {
      "cell_type": "code",
      "source": [
        "example_img_path = glob('Training/*/*.jpg')[2]\n",
        "example_img = cv2.imread(example_img_path)\n",
        "example_img_mask = get_mask(example_img_path, model)\n",
        "\n",
        "_, axes = plt.subplots(1, 2)\n",
        "axes[0].imshow(example_img)\n",
        "axes[1].imshow(example_img_mask)"
      ],
      "metadata": {
        "colab": {
          "base_uri": "https://localhost:8080/",
          "height": 222
        },
        "id": "DbopP06XjTEa",
        "outputId": "403b6b51-09ee-44a5-cbfa-99e324dc63de"
      },
      "execution_count": 98,
      "outputs": [
        {
          "output_type": "execute_result",
          "data": {
            "text/plain": [
              "<matplotlib.image.AxesImage at 0x7f3bfc7e9190>"
            ]
          },
          "metadata": {},
          "execution_count": 98
        },
        {
          "output_type": "display_data",
          "data": {
            "text/plain": [
              "<Figure size 432x288 with 2 Axes>"
            ],
            "image/png": "[encoded data removed]"
          },
          "metadata": {
            "needs_background": "light"
          }
        }
      ]
    },
    {
      "cell_type": "code",
      "source": [
        "from collections import defaultdict\n",
        "from tqdm.notebook import tqdm"
      ],
      "metadata": {
        "id": "Bm8yfveWhlJS"
      },
      "execution_count": 10,
      "outputs": []
    },
    {
      "cell_type": "code",
      "source": [
        "!mkdir classification_masks"
      ],
      "metadata": {
        "id": "Fe5LJ6bniCkH"
      },
      "execution_count": 45,
      "outputs": []
    },
    {
      "cell_type": "code",
      "source": [
        "data = defaultdict(list)\n",
        "\n",
        "for filepath in tqdm(glob('Training/*/*.jpg')):\n",
        "    tumor_class = filepath.split('/')[-2]\n",
        "    image_path = filepath\n",
        "\n",
        "    # mask = get_mask(image_path, model)\n",
        "    image_name = os.path.basename(filepath)\n",
        "\n",
        "    mask_path = 'classification_masks/' + image_name\n",
        "    # cv2.imwrite(mask_path, mask)\n",
        "\n",
        "    data['mask_path'].append(mask_path)\n",
        "    data['image_path'].append(image_path)\n",
        "    data['tumor_name'].append(tumor_class)\n",
        "\n",
        "df = pd.DataFrame(data)"
      ],
      "metadata": {
        "colab": {
          "base_uri": "https://localhost:8080/",
          "height": 49,
          "referenced_widgets": [
            "844f809a1620456b8bd6fb55dbb50aa4",
            "2d6536da440b422995f57956419e7f69",
            "d40ea804ae9e40cb9414555c9159b481",
            "a3d6f96d11f346b5a062f453e3c8e5e8",
            "d6efaee07f8346db8628b9439ee8f975",
            "17801d4278a141baa0968d038d7bdd6b",
            "18a4e365cbd24d45beda4f1ca66fe61a",
            "894cd1084c7f4e4dbecd7616a1010f85",
            "22e2b64c3341467f89b49f81420834ca",
            "53c55d49a9ba4f80b426c8cf1ea8abbd",
            "ee2937626640431098f8bd7e5ee12171"
          ]
        },
        "id": "skDnuhwBhejv",
        "outputId": "db8e782c-9782-491f-9d48-81c450e6ee1e"
      },
      "execution_count": 11,
      "outputs": [
        {
          "output_type": "display_data",
          "data": {
            "text/plain": [
              "  0%|          | 0/2870 [00:00<?, ?it/s]"
            ],
            "application/vnd.jupyter.widget-view+json": {
              "version_major": 2,
              "version_minor": 0,
              "model_id": "844f809a1620456b8bd6fb55dbb50aa4"
            }
          },
          "metadata": {}
        }
      ]
    },
    {
      "cell_type": "code",
      "source": [
        "from sklearn.preprocessing import LabelEncoder"
      ],
      "metadata": {
        "id": "CQiR65BknPn2"
      },
      "execution_count": 12,
      "outputs": []
    },
    {
      "cell_type": "code",
      "source": [
        "df['tumor_class'] = LabelEncoder().fit_transform(df.tumor_name)"
      ],
      "metadata": {
        "id": "iKSwPB5Jm846"
      },
      "execution_count": 13,
      "outputs": []
    },
    {
      "cell_type": "code",
      "source": [
        "df['has_mask'] = df['mask_path'].progress_apply(lambda x: cv2.imread(x).max() > 0)"
      ],
      "metadata": {
        "id": "y4FzyJfbto9f"
      },
      "execution_count": 23,
      "outputs": []
    },
    {
      "cell_type": "code",
      "source": [
        "df.head()"
      ],
      "metadata": {
        "colab": {
          "base_uri": "https://localhost:8080/",
          "height": 206
        },
        "id": "l9wMALaJnCXA",
        "outputId": "a83ef1a3-fe7d-47a6-933c-6116eab915d0"
      },
      "execution_count": 24,
      "outputs": [
        {
          "output_type": "execute_result",
          "data": {
            "text/plain": [
              "                          mask_path                            image_path  \\\n",
              "0  classification_masks/p (398).jpg  Training/pituitary_tumor/p (398).jpg   \n",
              "1  classification_masks/p (153).jpg  Training/pituitary_tumor/p (153).jpg   \n",
              "2   classification_masks/p (20).jpg   Training/pituitary_tumor/p (20).jpg   \n",
              "3  classification_masks/p (336).jpg  Training/pituitary_tumor/p (336).jpg   \n",
              "4  classification_masks/p (114).jpg  Training/pituitary_tumor/p (114).jpg   \n",
              "\n",
              "        tumor_name  tumor_class  has_mask  \n",
              "0  pituitary_tumor            3      True  \n",
              "1  pituitary_tumor            3      True  \n",
              "2  pituitary_tumor            3      True  \n",
              "3  pituitary_tumor            3      True  \n",
              "4  pituitary_tumor            3      True  "
            ],
            "text/html": [
              "\n",
              "  <div id=\"df-94b55f92-d98e-43fb-98ab-a5a50b15eecc\">\n",
              "    <div class=\"colab-df-container\">\n",
              "      <div>\n",
              "<style scoped>\n",
              "    .dataframe tbody tr th:only-of-type {\n",
              "        vertical-align: middle;\n",
              "    }\n",
              "\n",
              "    .dataframe tbody tr th {\n",
              "        vertical-align: top;\n",
              "    }\n",
              "\n",
              "    .dataframe thead th {\n",
              "        text-align: right;\n",
              "    }\n",
              "</style>\n",
              "<table border=\"1\" class=\"dataframe\">\n",
              "  <thead>\n",
              "    <tr style=\"text-align: right;\">\n",
              "      <th></th>\n",
              "      <th>mask_path</th>\n",
              "      <th>image_path</th>\n",
              "      <th>tumor_name</th>\n",
              "      <th>tumor_class</th>\n",
              "      <th>has_mask</th>\n",
              "    </tr>\n",
              "  </thead>\n",
              "  <tbody>\n",
              "    <tr>\n",
              "      <th>0</th>\n",
              "      <td>classification_masks/p (398).jpg</td>\n",
              "      <td>Training/pituitary_tumor/p (398).jpg</td>\n",
              "      <td>pituitary_tumor</td>\n",
              "      <td>3</td>\n",
              "      <td>True</td>\n",
              "    </tr>\n",
              "    <tr>\n",
              "      <th>1</th>\n",
              "      <td>classification_masks/p (153).jpg</td>\n",
              "      <td>Training/pituitary_tumor/p (153).jpg</td>\n",
              "      <td>pituitary_tumor</td>\n",
              "      <td>3</td>\n",
              "      <td>True</td>\n",
              "    </tr>\n",
              "    <tr>\n",
              "      <th>2</th>\n",
              "      <td>classification_masks/p (20).jpg</td>\n",
              "      <td>Training/pituitary_tumor/p (20).jpg</td>\n",
              "      <td>pituitary_tumor</td>\n",
              "      <td>3</td>\n",
              "      <td>True</td>\n",
              "    </tr>\n",
              "    <tr>\n",
              "      <th>3</th>\n",
              "      <td>classification_masks/p (336).jpg</td>\n",
              "      <td>Training/pituitary_tumor/p (336).jpg</td>\n",
              "      <td>pituitary_tumor</td>\n",
              "      <td>3</td>\n",
              "      <td>True</td>\n",
              "    </tr>\n",
              "    <tr>\n",
              "      <th>4</th>\n",
              "      <td>classification_masks/p (114).jpg</td>\n",
              "      <td>Training/pituitary_tumor/p (114).jpg</td>\n",
              "      <td>pituitary_tumor</td>\n",
              "      <td>3</td>\n",
              "      <td>True</td>\n",
              "    </tr>\n",
              "  </tbody>\n",
              "</table>\n",
              "</div>\n",
              "      <button class=\"colab-df-convert\" onclick=\"convertToInteractive('df-94b55f92-d98e-43fb-98ab-a5a50b15eecc')\"\n",
              "              title=\"Convert this dataframe to an interactive table.\"\n",
              "              style=\"display:none;\">\n",
              "        \n",
              "  <svg xmlns=\"http://www.w3.org/2000/svg\" height=\"24px\"viewBox=\"0 0 24 24\"\n",
              "       width=\"24px\">\n",
              "    <path d=\"M0 0h24v24H0V0z\" fill=\"none\"/>\n",
              "    <path d=\"M18.56 5.44l.94 2.06.94-2.06 2.06-.94-2.06-.94-.94-2.06-.94 2.06-2.06.94zm-11 1L8.5 8.5l.94-2.06 2.06-.94-2.06-.94L8.5 2.5l-.94 2.06-2.06.94zm10 10l.94 2.06.94-2.06 2.06-.94-2.06-.94-.94-2.06-.94 2.06-2.06.94z\"/><path d=\"M17.41 7.96l-1.37-1.37c-.4-.4-.92-.59-1.43-.59-.52 0-1.04.2-1.43.59L10.3 9.45l-7.72 7.72c-.78.78-.78 2.05 0 2.83L4 21.41c.39.39.9.59 1.41.59.51 0 1.02-.2 1.41-.59l7.78-7.78 2.81-2.81c.8-.78.8-2.07 0-2.86zM5.41 20L4 18.59l7.72-7.72 1.47 1.35L5.41 20z\"/>\n",
              "  </svg>\n",
              "      </button>\n",
              "      \n",
              "  <style>\n",
              "    .colab-df-container {\n",
              "      display:flex;\n",
              "      flex-wrap:wrap;\n",
              "      gap: 12px;\n",
              "    }\n",
              "\n",
              "    .colab-df-convert {\n",
              "      background-color: #E8F0FE;\n",
              "      border: none;\n",
              "      border-radius: 50%;\n",
              "      cursor: pointer;\n",
              "      display: none;\n",
              "      fill: #1967D2;\n",
              "      height: 32px;\n",
              "      padding: 0 0 0 0;\n",
              "      width: 32px;\n",
              "    }\n",
              "\n",
              "    .colab-df-convert:hover {\n",
              "      background-color: #E2EBFA;\n",
              "      box-shadow: 0px 1px 2px rgba(60, 64, 67, 0.3), 0px 1px 3px 1px rgba(60, 64, 67, 0.15);\n",
              "      fill: #174EA6;\n",
              "    }\n",
              "\n",
              "    [theme=dark] .colab-df-convert {\n",
              "      background-color: #3B4455;\n",
              "      fill: #D2E3FC;\n",
              "    }\n",
              "\n",
              "    [theme=dark] .colab-df-convert:hover {\n",
              "      background-color: #434B5C;\n",
              "      box-shadow: 0px 1px 3px 1px rgba(0, 0, 0, 0.15);\n",
              "      filter: drop-shadow(0px 1px 2px rgba(0, 0, 0, 0.3));\n",
              "      fill: #FFFFFF;\n",
              "    }\n",
              "  </style>\n",
              "\n",
              "      <script>\n",
              "        const buttonEl =\n",
              "          document.querySelector('#df-94b55f92-d98e-43fb-98ab-a5a50b15eecc button.colab-df-convert');\n",
              "        buttonEl.style.display =\n",
              "          google.colab.kernel.accessAllowed ? 'block' : 'none';\n",
              "\n",
              "        async function convertToInteractive(key) {\n",
              "          const element = document.querySelector('#df-94b55f92-d98e-43fb-98ab-a5a50b15eecc');\n",
              "          const dataTable =\n",
              "            await google.colab.kernel.invokeFunction('convertToInteractive',\n",
              "                                                     [key], {});\n",
              "          if (!dataTable) return;\n",
              "\n",
              "          const docLinkHtml = 'Like what you see? Visit the ' +\n",
              "            '<a target=\"_blank\" href=https://colab.research.google.com/notebooks/data_table.ipynb>data table notebook</a>'\n",
              "            + ' to learn more about interactive tables.';\n",
              "          element.innerHTML = '';\n",
              "          dataTable['output_type'] = 'display_data';\n",
              "          await google.colab.output.renderOutput(dataTable, element);\n",
              "          const docLink = document.createElement('div');\n",
              "          docLink.innerHTML = docLinkHtml;\n",
              "          element.appendChild(docLink);\n",
              "        }\n",
              "      </script>\n",
              "    </div>\n",
              "  </div>\n",
              "  "
            ]
          },
          "metadata": {},
          "execution_count": 24
        }
      ]
    },
    {
      "cell_type": "code",
      "source": [
        "df['has_mask'].value_counts()"
      ],
      "metadata": {
        "colab": {
          "base_uri": "https://localhost:8080/"
        },
        "id": "SJvdRePRnWO8",
        "outputId": "6a4c7a4d-f8d5-41d9-d8d9-bcfc0d29ff8c"
      },
      "execution_count": 25,
      "outputs": [
        {
          "output_type": "execute_result",
          "data": {
            "text/plain": [
              "True     2355\n",
              "False     515\n",
              "Name: has_mask, dtype: int64"
            ]
          },
          "metadata": {},
          "execution_count": 25
        }
      ]
    },
    {
      "cell_type": "code",
      "source": [
        "import os\n",
        "import numpy as np\n",
        "import torch\n",
        "import torch.utils.data\n",
        "from PIL import Image\n",
        "\n",
        "\n",
        "class MRIClassificationDataset(torch.utils.data.Dataset):\n",
        "    def __init__(self, df, transforms=None):\n",
        "        self.transforms = transforms\n",
        "        self.imgs = df['image_path'].tolist()\n",
        "        self.masks = df['mask_path'].tolist()\n",
        "        self.classes = df['tumor_class'].tolist()\n",
        "\n",
        "    def __getitem__(self, idx):\n",
        "        img_path = self.imgs[idx]\n",
        "        mask_path = self.masks[idx]\n",
        "        tumor_class = self.classes[idx]\n",
        "\n",
        "        img = cv2.imread(img_path)\n",
        "        mask = cv2.imread(mask_path)[:, :, 0]\n",
        "        mask = cv2.threshold(mask, 100, 255, cv2.THRESH_BINARY)[1]\n",
        "        mask[mask == 255] = 1\n",
        "\n",
        "        pos = np.where(mask)\n",
        "\n",
        "        xmin = np.min(pos[1])\n",
        "        xmax = np.max(pos[1])\n",
        "        ymin = np.min(pos[0])\n",
        "        ymax = np.max(pos[0])\n",
        "\n",
        "        boxes = torch.as_tensor([[xmin, ymin, xmax, ymax]])\n",
        "\n",
        "        labels = torch.as_tensor(np.array([tumor_class]), dtype=torch.int64)\n",
        "        masks = torch.as_tensor(np.array([mask]), dtype=torch.uint8)\n",
        "        image_id = torch.tensor([idx])\n",
        "        area = (boxes[:, 3] - boxes[:, 1]) * (boxes[:, 2] - boxes[:, 0])\n",
        "        # suppose all instances are not crowd\n",
        "        iscrowd = torch.zeros((1, ), dtype=torch.int64)\n",
        "\n",
        "        target = {}\n",
        "        target[\"boxes\"] = boxes\n",
        "        target[\"labels\"] = labels\n",
        "        target[\"masks\"] = masks\n",
        "        target[\"image_id\"] = image_id\n",
        "        target[\"area\"] = area\n",
        "        target[\"iscrowd\"] = iscrowd\n",
        "\n",
        "        if self.transforms is not None:\n",
        "            img, target = self.transforms(img, target)\n",
        "\n",
        "        return img, target\n",
        "\n",
        "    def __len__(self):\n",
        "        return len(self.imgs)"
      ],
      "metadata": {
        "id": "PeZGOmayfQtb"
      },
      "execution_count": 58,
      "outputs": []
    },
    {
      "cell_type": "code",
      "source": [
        "# use our dataset and defined transformations\n",
        "dataset = MRIClassificationDataset(df.query('has_mask == True'), get_transform(train=True))\n",
        "dataset_test = MRIClassificationDataset(df.query('has_mask == True'), get_transform(train=False))\n",
        "\n",
        "# split the dataset in train and test set\n",
        "torch.manual_seed(1)\n",
        "indices = torch.randperm(len(dataset)).tolist()\n",
        "dataset = torch.utils.data.Subset(dataset, indices[:-400])\n",
        "dataset_test = torch.utils.data.Subset(dataset_test, indices[-400:])\n",
        "\n",
        "# define training and validation data loaders\n",
        "data_loader = torch.utils.data.DataLoader(\n",
        "    dataset, batch_size=2, shuffle=True, num_workers=4,\n",
        "    collate_fn=utils.collate_fn)\n",
        "\n",
        "data_loader_test = torch.utils.data.DataLoader(\n",
        "    dataset_test, batch_size=1, shuffle=False, num_workers=4,\n",
        "    collate_fn=utils.collate_fn)"
      ],
      "metadata": {
        "colab": {
          "base_uri": "https://localhost:8080/"
        },
        "id": "xz6jbxxol9P0",
        "outputId": "07aa355a-7517-415f-d18a-9f3c6bf06276"
      },
      "execution_count": 59,
      "outputs": [
        {
          "output_type": "stream",
          "name": "stderr",
          "text": [
            "/usr/local/lib/python3.7/dist-packages/torch/utils/data/dataloader.py:490: UserWarning: This DataLoader will create 4 worker processes in total. Our suggested max number of worker in current system is 2, which is smaller than what this DataLoader is going to create. Please be aware that excessive worker creation might get DataLoader running slow or even freeze, lower the worker number to avoid potential slowness/freeze if necessary.\n",
            "  cpuset_checked))\n"
          ]
        }
      ]
    },
    {
      "cell_type": "code",
      "source": [
        "device = torch.device('cuda') if torch.cuda.is_available() else torch.device('cpu')\n",
        "\n",
        "num_classes = len(df['tumor_class'].unique()) + 1\n",
        "\n",
        "if 'classification_model' in locals():\n",
        "    del classification_model\n",
        "\n",
        "classification_model = get_instance_segmentation_model(num_classes)\n",
        "classification_model.to(device)\n",
        "\n",
        "params = [p for p in classification_model.parameters() if p.requires_grad]\n",
        "optimizer = torch.optim.SGD(params, lr=0.005,\n",
        "                            momentum=0.9, weight_decay=0.0005)\n",
        "\n",
        "# and a learning rate scheduler which decreases the learning rate by\n",
        "# 10x every 3 epochs\n",
        "lr_scheduler = torch.optim.lr_scheduler.StepLR(optimizer,\n",
        "                                               step_size=3,\n",
        "                                               gamma=0.1)"
      ],
      "metadata": {
        "id": "ZDaKmmBImmq-"
      },
      "execution_count": 62,
      "outputs": []
    },
    {
      "cell_type": "code",
      "source": [
        "# let's train it for 10 epochs\n",
        "from torch.optim.lr_scheduler import StepLR\n",
        "num_epochs = 10\n",
        "\n",
        "\n",
        "for epoch in range(num_epochs):\n",
        "    # train for one epoch, printing every 10 iterations\n",
        "    train_one_epoch(classification_model, optimizer, data_loader, device, epoch, print_freq=10)\n",
        "    # update the learning rate\n",
        "    lr_scheduler.step()\n",
        "    # evaluate on the test dataset\n",
        "    evaluate(classification_model, data_loader_test, device=device)"
      ],
      "metadata": {
        "colab": {
          "base_uri": "https://localhost:8080/",
          "height": 1000
        },
        "id": "yINx3u1xmwQy",
        "outputId": "39dfa682-3518-425b-a8a5-2d29868ea8f8"
      },
      "execution_count": 63,
      "outputs": [
        {
          "output_type": "stream",
          "name": "stderr",
          "text": [
            "/usr/local/lib/python3.7/dist-packages/torch/utils/data/dataloader.py:490: UserWarning: This DataLoader will create 4 worker processes in total. Our suggested max number of worker in current system is 2, which is smaller than what this DataLoader is going to create. Please be aware that excessive worker creation might get DataLoader running slow or even freeze, lower the worker number to avoid potential slowness/freeze if necessary.\n",
            "  cpuset_checked))\n"
          ]
        },
        {
          "output_type": "stream",
          "name": "stdout",
          "text": [
            "Epoch: [0]  [  0/978]  eta: 0:28:05  lr: 0.000010  loss: 3.9266 (3.9266)  loss_classifier: 2.1925 (2.1925)  loss_box_reg: 0.0775 (0.0775)  loss_mask: 1.6097 (1.6097)  loss_objectness: 0.0417 (0.0417)  loss_rpn_box_reg: 0.0051 (0.0051)  time: 1.7230  data: 1.1603  max mem: 6010\n",
            "Epoch: [0]  [ 10/978]  eta: 0:09:53  lr: 0.000061  loss: 3.7433 (3.4873)  loss_classifier: 2.1048 (2.0081)  loss_box_reg: 0.0701 (0.0587)  loss_mask: 1.1715 (1.2628)  loss_objectness: 0.0875 (0.1462)  loss_rpn_box_reg: 0.0049 (0.0117)  time: 0.6127  data: 0.1178  max mem: 6506\n",
            "Epoch: [0]  [ 20/978]  eta: 0:08:27  lr: 0.000112  loss: 2.4060 (2.7091)  loss_classifier: 1.5289 (1.4956)  loss_box_reg: 0.0630 (0.0574)  loss_mask: 0.9321 (1.0339)  loss_objectness: 0.0710 (0.1136)  loss_rpn_box_reg: 0.0041 (0.0086)  time: 0.4698  data: 0.0120  max mem: 6614\n",
            "Epoch: [0]  [ 30/978]  eta: 0:07:51  lr: 0.000163  loss: 1.0413 (2.1535)  loss_classifier: 0.3375 (1.0731)  loss_box_reg: 0.0623 (0.0576)  loss_mask: 0.6330 (0.9134)  loss_objectness: 0.0448 (0.1022)  loss_rpn_box_reg: 0.0033 (0.0071)  time: 0.4336  data: 0.0098  max mem: 6614\n",
            "Epoch: [0]  [ 40/978]  eta: 0:07:33  lr: 0.000215  loss: 0.8390 (1.8226)  loss_classifier: 0.1264 (0.8324)  loss_box_reg: 0.0568 (0.0571)  loss_mask: 0.5448 (0.8285)  loss_objectness: 0.0448 (0.0976)  loss_rpn_box_reg: 0.0035 (0.0070)  time: 0.4356  data: 0.0097  max mem: 6614\n",
            "Epoch: [0]  [ 50/978]  eta: 0:07:22  lr: 0.000266  loss: 0.7201 (1.6096)  loss_classifier: 0.0939 (0.6896)  loss_box_reg: 0.0559 (0.0587)  loss_mask: 0.4983 (0.7637)  loss_objectness: 0.0364 (0.0911)  loss_rpn_box_reg: 0.0039 (0.0065)  time: 0.4464  data: 0.0101  max mem: 6614\n",
            "Epoch: [0]  [ 60/978]  eta: 0:07:11  lr: 0.000317  loss: 0.6132 (1.4351)  loss_classifier: 0.0876 (0.5905)  loss_box_reg: 0.0526 (0.0577)  loss_mask: 0.4312 (0.7014)  loss_objectness: 0.0198 (0.0795)  loss_rpn_box_reg: 0.0033 (0.0059)  time: 0.4405  data: 0.0099  max mem: 6614\n",
            "Epoch: [0]  [ 70/978]  eta: 0:07:02  lr: 0.000368  loss: 0.5132 (1.2943)  loss_classifier: 0.0754 (0.5189)  loss_box_reg: 0.0520 (0.0577)  loss_mask: 0.3251 (0.6401)  loss_objectness: 0.0163 (0.0719)  loss_rpn_box_reg: 0.0028 (0.0057)  time: 0.4349  data: 0.0099  max mem: 6614\n",
            "Epoch: [0]  [ 80/978]  eta: 0:06:56  lr: 0.000419  loss: 0.5120 (1.2117)  loss_classifier: 0.0904 (0.4695)  loss_box_reg: 0.0648 (0.0612)  loss_mask: 0.3213 (0.6080)  loss_objectness: 0.0183 (0.0674)  loss_rpn_box_reg: 0.0033 (0.0056)  time: 0.4469  data: 0.0095  max mem: 6614\n",
            "Epoch: [0]  [ 90/978]  eta: 0:06:50  lr: 0.000470  loss: 0.5936 (1.1420)  loss_classifier: 0.0911 (0.4257)  loss_box_reg: 0.0648 (0.0591)  loss_mask: 0.3566 (0.5859)  loss_objectness: 0.0357 (0.0655)  loss_rpn_box_reg: 0.0039 (0.0058)  time: 0.4506  data: 0.0090  max mem: 6670\n",
            "Epoch: [0]  [100/978]  eta: 0:06:43  lr: 0.000521  loss: 0.5301 (1.0861)  loss_classifier: 0.0732 (0.3916)  loss_box_reg: 0.0412 (0.0595)  loss_mask: 0.3610 (0.5677)  loss_objectness: 0.0284 (0.0619)  loss_rpn_box_reg: 0.0026 (0.0054)  time: 0.4426  data: 0.0092  max mem: 6670\n",
            "Epoch: [0]  [110/978]  eta: 0:06:37  lr: 0.000572  loss: 0.5118 (1.0339)  loss_classifier: 0.0673 (0.3641)  loss_box_reg: 0.0563 (0.0607)  loss_mask: 0.3033 (0.5452)  loss_objectness: 0.0211 (0.0587)  loss_rpn_box_reg: 0.0023 (0.0052)  time: 0.4383  data: 0.0097  max mem: 6670\n",
            "Epoch: [0]  [120/978]  eta: 0:06:31  lr: 0.000624  loss: 0.5118 (0.9909)  loss_classifier: 0.0751 (0.3414)  loss_box_reg: 0.0568 (0.0616)  loss_mask: 0.3033 (0.5269)  loss_objectness: 0.0211 (0.0560)  loss_rpn_box_reg: 0.0018 (0.0050)  time: 0.4419  data: 0.0096  max mem: 6670\n",
            "Epoch: [0]  [130/978]  eta: 0:06:27  lr: 0.000675  loss: 0.4977 (0.9606)  loss_classifier: 0.0852 (0.3229)  loss_box_reg: 0.0740 (0.0641)  loss_mask: 0.2673 (0.5116)  loss_objectness: 0.0139 (0.0565)  loss_rpn_box_reg: 0.0015 (0.0054)  time: 0.4522  data: 0.0093  max mem: 6670\n",
            "Epoch: [0]  [140/978]  eta: 0:06:22  lr: 0.000726  loss: 0.4977 (0.9334)  loss_classifier: 0.0825 (0.3056)  loss_box_reg: 0.0594 (0.0636)  loss_mask: 0.2673 (0.5038)  loss_objectness: 0.0219 (0.0551)  loss_rpn_box_reg: 0.0027 (0.0053)  time: 0.4578  data: 0.0091  max mem: 6670\n",
            "Epoch: [0]  [150/978]  eta: 0:06:19  lr: 0.000777  loss: 0.4879 (0.8986)  loss_classifier: 0.0819 (0.2907)  loss_box_reg: 0.0594 (0.0649)  loss_mask: 0.2654 (0.4853)  loss_objectness: 0.0219 (0.0526)  loss_rpn_box_reg: 0.0023 (0.0051)  time: 0.4703  data: 0.0090  max mem: 7225\n",
            "Epoch: [0]  [160/978]  eta: 0:06:15  lr: 0.000828  loss: 0.3954 (0.8737)  loss_classifier: 0.0825 (0.2778)  loss_box_reg: 0.0869 (0.0660)  loss_mask: 0.2464 (0.4749)  loss_objectness: 0.0088 (0.0500)  loss_rpn_box_reg: 0.0014 (0.0049)  time: 0.4706  data: 0.0091  max mem: 7225\n",
            "Epoch: [0]  [170/978]  eta: 0:06:12  lr: 0.000879  loss: 0.4404 (0.8523)  loss_classifier: 0.0827 (0.2668)  loss_box_reg: 0.0830 (0.0666)  loss_mask: 0.2608 (0.4651)  loss_objectness: 0.0205 (0.0489)  loss_rpn_box_reg: 0.0019 (0.0048)  time: 0.4770  data: 0.0095  max mem: 7225\n",
            "Epoch: [0]  [180/978]  eta: 0:06:07  lr: 0.000930  loss: 0.4399 (0.8306)  loss_classifier: 0.0890 (0.2571)  loss_box_reg: 0.0816 (0.0673)  loss_mask: 0.2548 (0.4541)  loss_objectness: 0.0234 (0.0474)  loss_rpn_box_reg: 0.0022 (0.0047)  time: 0.4813  data: 0.0099  max mem: 7225\n",
            "Epoch: [0]  [190/978]  eta: 0:06:03  lr: 0.000982  loss: 0.4135 (0.8092)  loss_classifier: 0.0734 (0.2475)  loss_box_reg: 0.0816 (0.0677)  loss_mask: 0.2172 (0.4435)  loss_objectness: 0.0134 (0.0459)  loss_rpn_box_reg: 0.0015 (0.0046)  time: 0.4638  data: 0.0096  max mem: 7225\n",
            "Epoch: [0]  [200/978]  eta: 0:05:59  lr: 0.001033  loss: 0.4310 (0.7935)  loss_classifier: 0.0708 (0.2402)  loss_box_reg: 0.0911 (0.0693)  loss_mask: 0.2497 (0.4356)  loss_objectness: 0.0044 (0.0440)  loss_rpn_box_reg: 0.0014 (0.0044)  time: 0.4670  data: 0.0091  max mem: 7225\n",
            "Epoch: [0]  [210/978]  eta: 0:05:54  lr: 0.001084  loss: 0.4619 (0.7736)  loss_classifier: 0.0742 (0.2322)  loss_box_reg: 0.0796 (0.0692)  loss_mask: 0.2378 (0.4255)  loss_objectness: 0.0069 (0.0424)  loss_rpn_box_reg: 0.0014 (0.0043)  time: 0.4613  data: 0.0091  max mem: 7225\n",
            "Epoch: [0]  [220/978]  eta: 0:05:50  lr: 0.001135  loss: 0.4545 (0.7616)  loss_classifier: 0.0798 (0.2257)  loss_box_reg: 0.0731 (0.0696)  loss_mask: 0.2378 (0.4208)  loss_objectness: 0.0105 (0.0413)  loss_rpn_box_reg: 0.0019 (0.0043)  time: 0.4629  data: 0.0090  max mem: 7225\n",
            "Epoch: [0]  [230/978]  eta: 0:05:45  lr: 0.001186  loss: 0.4228 (0.7471)  loss_classifier: 0.0668 (0.2195)  loss_box_reg: 0.0675 (0.0703)  loss_mask: 0.2244 (0.4131)  loss_objectness: 0.0093 (0.0400)  loss_rpn_box_reg: 0.0024 (0.0042)  time: 0.4703  data: 0.0099  max mem: 7225\n",
            "Epoch: [0]  [240/978]  eta: 0:05:42  lr: 0.001237  loss: 0.4168 (0.7322)  loss_classifier: 0.0657 (0.2140)  loss_box_reg: 0.0675 (0.0701)  loss_mask: 0.2073 (0.4047)  loss_objectness: 0.0098 (0.0392)  loss_rpn_box_reg: 0.0024 (0.0042)  time: 0.4851  data: 0.0134  max mem: 7225\n",
            "Epoch: [0]  [250/978]  eta: 0:05:38  lr: 0.001288  loss: 0.4249 (0.7208)  loss_classifier: 0.0996 (0.2086)  loss_box_reg: 0.0784 (0.0706)  loss_mask: 0.2044 (0.3991)  loss_objectness: 0.0133 (0.0383)  loss_rpn_box_reg: 0.0024 (0.0041)  time: 0.4972  data: 0.0125  max mem: 7225\n",
            "Epoch: [0]  [260/978]  eta: 0:05:33  lr: 0.001339  loss: 0.3916 (0.7068)  loss_classifier: 0.0721 (0.2034)  loss_box_reg: 0.0744 (0.0705)  loss_mask: 0.2044 (0.3915)  loss_objectness: 0.0064 (0.0372)  loss_rpn_box_reg: 0.0019 (0.0040)  time: 0.4817  data: 0.0100  max mem: 7225\n",
            "Epoch: [0]  [270/978]  eta: 0:05:29  lr: 0.001391  loss: 0.3488 (0.6943)  loss_classifier: 0.0695 (0.1989)  loss_box_reg: 0.0804 (0.0710)  loss_mask: 0.1369 (0.3843)  loss_objectness: 0.0049 (0.0362)  loss_rpn_box_reg: 0.0012 (0.0039)  time: 0.4784  data: 0.0096  max mem: 7225\n",
            "Epoch: [0]  [280/978]  eta: 0:05:25  lr: 0.001442  loss: 0.3089 (0.6797)  loss_classifier: 0.0596 (0.1941)  loss_box_reg: 0.0722 (0.0706)  loss_mask: 0.1270 (0.3756)  loss_objectness: 0.0075 (0.0355)  loss_rpn_box_reg: 0.0012 (0.0039)  time: 0.4762  data: 0.0114  max mem: 7225\n",
            "Epoch: [0]  [290/978]  eta: 0:05:21  lr: 0.001493  loss: 0.3257 (0.6746)  loss_classifier: 0.0705 (0.1908)  loss_box_reg: 0.0722 (0.0711)  loss_mask: 0.1913 (0.3739)  loss_objectness: 0.0076 (0.0350)  loss_rpn_box_reg: 0.0012 (0.0039)  time: 0.4789  data: 0.0120  max mem: 7225\n",
            "Epoch: [0]  [300/978]  eta: 0:05:16  lr: 0.001544  loss: 0.4832 (0.6679)  loss_classifier: 0.0864 (0.1873)  loss_box_reg: 0.0785 (0.0712)  loss_mask: 0.2436 (0.3712)  loss_objectness: 0.0128 (0.0343)  loss_rpn_box_reg: 0.0013 (0.0038)  time: 0.4841  data: 0.0099  max mem: 7225\n",
            "Epoch: [0]  [310/978]  eta: 0:05:11  lr: 0.001595  loss: 0.3945 (0.6570)  loss_classifier: 0.0712 (0.1831)  loss_box_reg: 0.0614 (0.0706)  loss_mask: 0.2376 (0.3659)  loss_objectness: 0.0128 (0.0337)  loss_rpn_box_reg: 0.0014 (0.0037)  time: 0.4709  data: 0.0097  max mem: 7225\n",
            "Epoch: [0]  [320/978]  eta: 0:05:07  lr: 0.001646  loss: 0.3395 (0.6480)  loss_classifier: 0.0585 (0.1800)  loss_box_reg: 0.0560 (0.0706)  loss_mask: 0.1744 (0.3602)  loss_objectness: 0.0072 (0.0335)  loss_rpn_box_reg: 0.0014 (0.0037)  time: 0.4701  data: 0.0094  max mem: 7225\n",
            "Epoch: [0]  [330/978]  eta: 0:05:02  lr: 0.001697  loss: 0.3395 (0.6386)  loss_classifier: 0.0626 (0.1764)  loss_box_reg: 0.0588 (0.0701)  loss_mask: 0.1493 (0.3551)  loss_objectness: 0.0058 (0.0332)  loss_rpn_box_reg: 0.0016 (0.0037)  time: 0.4742  data: 0.0092  max mem: 7225\n",
            "Epoch: [0]  [340/978]  eta: 0:04:58  lr: 0.001748  loss: 0.3746 (0.6319)  loss_classifier: 0.0626 (0.1733)  loss_box_reg: 0.0473 (0.0698)  loss_mask: 0.1532 (0.3524)  loss_objectness: 0.0111 (0.0327)  loss_rpn_box_reg: 0.0016 (0.0037)  time: 0.4752  data: 0.0091  max mem: 7225\n",
            "Epoch: [0]  [350/978]  eta: 0:04:54  lr: 0.001800  loss: 0.4262 (0.6281)  loss_classifier: 0.0621 (0.1703)  loss_box_reg: 0.0442 (0.0692)  loss_mask: 0.2917 (0.3525)  loss_objectness: 0.0115 (0.0324)  loss_rpn_box_reg: 0.0019 (0.0037)  time: 0.4915  data: 0.0096  max mem: 7226\n",
            "Epoch: [0]  [360/978]  eta: 0:04:49  lr: 0.001851  loss: 0.4069 (0.6211)  loss_classifier: 0.0721 (0.1677)  loss_box_reg: 0.0451 (0.0687)  loss_mask: 0.2744 (0.3493)  loss_objectness: 0.0110 (0.0318)  loss_rpn_box_reg: 0.0019 (0.0036)  time: 0.4903  data: 0.0096  max mem: 7226\n",
            "Epoch: [0]  [370/978]  eta: 0:04:45  lr: 0.001902  loss: 0.3383 (0.6136)  loss_classifier: 0.0737 (0.1651)  loss_box_reg: 0.0572 (0.0686)  loss_mask: 0.1796 (0.3452)  loss_objectness: 0.0078 (0.0312)  loss_rpn_box_reg: 0.0016 (0.0036)  time: 0.4692  data: 0.0096  max mem: 7226\n",
            "Epoch: [0]  [380/978]  eta: 0:04:40  lr: 0.001953  loss: 0.3178 (0.6090)  loss_classifier: 0.0719 (0.1627)  loss_box_reg: 0.0597 (0.0684)  loss_mask: 0.1714 (0.3438)  loss_objectness: 0.0074 (0.0306)  loss_rpn_box_reg: 0.0013 (0.0035)  time: 0.4649  data: 0.0098  max mem: 7226\n",
            "Epoch: [0]  [390/978]  eta: 0:04:35  lr: 0.002004  loss: 0.3500 (0.6042)  loss_classifier: 0.0540 (0.1601)  loss_box_reg: 0.0450 (0.0679)  loss_mask: 0.1861 (0.3426)  loss_objectness: 0.0074 (0.0302)  loss_rpn_box_reg: 0.0014 (0.0035)  time: 0.4756  data: 0.0097  max mem: 7226\n",
            "Epoch: [0]  [400/978]  eta: 0:04:31  lr: 0.002055  loss: 0.3473 (0.5998)  loss_classifier: 0.0580 (0.1576)  loss_box_reg: 0.0476 (0.0676)  loss_mask: 0.1875 (0.3409)  loss_objectness: 0.0080 (0.0302)  loss_rpn_box_reg: 0.0019 (0.0035)  time: 0.4827  data: 0.0097  max mem: 7226\n",
            "Epoch: [0]  [410/978]  eta: 0:04:26  lr: 0.002106  loss: 0.3473 (0.5938)  loss_classifier: 0.0585 (0.1558)  loss_box_reg: 0.0592 (0.0673)  loss_mask: 0.2202 (0.3373)  loss_objectness: 0.0098 (0.0298)  loss_rpn_box_reg: 0.0026 (0.0035)  time: 0.4795  data: 0.0096  max mem: 7226\n",
            "Epoch: [0]  [420/978]  eta: 0:04:21  lr: 0.002157  loss: 0.3701 (0.5899)  loss_classifier: 0.0501 (0.1536)  loss_box_reg: 0.0434 (0.0669)  loss_mask: 0.2580 (0.3366)  loss_objectness: 0.0088 (0.0294)  loss_rpn_box_reg: 0.0018 (0.0035)  time: 0.4653  data: 0.0098  max mem: 7226\n",
            "Epoch: [0]  [430/978]  eta: 0:04:17  lr: 0.002209  loss: 0.3921 (0.5843)  loss_classifier: 0.0515 (0.1516)  loss_box_reg: 0.0434 (0.0667)  loss_mask: 0.2087 (0.3335)  loss_objectness: 0.0078 (0.0290)  loss_rpn_box_reg: 0.0016 (0.0035)  time: 0.4765  data: 0.0104  max mem: 7870\n",
            "Epoch: [0]  [440/978]  eta: 0:04:12  lr: 0.002260  loss: 0.3455 (0.5784)  loss_classifier: 0.0593 (0.1497)  loss_box_reg: 0.0431 (0.0663)  loss_mask: 0.1864 (0.3303)  loss_objectness: 0.0110 (0.0287)  loss_rpn_box_reg: 0.0016 (0.0034)  time: 0.4759  data: 0.0105  max mem: 7870\n",
            "Epoch: [0]  [450/978]  eta: 0:04:08  lr: 0.002311  loss: 0.3351 (0.5755)  loss_classifier: 0.0654 (0.1478)  loss_box_reg: 0.0407 (0.0659)  loss_mask: 0.1785 (0.3298)  loss_objectness: 0.0093 (0.0285)  loss_rpn_box_reg: 0.0013 (0.0035)  time: 0.4710  data: 0.0103  max mem: 7870\n",
            "Epoch: [0]  [460/978]  eta: 0:04:03  lr: 0.002362  loss: 0.3740 (0.5700)  loss_classifier: 0.0692 (0.1462)  loss_box_reg: 0.0540 (0.0655)  loss_mask: 0.1912 (0.3267)  loss_objectness: 0.0122 (0.0282)  loss_rpn_box_reg: 0.0021 (0.0034)  time: 0.4733  data: 0.0098  max mem: 7870\n",
            "Epoch: [0]  [470/978]  eta: 0:03:58  lr: 0.002413  loss: 0.3967 (0.5655)  loss_classifier: 0.0716 (0.1446)  loss_box_reg: 0.0358 (0.0651)  loss_mask: 0.2041 (0.3245)  loss_objectness: 0.0122 (0.0279)  loss_rpn_box_reg: 0.0017 (0.0034)  time: 0.4624  data: 0.0093  max mem: 7870\n",
            "Epoch: [0]  [480/978]  eta: 0:03:53  lr: 0.002464  loss: 0.3983 (0.5610)  loss_classifier: 0.0689 (0.1429)  loss_box_reg: 0.0485 (0.0648)  loss_mask: 0.2254 (0.3223)  loss_objectness: 0.0048 (0.0275)  loss_rpn_box_reg: 0.0017 (0.0034)  time: 0.4656  data: 0.0093  max mem: 7870\n",
            "Epoch: [0]  [490/978]  eta: 0:03:49  lr: 0.002515  loss: 0.3942 (0.5579)  loss_classifier: 0.0735 (0.1418)  loss_box_reg: 0.0532 (0.0646)  loss_mask: 0.2456 (0.3210)  loss_objectness: 0.0040 (0.0271)  loss_rpn_box_reg: 0.0011 (0.0034)  time: 0.4595  data: 0.0093  max mem: 7870\n",
            "Epoch: [0]  [500/978]  eta: 0:03:44  lr: 0.002566  loss: 0.3430 (0.5537)  loss_classifier: 0.0795 (0.1405)  loss_box_reg: 0.0496 (0.0644)  loss_mask: 0.2184 (0.3187)  loss_objectness: 0.0051 (0.0268)  loss_rpn_box_reg: 0.0011 (0.0033)  time: 0.4636  data: 0.0093  max mem: 7870\n",
            "Epoch: [0]  [510/978]  eta: 0:03:39  lr: 0.002618  loss: 0.3182 (0.5499)  loss_classifier: 0.0599 (0.1390)  loss_box_reg: 0.0484 (0.0642)  loss_mask: 0.1873 (0.3169)  loss_objectness: 0.0080 (0.0265)  loss_rpn_box_reg: 0.0014 (0.0033)  time: 0.4683  data: 0.0097  max mem: 7870\n",
            "Epoch: [0]  [520/978]  eta: 0:03:34  lr: 0.002669  loss: 0.2490 (0.5442)  loss_classifier: 0.0599 (0.1377)  loss_box_reg: 0.0467 (0.0638)  loss_mask: 0.1247 (0.3134)  loss_objectness: 0.0070 (0.0261)  loss_rpn_box_reg: 0.0015 (0.0033)  time: 0.4638  data: 0.0099  max mem: 7870\n",
            "Epoch: [0]  [530/978]  eta: 0:03:30  lr: 0.002720  loss: 0.2407 (0.5405)  loss_classifier: 0.0698 (0.1365)  loss_box_reg: 0.0447 (0.0634)  loss_mask: 0.1044 (0.3115)  loss_objectness: 0.0054 (0.0259)  loss_rpn_box_reg: 0.0017 (0.0032)  time: 0.4569  data: 0.0095  max mem: 7870\n",
            "Epoch: [0]  [540/978]  eta: 0:03:25  lr: 0.002771  loss: 0.4582 (0.5382)  loss_classifier: 0.0853 (0.1358)  loss_box_reg: 0.0471 (0.0632)  loss_mask: 0.2261 (0.3104)  loss_objectness: 0.0085 (0.0257)  loss_rpn_box_reg: 0.0014 (0.0032)  time: 0.4530  data: 0.0093  max mem: 7870\n",
            "Epoch: [0]  [550/978]  eta: 0:03:20  lr: 0.002822  loss: 0.3801 (0.5332)  loss_classifier: 0.0694 (0.1344)  loss_box_reg: 0.0340 (0.0627)  loss_mask: 0.1704 (0.3076)  loss_objectness: 0.0103 (0.0254)  loss_rpn_box_reg: 0.0012 (0.0032)  time: 0.4576  data: 0.0098  max mem: 7870\n",
            "Epoch: [0]  [560/978]  eta: 0:03:15  lr: 0.002873  loss: 0.3226 (0.5302)  loss_classifier: 0.0694 (0.1336)  loss_box_reg: 0.0525 (0.0627)  loss_mask: 0.1621 (0.3056)  loss_objectness: 0.0065 (0.0251)  loss_rpn_box_reg: 0.0011 (0.0032)  time: 0.4661  data: 0.0104  max mem: 7870\n",
            "Epoch: [0]  [570/978]  eta: 0:03:11  lr: 0.002924  loss: 0.3305 (0.5280)  loss_classifier: 0.0855 (0.1326)  loss_box_reg: 0.0574 (0.0626)  loss_mask: 0.1779 (0.3049)  loss_objectness: 0.0049 (0.0248)  loss_rpn_box_reg: 0.0011 (0.0031)  time: 0.4741  data: 0.0102  max mem: 7870\n",
            "Epoch: [0]  [580/978]  eta: 0:03:06  lr: 0.002975  loss: 0.3463 (0.5263)  loss_classifier: 0.0934 (0.1321)  loss_box_reg: 0.0575 (0.0625)  loss_mask: 0.2303 (0.3040)  loss_objectness: 0.0047 (0.0245)  loss_rpn_box_reg: 0.0010 (0.0031)  time: 0.4747  data: 0.0105  max mem: 7870\n",
            "Epoch: [0]  [590/978]  eta: 0:03:01  lr: 0.003027  loss: 0.4016 (0.5239)  loss_classifier: 0.0818 (0.1313)  loss_box_reg: 0.0475 (0.0623)  loss_mask: 0.2456 (0.3028)  loss_objectness: 0.0059 (0.0244)  loss_rpn_box_reg: 0.0014 (0.0031)  time: 0.4638  data: 0.0105  max mem: 7870\n",
            "Epoch: [0]  [600/978]  eta: 0:02:57  lr: 0.003078  loss: 0.3957 (0.5219)  loss_classifier: 0.0814 (0.1305)  loss_box_reg: 0.0475 (0.0622)  loss_mask: 0.2332 (0.3019)  loss_objectness: 0.0100 (0.0243)  loss_rpn_box_reg: 0.0018 (0.0031)  time: 0.4647  data: 0.0098  max mem: 7870\n",
            "Epoch: [0]  [610/978]  eta: 0:02:52  lr: 0.003129  loss: 0.3353 (0.5182)  loss_classifier: 0.0768 (0.1296)  loss_box_reg: 0.0538 (0.0621)  loss_mask: 0.1658 (0.2994)  loss_objectness: 0.0093 (0.0240)  loss_rpn_box_reg: 0.0014 (0.0031)  time: 0.4736  data: 0.0095  max mem: 7870\n",
            "Epoch: [0]  [620/978]  eta: 0:02:47  lr: 0.003180  loss: 0.3360 (0.5160)  loss_classifier: 0.0695 (0.1288)  loss_box_reg: 0.0538 (0.0621)  loss_mask: 0.1792 (0.2983)  loss_objectness: 0.0072 (0.0238)  loss_rpn_box_reg: 0.0014 (0.0030)  time: 0.4636  data: 0.0096  max mem: 7870\n",
            "Epoch: [0]  [630/978]  eta: 0:02:42  lr: 0.003231  loss: 0.3643 (0.5133)  loss_classifier: 0.0765 (0.1282)  loss_box_reg: 0.0509 (0.0619)  loss_mask: 0.1854 (0.2964)  loss_objectness: 0.0091 (0.0237)  loss_rpn_box_reg: 0.0018 (0.0031)  time: 0.4628  data: 0.0095  max mem: 7870\n",
            "Epoch: [0]  [640/978]  eta: 0:02:38  lr: 0.003282  loss: 0.2791 (0.5095)  loss_classifier: 0.0794 (0.1272)  loss_box_reg: 0.0403 (0.0616)  loss_mask: 0.1510 (0.2941)  loss_objectness: 0.0109 (0.0236)  loss_rpn_box_reg: 0.0017 (0.0030)  time: 0.4700  data: 0.0103  max mem: 7870\n",
            "Epoch: [0]  [650/978]  eta: 0:02:33  lr: 0.003333  loss: 0.2817 (0.5062)  loss_classifier: 0.0673 (0.1264)  loss_box_reg: 0.0383 (0.0612)  loss_mask: 0.1575 (0.2922)  loss_objectness: 0.0079 (0.0234)  loss_rpn_box_reg: 0.0013 (0.0030)  time: 0.4678  data: 0.0101  max mem: 7870\n",
            "Epoch: [0]  [660/978]  eta: 0:02:28  lr: 0.003384  loss: 0.2897 (0.5045)  loss_classifier: 0.0643 (0.1255)  loss_box_reg: 0.0457 (0.0610)  loss_mask: 0.1763 (0.2916)  loss_objectness: 0.0064 (0.0233)  loss_rpn_box_reg: 0.0014 (0.0030)  time: 0.4676  data: 0.0097  max mem: 7870\n",
            "Epoch: [0]  [670/978]  eta: 0:02:24  lr: 0.003436  loss: 0.2763 (0.5018)  loss_classifier: 0.0643 (0.1245)  loss_box_reg: 0.0392 (0.0607)  loss_mask: 0.1809 (0.2905)  loss_objectness: 0.0045 (0.0231)  loss_rpn_box_reg: 0.0014 (0.0030)  time: 0.4684  data: 0.0100  max mem: 7870\n",
            "Epoch: [0]  [680/978]  eta: 0:02:19  lr: 0.003487  loss: 0.3079 (0.4996)  loss_classifier: 0.0678 (0.1239)  loss_box_reg: 0.0482 (0.0607)  loss_mask: 0.1878 (0.2891)  loss_objectness: 0.0050 (0.0229)  loss_rpn_box_reg: 0.0014 (0.0030)  time: 0.4801  data: 0.0095  max mem: 7870\n",
            "Epoch: [0]  [690/978]  eta: 0:02:14  lr: 0.003538  loss: 0.2271 (0.4947)  loss_classifier: 0.0498 (0.1226)  loss_box_reg: 0.0413 (0.0603)  loss_mask: 0.1296 (0.2862)  loss_objectness: 0.0059 (0.0227)  loss_rpn_box_reg: 0.0008 (0.0029)  time: 0.4752  data: 0.0090  max mem: 7870\n",
            "Epoch: [0]  [700/978]  eta: 0:02:10  lr: 0.003589  loss: 0.1991 (0.4923)  loss_classifier: 0.0392 (0.1220)  loss_box_reg: 0.0332 (0.0600)  loss_mask: 0.0929 (0.2848)  loss_objectness: 0.0065 (0.0225)  loss_rpn_box_reg: 0.0009 (0.0029)  time: 0.4625  data: 0.0092  max mem: 7870\n",
            "Epoch: [0]  [710/978]  eta: 0:02:05  lr: 0.003640  loss: 0.2591 (0.4902)  loss_classifier: 0.0800 (0.1216)  loss_box_reg: 0.0461 (0.0599)  loss_mask: 0.1508 (0.2836)  loss_objectness: 0.0043 (0.0223)  loss_rpn_box_reg: 0.0011 (0.0029)  time: 0.4727  data: 0.0109  max mem: 7870\n",
            "Epoch: [0]  [720/978]  eta: 0:02:00  lr: 0.003691  loss: 0.3234 (0.4878)  loss_classifier: 0.0800 (0.1209)  loss_box_reg: 0.0461 (0.0596)  loss_mask: 0.1614 (0.2823)  loss_objectness: 0.0039 (0.0221)  loss_rpn_box_reg: 0.0013 (0.0029)  time: 0.4716  data: 0.0105  max mem: 7870\n",
            "Epoch: [0]  [730/978]  eta: 0:01:56  lr: 0.003742  loss: 0.3733 (0.4870)  loss_classifier: 0.0980 (0.1208)  loss_box_reg: 0.0578 (0.0596)  loss_mask: 0.2050 (0.2817)  loss_objectness: 0.0084 (0.0219)  loss_rpn_box_reg: 0.0012 (0.0029)  time: 0.4763  data: 0.0089  max mem: 7870\n",
            "Epoch: [0]  [740/978]  eta: 0:01:51  lr: 0.003793  loss: 0.3745 (0.4857)  loss_classifier: 0.0980 (0.1204)  loss_box_reg: 0.0624 (0.0595)  loss_mask: 0.1897 (0.2812)  loss_objectness: 0.0096 (0.0218)  loss_rpn_box_reg: 0.0012 (0.0029)  time: 0.4867  data: 0.0092  max mem: 7870\n",
            "Epoch: [0]  [750/978]  eta: 0:01:47  lr: 0.003845  loss: 0.3311 (0.4839)  loss_classifier: 0.0835 (0.1198)  loss_box_reg: 0.0544 (0.0594)  loss_mask: 0.1742 (0.2801)  loss_objectness: 0.0066 (0.0216)  loss_rpn_box_reg: 0.0012 (0.0029)  time: 0.4901  data: 0.0096  max mem: 7870\n",
            "Epoch: [0]  [760/978]  eta: 0:01:42  lr: 0.003896  loss: 0.3214 (0.4821)  loss_classifier: 0.0897 (0.1194)  loss_box_reg: 0.0501 (0.0593)  loss_mask: 0.1529 (0.2790)  loss_objectness: 0.0098 (0.0215)  loss_rpn_box_reg: 0.0010 (0.0029)  time: 0.5052  data: 0.0096  max mem: 7870\n",
            "Epoch: [0]  [770/978]  eta: 0:01:37  lr: 0.003947  loss: 0.3284 (0.4811)  loss_classifier: 0.0857 (0.1192)  loss_box_reg: 0.0547 (0.0592)  loss_mask: 0.1594 (0.2785)  loss_objectness: 0.0090 (0.0214)  loss_rpn_box_reg: 0.0011 (0.0029)  time: 0.5020  data: 0.0096  max mem: 7870\n",
            "Epoch: [0]  [780/978]  eta: 0:01:33  lr: 0.003998  loss: 0.4332 (0.4802)  loss_classifier: 0.0938 (0.1189)  loss_box_reg: 0.0627 (0.0592)  loss_mask: 0.2026 (0.2780)  loss_objectness: 0.0090 (0.0213)  loss_rpn_box_reg: 0.0020 (0.0029)  time: 0.4773  data: 0.0097  max mem: 7870\n",
            "Epoch: [0]  [790/978]  eta: 0:01:28  lr: 0.004049  loss: 0.4023 (0.4790)  loss_classifier: 0.0885 (0.1185)  loss_box_reg: 0.0591 (0.0592)  loss_mask: 0.2320 (0.2774)  loss_objectness: 0.0058 (0.0211)  loss_rpn_box_reg: 0.0014 (0.0028)  time: 0.4821  data: 0.0095  max mem: 7870\n",
            "Epoch: [0]  [800/978]  eta: 0:01:23  lr: 0.004100  loss: 0.3465 (0.4768)  loss_classifier: 0.0697 (0.1180)  loss_box_reg: 0.0454 (0.0590)  loss_mask: 0.1785 (0.2762)  loss_objectness: 0.0040 (0.0209)  loss_rpn_box_reg: 0.0011 (0.0028)  time: 0.4965  data: 0.0093  max mem: 7870\n",
            "Epoch: [0]  [810/978]  eta: 0:01:19  lr: 0.004151  loss: 0.2720 (0.4741)  loss_classifier: 0.0625 (0.1172)  loss_box_reg: 0.0444 (0.0588)  loss_mask: 0.1329 (0.2745)  loss_objectness: 0.0041 (0.0208)  loss_rpn_box_reg: 0.0010 (0.0028)  time: 0.4789  data: 0.0092  max mem: 7870\n",
            "Epoch: [0]  [820/978]  eta: 0:01:14  lr: 0.004202  loss: 0.2947 (0.4726)  loss_classifier: 0.0625 (0.1168)  loss_box_reg: 0.0421 (0.0587)  loss_mask: 0.1432 (0.2737)  loss_objectness: 0.0059 (0.0206)  loss_rpn_box_reg: 0.0012 (0.0028)  time: 0.4734  data: 0.0095  max mem: 7870\n",
            "Epoch: [0]  [830/978]  eta: 0:01:09  lr: 0.004254  loss: 0.2565 (0.4696)  loss_classifier: 0.0857 (0.1162)  loss_box_reg: 0.0338 (0.0585)  loss_mask: 0.1102 (0.2716)  loss_objectness: 0.0041 (0.0204)  loss_rpn_box_reg: 0.0017 (0.0028)  time: 0.4828  data: 0.0099  max mem: 7870\n",
            "Epoch: [0]  [840/978]  eta: 0:01:05  lr: 0.004305  loss: 0.2565 (0.4679)  loss_classifier: 0.0675 (0.1156)  loss_box_reg: 0.0306 (0.0583)  loss_mask: 0.1155 (0.2709)  loss_objectness: 0.0029 (0.0203)  loss_rpn_box_reg: 0.0012 (0.0028)  time: 0.4798  data: 0.0100  max mem: 7870\n",
            "Epoch: [0]  [850/978]  eta: 0:01:00  lr: 0.004356  loss: 0.2774 (0.4657)  loss_classifier: 0.0664 (0.1150)  loss_box_reg: 0.0339 (0.0580)  loss_mask: 0.1404 (0.2696)  loss_objectness: 0.0058 (0.0203)  loss_rpn_box_reg: 0.0018 (0.0028)  time: 0.4761  data: 0.0096  max mem: 7870\n",
            "Epoch: [0]  [860/978]  eta: 0:00:55  lr: 0.004407  loss: 0.3053 (0.4656)  loss_classifier: 0.0639 (0.1147)  loss_box_reg: 0.0379 (0.0579)  loss_mask: 0.1603 (0.2700)  loss_objectness: 0.0118 (0.0203)  loss_rpn_box_reg: 0.0017 (0.0028)  time: 0.4854  data: 0.0093  max mem: 7870\n",
            "Epoch: [0]  [870/978]  eta: 0:00:50  lr: 0.004458  loss: 0.3632 (0.4646)  loss_classifier: 0.0791 (0.1141)  loss_box_reg: 0.0458 (0.0577)  loss_mask: 0.2078 (0.2698)  loss_objectness: 0.0122 (0.0203)  loss_rpn_box_reg: 0.0014 (0.0028)  time: 0.4756  data: 0.0090  max mem: 7870\n",
            "Epoch: [0]  [880/978]  eta: 0:00:46  lr: 0.004509  loss: 0.2754 (0.4631)  loss_classifier: 0.0543 (0.1135)  loss_box_reg: 0.0423 (0.0576)  loss_mask: 0.1649 (0.2690)  loss_objectness: 0.0142 (0.0202)  loss_rpn_box_reg: 0.0012 (0.0027)  time: 0.4649  data: 0.0089  max mem: 7870\n",
            "Epoch: [0]  [890/978]  eta: 0:00:41  lr: 0.004560  loss: 0.2985 (0.4624)  loss_classifier: 0.0545 (0.1134)  loss_box_reg: 0.0490 (0.0577)  loss_mask: 0.1692 (0.2685)  loss_objectness: 0.0073 (0.0201)  loss_rpn_box_reg: 0.0012 (0.0027)  time: 0.4715  data: 0.0091  max mem: 7870\n",
            "Epoch: [0]  [900/978]  eta: 0:00:36  lr: 0.004611  loss: 0.2475 (0.4596)  loss_classifier: 0.0652 (0.1127)  loss_box_reg: 0.0349 (0.0573)  loss_mask: 0.1473 (0.2669)  loss_objectness: 0.0047 (0.0199)  loss_rpn_box_reg: 0.0012 (0.0027)  time: 0.4587  data: 0.0089  max mem: 7870\n",
            "Epoch: [0]  [910/978]  eta: 0:00:32  lr: 0.004663  loss: 0.2528 (0.4591)  loss_classifier: 0.0652 (0.1125)  loss_box_reg: 0.0306 (0.0573)  loss_mask: 0.1667 (0.2668)  loss_objectness: 0.0047 (0.0198)  loss_rpn_box_reg: 0.0011 (0.0027)  time: 0.4674  data: 0.0091  max mem: 7870\n",
            "Epoch: [0]  [920/978]  eta: 0:00:27  lr: 0.004714  loss: 0.3809 (0.4583)  loss_classifier: 0.0859 (0.1121)  loss_box_reg: 0.0412 (0.0571)  loss_mask: 0.2132 (0.2666)  loss_objectness: 0.0069 (0.0197)  loss_rpn_box_reg: 0.0011 (0.0027)  time: 0.4747  data: 0.0094  max mem: 7870\n",
            "Epoch: [0]  [930/978]  eta: 0:00:22  lr: 0.004765  loss: 0.3809 (0.4580)  loss_classifier: 0.0859 (0.1119)  loss_box_reg: 0.0412 (0.0570)  loss_mask: 0.1820 (0.2664)  loss_objectness: 0.0129 (0.0199)  loss_rpn_box_reg: 0.0014 (0.0027)  time: 0.4663  data: 0.0096  max mem: 7870\n",
            "Epoch: [0]  [940/978]  eta: 0:00:17  lr: 0.004816  loss: 0.4428 (0.4583)  loss_classifier: 0.1053 (0.1118)  loss_box_reg: 0.0614 (0.0571)  loss_mask: 0.2482 (0.2670)  loss_objectness: 0.0100 (0.0198)  loss_rpn_box_reg: 0.0014 (0.0027)  time: 0.4709  data: 0.0094  max mem: 7870\n",
            "Epoch: [0]  [950/978]  eta: 0:00:13  lr: 0.004867  loss: 0.4229 (0.4573)  loss_classifier: 0.0984 (0.1116)  loss_box_reg: 0.0502 (0.0569)  loss_mask: 0.2482 (0.2663)  loss_objectness: 0.0103 (0.0198)  loss_rpn_box_reg: 0.0013 (0.0027)  time: 0.4739  data: 0.0092  max mem: 7870\n",
            "Epoch: [0]  [960/978]  eta: 0:00:08  lr: 0.004918  loss: 0.3100 (0.4560)  loss_classifier: 0.0727 (0.1112)  loss_box_reg: 0.0486 (0.0570)  loss_mask: 0.1680 (0.2655)  loss_objectness: 0.0072 (0.0196)  loss_rpn_box_reg: 0.0009 (0.0027)  time: 0.4666  data: 0.0096  max mem: 7870\n",
            "Epoch: [0]  [970/978]  eta: 0:00:03  lr: 0.004969  loss: 0.3884 (0.4552)  loss_classifier: 0.0805 (0.1111)  loss_box_reg: 0.0506 (0.0569)  loss_mask: 0.1856 (0.2650)  loss_objectness: 0.0058 (0.0196)  loss_rpn_box_reg: 0.0015 (0.0027)  time: 0.4748  data: 0.0092  max mem: 7870\n",
            "Epoch: [0]  [977/978]  eta: 0:00:00  lr: 0.005000  loss: 0.4200 (0.4545)  loss_classifier: 0.0866 (0.1108)  loss_box_reg: 0.0504 (0.0568)  loss_mask: 0.2023 (0.2647)  loss_objectness: 0.0088 (0.0195)  loss_rpn_box_reg: 0.0015 (0.0027)  time: 0.4750  data: 0.0087  max mem: 7870\n",
            "Epoch: [0] Total time: 0:07:41 (0.4715 s / it)\n",
            "creating index...\n",
            "index created!\n",
            "Test:  [  0/400]  eta: 0:02:38  model_time: 0.1576 (0.1576)  evaluator_time: 0.0092 (0.0092)  time: 0.3954  data: 0.2266  max mem: 7870\n",
            "Test:  [100/400]  eta: 0:00:35  model_time: 0.0927 (0.0975)  evaluator_time: 0.0101 (0.0139)  time: 0.1188  data: 0.0047  max mem: 7870\n",
            "Test:  [200/400]  eta: 0:00:23  model_time: 0.0942 (0.0960)  evaluator_time: 0.0131 (0.0140)  time: 0.1150  data: 0.0057  max mem: 7870\n",
            "Test:  [300/400]  eta: 0:00:11  model_time: 0.0921 (0.0967)  evaluator_time: 0.0098 (0.0146)  time: 0.1271  data: 0.0047  max mem: 7870\n",
            "Test:  [399/400]  eta: 0:00:00  model_time: 0.0944 (0.0965)  evaluator_time: 0.0138 (0.0145)  time: 0.1147  data: 0.0045  max mem: 7870\n",
            "Test: Total time: 0:00:47 (0.1181 s / it)\n",
            "Averaged stats: model_time: 0.0944 (0.0965)  evaluator_time: 0.0138 (0.0145)\n",
            "Accumulating evaluation results...\n",
            "DONE (t=0.16s).\n",
            "Accumulating evaluation results...\n",
            "DONE (t=0.16s).\n",
            "IoU metric: bbox\n",
            " Average Precision  (AP) @[ IoU=0.50:0.95 | area=   all | maxDets=100 ] = 0.184\n",
            " Average Precision  (AP) @[ IoU=0.50      | area=   all | maxDets=100 ] = 0.258\n",
            " Average Precision  (AP) @[ IoU=0.75      | area=   all | maxDets=100 ] = 0.222\n",
            " Average Precision  (AP) @[ IoU=0.50:0.95 | area= small | maxDets=100 ] = 0.085\n",
            " Average Precision  (AP) @[ IoU=0.50:0.95 | area=medium | maxDets=100 ] = 0.200\n",
            " Average Precision  (AP) @[ IoU=0.50:0.95 | area= large | maxDets=100 ] = 0.235\n",
            " Average Recall     (AR) @[ IoU=0.50:0.95 | area=   all | maxDets=  1 ] = 0.289\n",
            " Average Recall     (AR) @[ IoU=0.50:0.95 | area=   all | maxDets= 10 ] = 0.425\n",
            " Average Recall     (AR) @[ IoU=0.50:0.95 | area=   all | maxDets=100 ] = 0.425\n",
            " Average Recall     (AR) @[ IoU=0.50:0.95 | area= small | maxDets=100 ] = 0.303\n",
            " Average Recall     (AR) @[ IoU=0.50:0.95 | area=medium | maxDets=100 ] = 0.487\n",
            " Average Recall     (AR) @[ IoU=0.50:0.95 | area= large | maxDets=100 ] = 0.248\n",
            "IoU metric: segm\n",
            " Average Precision  (AP) @[ IoU=0.50:0.95 | area=   all | maxDets=100 ] = 0.208\n",
            " Average Precision  (AP) @[ IoU=0.50      | area=   all | maxDets=100 ] = 0.254\n",
            " Average Precision  (AP) @[ IoU=0.75      | area=   all | maxDets=100 ] = 0.234\n",
            " Average Precision  (AP) @[ IoU=0.50:0.95 | area= small | maxDets=100 ] = 0.087\n",
            " Average Precision  (AP) @[ IoU=0.50:0.95 | area=medium | maxDets=100 ] = 0.227\n",
            " Average Precision  (AP) @[ IoU=0.50:0.95 | area= large | maxDets=100 ] = 0.264\n",
            " Average Recall     (AR) @[ IoU=0.50:0.95 | area=   all | maxDets=  1 ] = 0.317\n",
            " Average Recall     (AR) @[ IoU=0.50:0.95 | area=   all | maxDets= 10 ] = 0.454\n",
            " Average Recall     (AR) @[ IoU=0.50:0.95 | area=   all | maxDets=100 ] = 0.454\n",
            " Average Recall     (AR) @[ IoU=0.50:0.95 | area= small | maxDets=100 ] = 0.336\n",
            " Average Recall     (AR) @[ IoU=0.50:0.95 | area=medium | maxDets=100 ] = 0.498\n",
            " Average Recall     (AR) @[ IoU=0.50:0.95 | area= large | maxDets=100 ] = 0.268\n",
            "Epoch: [1]  [  0/978]  eta: 0:13:46  lr: 0.005000  loss: 0.4516 (0.4516)  loss_classifier: 0.0890 (0.0890)  loss_box_reg: 0.0987 (0.0987)  loss_mask: 0.2552 (0.2552)  loss_objectness: 0.0075 (0.0075)  loss_rpn_box_reg: 0.0012 (0.0012)  time: 0.8456  data: 0.3592  max mem: 7870\n",
            "Epoch: [1]  [ 10/978]  eta: 0:08:31  lr: 0.005000  loss: 0.4005 (0.3725)  loss_classifier: 0.0698 (0.0675)  loss_box_reg: 0.0447 (0.0463)  loss_mask: 0.2552 (0.2488)  loss_objectness: 0.0068 (0.0081)  loss_rpn_box_reg: 0.0012 (0.0018)  time: 0.5281  data: 0.0415  max mem: 7870\n",
            "Epoch: [1]  [ 20/978]  eta: 0:08:07  lr: 0.005000  loss: 0.3525 (0.3451)  loss_classifier: 0.0698 (0.0724)  loss_box_reg: 0.0385 (0.0481)  loss_mask: 0.2092 (0.2158)  loss_objectness: 0.0047 (0.0072)  loss_rpn_box_reg: 0.0012 (0.0016)  time: 0.4925  data: 0.0103  max mem: 7870\n",
            "Epoch: [1]  [ 30/978]  eta: 0:08:01  lr: 0.005000  loss: 0.3397 (0.3472)  loss_classifier: 0.0846 (0.0794)  loss_box_reg: 0.0511 (0.0505)  loss_mask: 0.1751 (0.2077)  loss_objectness: 0.0061 (0.0080)  loss_rpn_box_reg: 0.0010 (0.0016)  time: 0.4963  data: 0.0104  max mem: 7870\n",
            "Epoch: [1]  [ 40/978]  eta: 0:07:47  lr: 0.005000  loss: 0.3138 (0.3404)  loss_classifier: 0.0814 (0.0782)  loss_box_reg: 0.0511 (0.0502)  loss_mask: 0.1671 (0.2018)  loss_objectness: 0.0073 (0.0086)  loss_rpn_box_reg: 0.0010 (0.0016)  time: 0.4866  data: 0.0100  max mem: 7870\n",
            "Epoch: [1]  [ 50/978]  eta: 0:07:35  lr: 0.005000  loss: 0.2178 (0.3192)  loss_classifier: 0.0410 (0.0742)  loss_box_reg: 0.0375 (0.0463)  loss_mask: 0.1208 (0.1883)  loss_objectness: 0.0073 (0.0087)  loss_rpn_box_reg: 0.0012 (0.0016)  time: 0.4660  data: 0.0099  max mem: 7870\n",
            "Epoch: [1]  [ 60/978]  eta: 0:07:28  lr: 0.005000  loss: 0.2037 (0.3070)  loss_classifier: 0.0385 (0.0723)  loss_box_reg: 0.0297 (0.0448)  loss_mask: 0.1073 (0.1802)  loss_objectness: 0.0027 (0.0082)  loss_rpn_box_reg: 0.0008 (0.0015)  time: 0.4693  data: 0.0096  max mem: 7870\n",
            "Epoch: [1]  [ 70/978]  eta: 0:07:20  lr: 0.005000  loss: 0.2058 (0.3008)  loss_classifier: 0.0432 (0.0714)  loss_box_reg: 0.0326 (0.0438)  loss_mask: 0.1290 (0.1752)  loss_objectness: 0.0032 (0.0088)  loss_rpn_box_reg: 0.0007 (0.0015)  time: 0.4703  data: 0.0095  max mem: 7870\n",
            "Epoch: [1]  [ 80/978]  eta: 0:07:15  lr: 0.005000  loss: 0.2504 (0.3041)  loss_classifier: 0.0765 (0.0734)  loss_box_reg: 0.0405 (0.0447)  loss_mask: 0.1429 (0.1762)  loss_objectness: 0.0044 (0.0083)  loss_rpn_box_reg: 0.0011 (0.0015)  time: 0.4738  data: 0.0092  max mem: 7870\n",
            "Epoch: [1]  [ 90/978]  eta: 0:07:10  lr: 0.005000  loss: 0.3241 (0.3087)  loss_classifier: 0.0985 (0.0780)  loss_box_reg: 0.0473 (0.0460)  loss_mask: 0.1653 (0.1751)  loss_objectness: 0.0045 (0.0080)  loss_rpn_box_reg: 0.0010 (0.0016)  time: 0.4850  data: 0.0088  max mem: 7870\n",
            "Epoch: [1]  [100/978]  eta: 0:07:04  lr: 0.005000  loss: 0.3057 (0.3036)  loss_classifier: 0.0985 (0.0789)  loss_box_reg: 0.0472 (0.0454)  loss_mask: 0.1336 (0.1700)  loss_objectness: 0.0055 (0.0078)  loss_rpn_box_reg: 0.0010 (0.0016)  time: 0.4749  data: 0.0093  max mem: 7870\n",
            "Epoch: [1]  [110/978]  eta: 0:06:58  lr: 0.005000  loss: 0.2808 (0.3109)  loss_classifier: 0.0965 (0.0808)  loss_box_reg: 0.0446 (0.0458)  loss_mask: 0.1305 (0.1749)  loss_objectness: 0.0055 (0.0078)  loss_rpn_box_reg: 0.0012 (0.0016)  time: 0.4658  data: 0.0096  max mem: 7870\n",
            "Epoch: [1]  [120/978]  eta: 0:06:54  lr: 0.005000  loss: 0.3620 (0.3145)  loss_classifier: 0.1094 (0.0828)  loss_box_reg: 0.0480 (0.0463)  loss_mask: 0.1675 (0.1755)  loss_objectness: 0.0062 (0.0083)  loss_rpn_box_reg: 0.0011 (0.0016)  time: 0.4850  data: 0.0093  max mem: 7870\n",
            "Epoch: [1]  [130/978]  eta: 0:06:48  lr: 0.005000  loss: 0.3200 (0.3135)  loss_classifier: 0.0928 (0.0824)  loss_box_reg: 0.0412 (0.0458)  loss_mask: 0.1721 (0.1755)  loss_objectness: 0.0058 (0.0082)  loss_rpn_box_reg: 0.0011 (0.0016)  time: 0.4821  data: 0.0096  max mem: 7870\n",
            "Epoch: [1]  [140/978]  eta: 0:06:42  lr: 0.005000  loss: 0.2785 (0.3172)  loss_classifier: 0.0752 (0.0828)  loss_box_reg: 0.0362 (0.0456)  loss_mask: 0.1764 (0.1786)  loss_objectness: 0.0075 (0.0087)  loss_rpn_box_reg: 0.0011 (0.0016)  time: 0.4596  data: 0.0098  max mem: 7870\n",
            "Epoch: [1]  [150/978]  eta: 0:06:36  lr: 0.005000  loss: 0.3170 (0.3218)  loss_classifier: 0.0793 (0.0834)  loss_box_reg: 0.0493 (0.0472)  loss_mask: 0.1993 (0.1803)  loss_objectness: 0.0101 (0.0091)  loss_rpn_box_reg: 0.0011 (0.0018)  time: 0.4619  data: 0.0093  max mem: 7870\n",
            "Epoch: [1]  [160/978]  eta: 0:06:31  lr: 0.005000  loss: 0.3514 (0.3222)  loss_classifier: 0.0713 (0.0824)  loss_box_reg: 0.0477 (0.0468)  loss_mask: 0.2087 (0.1820)  loss_objectness: 0.0084 (0.0092)  loss_rpn_box_reg: 0.0009 (0.0018)  time: 0.4703  data: 0.0094  max mem: 7870\n",
            "Epoch: [1]  [170/978]  eta: 0:06:26  lr: 0.005000  loss: 0.2891 (0.3226)  loss_classifier: 0.0710 (0.0825)  loss_box_reg: 0.0465 (0.0472)  loss_mask: 0.1649 (0.1819)  loss_objectness: 0.0059 (0.0092)  loss_rpn_box_reg: 0.0008 (0.0018)  time: 0.4754  data: 0.0094  max mem: 7870\n",
            "Epoch: [1]  [180/978]  eta: 0:06:23  lr: 0.005000  loss: 0.2633 (0.3191)  loss_classifier: 0.0620 (0.0825)  loss_box_reg: 0.0496 (0.0468)  loss_mask: 0.1370 (0.1789)  loss_objectness: 0.0059 (0.0091)  loss_rpn_box_reg: 0.0010 (0.0017)  time: 0.4987  data: 0.0090  max mem: 7870\n",
            "Epoch: [1]  [190/978]  eta: 0:06:19  lr: 0.005000  loss: 0.3105 (0.3233)  loss_classifier: 0.0943 (0.0837)  loss_box_reg: 0.0420 (0.0475)  loss_mask: 0.1393 (0.1809)  loss_objectness: 0.0068 (0.0094)  loss_rpn_box_reg: 0.0010 (0.0018)  time: 0.5033  data: 0.0090  max mem: 7870\n",
            "Epoch: [1]  [200/978]  eta: 0:06:14  lr: 0.005000  loss: 0.3226 (0.3238)  loss_classifier: 0.0855 (0.0836)  loss_box_reg: 0.0493 (0.0473)  loss_mask: 0.1614 (0.1818)  loss_objectness: 0.0079 (0.0093)  loss_rpn_box_reg: 0.0013 (0.0018)  time: 0.4858  data: 0.0091  max mem: 7870\n",
            "Epoch: [1]  [210/978]  eta: 0:06:09  lr: 0.005000  loss: 0.3080 (0.3235)  loss_classifier: 0.0855 (0.0836)  loss_box_reg: 0.0428 (0.0471)  loss_mask: 0.1669 (0.1818)  loss_objectness: 0.0079 (0.0093)  loss_rpn_box_reg: 0.0012 (0.0017)  time: 0.4829  data: 0.0095  max mem: 7870\n",
            "Epoch: [1]  [220/978]  eta: 0:06:05  lr: 0.005000  loss: 0.3125 (0.3248)  loss_classifier: 0.0825 (0.0839)  loss_box_reg: 0.0461 (0.0473)  loss_mask: 0.1711 (0.1828)  loss_objectness: 0.0076 (0.0092)  loss_rpn_box_reg: 0.0011 (0.0017)  time: 0.4823  data: 0.0097  max mem: 7870\n",
            "Epoch: [1]  [230/978]  eta: 0:05:59  lr: 0.005000  loss: 0.3423 (0.3272)  loss_classifier: 0.0825 (0.0844)  loss_box_reg: 0.0497 (0.0477)  loss_mask: 0.1711 (0.1839)  loss_objectness: 0.0077 (0.0095)  loss_rpn_box_reg: 0.0013 (0.0017)  time: 0.4714  data: 0.0094  max mem: 7870\n",
            "Epoch: [1]  [240/978]  eta: 0:05:55  lr: 0.005000  loss: 0.4181 (0.3322)  loss_classifier: 0.0983 (0.0852)  loss_box_reg: 0.0656 (0.0488)  loss_mask: 0.2082 (0.1871)  loss_objectness: 0.0086 (0.0094)  loss_rpn_box_reg: 0.0019 (0.0017)  time: 0.4766  data: 0.0096  max mem: 7870\n",
            "Epoch: [1]  [250/978]  eta: 0:05:49  lr: 0.005000  loss: 0.3267 (0.3313)  loss_classifier: 0.0872 (0.0843)  loss_box_reg: 0.0528 (0.0482)  loss_mask: 0.2042 (0.1874)  loss_objectness: 0.0070 (0.0096)  loss_rpn_box_reg: 0.0019 (0.0018)  time: 0.4787  data: 0.0101  max mem: 7870\n",
            "Epoch: [1]  [260/978]  eta: 0:05:45  lr: 0.005000  loss: 0.2912 (0.3359)  loss_classifier: 0.0742 (0.0846)  loss_box_reg: 0.0382 (0.0482)  loss_mask: 0.1576 (0.1915)  loss_objectness: 0.0108 (0.0098)  loss_rpn_box_reg: 0.0018 (0.0018)  time: 0.4733  data: 0.0098  max mem: 7870\n",
            "Epoch: [1]  [270/978]  eta: 0:05:40  lr: 0.005000  loss: 0.3075 (0.3349)  loss_classifier: 0.0898 (0.0845)  loss_box_reg: 0.0461 (0.0479)  loss_mask: 0.1620 (0.1909)  loss_objectness: 0.0097 (0.0098)  loss_rpn_box_reg: 0.0014 (0.0018)  time: 0.4793  data: 0.0093  max mem: 7870\n",
            "Epoch: [1]  [280/978]  eta: 0:05:34  lr: 0.005000  loss: 0.2584 (0.3327)  loss_classifier: 0.0670 (0.0838)  loss_box_reg: 0.0390 (0.0476)  loss_mask: 0.1400 (0.1898)  loss_objectness: 0.0044 (0.0097)  loss_rpn_box_reg: 0.0012 (0.0017)  time: 0.4697  data: 0.0093  max mem: 7870\n",
            "Epoch: [1]  [290/978]  eta: 0:05:29  lr: 0.005000  loss: 0.2183 (0.3300)  loss_classifier: 0.0577 (0.0828)  loss_box_reg: 0.0331 (0.0475)  loss_mask: 0.1232 (0.1877)  loss_objectness: 0.0047 (0.0102)  loss_rpn_box_reg: 0.0013 (0.0019)  time: 0.4582  data: 0.0093  max mem: 7870\n",
            "Epoch: [1]  [300/978]  eta: 0:05:24  lr: 0.005000  loss: 0.2215 (0.3266)  loss_classifier: 0.0450 (0.0819)  loss_box_reg: 0.0285 (0.0471)  loss_mask: 0.1223 (0.1856)  loss_objectness: 0.0070 (0.0101)  loss_rpn_box_reg: 0.0017 (0.0019)  time: 0.4578  data: 0.0095  max mem: 7870\n",
            "Epoch: [1]  [310/978]  eta: 0:05:19  lr: 0.005000  loss: 0.2747 (0.3260)  loss_classifier: 0.0650 (0.0817)  loss_box_reg: 0.0329 (0.0471)  loss_mask: 0.1388 (0.1854)  loss_objectness: 0.0072 (0.0101)  loss_rpn_box_reg: 0.0011 (0.0019)  time: 0.4636  data: 0.0096  max mem: 7870\n",
            "Epoch: [1]  [320/978]  eta: 0:05:13  lr: 0.005000  loss: 0.3127 (0.3272)  loss_classifier: 0.0819 (0.0815)  loss_box_reg: 0.0446 (0.0469)  loss_mask: 0.1529 (0.1868)  loss_objectness: 0.0095 (0.0101)  loss_rpn_box_reg: 0.0008 (0.0019)  time: 0.4570  data: 0.0095  max mem: 7870\n",
            "Epoch: [1]  [330/978]  eta: 0:05:08  lr: 0.005000  loss: 0.3523 (0.3283)  loss_classifier: 0.0750 (0.0814)  loss_box_reg: 0.0431 (0.0467)  loss_mask: 0.1835 (0.1883)  loss_objectness: 0.0054 (0.0100)  loss_rpn_box_reg: 0.0012 (0.0019)  time: 0.4501  data: 0.0093  max mem: 7870\n",
            "Epoch: [1]  [340/978]  eta: 0:05:03  lr: 0.005000  loss: 0.2443 (0.3258)  loss_classifier: 0.0582 (0.0805)  loss_box_reg: 0.0345 (0.0463)  loss_mask: 0.1430 (0.1872)  loss_objectness: 0.0030 (0.0099)  loss_rpn_box_reg: 0.0016 (0.0018)  time: 0.4564  data: 0.0095  max mem: 7870\n",
            "Epoch: [1]  [350/978]  eta: 0:04:58  lr: 0.005000  loss: 0.2439 (0.3253)  loss_classifier: 0.0512 (0.0808)  loss_box_reg: 0.0459 (0.0463)  loss_mask: 0.1437 (0.1865)  loss_objectness: 0.0059 (0.0098)  loss_rpn_box_reg: 0.0014 (0.0019)  time: 0.4698  data: 0.0095  max mem: 7870\n",
            "Epoch: [1]  [360/978]  eta: 0:04:54  lr: 0.005000  loss: 0.2822 (0.3250)  loss_classifier: 0.0678 (0.0807)  loss_box_reg: 0.0420 (0.0463)  loss_mask: 0.1488 (0.1864)  loss_objectness: 0.0058 (0.0097)  loss_rpn_box_reg: 0.0017 (0.0018)  time: 0.4758  data: 0.0091  max mem: 7870\n",
            "Epoch: [1]  [370/978]  eta: 0:04:49  lr: 0.005000  loss: 0.3231 (0.3254)  loss_classifier: 0.0864 (0.0809)  loss_box_reg: 0.0562 (0.0466)  loss_mask: 0.1491 (0.1864)  loss_objectness: 0.0058 (0.0097)  loss_rpn_box_reg: 0.0012 (0.0018)  time: 0.4901  data: 0.0092  max mem: 7870\n",
            "Epoch: [1]  [380/978]  eta: 0:04:44  lr: 0.005000  loss: 0.3384 (0.3249)  loss_classifier: 0.0864 (0.0806)  loss_box_reg: 0.0572 (0.0467)  loss_mask: 0.1847 (0.1860)  loss_objectness: 0.0090 (0.0097)  loss_rpn_box_reg: 0.0013 (0.0019)  time: 0.4862  data: 0.0094  max mem: 7870\n",
            "Epoch: [1]  [390/978]  eta: 0:04:39  lr: 0.005000  loss: 0.3359 (0.3251)  loss_classifier: 0.0750 (0.0809)  loss_box_reg: 0.0461 (0.0466)  loss_mask: 0.1810 (0.1861)  loss_objectness: 0.0033 (0.0097)  loss_rpn_box_reg: 0.0013 (0.0019)  time: 0.4683  data: 0.0095  max mem: 7870\n",
            "Epoch: [1]  [400/978]  eta: 0:04:35  lr: 0.005000  loss: 0.3185 (0.3258)  loss_classifier: 0.0750 (0.0811)  loss_box_reg: 0.0487 (0.0469)  loss_mask: 0.1793 (0.1864)  loss_objectness: 0.0033 (0.0096)  loss_rpn_box_reg: 0.0013 (0.0019)  time: 0.4749  data: 0.0100  max mem: 7870\n",
            "Epoch: [1]  [410/978]  eta: 0:04:30  lr: 0.005000  loss: 0.2759 (0.3245)  loss_classifier: 0.0628 (0.0806)  loss_box_reg: 0.0419 (0.0465)  loss_mask: 0.1461 (0.1859)  loss_objectness: 0.0045 (0.0096)  loss_rpn_box_reg: 0.0011 (0.0019)  time: 0.4734  data: 0.0100  max mem: 7870\n",
            "Epoch: [1]  [420/978]  eta: 0:04:25  lr: 0.005000  loss: 0.2759 (0.3247)  loss_classifier: 0.0561 (0.0807)  loss_box_reg: 0.0364 (0.0468)  loss_mask: 0.1442 (0.1860)  loss_objectness: 0.0016 (0.0094)  loss_rpn_box_reg: 0.0011 (0.0019)  time: 0.4694  data: 0.0092  max mem: 7870\n",
            "Epoch: [1]  [430/978]  eta: 0:04:20  lr: 0.005000  loss: 0.3194 (0.3244)  loss_classifier: 0.0866 (0.0810)  loss_box_reg: 0.0534 (0.0468)  loss_mask: 0.1607 (0.1854)  loss_objectness: 0.0048 (0.0094)  loss_rpn_box_reg: 0.0011 (0.0018)  time: 0.4707  data: 0.0090  max mem: 7870\n",
            "Epoch: [1]  [440/978]  eta: 0:04:16  lr: 0.005000  loss: 0.2533 (0.3236)  loss_classifier: 0.0762 (0.0807)  loss_box_reg: 0.0451 (0.0467)  loss_mask: 0.1267 (0.1850)  loss_objectness: 0.0067 (0.0094)  loss_rpn_box_reg: 0.0011 (0.0018)  time: 0.4786  data: 0.0110  max mem: 7870\n",
            "Epoch: [1]  [450/978]  eta: 0:04:11  lr: 0.005000  loss: 0.2328 (0.3230)  loss_classifier: 0.0762 (0.0810)  loss_box_reg: 0.0446 (0.0467)  loss_mask: 0.1147 (0.1841)  loss_objectness: 0.0037 (0.0093)  loss_rpn_box_reg: 0.0013 (0.0018)  time: 0.4781  data: 0.0111  max mem: 7870\n",
            "Epoch: [1]  [460/978]  eta: 0:04:06  lr: 0.005000  loss: 0.2694 (0.3232)  loss_classifier: 0.0659 (0.0808)  loss_box_reg: 0.0508 (0.0467)  loss_mask: 0.1266 (0.1845)  loss_objectness: 0.0041 (0.0093)  loss_rpn_box_reg: 0.0015 (0.0019)  time: 0.4677  data: 0.0100  max mem: 7870\n",
            "Epoch: [1]  [470/978]  eta: 0:04:01  lr: 0.005000  loss: 0.3203 (0.3247)  loss_classifier: 0.0637 (0.0805)  loss_box_reg: 0.0528 (0.0468)  loss_mask: 0.1853 (0.1864)  loss_objectness: 0.0018 (0.0092)  loss_rpn_box_reg: 0.0012 (0.0018)  time: 0.4664  data: 0.0104  max mem: 7870\n",
            "Epoch: [1]  [480/978]  eta: 0:03:56  lr: 0.005000  loss: 0.3378 (0.3237)  loss_classifier: 0.0565 (0.0800)  loss_box_reg: 0.0374 (0.0464)  loss_mask: 0.2085 (0.1863)  loss_objectness: 0.0020 (0.0092)  loss_rpn_box_reg: 0.0012 (0.0018)  time: 0.4619  data: 0.0101  max mem: 7870\n",
            "Epoch: [1]  [490/978]  eta: 0:03:51  lr: 0.005000  loss: 0.2412 (0.3225)  loss_classifier: 0.0472 (0.0797)  loss_box_reg: 0.0327 (0.0462)  loss_mask: 0.1438 (0.1856)  loss_objectness: 0.0043 (0.0092)  loss_rpn_box_reg: 0.0012 (0.0018)  time: 0.4606  data: 0.0100  max mem: 7870\n",
            "Epoch: [1]  [500/978]  eta: 0:03:47  lr: 0.005000  loss: 0.2411 (0.3231)  loss_classifier: 0.0591 (0.0796)  loss_box_reg: 0.0338 (0.0460)  loss_mask: 0.1467 (0.1865)  loss_objectness: 0.0055 (0.0092)  loss_rpn_box_reg: 0.0010 (0.0018)  time: 0.4806  data: 0.0096  max mem: 7870\n",
            "Epoch: [1]  [510/978]  eta: 0:03:42  lr: 0.005000  loss: 0.3517 (0.3234)  loss_classifier: 0.0780 (0.0796)  loss_box_reg: 0.0386 (0.0461)  loss_mask: 0.1948 (0.1867)  loss_objectness: 0.0095 (0.0093)  loss_rpn_box_reg: 0.0010 (0.0018)  time: 0.4827  data: 0.0099  max mem: 7870\n",
            "Epoch: [1]  [520/978]  eta: 0:03:37  lr: 0.005000  loss: 0.3714 (0.3237)  loss_classifier: 0.0846 (0.0797)  loss_box_reg: 0.0522 (0.0462)  loss_mask: 0.1755 (0.1866)  loss_objectness: 0.0191 (0.0094)  loss_rpn_box_reg: 0.0011 (0.0018)  time: 0.4783  data: 0.0098  max mem: 7870\n",
            "Epoch: [1]  [530/978]  eta: 0:03:32  lr: 0.005000  loss: 0.3714 (0.3248)  loss_classifier: 0.0887 (0.0796)  loss_box_reg: 0.0538 (0.0461)  loss_mask: 0.1985 (0.1880)  loss_objectness: 0.0058 (0.0094)  loss_rpn_box_reg: 0.0018 (0.0018)  time: 0.4760  data: 0.0090  max mem: 7870\n",
            "Epoch: [1]  [540/978]  eta: 0:03:27  lr: 0.005000  loss: 0.3080 (0.3248)  loss_classifier: 0.0660 (0.0794)  loss_box_reg: 0.0399 (0.0462)  loss_mask: 0.1973 (0.1879)  loss_objectness: 0.0077 (0.0095)  loss_rpn_box_reg: 0.0017 (0.0018)  time: 0.4595  data: 0.0090  max mem: 7870\n",
            "Epoch: [1]  [550/978]  eta: 0:03:23  lr: 0.005000  loss: 0.2782 (0.3248)  loss_classifier: 0.0592 (0.0790)  loss_box_reg: 0.0399 (0.0460)  loss_mask: 0.1471 (0.1884)  loss_objectness: 0.0092 (0.0095)  loss_rpn_box_reg: 0.0015 (0.0018)  time: 0.4643  data: 0.0097  max mem: 7870\n",
            "Epoch: [1]  [560/978]  eta: 0:03:18  lr: 0.005000  loss: 0.2249 (0.3240)  loss_classifier: 0.0421 (0.0789)  loss_box_reg: 0.0340 (0.0459)  loss_mask: 0.1166 (0.1878)  loss_objectness: 0.0064 (0.0095)  loss_rpn_box_reg: 0.0013 (0.0018)  time: 0.4681  data: 0.0096  max mem: 7870\n",
            "Epoch: [1]  [570/978]  eta: 0:03:13  lr: 0.005000  loss: 0.2164 (0.3218)  loss_classifier: 0.0318 (0.0786)  loss_box_reg: 0.0219 (0.0455)  loss_mask: 0.1022 (0.1864)  loss_objectness: 0.0058 (0.0094)  loss_rpn_box_reg: 0.0015 (0.0018)  time: 0.4643  data: 0.0094  max mem: 7870\n",
            "Epoch: [1]  [580/978]  eta: 0:03:08  lr: 0.005000  loss: 0.2164 (0.3227)  loss_classifier: 0.0614 (0.0790)  loss_box_reg: 0.0299 (0.0455)  loss_mask: 0.1125 (0.1870)  loss_objectness: 0.0058 (0.0094)  loss_rpn_box_reg: 0.0016 (0.0018)  time: 0.4661  data: 0.0099  max mem: 7870\n",
            "Epoch: [1]  [590/978]  eta: 0:03:03  lr: 0.005000  loss: 0.3398 (0.3233)  loss_classifier: 0.0753 (0.0791)  loss_box_reg: 0.0474 (0.0455)  loss_mask: 0.2116 (0.1874)  loss_objectness: 0.0057 (0.0094)  loss_rpn_box_reg: 0.0020 (0.0018)  time: 0.4645  data: 0.0102  max mem: 7870\n",
            "Epoch: [1]  [600/978]  eta: 0:02:59  lr: 0.005000  loss: 0.3096 (0.3237)  loss_classifier: 0.0663 (0.0790)  loss_box_reg: 0.0414 (0.0455)  loss_mask: 0.2116 (0.1880)  loss_objectness: 0.0049 (0.0094)  loss_rpn_box_reg: 0.0016 (0.0018)  time: 0.4670  data: 0.0097  max mem: 7870\n",
            "Epoch: [1]  [610/978]  eta: 0:02:54  lr: 0.005000  loss: 0.2847 (0.3241)  loss_classifier: 0.0600 (0.0790)  loss_box_reg: 0.0345 (0.0454)  loss_mask: 0.2121 (0.1886)  loss_objectness: 0.0048 (0.0093)  loss_rpn_box_reg: 0.0009 (0.0018)  time: 0.4950  data: 0.0097  max mem: 7870\n",
            "Epoch: [1]  [620/978]  eta: 0:02:49  lr: 0.005000  loss: 0.2847 (0.3240)  loss_classifier: 0.0637 (0.0791)  loss_box_reg: 0.0380 (0.0454)  loss_mask: 0.1588 (0.1885)  loss_objectness: 0.0041 (0.0093)  loss_rpn_box_reg: 0.0011 (0.0018)  time: 0.4876  data: 0.0097  max mem: 7870\n",
            "Epoch: [1]  [630/978]  eta: 0:02:45  lr: 0.005000  loss: 0.2599 (0.3245)  loss_classifier: 0.0676 (0.0789)  loss_box_reg: 0.0344 (0.0454)  loss_mask: 0.1208 (0.1891)  loss_objectness: 0.0039 (0.0093)  loss_rpn_box_reg: 0.0012 (0.0018)  time: 0.4623  data: 0.0090  max mem: 7870\n",
            "Epoch: [1]  [640/978]  eta: 0:02:40  lr: 0.005000  loss: 0.2950 (0.3247)  loss_classifier: 0.0615 (0.0787)  loss_box_reg: 0.0327 (0.0454)  loss_mask: 0.1380 (0.1896)  loss_objectness: 0.0062 (0.0093)  loss_rpn_box_reg: 0.0011 (0.0018)  time: 0.4675  data: 0.0092  max mem: 7870\n",
            "Epoch: [1]  [650/978]  eta: 0:02:35  lr: 0.005000  loss: 0.4031 (0.3275)  loss_classifier: 0.0744 (0.0793)  loss_box_reg: 0.0618 (0.0458)  loss_mask: 0.2429 (0.1913)  loss_objectness: 0.0064 (0.0093)  loss_rpn_box_reg: 0.0009 (0.0018)  time: 0.4710  data: 0.0093  max mem: 7870\n",
            "Epoch: [1]  [660/978]  eta: 0:02:30  lr: 0.005000  loss: 0.4494 (0.3289)  loss_classifier: 0.0942 (0.0795)  loss_box_reg: 0.0635 (0.0459)  loss_mask: 0.2427 (0.1922)  loss_objectness: 0.0091 (0.0095)  loss_rpn_box_reg: 0.0011 (0.0018)  time: 0.4688  data: 0.0091  max mem: 7870\n",
            "Epoch: [1]  [670/978]  eta: 0:02:25  lr: 0.005000  loss: 0.3970 (0.3290)  loss_classifier: 0.0718 (0.0796)  loss_box_reg: 0.0453 (0.0459)  loss_mask: 0.2378 (0.1921)  loss_objectness: 0.0105 (0.0095)  loss_rpn_box_reg: 0.0008 (0.0018)  time: 0.4641  data: 0.0093  max mem: 7870\n",
            "Epoch: [1]  [680/978]  eta: 0:02:21  lr: 0.005000  loss: 0.2767 (0.3279)  loss_classifier: 0.0660 (0.0794)  loss_box_reg: 0.0340 (0.0457)  loss_mask: 0.1272 (0.1915)  loss_objectness: 0.0046 (0.0094)  loss_rpn_box_reg: 0.0005 (0.0018)  time: 0.4642  data: 0.0094  max mem: 7870\n",
            "Epoch: [1]  [690/978]  eta: 0:02:16  lr: 0.005000  loss: 0.2767 (0.3275)  loss_classifier: 0.0688 (0.0795)  loss_box_reg: 0.0352 (0.0457)  loss_mask: 0.1420 (0.1911)  loss_objectness: 0.0053 (0.0094)  loss_rpn_box_reg: 0.0008 (0.0018)  time: 0.4714  data: 0.0093  max mem: 7870\n",
            "Epoch: [1]  [700/978]  eta: 0:02:11  lr: 0.005000  loss: 0.3243 (0.3274)  loss_classifier: 0.0716 (0.0795)  loss_box_reg: 0.0375 (0.0455)  loss_mask: 0.1591 (0.1911)  loss_objectness: 0.0065 (0.0096)  loss_rpn_box_reg: 0.0013 (0.0018)  time: 0.4781  data: 0.0090  max mem: 7870\n",
            "Epoch: [1]  [710/978]  eta: 0:02:07  lr: 0.005000  loss: 0.3078 (0.3271)  loss_classifier: 0.0541 (0.0793)  loss_box_reg: 0.0320 (0.0454)  loss_mask: 0.1371 (0.1910)  loss_objectness: 0.0087 (0.0096)  loss_rpn_box_reg: 0.0014 (0.0018)  time: 0.4785  data: 0.0093  max mem: 7870\n",
            "Epoch: [1]  [720/978]  eta: 0:02:02  lr: 0.005000  loss: 0.2979 (0.3268)  loss_classifier: 0.0563 (0.0792)  loss_box_reg: 0.0320 (0.0453)  loss_mask: 0.1371 (0.1910)  loss_objectness: 0.0070 (0.0095)  loss_rpn_box_reg: 0.0012 (0.0018)  time: 0.4750  data: 0.0094  max mem: 7870\n",
            "Epoch: [1]  [730/978]  eta: 0:01:57  lr: 0.005000  loss: 0.2898 (0.3265)  loss_classifier: 0.0706 (0.0793)  loss_box_reg: 0.0432 (0.0453)  loss_mask: 0.1401 (0.1905)  loss_objectness: 0.0056 (0.0095)  loss_rpn_box_reg: 0.0009 (0.0018)  time: 0.4820  data: 0.0089  max mem: 7870\n",
            "Epoch: [1]  [740/978]  eta: 0:01:52  lr: 0.005000  loss: 0.2898 (0.3262)  loss_classifier: 0.0706 (0.0791)  loss_box_reg: 0.0375 (0.0452)  loss_mask: 0.1401 (0.1906)  loss_objectness: 0.0048 (0.0095)  loss_rpn_box_reg: 0.0007 (0.0018)  time: 0.4985  data: 0.0093  max mem: 7870\n",
            "Epoch: [1]  [750/978]  eta: 0:01:48  lr: 0.005000  loss: 0.2782 (0.3251)  loss_classifier: 0.0583 (0.0790)  loss_box_reg: 0.0355 (0.0451)  loss_mask: 0.1538 (0.1898)  loss_objectness: 0.0019 (0.0094)  loss_rpn_box_reg: 0.0011 (0.0018)  time: 0.4909  data: 0.0102  max mem: 7870\n",
            "Epoch: [1]  [760/978]  eta: 0:01:43  lr: 0.005000  loss: 0.2782 (0.3243)  loss_classifier: 0.0685 (0.0788)  loss_box_reg: 0.0413 (0.0450)  loss_mask: 0.1538 (0.1893)  loss_objectness: 0.0026 (0.0094)  loss_rpn_box_reg: 0.0011 (0.0018)  time: 0.4766  data: 0.0098  max mem: 7870\n",
            "Epoch: [1]  [770/978]  eta: 0:01:38  lr: 0.005000  loss: 0.3005 (0.3241)  loss_classifier: 0.0685 (0.0788)  loss_box_reg: 0.0323 (0.0449)  loss_mask: 0.1712 (0.1892)  loss_objectness: 0.0054 (0.0094)  loss_rpn_box_reg: 0.0010 (0.0018)  time: 0.4675  data: 0.0091  max mem: 7870\n",
            "Epoch: [1]  [780/978]  eta: 0:01:33  lr: 0.005000  loss: 0.2136 (0.3229)  loss_classifier: 0.0503 (0.0785)  loss_box_reg: 0.0265 (0.0447)  loss_mask: 0.1338 (0.1885)  loss_objectness: 0.0052 (0.0095)  loss_rpn_box_reg: 0.0011 (0.0018)  time: 0.4614  data: 0.0090  max mem: 7870\n",
            "Epoch: [1]  [790/978]  eta: 0:01:29  lr: 0.005000  loss: 0.2827 (0.3233)  loss_classifier: 0.0557 (0.0787)  loss_box_reg: 0.0365 (0.0447)  loss_mask: 0.1282 (0.1885)  loss_objectness: 0.0069 (0.0096)  loss_rpn_box_reg: 0.0011 (0.0018)  time: 0.4909  data: 0.0093  max mem: 7870\n",
            "Epoch: [1]  [800/978]  eta: 0:01:24  lr: 0.005000  loss: 0.2745 (0.3220)  loss_classifier: 0.0718 (0.0784)  loss_box_reg: 0.0424 (0.0446)  loss_mask: 0.1218 (0.1876)  loss_objectness: 0.0078 (0.0096)  loss_rpn_box_reg: 0.0007 (0.0018)  time: 0.5009  data: 0.0095  max mem: 7870\n",
            "Epoch: [1]  [810/978]  eta: 0:01:19  lr: 0.005000  loss: 0.2473 (0.3216)  loss_classifier: 0.0489 (0.0782)  loss_box_reg: 0.0271 (0.0444)  loss_mask: 0.1339 (0.1876)  loss_objectness: 0.0060 (0.0096)  loss_rpn_box_reg: 0.0008 (0.0018)  time: 0.4732  data: 0.0094  max mem: 7870\n",
            "Epoch: [1]  [820/978]  eta: 0:01:15  lr: 0.005000  loss: 0.2612 (0.3209)  loss_classifier: 0.0494 (0.0781)  loss_box_reg: 0.0212 (0.0444)  loss_mask: 0.1443 (0.1871)  loss_objectness: 0.0038 (0.0096)  loss_rpn_box_reg: 0.0014 (0.0018)  time: 0.4683  data: 0.0092  max mem: 7870\n",
            "Epoch: [1]  [830/978]  eta: 0:01:10  lr: 0.005000  loss: 0.2640 (0.3211)  loss_classifier: 0.0763 (0.0781)  loss_box_reg: 0.0477 (0.0444)  loss_mask: 0.1452 (0.1872)  loss_objectness: 0.0050 (0.0096)  loss_rpn_box_reg: 0.0014 (0.0018)  time: 0.4939  data: 0.0089  max mem: 7870\n",
            "Epoch: [1]  [840/978]  eta: 0:01:05  lr: 0.005000  loss: 0.3303 (0.3208)  loss_classifier: 0.0774 (0.0782)  loss_box_reg: 0.0532 (0.0445)  loss_mask: 0.1669 (0.1868)  loss_objectness: 0.0059 (0.0095)  loss_rpn_box_reg: 0.0011 (0.0018)  time: 0.5038  data: 0.0089  max mem: 7870\n",
            "Epoch: [1]  [850/978]  eta: 0:01:00  lr: 0.005000  loss: 0.2920 (0.3207)  loss_classifier: 0.0734 (0.0782)  loss_box_reg: 0.0351 (0.0444)  loss_mask: 0.1623 (0.1868)  loss_objectness: 0.0062 (0.0095)  loss_rpn_box_reg: 0.0010 (0.0018)  time: 0.4801  data: 0.0091  max mem: 7870\n",
            "Epoch: [1]  [860/978]  eta: 0:00:56  lr: 0.005000  loss: 0.2739 (0.3216)  loss_classifier: 0.0784 (0.0783)  loss_box_reg: 0.0378 (0.0445)  loss_mask: 0.1231 (0.1873)  loss_objectness: 0.0071 (0.0095)  loss_rpn_box_reg: 0.0013 (0.0018)  time: 0.4733  data: 0.0089  max mem: 7870\n",
            "Epoch: [1]  [870/978]  eta: 0:00:51  lr: 0.005000  loss: 0.2884 (0.3208)  loss_classifier: 0.0666 (0.0780)  loss_box_reg: 0.0380 (0.0444)  loss_mask: 0.1577 (0.1870)  loss_objectness: 0.0061 (0.0095)  loss_rpn_box_reg: 0.0017 (0.0018)  time: 0.4668  data: 0.0090  max mem: 7870\n",
            "Epoch: [1]  [880/978]  eta: 0:00:46  lr: 0.005000  loss: 0.2816 (0.3204)  loss_classifier: 0.0532 (0.0781)  loss_box_reg: 0.0259 (0.0443)  loss_mask: 0.1675 (0.1868)  loss_objectness: 0.0050 (0.0095)  loss_rpn_box_reg: 0.0016 (0.0018)  time: 0.4580  data: 0.0111  max mem: 7870\n",
            "Epoch: [1]  [890/978]  eta: 0:00:41  lr: 0.005000  loss: 0.3042 (0.3203)  loss_classifier: 0.0796 (0.0781)  loss_box_reg: 0.0383 (0.0443)  loss_mask: 0.1569 (0.1866)  loss_objectness: 0.0055 (0.0094)  loss_rpn_box_reg: 0.0009 (0.0018)  time: 0.4655  data: 0.0115  max mem: 7870\n",
            "Epoch: [1]  [900/978]  eta: 0:00:37  lr: 0.005000  loss: 0.3082 (0.3208)  loss_classifier: 0.0727 (0.0783)  loss_box_reg: 0.0494 (0.0443)  loss_mask: 0.1590 (0.1869)  loss_objectness: 0.0058 (0.0095)  loss_rpn_box_reg: 0.0009 (0.0018)  time: 0.4698  data: 0.0098  max mem: 7870\n",
            "Epoch: [1]  [910/978]  eta: 0:00:32  lr: 0.005000  loss: 0.3603 (0.3213)  loss_classifier: 0.0705 (0.0781)  loss_box_reg: 0.0395 (0.0443)  loss_mask: 0.1811 (0.1875)  loss_objectness: 0.0058 (0.0095)  loss_rpn_box_reg: 0.0008 (0.0018)  time: 0.4724  data: 0.0095  max mem: 7870\n",
            "Epoch: [1]  [920/978]  eta: 0:00:27  lr: 0.005000  loss: 0.3693 (0.3215)  loss_classifier: 0.0722 (0.0781)  loss_box_reg: 0.0379 (0.0443)  loss_mask: 0.2228 (0.1877)  loss_objectness: 0.0076 (0.0095)  loss_rpn_box_reg: 0.0008 (0.0018)  time: 0.4777  data: 0.0091  max mem: 7870\n",
            "Epoch: [1]  [930/978]  eta: 0:00:22  lr: 0.005000  loss: 0.3372 (0.3214)  loss_classifier: 0.0818 (0.0783)  loss_box_reg: 0.0402 (0.0443)  loss_mask: 0.2073 (0.1874)  loss_objectness: 0.0090 (0.0096)  loss_rpn_box_reg: 0.0010 (0.0018)  time: 0.4770  data: 0.0088  max mem: 7870\n",
            "Epoch: [1]  [940/978]  eta: 0:00:18  lr: 0.005000  loss: 0.2903 (0.3218)  loss_classifier: 0.0814 (0.0783)  loss_box_reg: 0.0365 (0.0443)  loss_mask: 0.1672 (0.1878)  loss_objectness: 0.0058 (0.0096)  loss_rpn_box_reg: 0.0010 (0.0018)  time: 0.4749  data: 0.0091  max mem: 7870\n",
            "Epoch: [1]  [950/978]  eta: 0:00:13  lr: 0.005000  loss: 0.3491 (0.3223)  loss_classifier: 0.0844 (0.0784)  loss_box_reg: 0.0387 (0.0444)  loss_mask: 0.2086 (0.1881)  loss_objectness: 0.0049 (0.0096)  loss_rpn_box_reg: 0.0013 (0.0018)  time: 0.4695  data: 0.0093  max mem: 7870\n",
            "Epoch: [1]  [960/978]  eta: 0:00:08  lr: 0.005000  loss: 0.3055 (0.3213)  loss_classifier: 0.0585 (0.0782)  loss_box_reg: 0.0376 (0.0443)  loss_mask: 0.1464 (0.1875)  loss_objectness: 0.0066 (0.0096)  loss_rpn_box_reg: 0.0014 (0.0018)  time: 0.4597  data: 0.0089  max mem: 7870\n",
            "Epoch: [1]  [970/978]  eta: 0:00:03  lr: 0.005000  loss: 0.2553 (0.3215)  loss_classifier: 0.0492 (0.0783)  loss_box_reg: 0.0376 (0.0444)  loss_mask: 0.1452 (0.1875)  loss_objectness: 0.0053 (0.0095)  loss_rpn_box_reg: 0.0011 (0.0018)  time: 0.4716  data: 0.0086  max mem: 7870\n",
            "Epoch: [1]  [977/978]  eta: 0:00:00  lr: 0.005000  loss: 0.2553 (0.3207)  loss_classifier: 0.0585 (0.0781)  loss_box_reg: 0.0369 (0.0443)  loss_mask: 0.1354 (0.1869)  loss_objectness: 0.0034 (0.0096)  loss_rpn_box_reg: 0.0012 (0.0018)  time: 0.4639  data: 0.0084  max mem: 7870\n",
            "Epoch: [1] Total time: 0:07:44 (0.4748 s / it)\n",
            "creating index...\n",
            "index created!\n",
            "Test:  [  0/400]  eta: 0:03:02  model_time: 0.1561 (0.1561)  evaluator_time: 0.0158 (0.0158)  time: 0.4568  data: 0.2832  max mem: 7870\n",
            "Test:  [100/400]  eta: 0:00:40  model_time: 0.0965 (0.1035)  evaluator_time: 0.0142 (0.0213)  time: 0.1239  data: 0.0052  max mem: 7870\n",
            "Test:  [200/400]  eta: 0:00:26  model_time: 0.1016 (0.1025)  evaluator_time: 0.0181 (0.0210)  time: 0.1283  data: 0.0047  max mem: 7870\n",
            "Test:  [300/400]  eta: 0:00:13  model_time: 0.1028 (0.1032)  evaluator_time: 0.0202 (0.0223)  time: 0.1413  data: 0.0053  max mem: 7870\n",
            "Test:  [399/400]  eta: 0:00:00  model_time: 0.1028 (0.1031)  evaluator_time: 0.0234 (0.0220)  time: 0.1306  data: 0.0044  max mem: 7870\n",
            "Test: Total time: 0:00:52 (0.1325 s / it)\n",
            "Averaged stats: model_time: 0.1028 (0.1031)  evaluator_time: 0.0234 (0.0220)\n",
            "Accumulating evaluation results...\n",
            "DONE (t=0.20s).\n",
            "Accumulating evaluation results...\n",
            "DONE (t=0.19s).\n",
            "IoU metric: bbox\n",
            " Average Precision  (AP) @[ IoU=0.50:0.95 | area=   all | maxDets=100 ] = 0.162\n",
            " Average Precision  (AP) @[ IoU=0.50      | area=   all | maxDets=100 ] = 0.249\n",
            " Average Precision  (AP) @[ IoU=0.75      | area=   all | maxDets=100 ] = 0.208\n",
            " Average Precision  (AP) @[ IoU=0.50:0.95 | area= small | maxDets=100 ] = 0.083\n",
            " Average Precision  (AP) @[ IoU=0.50:0.95 | area=medium | maxDets=100 ] = 0.169\n",
            " Average Precision  (AP) @[ IoU=0.50:0.95 | area= large | maxDets=100 ] = 0.179\n",
            " Average Recall     (AR) @[ IoU=0.50:0.95 | area=   all | maxDets=  1 ] = 0.237\n",
            " Average Recall     (AR) @[ IoU=0.50:0.95 | area=   all | maxDets= 10 ] = 0.417\n",
            " Average Recall     (AR) @[ IoU=0.50:0.95 | area=   all | maxDets=100 ] = 0.423\n",
            " Average Recall     (AR) @[ IoU=0.50:0.95 | area= small | maxDets=100 ] = 0.365\n",
            " Average Recall     (AR) @[ IoU=0.50:0.95 | area=medium | maxDets=100 ] = 0.450\n",
            " Average Recall     (AR) @[ IoU=0.50:0.95 | area= large | maxDets=100 ] = 0.233\n",
            "IoU metric: segm\n",
            " Average Precision  (AP) @[ IoU=0.50:0.95 | area=   all | maxDets=100 ] = 0.177\n",
            " Average Precision  (AP) @[ IoU=0.50      | area=   all | maxDets=100 ] = 0.245\n",
            " Average Precision  (AP) @[ IoU=0.75      | area=   all | maxDets=100 ] = 0.211\n",
            " Average Precision  (AP) @[ IoU=0.50:0.95 | area= small | maxDets=100 ] = 0.068\n",
            " Average Precision  (AP) @[ IoU=0.50:0.95 | area=medium | maxDets=100 ] = 0.189\n",
            " Average Precision  (AP) @[ IoU=0.50:0.95 | area= large | maxDets=100 ] = 0.253\n",
            " Average Recall     (AR) @[ IoU=0.50:0.95 | area=   all | maxDets=  1 ] = 0.247\n",
            " Average Recall     (AR) @[ IoU=0.50:0.95 | area=   all | maxDets= 10 ] = 0.438\n",
            " Average Recall     (AR) @[ IoU=0.50:0.95 | area=   all | maxDets=100 ] = 0.447\n",
            " Average Recall     (AR) @[ IoU=0.50:0.95 | area= small | maxDets=100 ] = 0.362\n",
            " Average Recall     (AR) @[ IoU=0.50:0.95 | area=medium | maxDets=100 ] = 0.478\n",
            " Average Recall     (AR) @[ IoU=0.50:0.95 | area= large | maxDets=100 ] = 0.272\n",
            "Epoch: [2]  [  0/978]  eta: 0:14:12  lr: 0.005000  loss: 0.3428 (0.3428)  loss_classifier: 0.1311 (0.1311)  loss_box_reg: 0.0794 (0.0794)  loss_mask: 0.1270 (0.1270)  loss_objectness: 0.0048 (0.0048)  loss_rpn_box_reg: 0.0005 (0.0005)  time: 0.8721  data: 0.3831  max mem: 7870\n",
            "Epoch: [2]  [ 10/978]  eta: 0:08:12  lr: 0.005000  loss: 0.3701 (0.4121)  loss_classifier: 0.0909 (0.0970)  loss_box_reg: 0.0747 (0.0660)  loss_mask: 0.2054 (0.2401)  loss_objectness: 0.0060 (0.0073)  loss_rpn_box_reg: 0.0015 (0.0017)  time: 0.5090  data: 0.0407  max mem: 7870\n",
            "Epoch: [2]  [ 20/978]  eta: 0:08:07  lr: 0.005000  loss: 0.3356 (0.3523)  loss_classifier: 0.0672 (0.0816)  loss_box_reg: 0.0490 (0.0520)  loss_mask: 0.1797 (0.2091)  loss_objectness: 0.0060 (0.0080)  loss_rpn_box_reg: 0.0015 (0.0016)  time: 0.4907  data: 0.0076  max mem: 7870\n",
            "Epoch: [2]  [ 30/978]  eta: 0:07:51  lr: 0.005000  loss: 0.2692 (0.3248)  loss_classifier: 0.0598 (0.0732)  loss_box_reg: 0.0375 (0.0483)  loss_mask: 0.1606 (0.1937)  loss_objectness: 0.0048 (0.0077)  loss_rpn_box_reg: 0.0015 (0.0018)  time: 0.4916  data: 0.0093  max mem: 7870\n",
            "Epoch: [2]  [ 40/978]  eta: 0:07:38  lr: 0.005000  loss: 0.2767 (0.3296)  loss_classifier: 0.0513 (0.0669)  loss_box_reg: 0.0336 (0.0446)  loss_mask: 0.1656 (0.2091)  loss_objectness: 0.0034 (0.0071)  loss_rpn_box_reg: 0.0014 (0.0018)  time: 0.4674  data: 0.0101  max mem: 7870\n",
            "Epoch: [2]  [ 50/978]  eta: 0:07:26  lr: 0.005000  loss: 0.2729 (0.3160)  loss_classifier: 0.0552 (0.0668)  loss_box_reg: 0.0310 (0.0422)  loss_mask: 0.1519 (0.1981)  loss_objectness: 0.0039 (0.0070)  loss_rpn_box_reg: 0.0011 (0.0018)  time: 0.4548  data: 0.0100  max mem: 7870\n",
            "Epoch: [2]  [ 60/978]  eta: 0:07:21  lr: 0.005000  loss: 0.2356 (0.3116)  loss_classifier: 0.0612 (0.0658)  loss_box_reg: 0.0371 (0.0414)  loss_mask: 0.1340 (0.1956)  loss_objectness: 0.0055 (0.0071)  loss_rpn_box_reg: 0.0008 (0.0017)  time: 0.4666  data: 0.0092  max mem: 7870\n",
            "Epoch: [2]  [ 70/978]  eta: 0:07:15  lr: 0.005000  loss: 0.2392 (0.3059)  loss_classifier: 0.0606 (0.0657)  loss_box_reg: 0.0371 (0.0416)  loss_mask: 0.1395 (0.1899)  loss_objectness: 0.0055 (0.0070)  loss_rpn_box_reg: 0.0007 (0.0017)  time: 0.4756  data: 0.0090  max mem: 7870\n",
            "Epoch: [2]  [ 80/978]  eta: 0:07:07  lr: 0.005000  loss: 0.2560 (0.3023)  loss_classifier: 0.0714 (0.0673)  loss_box_reg: 0.0312 (0.0410)  loss_mask: 0.1395 (0.1853)  loss_objectness: 0.0052 (0.0070)  loss_rpn_box_reg: 0.0009 (0.0017)  time: 0.4612  data: 0.0094  max mem: 7870\n",
            "Epoch: [2]  [ 90/978]  eta: 0:07:03  lr: 0.005000  loss: 0.3127 (0.3022)  loss_classifier: 0.0749 (0.0681)  loss_box_reg: 0.0302 (0.0413)  loss_mask: 0.1517 (0.1842)  loss_objectness: 0.0047 (0.0068)  loss_rpn_box_reg: 0.0009 (0.0017)  time: 0.4705  data: 0.0099  max mem: 7870\n",
            "Epoch: [2]  [100/978]  eta: 0:07:00  lr: 0.005000  loss: 0.3097 (0.3031)  loss_classifier: 0.0657 (0.0682)  loss_box_reg: 0.0459 (0.0425)  loss_mask: 0.1476 (0.1832)  loss_objectness: 0.0049 (0.0073)  loss_rpn_box_reg: 0.0013 (0.0019)  time: 0.4889  data: 0.0096  max mem: 7870\n",
            "Epoch: [2]  [110/978]  eta: 0:06:55  lr: 0.005000  loss: 0.3004 (0.3032)  loss_classifier: 0.0578 (0.0686)  loss_box_reg: 0.0459 (0.0427)  loss_mask: 0.1476 (0.1828)  loss_objectness: 0.0062 (0.0073)  loss_rpn_box_reg: 0.0012 (0.0018)  time: 0.4873  data: 0.0095  max mem: 7870\n",
            "Epoch: [2]  [120/978]  eta: 0:06:50  lr: 0.005000  loss: 0.2707 (0.3037)  loss_classifier: 0.0578 (0.0680)  loss_box_reg: 0.0307 (0.0419)  loss_mask: 0.1584 (0.1844)  loss_objectness: 0.0041 (0.0076)  loss_rpn_box_reg: 0.0008 (0.0018)  time: 0.4730  data: 0.0093  max mem: 7870\n",
            "Epoch: [2]  [130/978]  eta: 0:06:45  lr: 0.005000  loss: 0.2729 (0.3050)  loss_classifier: 0.0827 (0.0694)  loss_box_reg: 0.0285 (0.0417)  loss_mask: 0.1532 (0.1846)  loss_objectness: 0.0046 (0.0075)  loss_rpn_box_reg: 0.0009 (0.0018)  time: 0.4709  data: 0.0093  max mem: 7870\n",
            "Epoch: [2]  [140/978]  eta: 0:06:40  lr: 0.005000  loss: 0.3161 (0.3130)  loss_classifier: 0.0795 (0.0693)  loss_box_reg: 0.0352 (0.0414)  loss_mask: 0.1623 (0.1923)  loss_objectness: 0.0072 (0.0082)  loss_rpn_box_reg: 0.0013 (0.0018)  time: 0.4776  data: 0.0096  max mem: 7870\n",
            "Epoch: [2]  [150/978]  eta: 0:06:35  lr: 0.005000  loss: 0.3456 (0.3177)  loss_classifier: 0.0686 (0.0702)  loss_box_reg: 0.0388 (0.0418)  loss_mask: 0.2403 (0.1956)  loss_objectness: 0.0083 (0.0082)  loss_rpn_box_reg: 0.0014 (0.0018)  time: 0.4751  data: 0.0099  max mem: 7870\n",
            "Epoch: [2]  [160/978]  eta: 0:06:30  lr: 0.005000  loss: 0.2998 (0.3136)  loss_classifier: 0.0686 (0.0699)  loss_box_reg: 0.0331 (0.0413)  loss_mask: 0.1545 (0.1926)  loss_objectness: 0.0058 (0.0081)  loss_rpn_box_reg: 0.0010 (0.0017)  time: 0.4733  data: 0.0098  max mem: 7870\n",
            "Epoch: [2]  [170/978]  eta: 0:06:26  lr: 0.005000  loss: 0.2351 (0.3115)  loss_classifier: 0.0564 (0.0699)  loss_box_reg: 0.0294 (0.0408)  loss_mask: 0.1408 (0.1910)  loss_objectness: 0.0042 (0.0081)  loss_rpn_box_reg: 0.0009 (0.0017)  time: 0.4801  data: 0.0096  max mem: 7870\n",
            "Epoch: [2]  [180/978]  eta: 0:06:21  lr: 0.005000  loss: 0.2351 (0.3076)  loss_classifier: 0.0514 (0.0695)  loss_box_reg: 0.0348 (0.0406)  loss_mask: 0.1290 (0.1878)  loss_objectness: 0.0054 (0.0080)  loss_rpn_box_reg: 0.0010 (0.0017)  time: 0.4848  data: 0.0114  max mem: 7870\n",
            "Epoch: [2]  [190/978]  eta: 0:06:16  lr: 0.005000  loss: 0.2920 (0.3079)  loss_classifier: 0.0704 (0.0701)  loss_box_reg: 0.0423 (0.0407)  loss_mask: 0.1441 (0.1873)  loss_objectness: 0.0057 (0.0081)  loss_rpn_box_reg: 0.0012 (0.0017)  time: 0.4790  data: 0.0113  max mem: 7870\n",
            "Epoch: [2]  [200/978]  eta: 0:06:12  lr: 0.005000  loss: 0.3143 (0.3067)  loss_classifier: 0.0774 (0.0698)  loss_box_reg: 0.0434 (0.0410)  loss_mask: 0.1499 (0.1862)  loss_objectness: 0.0046 (0.0080)  loss_rpn_box_reg: 0.0012 (0.0017)  time: 0.4786  data: 0.0098  max mem: 7870\n",
            "Epoch: [2]  [210/978]  eta: 0:06:06  lr: 0.005000  loss: 0.2637 (0.3048)  loss_classifier: 0.0579 (0.0693)  loss_box_reg: 0.0423 (0.0411)  loss_mask: 0.1364 (0.1848)  loss_objectness: 0.0037 (0.0080)  loss_rpn_box_reg: 0.0016 (0.0017)  time: 0.4754  data: 0.0102  max mem: 7870\n",
            "Epoch: [2]  [220/978]  eta: 0:06:01  lr: 0.005000  loss: 0.2629 (0.3025)  loss_classifier: 0.0595 (0.0696)  loss_box_reg: 0.0376 (0.0411)  loss_mask: 0.1337 (0.1823)  loss_objectness: 0.0028 (0.0078)  loss_rpn_box_reg: 0.0012 (0.0017)  time: 0.4696  data: 0.0098  max mem: 7870\n",
            "Epoch: [2]  [230/978]  eta: 0:05:56  lr: 0.005000  loss: 0.2629 (0.3028)  loss_classifier: 0.0595 (0.0694)  loss_box_reg: 0.0341 (0.0408)  loss_mask: 0.1337 (0.1833)  loss_objectness: 0.0018 (0.0077)  loss_rpn_box_reg: 0.0009 (0.0017)  time: 0.4699  data: 0.0088  max mem: 7870\n",
            "Epoch: [2]  [240/978]  eta: 0:05:51  lr: 0.005000  loss: 0.2696 (0.3042)  loss_classifier: 0.0610 (0.0699)  loss_box_reg: 0.0386 (0.0413)  loss_mask: 0.1365 (0.1837)  loss_objectness: 0.0022 (0.0077)  loss_rpn_box_reg: 0.0010 (0.0017)  time: 0.4702  data: 0.0089  max mem: 7870\n",
            "Epoch: [2]  [250/978]  eta: 0:05:47  lr: 0.005000  loss: 0.2836 (0.3030)  loss_classifier: 0.0916 (0.0707)  loss_box_reg: 0.0401 (0.0412)  loss_mask: 0.1271 (0.1818)  loss_objectness: 0.0036 (0.0076)  loss_rpn_box_reg: 0.0006 (0.0016)  time: 0.4778  data: 0.0096  max mem: 7870\n",
            "Epoch: [2]  [260/978]  eta: 0:05:42  lr: 0.005000  loss: 0.2626 (0.3012)  loss_classifier: 0.0790 (0.0705)  loss_box_reg: 0.0338 (0.0409)  loss_mask: 0.1259 (0.1807)  loss_objectness: 0.0030 (0.0075)  loss_rpn_box_reg: 0.0009 (0.0016)  time: 0.4805  data: 0.0096  max mem: 7870\n",
            "Epoch: [2]  [270/978]  eta: 0:05:37  lr: 0.005000  loss: 0.2184 (0.2982)  loss_classifier: 0.0461 (0.0701)  loss_box_reg: 0.0287 (0.0405)  loss_mask: 0.1230 (0.1785)  loss_objectness: 0.0041 (0.0076)  loss_rpn_box_reg: 0.0009 (0.0016)  time: 0.4800  data: 0.0091  max mem: 7870\n",
            "Epoch: [2]  [280/978]  eta: 0:05:33  lr: 0.005000  loss: 0.2571 (0.2986)  loss_classifier: 0.0623 (0.0703)  loss_box_reg: 0.0364 (0.0407)  loss_mask: 0.1324 (0.1786)  loss_objectness: 0.0034 (0.0074)  loss_rpn_box_reg: 0.0008 (0.0016)  time: 0.4847  data: 0.0089  max mem: 7870\n",
            "Epoch: [2]  [290/978]  eta: 0:05:28  lr: 0.005000  loss: 0.2753 (0.2992)  loss_classifier: 0.0623 (0.0709)  loss_box_reg: 0.0479 (0.0412)  loss_mask: 0.1532 (0.1781)  loss_objectness: 0.0022 (0.0074)  loss_rpn_box_reg: 0.0009 (0.0016)  time: 0.4818  data: 0.0090  max mem: 7870\n",
            "Epoch: [2]  [300/978]  eta: 0:05:23  lr: 0.005000  loss: 0.2753 (0.2972)  loss_classifier: 0.0573 (0.0707)  loss_box_reg: 0.0408 (0.0410)  loss_mask: 0.1558 (0.1767)  loss_objectness: 0.0031 (0.0073)  loss_rpn_box_reg: 0.0011 (0.0016)  time: 0.4718  data: 0.0095  max mem: 7870\n",
            "Epoch: [2]  [310/978]  eta: 0:05:18  lr: 0.005000  loss: 0.2196 (0.2969)  loss_classifier: 0.0480 (0.0708)  loss_box_reg: 0.0358 (0.0411)  loss_mask: 0.1338 (0.1762)  loss_objectness: 0.0032 (0.0073)  loss_rpn_box_reg: 0.0010 (0.0015)  time: 0.4723  data: 0.0095  max mem: 7870\n",
            "Epoch: [2]  [320/978]  eta: 0:05:13  lr: 0.005000  loss: 0.2096 (0.2954)  loss_classifier: 0.0563 (0.0705)  loss_box_reg: 0.0358 (0.0410)  loss_mask: 0.1209 (0.1752)  loss_objectness: 0.0031 (0.0072)  loss_rpn_box_reg: 0.0007 (0.0015)  time: 0.4703  data: 0.0098  max mem: 7870\n",
            "Epoch: [2]  [330/978]  eta: 0:05:08  lr: 0.005000  loss: 0.2064 (0.2941)  loss_classifier: 0.0484 (0.0701)  loss_box_reg: 0.0317 (0.0409)  loss_mask: 0.1155 (0.1743)  loss_objectness: 0.0025 (0.0073)  loss_rpn_box_reg: 0.0008 (0.0016)  time: 0.4637  data: 0.0097  max mem: 7870\n",
            "Epoch: [2]  [340/978]  eta: 0:05:03  lr: 0.005000  loss: 0.2639 (0.2946)  loss_classifier: 0.0533 (0.0703)  loss_box_reg: 0.0330 (0.0409)  loss_mask: 0.1540 (0.1746)  loss_objectness: 0.0035 (0.0073)  loss_rpn_box_reg: 0.0010 (0.0016)  time: 0.4679  data: 0.0097  max mem: 7870\n",
            "Epoch: [2]  [350/978]  eta: 0:04:59  lr: 0.005000  loss: 0.2681 (0.2931)  loss_classifier: 0.0628 (0.0700)  loss_box_reg: 0.0330 (0.0407)  loss_mask: 0.1540 (0.1736)  loss_objectness: 0.0046 (0.0072)  loss_rpn_box_reg: 0.0009 (0.0016)  time: 0.4776  data: 0.0097  max mem: 7870\n",
            "Epoch: [2]  [360/978]  eta: 0:04:54  lr: 0.005000  loss: 0.2051 (0.2907)  loss_classifier: 0.0473 (0.0695)  loss_box_reg: 0.0336 (0.0405)  loss_mask: 0.0930 (0.1720)  loss_objectness: 0.0035 (0.0071)  loss_rpn_box_reg: 0.0009 (0.0016)  time: 0.4835  data: 0.0095  max mem: 7870\n",
            "Epoch: [2]  [370/978]  eta: 0:04:49  lr: 0.005000  loss: 0.1707 (0.2899)  loss_classifier: 0.0337 (0.0687)  loss_box_reg: 0.0340 (0.0404)  loss_mask: 0.1004 (0.1722)  loss_objectness: 0.0025 (0.0071)  loss_rpn_box_reg: 0.0008 (0.0015)  time: 0.4721  data: 0.0092  max mem: 7870\n",
            "Epoch: [2]  [380/978]  eta: 0:04:44  lr: 0.005000  loss: 0.2474 (0.2901)  loss_classifier: 0.0480 (0.0688)  loss_box_reg: 0.0340 (0.0403)  loss_mask: 0.1341 (0.1724)  loss_objectness: 0.0033 (0.0070)  loss_rpn_box_reg: 0.0008 (0.0015)  time: 0.4641  data: 0.0094  max mem: 7870\n",
            "Epoch: [2]  [390/978]  eta: 0:04:40  lr: 0.005000  loss: 0.2394 (0.2888)  loss_classifier: 0.0609 (0.0685)  loss_box_reg: 0.0359 (0.0403)  loss_mask: 0.1428 (0.1714)  loss_objectness: 0.0058 (0.0070)  loss_rpn_box_reg: 0.0008 (0.0015)  time: 0.4747  data: 0.0095  max mem: 7870\n",
            "Epoch: [2]  [400/978]  eta: 0:04:35  lr: 0.005000  loss: 0.2221 (0.2877)  loss_classifier: 0.0442 (0.0683)  loss_box_reg: 0.0323 (0.0401)  loss_mask: 0.1308 (0.1705)  loss_objectness: 0.0046 (0.0072)  loss_rpn_box_reg: 0.0010 (0.0016)  time: 0.4769  data: 0.0091  max mem: 7870\n",
            "Epoch: [2]  [410/978]  eta: 0:04:30  lr: 0.005000  loss: 0.2077 (0.2863)  loss_classifier: 0.0428 (0.0682)  loss_box_reg: 0.0323 (0.0400)  loss_mask: 0.1171 (0.1693)  loss_objectness: 0.0036 (0.0071)  loss_rpn_box_reg: 0.0010 (0.0016)  time: 0.4746  data: 0.0093  max mem: 7870\n",
            "Epoch: [2]  [420/978]  eta: 0:04:25  lr: 0.005000  loss: 0.2795 (0.2877)  loss_classifier: 0.0443 (0.0682)  loss_box_reg: 0.0365 (0.0399)  loss_mask: 0.1233 (0.1708)  loss_objectness: 0.0056 (0.0072)  loss_rpn_box_reg: 0.0008 (0.0016)  time: 0.4781  data: 0.0091  max mem: 7870\n",
            "Epoch: [2]  [430/978]  eta: 0:04:20  lr: 0.005000  loss: 0.3018 (0.2884)  loss_classifier: 0.0488 (0.0685)  loss_box_reg: 0.0372 (0.0399)  loss_mask: 0.1881 (0.1712)  loss_objectness: 0.0062 (0.0071)  loss_rpn_box_reg: 0.0012 (0.0016)  time: 0.4684  data: 0.0088  max mem: 7870\n",
            "Epoch: [2]  [440/978]  eta: 0:04:15  lr: 0.005000  loss: 0.3006 (0.2887)  loss_classifier: 0.0520 (0.0683)  loss_box_reg: 0.0339 (0.0398)  loss_mask: 0.1635 (0.1719)  loss_objectness: 0.0044 (0.0071)  loss_rpn_box_reg: 0.0011 (0.0016)  time: 0.4652  data: 0.0089  max mem: 7870\n",
            "Epoch: [2]  [450/978]  eta: 0:04:10  lr: 0.005000  loss: 0.2762 (0.2874)  loss_classifier: 0.0490 (0.0679)  loss_box_reg: 0.0260 (0.0395)  loss_mask: 0.1549 (0.1713)  loss_objectness: 0.0027 (0.0072)  loss_rpn_box_reg: 0.0009 (0.0016)  time: 0.4640  data: 0.0091  max mem: 7870\n",
            "Epoch: [2]  [460/978]  eta: 0:04:06  lr: 0.005000  loss: 0.2536 (0.2870)  loss_classifier: 0.0550 (0.0679)  loss_box_reg: 0.0304 (0.0394)  loss_mask: 0.1614 (0.1709)  loss_objectness: 0.0029 (0.0072)  loss_rpn_box_reg: 0.0012 (0.0016)  time: 0.4633  data: 0.0090  max mem: 7870\n",
            "Epoch: [2]  [470/978]  eta: 0:04:01  lr: 0.005000  loss: 0.2383 (0.2850)  loss_classifier: 0.0629 (0.0677)  loss_box_reg: 0.0356 (0.0392)  loss_mask: 0.1296 (0.1694)  loss_objectness: 0.0035 (0.0071)  loss_rpn_box_reg: 0.0011 (0.0016)  time: 0.4675  data: 0.0090  max mem: 7870\n",
            "Epoch: [2]  [480/978]  eta: 0:03:56  lr: 0.005000  loss: 0.2141 (0.2851)  loss_classifier: 0.0547 (0.0677)  loss_box_reg: 0.0331 (0.0391)  loss_mask: 0.0938 (0.1697)  loss_objectness: 0.0040 (0.0071)  loss_rpn_box_reg: 0.0012 (0.0016)  time: 0.4627  data: 0.0094  max mem: 7870\n",
            "Epoch: [2]  [490/978]  eta: 0:03:51  lr: 0.005000  loss: 0.2805 (0.2850)  loss_classifier: 0.0663 (0.0678)  loss_box_reg: 0.0312 (0.0391)  loss_mask: 0.1532 (0.1694)  loss_objectness: 0.0040 (0.0070)  loss_rpn_box_reg: 0.0013 (0.0016)  time: 0.4691  data: 0.0099  max mem: 7870\n",
            "Epoch: [2]  [500/978]  eta: 0:03:46  lr: 0.005000  loss: 0.2855 (0.2853)  loss_classifier: 0.0702 (0.0680)  loss_box_reg: 0.0479 (0.0394)  loss_mask: 0.1536 (0.1693)  loss_objectness: 0.0032 (0.0070)  loss_rpn_box_reg: 0.0009 (0.0016)  time: 0.4811  data: 0.0099  max mem: 7870\n",
            "Epoch: [2]  [510/978]  eta: 0:03:42  lr: 0.005000  loss: 0.3020 (0.2858)  loss_classifier: 0.0601 (0.0680)  loss_box_reg: 0.0447 (0.0395)  loss_mask: 0.1672 (0.1696)  loss_objectness: 0.0032 (0.0071)  loss_rpn_box_reg: 0.0014 (0.0016)  time: 0.5037  data: 0.0095  max mem: 7870\n",
            "Epoch: [2]  [520/978]  eta: 0:03:37  lr: 0.005000  loss: 0.3127 (0.2863)  loss_classifier: 0.0601 (0.0681)  loss_box_reg: 0.0424 (0.0397)  loss_mask: 0.1686 (0.1696)  loss_objectness: 0.0039 (0.0073)  loss_rpn_box_reg: 0.0015 (0.0016)  time: 0.5001  data: 0.0096  max mem: 7870\n",
            "Epoch: [2]  [530/978]  eta: 0:03:33  lr: 0.005000  loss: 0.2494 (0.2848)  loss_classifier: 0.0587 (0.0678)  loss_box_reg: 0.0298 (0.0395)  loss_mask: 0.1493 (0.1686)  loss_objectness: 0.0039 (0.0073)  loss_rpn_box_reg: 0.0015 (0.0016)  time: 0.4708  data: 0.0096  max mem: 7870\n",
            "Epoch: [2]  [540/978]  eta: 0:03:28  lr: 0.005000  loss: 0.1912 (0.2837)  loss_classifier: 0.0475 (0.0673)  loss_box_reg: 0.0298 (0.0394)  loss_mask: 0.1104 (0.1681)  loss_objectness: 0.0041 (0.0073)  loss_rpn_box_reg: 0.0007 (0.0016)  time: 0.4697  data: 0.0090  max mem: 7870\n",
            "Epoch: [2]  [550/978]  eta: 0:03:23  lr: 0.005000  loss: 0.2610 (0.2853)  loss_classifier: 0.0599 (0.0677)  loss_box_reg: 0.0417 (0.0395)  loss_mask: 0.1361 (0.1691)  loss_objectness: 0.0044 (0.0073)  loss_rpn_box_reg: 0.0007 (0.0016)  time: 0.4795  data: 0.0088  max mem: 7870\n",
            "Epoch: [2]  [560/978]  eta: 0:03:18  lr: 0.005000  loss: 0.2770 (0.2855)  loss_classifier: 0.0599 (0.0676)  loss_box_reg: 0.0386 (0.0395)  loss_mask: 0.1591 (0.1695)  loss_objectness: 0.0071 (0.0073)  loss_rpn_box_reg: 0.0010 (0.0016)  time: 0.4807  data: 0.0094  max mem: 7870\n",
            "Epoch: [2]  [570/978]  eta: 0:03:14  lr: 0.005000  loss: 0.2213 (0.2846)  loss_classifier: 0.0519 (0.0674)  loss_box_reg: 0.0294 (0.0394)  loss_mask: 0.1412 (0.1688)  loss_objectness: 0.0071 (0.0074)  loss_rpn_box_reg: 0.0010 (0.0016)  time: 0.4677  data: 0.0097  max mem: 7870\n",
            "Epoch: [2]  [580/978]  eta: 0:03:09  lr: 0.005000  loss: 0.2251 (0.2848)  loss_classifier: 0.0557 (0.0676)  loss_box_reg: 0.0311 (0.0394)  loss_mask: 0.1351 (0.1688)  loss_objectness: 0.0039 (0.0073)  loss_rpn_box_reg: 0.0010 (0.0016)  time: 0.4621  data: 0.0096  max mem: 7870\n",
            "Epoch: [2]  [590/978]  eta: 0:03:04  lr: 0.005000  loss: 0.2835 (0.2855)  loss_classifier: 0.0798 (0.0679)  loss_box_reg: 0.0372 (0.0394)  loss_mask: 0.1603 (0.1691)  loss_objectness: 0.0067 (0.0074)  loss_rpn_box_reg: 0.0008 (0.0016)  time: 0.4643  data: 0.0098  max mem: 7870\n",
            "Epoch: [2]  [600/978]  eta: 0:02:59  lr: 0.005000  loss: 0.2854 (0.2859)  loss_classifier: 0.0710 (0.0679)  loss_box_reg: 0.0402 (0.0396)  loss_mask: 0.1776 (0.1694)  loss_objectness: 0.0045 (0.0074)  loss_rpn_box_reg: 0.0010 (0.0016)  time: 0.4680  data: 0.0096  max mem: 7870\n",
            "Epoch: [2]  [610/978]  eta: 0:02:54  lr: 0.005000  loss: 0.2754 (0.2864)  loss_classifier: 0.0690 (0.0680)  loss_box_reg: 0.0444 (0.0397)  loss_mask: 0.1740 (0.1697)  loss_objectness: 0.0035 (0.0073)  loss_rpn_box_reg: 0.0010 (0.0016)  time: 0.4772  data: 0.0102  max mem: 7870\n",
            "Epoch: [2]  [620/978]  eta: 0:02:50  lr: 0.005000  loss: 0.2643 (0.2862)  loss_classifier: 0.0877 (0.0683)  loss_box_reg: 0.0430 (0.0398)  loss_mask: 0.1521 (0.1692)  loss_objectness: 0.0065 (0.0074)  loss_rpn_box_reg: 0.0008 (0.0016)  time: 0.4849  data: 0.0102  max mem: 7870\n",
            "Epoch: [2]  [630/978]  eta: 0:02:45  lr: 0.005000  loss: 0.2704 (0.2855)  loss_classifier: 0.0640 (0.0680)  loss_box_reg: 0.0430 (0.0397)  loss_mask: 0.1497 (0.1688)  loss_objectness: 0.0064 (0.0074)  loss_rpn_box_reg: 0.0008 (0.0016)  time: 0.4774  data: 0.0092  max mem: 7870\n",
            "Epoch: [2]  [640/978]  eta: 0:02:40  lr: 0.005000  loss: 0.2704 (0.2853)  loss_classifier: 0.0480 (0.0680)  loss_box_reg: 0.0403 (0.0397)  loss_mask: 0.1541 (0.1687)  loss_objectness: 0.0037 (0.0073)  loss_rpn_box_reg: 0.0008 (0.0016)  time: 0.4727  data: 0.0093  max mem: 7870\n",
            "Epoch: [2]  [650/978]  eta: 0:02:36  lr: 0.005000  loss: 0.2717 (0.2855)  loss_classifier: 0.0637 (0.0680)  loss_box_reg: 0.0412 (0.0398)  loss_mask: 0.1614 (0.1688)  loss_objectness: 0.0040 (0.0074)  loss_rpn_box_reg: 0.0012 (0.0016)  time: 0.4921  data: 0.0095  max mem: 7870\n",
            "Epoch: [2]  [660/978]  eta: 0:02:31  lr: 0.005000  loss: 0.3140 (0.2878)  loss_classifier: 0.0934 (0.0684)  loss_box_reg: 0.0427 (0.0399)  loss_mask: 0.1723 (0.1704)  loss_objectness: 0.0056 (0.0075)  loss_rpn_box_reg: 0.0017 (0.0016)  time: 0.4805  data: 0.0092  max mem: 7870\n",
            "Epoch: [2]  [670/978]  eta: 0:02:26  lr: 0.005000  loss: 0.2918 (0.2877)  loss_classifier: 0.0749 (0.0684)  loss_box_reg: 0.0428 (0.0399)  loss_mask: 0.1619 (0.1703)  loss_objectness: 0.0065 (0.0075)  loss_rpn_box_reg: 0.0014 (0.0016)  time: 0.4689  data: 0.0093  max mem: 7870\n",
            "Epoch: [2]  [680/978]  eta: 0:02:21  lr: 0.005000  loss: 0.2785 (0.2870)  loss_classifier: 0.0670 (0.0683)  loss_box_reg: 0.0428 (0.0400)  loss_mask: 0.1393 (0.1697)  loss_objectness: 0.0036 (0.0074)  loss_rpn_box_reg: 0.0012 (0.0016)  time: 0.4768  data: 0.0095  max mem: 7870\n",
            "Epoch: [2]  [690/978]  eta: 0:02:16  lr: 0.005000  loss: 0.2897 (0.2881)  loss_classifier: 0.0673 (0.0688)  loss_box_reg: 0.0348 (0.0401)  loss_mask: 0.1393 (0.1702)  loss_objectness: 0.0038 (0.0075)  loss_rpn_box_reg: 0.0009 (0.0016)  time: 0.4731  data: 0.0094  max mem: 7870\n",
            "Epoch: [2]  [700/978]  eta: 0:02:12  lr: 0.005000  loss: 0.2957 (0.2880)  loss_classifier: 0.0720 (0.0686)  loss_box_reg: 0.0395 (0.0401)  loss_mask: 0.1862 (0.1702)  loss_objectness: 0.0062 (0.0075)  loss_rpn_box_reg: 0.0008 (0.0016)  time: 0.4736  data: 0.0094  max mem: 7870\n",
            "Epoch: [2]  [710/978]  eta: 0:02:07  lr: 0.005000  loss: 0.2957 (0.2880)  loss_classifier: 0.0568 (0.0685)  loss_box_reg: 0.0289 (0.0400)  loss_mask: 0.1862 (0.1705)  loss_objectness: 0.0041 (0.0074)  loss_rpn_box_reg: 0.0008 (0.0016)  time: 0.4852  data: 0.0094  max mem: 7870\n",
            "Epoch: [2]  [720/978]  eta: 0:02:02  lr: 0.005000  loss: 0.3321 (0.2885)  loss_classifier: 0.0568 (0.0684)  loss_box_reg: 0.0289 (0.0400)  loss_mask: 0.1954 (0.1710)  loss_objectness: 0.0041 (0.0074)  loss_rpn_box_reg: 0.0007 (0.0016)  time: 0.4810  data: 0.0099  max mem: 7870\n",
            "Epoch: [2]  [730/978]  eta: 0:01:57  lr: 0.005000  loss: 0.3333 (0.2885)  loss_classifier: 0.0619 (0.0683)  loss_box_reg: 0.0332 (0.0399)  loss_mask: 0.1989 (0.1712)  loss_objectness: 0.0052 (0.0074)  loss_rpn_box_reg: 0.0008 (0.0016)  time: 0.4721  data: 0.0100  max mem: 7870\n",
            "Epoch: [2]  [740/978]  eta: 0:01:53  lr: 0.005000  loss: 0.3273 (0.2882)  loss_classifier: 0.0557 (0.0682)  loss_box_reg: 0.0354 (0.0399)  loss_mask: 0.1849 (0.1712)  loss_objectness: 0.0039 (0.0074)  loss_rpn_box_reg: 0.0009 (0.0016)  time: 0.4776  data: 0.0099  max mem: 7870\n",
            "Epoch: [2]  [750/978]  eta: 0:01:48  lr: 0.005000  loss: 0.2032 (0.2872)  loss_classifier: 0.0405 (0.0679)  loss_box_reg: 0.0354 (0.0398)  loss_mask: 0.1304 (0.1706)  loss_objectness: 0.0033 (0.0074)  loss_rpn_box_reg: 0.0009 (0.0016)  time: 0.4714  data: 0.0092  max mem: 7870\n",
            "Epoch: [2]  [760/978]  eta: 0:01:43  lr: 0.005000  loss: 0.2141 (0.2866)  loss_classifier: 0.0405 (0.0678)  loss_box_reg: 0.0308 (0.0397)  loss_mask: 0.1192 (0.1702)  loss_objectness: 0.0037 (0.0074)  loss_rpn_box_reg: 0.0008 (0.0016)  time: 0.4676  data: 0.0088  max mem: 7870\n",
            "Epoch: [2]  [770/978]  eta: 0:01:38  lr: 0.005000  loss: 0.2235 (0.2868)  loss_classifier: 0.0467 (0.0677)  loss_box_reg: 0.0366 (0.0397)  loss_mask: 0.1303 (0.1705)  loss_objectness: 0.0044 (0.0073)  loss_rpn_box_reg: 0.0008 (0.0015)  time: 0.4724  data: 0.0095  max mem: 7870\n",
            "Epoch: [2]  [780/978]  eta: 0:01:34  lr: 0.005000  loss: 0.2874 (0.2871)  loss_classifier: 0.0599 (0.0676)  loss_box_reg: 0.0301 (0.0396)  loss_mask: 0.1462 (0.1709)  loss_objectness: 0.0042 (0.0074)  loss_rpn_box_reg: 0.0013 (0.0016)  time: 0.4670  data: 0.0098  max mem: 7870\n",
            "Epoch: [2]  [790/978]  eta: 0:01:29  lr: 0.005000  loss: 0.2844 (0.2874)  loss_classifier: 0.0726 (0.0678)  loss_box_reg: 0.0363 (0.0396)  loss_mask: 0.1581 (0.1711)  loss_objectness: 0.0035 (0.0073)  loss_rpn_box_reg: 0.0014 (0.0016)  time: 0.4827  data: 0.0096  max mem: 7870\n",
            "Epoch: [2]  [800/978]  eta: 0:01:24  lr: 0.005000  loss: 0.2844 (0.2876)  loss_classifier: 0.0719 (0.0678)  loss_box_reg: 0.0363 (0.0396)  loss_mask: 0.1581 (0.1712)  loss_objectness: 0.0025 (0.0074)  loss_rpn_box_reg: 0.0010 (0.0016)  time: 0.4915  data: 0.0091  max mem: 7870\n",
            "Epoch: [2]  [810/978]  eta: 0:01:19  lr: 0.005000  loss: 0.3015 (0.2882)  loss_classifier: 0.0685 (0.0680)  loss_box_reg: 0.0416 (0.0397)  loss_mask: 0.1597 (0.1716)  loss_objectness: 0.0033 (0.0074)  loss_rpn_box_reg: 0.0010 (0.0016)  time: 0.4703  data: 0.0091  max mem: 7870\n",
            "Epoch: [2]  [820/978]  eta: 0:01:15  lr: 0.005000  loss: 0.3401 (0.2890)  loss_classifier: 0.0852 (0.0683)  loss_box_reg: 0.0554 (0.0399)  loss_mask: 0.1714 (0.1718)  loss_objectness: 0.0036 (0.0074)  loss_rpn_box_reg: 0.0015 (0.0016)  time: 0.4766  data: 0.0095  max mem: 7870\n",
            "Epoch: [2]  [830/978]  eta: 0:01:10  lr: 0.005000  loss: 0.3014 (0.2888)  loss_classifier: 0.0668 (0.0683)  loss_box_reg: 0.0383 (0.0399)  loss_mask: 0.1714 (0.1716)  loss_objectness: 0.0052 (0.0074)  loss_rpn_box_reg: 0.0016 (0.0016)  time: 0.4836  data: 0.0094  max mem: 7870\n",
            "Epoch: [2]  [840/978]  eta: 0:01:05  lr: 0.005000  loss: 0.2342 (0.2887)  loss_classifier: 0.0645 (0.0685)  loss_box_reg: 0.0345 (0.0399)  loss_mask: 0.1224 (0.1713)  loss_objectness: 0.0046 (0.0073)  loss_rpn_box_reg: 0.0011 (0.0016)  time: 0.5012  data: 0.0093  max mem: 7870\n",
            "Epoch: [2]  [850/978]  eta: 0:01:00  lr: 0.005000  loss: 0.2235 (0.2879)  loss_classifier: 0.0576 (0.0683)  loss_box_reg: 0.0280 (0.0398)  loss_mask: 0.0970 (0.1708)  loss_objectness: 0.0033 (0.0074)  loss_rpn_box_reg: 0.0009 (0.0016)  time: 0.4950  data: 0.0096  max mem: 7870\n",
            "Epoch: [2]  [860/978]  eta: 0:00:56  lr: 0.005000  loss: 0.1973 (0.2870)  loss_classifier: 0.0320 (0.0681)  loss_box_reg: 0.0228 (0.0397)  loss_mask: 0.0871 (0.1702)  loss_objectness: 0.0045 (0.0074)  loss_rpn_box_reg: 0.0010 (0.0016)  time: 0.4634  data: 0.0095  max mem: 7870\n",
            "Epoch: [2]  [870/978]  eta: 0:00:51  lr: 0.005000  loss: 0.2503 (0.2874)  loss_classifier: 0.0630 (0.0683)  loss_box_reg: 0.0351 (0.0397)  loss_mask: 0.1398 (0.1703)  loss_objectness: 0.0067 (0.0074)  loss_rpn_box_reg: 0.0012 (0.0016)  time: 0.4712  data: 0.0090  max mem: 7870\n",
            "Epoch: [2]  [880/978]  eta: 0:00:46  lr: 0.005000  loss: 0.2345 (0.2867)  loss_classifier: 0.0630 (0.0682)  loss_box_reg: 0.0363 (0.0397)  loss_mask: 0.1398 (0.1698)  loss_objectness: 0.0055 (0.0074)  loss_rpn_box_reg: 0.0010 (0.0016)  time: 0.4865  data: 0.0093  max mem: 7870\n",
            "Epoch: [2]  [890/978]  eta: 0:00:41  lr: 0.005000  loss: 0.2285 (0.2869)  loss_classifier: 0.0480 (0.0680)  loss_box_reg: 0.0318 (0.0396)  loss_mask: 0.1420 (0.1701)  loss_objectness: 0.0041 (0.0074)  loss_rpn_box_reg: 0.0008 (0.0016)  time: 0.5005  data: 0.0096  max mem: 7870\n",
            "Epoch: [2]  [900/978]  eta: 0:00:37  lr: 0.005000  loss: 0.2453 (0.2869)  loss_classifier: 0.0444 (0.0680)  loss_box_reg: 0.0300 (0.0397)  loss_mask: 0.1474 (0.1701)  loss_objectness: 0.0032 (0.0074)  loss_rpn_box_reg: 0.0009 (0.0016)  time: 0.5152  data: 0.0092  max mem: 7870\n",
            "Epoch: [2]  [910/978]  eta: 0:00:32  lr: 0.005000  loss: 0.2453 (0.2866)  loss_classifier: 0.0454 (0.0679)  loss_box_reg: 0.0300 (0.0396)  loss_mask: 0.1370 (0.1700)  loss_objectness: 0.0039 (0.0074)  loss_rpn_box_reg: 0.0014 (0.0016)  time: 0.4967  data: 0.0098  max mem: 7870\n",
            "Epoch: [2]  [920/978]  eta: 0:00:27  lr: 0.005000  loss: 0.3008 (0.2875)  loss_classifier: 0.0563 (0.0678)  loss_box_reg: 0.0416 (0.0397)  loss_mask: 0.1660 (0.1710)  loss_objectness: 0.0039 (0.0074)  loss_rpn_box_reg: 0.0016 (0.0016)  time: 0.4929  data: 0.0130  max mem: 7870\n",
            "Epoch: [2]  [930/978]  eta: 0:00:22  lr: 0.005000  loss: 0.2502 (0.2868)  loss_classifier: 0.0384 (0.0675)  loss_box_reg: 0.0266 (0.0395)  loss_mask: 0.1555 (0.1707)  loss_objectness: 0.0036 (0.0074)  loss_rpn_box_reg: 0.0011 (0.0016)  time: 0.5120  data: 0.0187  max mem: 7870\n",
            "Epoch: [2]  [940/978]  eta: 0:00:18  lr: 0.005000  loss: 0.1937 (0.2874)  loss_classifier: 0.0384 (0.0676)  loss_box_reg: 0.0238 (0.0397)  loss_mask: 0.1091 (0.1711)  loss_objectness: 0.0043 (0.0074)  loss_rpn_box_reg: 0.0009 (0.0016)  time: 0.5042  data: 0.0199  max mem: 7870\n",
            "Epoch: [2]  [950/978]  eta: 0:00:13  lr: 0.005000  loss: 0.2470 (0.2868)  loss_classifier: 0.0520 (0.0674)  loss_box_reg: 0.0548 (0.0397)  loss_mask: 0.1218 (0.1706)  loss_objectness: 0.0045 (0.0074)  loss_rpn_box_reg: 0.0011 (0.0016)  time: 0.5045  data: 0.0187  max mem: 7870\n",
            "Epoch: [2]  [960/978]  eta: 0:00:08  lr: 0.005000  loss: 0.2133 (0.2862)  loss_classifier: 0.0505 (0.0673)  loss_box_reg: 0.0354 (0.0397)  loss_mask: 0.1165 (0.1702)  loss_objectness: 0.0018 (0.0074)  loss_rpn_box_reg: 0.0007 (0.0016)  time: 0.4853  data: 0.0144  max mem: 7870\n",
            "Epoch: [2]  [970/978]  eta: 0:00:03  lr: 0.005000  loss: 0.2432 (0.2872)  loss_classifier: 0.0701 (0.0676)  loss_box_reg: 0.0431 (0.0398)  loss_mask: 0.1520 (0.1707)  loss_objectness: 0.0019 (0.0074)  loss_rpn_box_reg: 0.0010 (0.0016)  time: 0.4636  data: 0.0093  max mem: 7870\n",
            "Epoch: [2]  [977/978]  eta: 0:00:00  lr: 0.005000  loss: 0.2400 (0.2870)  loss_classifier: 0.0700 (0.0676)  loss_box_reg: 0.0431 (0.0398)  loss_mask: 0.1556 (0.1706)  loss_objectness: 0.0051 (0.0074)  loss_rpn_box_reg: 0.0006 (0.0016)  time: 0.4577  data: 0.0087  max mem: 7870\n",
            "Epoch: [2] Total time: 0:07:47 (0.4780 s / it)\n",
            "creating index...\n",
            "index created!\n",
            "Test:  [  0/400]  eta: 0:02:52  model_time: 0.1731 (0.1731)  evaluator_time: 0.0142 (0.0142)  time: 0.4307  data: 0.2415  max mem: 7870\n",
            "Test:  [100/400]  eta: 0:00:34  model_time: 0.0911 (0.0936)  evaluator_time: 0.0120 (0.0118)  time: 0.1151  data: 0.0073  max mem: 7870\n",
            "Test:  [200/400]  eta: 0:00:22  model_time: 0.0905 (0.0933)  evaluator_time: 0.0090 (0.0117)  time: 0.1077  data: 0.0045  max mem: 7870\n",
            "Test:  [300/400]  eta: 0:00:11  model_time: 0.0925 (0.0936)  evaluator_time: 0.0102 (0.0117)  time: 0.1164  data: 0.0046  max mem: 7870\n",
            "Test:  [399/400]  eta: 0:00:00  model_time: 0.0910 (0.0936)  evaluator_time: 0.0118 (0.0116)  time: 0.1166  data: 0.0117  max mem: 7870\n",
            "Test: Total time: 0:00:45 (0.1130 s / it)\n",
            "Averaged stats: model_time: 0.0910 (0.0936)  evaluator_time: 0.0118 (0.0116)\n",
            "Accumulating evaluation results...\n",
            "DONE (t=0.14s).\n",
            "Accumulating evaluation results...\n",
            "DONE (t=0.15s).\n",
            "IoU metric: bbox\n",
            " Average Precision  (AP) @[ IoU=0.50:0.95 | area=   all | maxDets=100 ] = 0.247\n",
            " Average Precision  (AP) @[ IoU=0.50      | area=   all | maxDets=100 ] = 0.330\n",
            " Average Precision  (AP) @[ IoU=0.75      | area=   all | maxDets=100 ] = 0.290\n",
            " Average Precision  (AP) @[ IoU=0.50:0.95 | area= small | maxDets=100 ] = 0.112\n",
            " Average Precision  (AP) @[ IoU=0.50:0.95 | area=medium | maxDets=100 ] = 0.267\n",
            " Average Precision  (AP) @[ IoU=0.50:0.95 | area= large | maxDets=100 ] = 0.192\n",
            " Average Recall     (AR) @[ IoU=0.50:0.95 | area=   all | maxDets=  1 ] = 0.327\n",
            " Average Recall     (AR) @[ IoU=0.50:0.95 | area=   all | maxDets= 10 ] = 0.454\n",
            " Average Recall     (AR) @[ IoU=0.50:0.95 | area=   all | maxDets=100 ] = 0.454\n",
            " Average Recall     (AR) @[ IoU=0.50:0.95 | area= small | maxDets=100 ] = 0.350\n",
            " Average Recall     (AR) @[ IoU=0.50:0.95 | area=medium | maxDets=100 ] = 0.493\n",
            " Average Recall     (AR) @[ IoU=0.50:0.95 | area= large | maxDets=100 ] = 0.259\n",
            "IoU metric: segm\n",
            " Average Precision  (AP) @[ IoU=0.50:0.95 | area=   all | maxDets=100 ] = 0.269\n",
            " Average Precision  (AP) @[ IoU=0.50      | area=   all | maxDets=100 ] = 0.325\n",
            " Average Precision  (AP) @[ IoU=0.75      | area=   all | maxDets=100 ] = 0.306\n",
            " Average Precision  (AP) @[ IoU=0.50:0.95 | area= small | maxDets=100 ] = 0.098\n",
            " Average Precision  (AP) @[ IoU=0.50:0.95 | area=medium | maxDets=100 ] = 0.294\n",
            " Average Precision  (AP) @[ IoU=0.50:0.95 | area= large | maxDets=100 ] = 0.209\n",
            " Average Recall     (AR) @[ IoU=0.50:0.95 | area=   all | maxDets=  1 ] = 0.357\n",
            " Average Recall     (AR) @[ IoU=0.50:0.95 | area=   all | maxDets= 10 ] = 0.486\n",
            " Average Recall     (AR) @[ IoU=0.50:0.95 | area=   all | maxDets=100 ] = 0.486\n",
            " Average Recall     (AR) @[ IoU=0.50:0.95 | area= small | maxDets=100 ] = 0.365\n",
            " Average Recall     (AR) @[ IoU=0.50:0.95 | area=medium | maxDets=100 ] = 0.527\n",
            " Average Recall     (AR) @[ IoU=0.50:0.95 | area= large | maxDets=100 ] = 0.278\n",
            "Epoch: [3]  [  0/978]  eta: 0:13:44  lr: 0.000500  loss: 0.1750 (0.1750)  loss_classifier: 0.0553 (0.0553)  loss_box_reg: 0.0254 (0.0254)  loss_mask: 0.0915 (0.0915)  loss_objectness: 0.0022 (0.0022)  loss_rpn_box_reg: 0.0006 (0.0006)  time: 0.8426  data: 0.3514  max mem: 7870\n",
            "Epoch: [3]  [ 10/978]  eta: 0:08:40  lr: 0.000500  loss: 0.2472 (0.2506)  loss_classifier: 0.0693 (0.0720)  loss_box_reg: 0.0377 (0.0426)  loss_mask: 0.1338 (0.1323)  loss_objectness: 0.0025 (0.0027)  loss_rpn_box_reg: 0.0011 (0.0010)  time: 0.5376  data: 0.0392  max mem: 7870\n",
            "Epoch: [3]  [ 20/978]  eta: 0:08:05  lr: 0.000500  loss: 0.2642 (0.2701)  loss_classifier: 0.0711 (0.0761)  loss_box_reg: 0.0378 (0.0444)  loss_mask: 0.1338 (0.1435)  loss_objectness: 0.0034 (0.0049)  loss_rpn_box_reg: 0.0009 (0.0011)  time: 0.4897  data: 0.0085  max mem: 7870\n",
            "Epoch: [3]  [ 30/978]  eta: 0:07:44  lr: 0.000500  loss: 0.2372 (0.2486)  loss_classifier: 0.0659 (0.0670)  loss_box_reg: 0.0352 (0.0397)  loss_mask: 0.1217 (0.1352)  loss_objectness: 0.0039 (0.0052)  loss_rpn_box_reg: 0.0009 (0.0015)  time: 0.4640  data: 0.0088  max mem: 7870\n",
            "Epoch: [3]  [ 40/978]  eta: 0:07:35  lr: 0.000500  loss: 0.2081 (0.2424)  loss_classifier: 0.0368 (0.0615)  loss_box_reg: 0.0287 (0.0371)  loss_mask: 0.1217 (0.1368)  loss_objectness: 0.0035 (0.0053)  loss_rpn_box_reg: 0.0013 (0.0016)  time: 0.4634  data: 0.0092  max mem: 7870\n",
            "Epoch: [3]  [ 50/978]  eta: 0:07:27  lr: 0.000500  loss: 0.1964 (0.2341)  loss_classifier: 0.0368 (0.0593)  loss_box_reg: 0.0242 (0.0359)  loss_mask: 0.1157 (0.1324)  loss_objectness: 0.0020 (0.0050)  loss_rpn_box_reg: 0.0008 (0.0015)  time: 0.4705  data: 0.0091  max mem: 7870\n",
            "Epoch: [3]  [ 60/978]  eta: 0:07:21  lr: 0.000500  loss: 0.1557 (0.2283)  loss_classifier: 0.0339 (0.0572)  loss_box_reg: 0.0233 (0.0343)  loss_mask: 0.0894 (0.1304)  loss_objectness: 0.0020 (0.0050)  loss_rpn_box_reg: 0.0006 (0.0014)  time: 0.4718  data: 0.0087  max mem: 7870\n",
            "Epoch: [3]  [ 70/978]  eta: 0:07:18  lr: 0.000500  loss: 0.1666 (0.2255)  loss_classifier: 0.0298 (0.0572)  loss_box_reg: 0.0233 (0.0337)  loss_mask: 0.0941 (0.1283)  loss_objectness: 0.0038 (0.0050)  loss_rpn_box_reg: 0.0005 (0.0013)  time: 0.4860  data: 0.0091  max mem: 7870\n",
            "Epoch: [3]  [ 80/978]  eta: 0:07:11  lr: 0.000500  loss: 0.2091 (0.2280)  loss_classifier: 0.0379 (0.0559)  loss_box_reg: 0.0279 (0.0333)  loss_mask: 0.1144 (0.1318)  loss_objectness: 0.0036 (0.0057)  loss_rpn_box_reg: 0.0006 (0.0013)  time: 0.4773  data: 0.0094  max mem: 7870\n",
            "Epoch: [3]  [ 90/978]  eta: 0:07:06  lr: 0.000500  loss: 0.2249 (0.2258)  loss_classifier: 0.0379 (0.0553)  loss_box_reg: 0.0303 (0.0336)  loss_mask: 0.1127 (0.1302)  loss_objectness: 0.0020 (0.0053)  loss_rpn_box_reg: 0.0008 (0.0013)  time: 0.4678  data: 0.0092  max mem: 7870\n",
            "Epoch: [3]  [100/978]  eta: 0:07:01  lr: 0.000500  loss: 0.2292 (0.2296)  loss_classifier: 0.0426 (0.0564)  loss_box_reg: 0.0338 (0.0341)  loss_mask: 0.1127 (0.1326)  loss_objectness: 0.0022 (0.0052)  loss_rpn_box_reg: 0.0010 (0.0013)  time: 0.4807  data: 0.0089  max mem: 7870\n",
            "Epoch: [3]  [110/978]  eta: 0:06:54  lr: 0.000500  loss: 0.2203 (0.2239)  loss_classifier: 0.0426 (0.0554)  loss_box_reg: 0.0258 (0.0329)  loss_mask: 0.1191 (0.1291)  loss_objectness: 0.0037 (0.0051)  loss_rpn_box_reg: 0.0010 (0.0014)  time: 0.4662  data: 0.0089  max mem: 7870\n",
            "Epoch: [3]  [120/978]  eta: 0:06:51  lr: 0.000500  loss: 0.1831 (0.2205)  loss_classifier: 0.0440 (0.0552)  loss_box_reg: 0.0266 (0.0329)  loss_mask: 0.0880 (0.1258)  loss_objectness: 0.0026 (0.0053)  loss_rpn_box_reg: 0.0006 (0.0013)  time: 0.4763  data: 0.0090  max mem: 7870\n",
            "Epoch: [3]  [130/978]  eta: 0:06:45  lr: 0.000500  loss: 0.1808 (0.2178)  loss_classifier: 0.0482 (0.0544)  loss_box_reg: 0.0266 (0.0326)  loss_mask: 0.0880 (0.1243)  loss_objectness: 0.0026 (0.0053)  loss_rpn_box_reg: 0.0006 (0.0013)  time: 0.4817  data: 0.0090  max mem: 7870\n",
            "Epoch: [3]  [140/978]  eta: 0:06:40  lr: 0.000500  loss: 0.1734 (0.2167)  loss_classifier: 0.0443 (0.0543)  loss_box_reg: 0.0236 (0.0320)  loss_mask: 0.0970 (0.1238)  loss_objectness: 0.0025 (0.0052)  loss_rpn_box_reg: 0.0007 (0.0013)  time: 0.4701  data: 0.0092  max mem: 7870\n",
            "Epoch: [3]  [150/978]  eta: 0:06:36  lr: 0.000500  loss: 0.1363 (0.2124)  loss_classifier: 0.0317 (0.0531)  loss_box_reg: 0.0188 (0.0312)  loss_mask: 0.0842 (0.1218)  loss_objectness: 0.0025 (0.0050)  loss_rpn_box_reg: 0.0005 (0.0012)  time: 0.4815  data: 0.0093  max mem: 7870\n",
            "Epoch: [3]  [160/978]  eta: 0:06:30  lr: 0.000500  loss: 0.1224 (0.2100)  loss_classifier: 0.0277 (0.0528)  loss_box_reg: 0.0163 (0.0305)  loss_mask: 0.0788 (0.1205)  loss_objectness: 0.0022 (0.0049)  loss_rpn_box_reg: 0.0005 (0.0012)  time: 0.4704  data: 0.0097  max mem: 7870\n",
            "Epoch: [3]  [170/978]  eta: 0:06:25  lr: 0.000500  loss: 0.1364 (0.2081)  loss_classifier: 0.0277 (0.0524)  loss_box_reg: 0.0198 (0.0305)  loss_mask: 0.0823 (0.1190)  loss_objectness: 0.0023 (0.0049)  loss_rpn_box_reg: 0.0009 (0.0012)  time: 0.4668  data: 0.0095  max mem: 7870\n",
            "Epoch: [3]  [180/978]  eta: 0:06:20  lr: 0.000500  loss: 0.1803 (0.2086)  loss_classifier: 0.0430 (0.0528)  loss_box_reg: 0.0251 (0.0303)  loss_mask: 0.1098 (0.1194)  loss_objectness: 0.0027 (0.0049)  loss_rpn_box_reg: 0.0008 (0.0012)  time: 0.4774  data: 0.0094  max mem: 7870\n",
            "Epoch: [3]  [190/978]  eta: 0:06:16  lr: 0.000500  loss: 0.1998 (0.2080)  loss_classifier: 0.0415 (0.0525)  loss_box_reg: 0.0251 (0.0301)  loss_mask: 0.1140 (0.1191)  loss_objectness: 0.0027 (0.0049)  loss_rpn_box_reg: 0.0007 (0.0013)  time: 0.4842  data: 0.0097  max mem: 7870\n",
            "Epoch: [3]  [200/978]  eta: 0:06:10  lr: 0.000500  loss: 0.1361 (0.2050)  loss_classifier: 0.0243 (0.0515)  loss_box_reg: 0.0191 (0.0297)  loss_mask: 0.0813 (0.1176)  loss_objectness: 0.0029 (0.0049)  loss_rpn_box_reg: 0.0008 (0.0013)  time: 0.4728  data: 0.0096  max mem: 7870\n",
            "Epoch: [3]  [210/978]  eta: 0:06:06  lr: 0.000500  loss: 0.1103 (0.2041)  loss_classifier: 0.0205 (0.0512)  loss_box_reg: 0.0182 (0.0295)  loss_mask: 0.0763 (0.1172)  loss_objectness: 0.0029 (0.0049)  loss_rpn_box_reg: 0.0007 (0.0013)  time: 0.4657  data: 0.0097  max mem: 7870\n",
            "Epoch: [3]  [220/978]  eta: 0:06:01  lr: 0.000500  loss: 0.2343 (0.2069)  loss_classifier: 0.0574 (0.0517)  loss_box_reg: 0.0315 (0.0298)  loss_mask: 0.1258 (0.1192)  loss_objectness: 0.0028 (0.0049)  loss_rpn_box_reg: 0.0007 (0.0013)  time: 0.4751  data: 0.0094  max mem: 7870\n",
            "Epoch: [3]  [230/978]  eta: 0:05:56  lr: 0.000500  loss: 0.2905 (0.2099)  loss_classifier: 0.0708 (0.0523)  loss_box_reg: 0.0343 (0.0302)  loss_mask: 0.1507 (0.1212)  loss_objectness: 0.0035 (0.0050)  loss_rpn_box_reg: 0.0009 (0.0013)  time: 0.4721  data: 0.0093  max mem: 7870\n",
            "Epoch: [3]  [240/978]  eta: 0:05:51  lr: 0.000500  loss: 0.2560 (0.2104)  loss_classifier: 0.0417 (0.0519)  loss_box_reg: 0.0268 (0.0300)  loss_mask: 0.1507 (0.1221)  loss_objectness: 0.0039 (0.0050)  loss_rpn_box_reg: 0.0010 (0.0013)  time: 0.4762  data: 0.0093  max mem: 7870\n",
            "Epoch: [3]  [250/978]  eta: 0:05:46  lr: 0.000500  loss: 0.2279 (0.2094)  loss_classifier: 0.0406 (0.0515)  loss_box_reg: 0.0268 (0.0300)  loss_mask: 0.1380 (0.1217)  loss_objectness: 0.0024 (0.0050)  loss_rpn_box_reg: 0.0008 (0.0013)  time: 0.4763  data: 0.0089  max mem: 7870\n",
            "Epoch: [3]  [260/978]  eta: 0:05:42  lr: 0.000500  loss: 0.2195 (0.2125)  loss_classifier: 0.0502 (0.0526)  loss_box_reg: 0.0367 (0.0305)  loss_mask: 0.1380 (0.1230)  loss_objectness: 0.0025 (0.0050)  loss_rpn_box_reg: 0.0007 (0.0013)  time: 0.4743  data: 0.0094  max mem: 7870\n",
            "Epoch: [3]  [270/978]  eta: 0:05:37  lr: 0.000500  loss: 0.1826 (0.2109)  loss_classifier: 0.0405 (0.0519)  loss_box_reg: 0.0253 (0.0300)  loss_mask: 0.1272 (0.1228)  loss_objectness: 0.0032 (0.0049)  loss_rpn_box_reg: 0.0005 (0.0013)  time: 0.4756  data: 0.0093  max mem: 7870\n",
            "Epoch: [3]  [280/978]  eta: 0:05:32  lr: 0.000500  loss: 0.2434 (0.2136)  loss_classifier: 0.0383 (0.0522)  loss_box_reg: 0.0170 (0.0302)  loss_mask: 0.1421 (0.1250)  loss_objectness: 0.0024 (0.0049)  loss_rpn_box_reg: 0.0007 (0.0013)  time: 0.4665  data: 0.0088  max mem: 7870\n",
            "Epoch: [3]  [290/978]  eta: 0:05:27  lr: 0.000500  loss: 0.2461 (0.2142)  loss_classifier: 0.0602 (0.0526)  loss_box_reg: 0.0344 (0.0303)  loss_mask: 0.1396 (0.1251)  loss_objectness: 0.0033 (0.0049)  loss_rpn_box_reg: 0.0010 (0.0013)  time: 0.4663  data: 0.0090  max mem: 7870\n",
            "Epoch: [3]  [300/978]  eta: 0:05:22  lr: 0.000500  loss: 0.2081 (0.2135)  loss_classifier: 0.0335 (0.0521)  loss_box_reg: 0.0263 (0.0300)  loss_mask: 0.1186 (0.1252)  loss_objectness: 0.0039 (0.0050)  loss_rpn_box_reg: 0.0006 (0.0012)  time: 0.4734  data: 0.0093  max mem: 7870\n",
            "Epoch: [3]  [310/978]  eta: 0:05:17  lr: 0.000500  loss: 0.1657 (0.2131)  loss_classifier: 0.0330 (0.0519)  loss_box_reg: 0.0239 (0.0299)  loss_mask: 0.1051 (0.1252)  loss_objectness: 0.0030 (0.0049)  loss_rpn_box_reg: 0.0004 (0.0013)  time: 0.4704  data: 0.0096  max mem: 7870\n",
            "Epoch: [3]  [320/978]  eta: 0:05:12  lr: 0.000500  loss: 0.1552 (0.2130)  loss_classifier: 0.0353 (0.0518)  loss_box_reg: 0.0236 (0.0299)  loss_mask: 0.0804 (0.1252)  loss_objectness: 0.0024 (0.0048)  loss_rpn_box_reg: 0.0006 (0.0013)  time: 0.4602  data: 0.0094  max mem: 7870\n",
            "Epoch: [3]  [330/978]  eta: 0:05:07  lr: 0.000500  loss: 0.1845 (0.2133)  loss_classifier: 0.0353 (0.0516)  loss_box_reg: 0.0296 (0.0299)  loss_mask: 0.1074 (0.1257)  loss_objectness: 0.0026 (0.0048)  loss_rpn_box_reg: 0.0007 (0.0012)  time: 0.4749  data: 0.0094  max mem: 7870\n",
            "Epoch: [3]  [340/978]  eta: 0:05:03  lr: 0.000500  loss: 0.1989 (0.2126)  loss_classifier: 0.0498 (0.0517)  loss_box_reg: 0.0322 (0.0300)  loss_mask: 0.1006 (0.1250)  loss_objectness: 0.0023 (0.0047)  loss_rpn_box_reg: 0.0007 (0.0012)  time: 0.4797  data: 0.0092  max mem: 7870\n",
            "Epoch: [3]  [350/978]  eta: 0:04:58  lr: 0.000500  loss: 0.1998 (0.2134)  loss_classifier: 0.0500 (0.0518)  loss_box_reg: 0.0315 (0.0302)  loss_mask: 0.1132 (0.1255)  loss_objectness: 0.0020 (0.0047)  loss_rpn_box_reg: 0.0008 (0.0012)  time: 0.4715  data: 0.0095  max mem: 7870\n",
            "Epoch: [3]  [360/978]  eta: 0:04:53  lr: 0.000500  loss: 0.1787 (0.2117)  loss_classifier: 0.0274 (0.0516)  loss_box_reg: 0.0212 (0.0298)  loss_mask: 0.1088 (0.1244)  loss_objectness: 0.0020 (0.0047)  loss_rpn_box_reg: 0.0007 (0.0012)  time: 0.4772  data: 0.0100  max mem: 7870\n",
            "Epoch: [3]  [370/978]  eta: 0:04:49  lr: 0.000500  loss: 0.1301 (0.2113)  loss_classifier: 0.0247 (0.0516)  loss_box_reg: 0.0180 (0.0299)  loss_mask: 0.0853 (0.1240)  loss_objectness: 0.0021 (0.0047)  loss_rpn_box_reg: 0.0008 (0.0012)  time: 0.4914  data: 0.0114  max mem: 7870\n",
            "Epoch: [3]  [380/978]  eta: 0:04:44  lr: 0.000500  loss: 0.2042 (0.2115)  loss_classifier: 0.0461 (0.0516)  loss_box_reg: 0.0323 (0.0300)  loss_mask: 0.1105 (0.1241)  loss_objectness: 0.0019 (0.0046)  loss_rpn_box_reg: 0.0006 (0.0012)  time: 0.4908  data: 0.0110  max mem: 7870\n",
            "Epoch: [3]  [390/978]  eta: 0:04:39  lr: 0.000500  loss: 0.2181 (0.2130)  loss_classifier: 0.0603 (0.0520)  loss_box_reg: 0.0304 (0.0301)  loss_mask: 0.1260 (0.1251)  loss_objectness: 0.0022 (0.0046)  loss_rpn_box_reg: 0.0006 (0.0012)  time: 0.4713  data: 0.0089  max mem: 7870\n",
            "Epoch: [3]  [400/978]  eta: 0:04:35  lr: 0.000500  loss: 0.2122 (0.2133)  loss_classifier: 0.0560 (0.0520)  loss_box_reg: 0.0299 (0.0300)  loss_mask: 0.1351 (0.1255)  loss_objectness: 0.0030 (0.0045)  loss_rpn_box_reg: 0.0007 (0.0012)  time: 0.4783  data: 0.0093  max mem: 7870\n",
            "Epoch: [3]  [410/978]  eta: 0:04:30  lr: 0.000500  loss: 0.1757 (0.2123)  loss_classifier: 0.0372 (0.0520)  loss_box_reg: 0.0254 (0.0300)  loss_mask: 0.1167 (0.1246)  loss_objectness: 0.0023 (0.0045)  loss_rpn_box_reg: 0.0006 (0.0012)  time: 0.4902  data: 0.0098  max mem: 7870\n",
            "Epoch: [3]  [420/978]  eta: 0:04:26  lr: 0.000500  loss: 0.2156 (0.2141)  loss_classifier: 0.0594 (0.0524)  loss_box_reg: 0.0269 (0.0300)  loss_mask: 0.1191 (0.1259)  loss_objectness: 0.0039 (0.0046)  loss_rpn_box_reg: 0.0008 (0.0012)  time: 0.4966  data: 0.0099  max mem: 7870\n",
            "Epoch: [3]  [430/978]  eta: 0:04:21  lr: 0.000500  loss: 0.2156 (0.2145)  loss_classifier: 0.0557 (0.0527)  loss_box_reg: 0.0306 (0.0302)  loss_mask: 0.1331 (0.1259)  loss_objectness: 0.0032 (0.0045)  loss_rpn_box_reg: 0.0008 (0.0012)  time: 0.4941  data: 0.0097  max mem: 7870\n",
            "Epoch: [3]  [440/978]  eta: 0:04:16  lr: 0.000500  loss: 0.2003 (0.2138)  loss_classifier: 0.0390 (0.0524)  loss_box_reg: 0.0292 (0.0301)  loss_mask: 0.1127 (0.1256)  loss_objectness: 0.0020 (0.0045)  loss_rpn_box_reg: 0.0006 (0.0012)  time: 0.4748  data: 0.0093  max mem: 7870\n",
            "Epoch: [3]  [450/978]  eta: 0:04:11  lr: 0.000500  loss: 0.1808 (0.2127)  loss_classifier: 0.0419 (0.0522)  loss_box_reg: 0.0254 (0.0300)  loss_mask: 0.0873 (0.1248)  loss_objectness: 0.0025 (0.0045)  loss_rpn_box_reg: 0.0005 (0.0012)  time: 0.4740  data: 0.0091  max mem: 7870\n",
            "Epoch: [3]  [460/978]  eta: 0:04:07  lr: 0.000500  loss: 0.1848 (0.2135)  loss_classifier: 0.0477 (0.0524)  loss_box_reg: 0.0287 (0.0301)  loss_mask: 0.1157 (0.1251)  loss_objectness: 0.0033 (0.0047)  loss_rpn_box_reg: 0.0005 (0.0012)  time: 0.4957  data: 0.0095  max mem: 7870\n",
            "Epoch: [3]  [470/978]  eta: 0:04:02  lr: 0.000500  loss: 0.1848 (0.2133)  loss_classifier: 0.0409 (0.0526)  loss_box_reg: 0.0279 (0.0301)  loss_mask: 0.0995 (0.1248)  loss_objectness: 0.0037 (0.0046)  loss_rpn_box_reg: 0.0004 (0.0012)  time: 0.4876  data: 0.0102  max mem: 7870\n",
            "Epoch: [3]  [480/978]  eta: 0:03:57  lr: 0.000500  loss: 0.1981 (0.2143)  loss_classifier: 0.0433 (0.0527)  loss_box_reg: 0.0279 (0.0301)  loss_mask: 0.0995 (0.1258)  loss_objectness: 0.0031 (0.0046)  loss_rpn_box_reg: 0.0006 (0.0012)  time: 0.4784  data: 0.0098  max mem: 7870\n",
            "Epoch: [3]  [490/978]  eta: 0:03:53  lr: 0.000500  loss: 0.1981 (0.2137)  loss_classifier: 0.0433 (0.0526)  loss_box_reg: 0.0296 (0.0300)  loss_mask: 0.1114 (0.1254)  loss_objectness: 0.0022 (0.0046)  loss_rpn_box_reg: 0.0007 (0.0012)  time: 0.4835  data: 0.0093  max mem: 7870\n",
            "Epoch: [3]  [500/978]  eta: 0:03:48  lr: 0.000500  loss: 0.1975 (0.2142)  loss_classifier: 0.0386 (0.0526)  loss_box_reg: 0.0223 (0.0299)  loss_mask: 0.1225 (0.1259)  loss_objectness: 0.0025 (0.0046)  loss_rpn_box_reg: 0.0007 (0.0012)  time: 0.4861  data: 0.0097  max mem: 7870\n",
            "Epoch: [3]  [510/978]  eta: 0:03:43  lr: 0.000500  loss: 0.1936 (0.2134)  loss_classifier: 0.0450 (0.0525)  loss_box_reg: 0.0160 (0.0297)  loss_mask: 0.1214 (0.1255)  loss_objectness: 0.0020 (0.0045)  loss_rpn_box_reg: 0.0009 (0.0012)  time: 0.4849  data: 0.0097  max mem: 7870\n",
            "Epoch: [3]  [520/978]  eta: 0:03:39  lr: 0.000500  loss: 0.2271 (0.2143)  loss_classifier: 0.0588 (0.0530)  loss_box_reg: 0.0309 (0.0299)  loss_mask: 0.1138 (0.1257)  loss_objectness: 0.0017 (0.0045)  loss_rpn_box_reg: 0.0010 (0.0012)  time: 0.5018  data: 0.0099  max mem: 7870\n",
            "Epoch: [3]  [530/978]  eta: 0:03:34  lr: 0.000500  loss: 0.2516 (0.2143)  loss_classifier: 0.0588 (0.0532)  loss_box_reg: 0.0361 (0.0299)  loss_mask: 0.1217 (0.1255)  loss_objectness: 0.0027 (0.0045)  loss_rpn_box_reg: 0.0010 (0.0012)  time: 0.5003  data: 0.0095  max mem: 7870\n",
            "Epoch: [3]  [540/978]  eta: 0:03:29  lr: 0.000500  loss: 0.1740 (0.2135)  loss_classifier: 0.0397 (0.0530)  loss_box_reg: 0.0236 (0.0298)  loss_mask: 0.1002 (0.1249)  loss_objectness: 0.0039 (0.0045)  loss_rpn_box_reg: 0.0009 (0.0012)  time: 0.4746  data: 0.0089  max mem: 7870\n",
            "Epoch: [3]  [550/978]  eta: 0:03:24  lr: 0.000500  loss: 0.1803 (0.2132)  loss_classifier: 0.0397 (0.0530)  loss_box_reg: 0.0236 (0.0297)  loss_mask: 0.1020 (0.1247)  loss_objectness: 0.0034 (0.0045)  loss_rpn_box_reg: 0.0009 (0.0012)  time: 0.4694  data: 0.0094  max mem: 7870\n",
            "Epoch: [3]  [560/978]  eta: 0:03:20  lr: 0.000500  loss: 0.1894 (0.2124)  loss_classifier: 0.0287 (0.0528)  loss_box_reg: 0.0208 (0.0296)  loss_mask: 0.1122 (0.1244)  loss_objectness: 0.0025 (0.0045)  loss_rpn_box_reg: 0.0006 (0.0012)  time: 0.4802  data: 0.0095  max mem: 7870\n",
            "Epoch: [3]  [570/978]  eta: 0:03:15  lr: 0.000500  loss: 0.2228 (0.2135)  loss_classifier: 0.0516 (0.0529)  loss_box_reg: 0.0278 (0.0297)  loss_mask: 0.1350 (0.1251)  loss_objectness: 0.0018 (0.0046)  loss_rpn_box_reg: 0.0006 (0.0012)  time: 0.4861  data: 0.0096  max mem: 7870\n",
            "Epoch: [3]  [580/978]  eta: 0:03:10  lr: 0.000500  loss: 0.2568 (0.2145)  loss_classifier: 0.0607 (0.0533)  loss_box_reg: 0.0407 (0.0299)  loss_mask: 0.1457 (0.1256)  loss_objectness: 0.0030 (0.0046)  loss_rpn_box_reg: 0.0006 (0.0012)  time: 0.4728  data: 0.0097  max mem: 7870\n",
            "Epoch: [3]  [590/978]  eta: 0:03:05  lr: 0.000500  loss: 0.1833 (0.2139)  loss_classifier: 0.0453 (0.0533)  loss_box_reg: 0.0319 (0.0298)  loss_mask: 0.1012 (0.1251)  loss_objectness: 0.0026 (0.0045)  loss_rpn_box_reg: 0.0006 (0.0012)  time: 0.4736  data: 0.0093  max mem: 7870\n",
            "Epoch: [3]  [600/978]  eta: 0:03:01  lr: 0.000500  loss: 0.1735 (0.2136)  loss_classifier: 0.0424 (0.0532)  loss_box_reg: 0.0239 (0.0298)  loss_mask: 0.1081 (0.1249)  loss_objectness: 0.0011 (0.0045)  loss_rpn_box_reg: 0.0007 (0.0012)  time: 0.4886  data: 0.0099  max mem: 7870\n",
            "Epoch: [3]  [610/978]  eta: 0:02:56  lr: 0.000500  loss: 0.1935 (0.2133)  loss_classifier: 0.0529 (0.0532)  loss_box_reg: 0.0258 (0.0299)  loss_mask: 0.1151 (0.1246)  loss_objectness: 0.0021 (0.0045)  loss_rpn_box_reg: 0.0007 (0.0012)  time: 0.4849  data: 0.0101  max mem: 7870\n",
            "Epoch: [3]  [620/978]  eta: 0:02:51  lr: 0.000500  loss: 0.1970 (0.2133)  loss_classifier: 0.0400 (0.0531)  loss_box_reg: 0.0258 (0.0298)  loss_mask: 0.1280 (0.1248)  loss_objectness: 0.0021 (0.0045)  loss_rpn_box_reg: 0.0005 (0.0011)  time: 0.4678  data: 0.0092  max mem: 7870\n",
            "Epoch: [3]  [630/978]  eta: 0:02:46  lr: 0.000500  loss: 0.2041 (0.2138)  loss_classifier: 0.0347 (0.0530)  loss_box_reg: 0.0236 (0.0299)  loss_mask: 0.1405 (0.1253)  loss_objectness: 0.0021 (0.0044)  loss_rpn_box_reg: 0.0008 (0.0011)  time: 0.4657  data: 0.0091  max mem: 7870\n",
            "Epoch: [3]  [640/978]  eta: 0:02:41  lr: 0.000500  loss: 0.1826 (0.2131)  loss_classifier: 0.0296 (0.0528)  loss_box_reg: 0.0237 (0.0298)  loss_mask: 0.0988 (0.1249)  loss_objectness: 0.0015 (0.0044)  loss_rpn_box_reg: 0.0007 (0.0011)  time: 0.4619  data: 0.0093  max mem: 7870\n",
            "Epoch: [3]  [650/978]  eta: 0:02:36  lr: 0.000500  loss: 0.1650 (0.2124)  loss_classifier: 0.0332 (0.0526)  loss_box_reg: 0.0260 (0.0297)  loss_mask: 0.0949 (0.1245)  loss_objectness: 0.0011 (0.0044)  loss_rpn_box_reg: 0.0003 (0.0011)  time: 0.4633  data: 0.0096  max mem: 7870\n",
            "Epoch: [3]  [660/978]  eta: 0:02:31  lr: 0.000500  loss: 0.1525 (0.2121)  loss_classifier: 0.0332 (0.0526)  loss_box_reg: 0.0245 (0.0297)  loss_mask: 0.0989 (0.1243)  loss_objectness: 0.0018 (0.0044)  loss_rpn_box_reg: 0.0003 (0.0011)  time: 0.4660  data: 0.0093  max mem: 7870\n",
            "Epoch: [3]  [670/978]  eta: 0:02:27  lr: 0.000500  loss: 0.1822 (0.2124)  loss_classifier: 0.0317 (0.0525)  loss_box_reg: 0.0314 (0.0298)  loss_mask: 0.1094 (0.1245)  loss_objectness: 0.0016 (0.0044)  loss_rpn_box_reg: 0.0004 (0.0011)  time: 0.4688  data: 0.0090  max mem: 7870\n",
            "Epoch: [3]  [680/978]  eta: 0:02:22  lr: 0.000500  loss: 0.2104 (0.2129)  loss_classifier: 0.0398 (0.0526)  loss_box_reg: 0.0318 (0.0299)  loss_mask: 0.1178 (0.1248)  loss_objectness: 0.0016 (0.0043)  loss_rpn_box_reg: 0.0010 (0.0011)  time: 0.4797  data: 0.0091  max mem: 7870\n",
            "Epoch: [3]  [690/978]  eta: 0:02:17  lr: 0.000500  loss: 0.2020 (0.2128)  loss_classifier: 0.0413 (0.0525)  loss_box_reg: 0.0288 (0.0300)  loss_mask: 0.1157 (0.1249)  loss_objectness: 0.0029 (0.0043)  loss_rpn_box_reg: 0.0010 (0.0011)  time: 0.4768  data: 0.0092  max mem: 7870\n",
            "Epoch: [3]  [700/978]  eta: 0:02:12  lr: 0.000500  loss: 0.1997 (0.2127)  loss_classifier: 0.0319 (0.0523)  loss_box_reg: 0.0290 (0.0301)  loss_mask: 0.1276 (0.1249)  loss_objectness: 0.0020 (0.0043)  loss_rpn_box_reg: 0.0009 (0.0011)  time: 0.4698  data: 0.0096  max mem: 7870\n",
            "Epoch: [3]  [710/978]  eta: 0:02:08  lr: 0.000500  loss: 0.1927 (0.2130)  loss_classifier: 0.0386 (0.0525)  loss_box_reg: 0.0303 (0.0301)  loss_mask: 0.1236 (0.1249)  loss_objectness: 0.0019 (0.0043)  loss_rpn_box_reg: 0.0005 (0.0011)  time: 0.4830  data: 0.0097  max mem: 7870\n",
            "Epoch: [3]  [720/978]  eta: 0:02:03  lr: 0.000500  loss: 0.1793 (0.2128)  loss_classifier: 0.0438 (0.0523)  loss_box_reg: 0.0274 (0.0300)  loss_mask: 0.1185 (0.1250)  loss_objectness: 0.0022 (0.0043)  loss_rpn_box_reg: 0.0006 (0.0011)  time: 0.4801  data: 0.0098  max mem: 7870\n",
            "Epoch: [3]  [730/978]  eta: 0:01:58  lr: 0.000500  loss: 0.1863 (0.2127)  loss_classifier: 0.0318 (0.0522)  loss_box_reg: 0.0200 (0.0299)  loss_mask: 0.1185 (0.1252)  loss_objectness: 0.0022 (0.0043)  loss_rpn_box_reg: 0.0004 (0.0011)  time: 0.4605  data: 0.0098  max mem: 7870\n",
            "Epoch: [3]  [740/978]  eta: 0:01:53  lr: 0.000500  loss: 0.1715 (0.2123)  loss_classifier: 0.0318 (0.0519)  loss_box_reg: 0.0200 (0.0297)  loss_mask: 0.0932 (0.1252)  loss_objectness: 0.0020 (0.0043)  loss_rpn_box_reg: 0.0003 (0.0011)  time: 0.4586  data: 0.0099  max mem: 7870\n",
            "Epoch: [3]  [750/978]  eta: 0:01:48  lr: 0.000500  loss: 0.1715 (0.2123)  loss_classifier: 0.0382 (0.0521)  loss_box_reg: 0.0250 (0.0298)  loss_mask: 0.0932 (0.1250)  loss_objectness: 0.0021 (0.0043)  loss_rpn_box_reg: 0.0004 (0.0011)  time: 0.4735  data: 0.0104  max mem: 7870\n",
            "Epoch: [3]  [760/978]  eta: 0:01:43  lr: 0.000500  loss: 0.1817 (0.2121)  loss_classifier: 0.0343 (0.0519)  loss_box_reg: 0.0251 (0.0297)  loss_mask: 0.1091 (0.1251)  loss_objectness: 0.0024 (0.0043)  loss_rpn_box_reg: 0.0006 (0.0011)  time: 0.4700  data: 0.0104  max mem: 7870\n",
            "Epoch: [3]  [770/978]  eta: 0:01:39  lr: 0.000500  loss: 0.1769 (0.2122)  loss_classifier: 0.0293 (0.0518)  loss_box_reg: 0.0218 (0.0296)  loss_mask: 0.1004 (0.1253)  loss_objectness: 0.0027 (0.0043)  loss_rpn_box_reg: 0.0007 (0.0011)  time: 0.4589  data: 0.0099  max mem: 7870\n",
            "Epoch: [3]  [780/978]  eta: 0:01:34  lr: 0.000500  loss: 0.1942 (0.2126)  loss_classifier: 0.0367 (0.0519)  loss_box_reg: 0.0290 (0.0296)  loss_mask: 0.1329 (0.1256)  loss_objectness: 0.0030 (0.0043)  loss_rpn_box_reg: 0.0012 (0.0011)  time: 0.4622  data: 0.0092  max mem: 7870\n",
            "Epoch: [3]  [790/978]  eta: 0:01:29  lr: 0.000500  loss: 0.1942 (0.2119)  loss_classifier: 0.0367 (0.0518)  loss_box_reg: 0.0210 (0.0296)  loss_mask: 0.1236 (0.1251)  loss_objectness: 0.0020 (0.0043)  loss_rpn_box_reg: 0.0007 (0.0011)  time: 0.4636  data: 0.0092  max mem: 7870\n",
            "Epoch: [3]  [800/978]  eta: 0:01:24  lr: 0.000500  loss: 0.2019 (0.2125)  loss_classifier: 0.0503 (0.0520)  loss_box_reg: 0.0223 (0.0297)  loss_mask: 0.0982 (0.1254)  loss_objectness: 0.0016 (0.0043)  loss_rpn_box_reg: 0.0006 (0.0011)  time: 0.4744  data: 0.0093  max mem: 7870\n",
            "Epoch: [3]  [810/978]  eta: 0:01:20  lr: 0.000500  loss: 0.2233 (0.2124)  loss_classifier: 0.0521 (0.0520)  loss_box_reg: 0.0296 (0.0297)  loss_mask: 0.1116 (0.1252)  loss_objectness: 0.0023 (0.0043)  loss_rpn_box_reg: 0.0007 (0.0011)  time: 0.4742  data: 0.0095  max mem: 7870\n",
            "Epoch: [3]  [820/978]  eta: 0:01:15  lr: 0.000500  loss: 0.1849 (0.2121)  loss_classifier: 0.0432 (0.0519)  loss_box_reg: 0.0257 (0.0296)  loss_mask: 0.1066 (0.1252)  loss_objectness: 0.0027 (0.0043)  loss_rpn_box_reg: 0.0006 (0.0011)  time: 0.4659  data: 0.0109  max mem: 7870\n",
            "Epoch: [3]  [830/978]  eta: 0:01:10  lr: 0.000500  loss: 0.1551 (0.2119)  loss_classifier: 0.0432 (0.0519)  loss_box_reg: 0.0215 (0.0296)  loss_mask: 0.0909 (0.1251)  loss_objectness: 0.0025 (0.0043)  loss_rpn_box_reg: 0.0006 (0.0011)  time: 0.4757  data: 0.0107  max mem: 7870\n",
            "Epoch: [3]  [840/978]  eta: 0:01:05  lr: 0.000500  loss: 0.1589 (0.2118)  loss_classifier: 0.0408 (0.0518)  loss_box_reg: 0.0248 (0.0296)  loss_mask: 0.0909 (0.1251)  loss_objectness: 0.0023 (0.0043)  loss_rpn_box_reg: 0.0006 (0.0011)  time: 0.4775  data: 0.0092  max mem: 7870\n",
            "Epoch: [3]  [850/978]  eta: 0:01:00  lr: 0.000500  loss: 0.1791 (0.2120)  loss_classifier: 0.0380 (0.0518)  loss_box_reg: 0.0242 (0.0296)  loss_mask: 0.1160 (0.1252)  loss_objectness: 0.0034 (0.0043)  loss_rpn_box_reg: 0.0009 (0.0011)  time: 0.4674  data: 0.0096  max mem: 7870\n",
            "Epoch: [3]  [860/978]  eta: 0:00:56  lr: 0.000500  loss: 0.2015 (0.2119)  loss_classifier: 0.0380 (0.0517)  loss_box_reg: 0.0162 (0.0295)  loss_mask: 0.1290 (0.1252)  loss_objectness: 0.0035 (0.0043)  loss_rpn_box_reg: 0.0011 (0.0011)  time: 0.4663  data: 0.0100  max mem: 7870\n",
            "Epoch: [3]  [870/978]  eta: 0:00:51  lr: 0.000500  loss: 0.2148 (0.2122)  loss_classifier: 0.0439 (0.0517)  loss_box_reg: 0.0254 (0.0296)  loss_mask: 0.1346 (0.1255)  loss_objectness: 0.0035 (0.0043)  loss_rpn_box_reg: 0.0011 (0.0011)  time: 0.4730  data: 0.0096  max mem: 7870\n",
            "Epoch: [3]  [880/978]  eta: 0:00:46  lr: 0.000500  loss: 0.2607 (0.2133)  loss_classifier: 0.0504 (0.0521)  loss_box_reg: 0.0399 (0.0298)  loss_mask: 0.1512 (0.1260)  loss_objectness: 0.0028 (0.0043)  loss_rpn_box_reg: 0.0011 (0.0011)  time: 0.4757  data: 0.0095  max mem: 7870\n",
            "Epoch: [3]  [890/978]  eta: 0:00:41  lr: 0.000500  loss: 0.1991 (0.2126)  loss_classifier: 0.0446 (0.0519)  loss_box_reg: 0.0369 (0.0297)  loss_mask: 0.1260 (0.1256)  loss_objectness: 0.0016 (0.0043)  loss_rpn_box_reg: 0.0011 (0.0011)  time: 0.4789  data: 0.0092  max mem: 7870\n",
            "Epoch: [3]  [900/978]  eta: 0:00:37  lr: 0.000500  loss: 0.1880 (0.2138)  loss_classifier: 0.0438 (0.0519)  loss_box_reg: 0.0369 (0.0299)  loss_mask: 0.1073 (0.1266)  loss_objectness: 0.0016 (0.0043)  loss_rpn_box_reg: 0.0009 (0.0011)  time: 0.4864  data: 0.0095  max mem: 7870\n",
            "Epoch: [3]  [910/978]  eta: 0:00:32  lr: 0.000500  loss: 0.2808 (0.2140)  loss_classifier: 0.0602 (0.0521)  loss_box_reg: 0.0416 (0.0298)  loss_mask: 0.1260 (0.1267)  loss_objectness: 0.0041 (0.0043)  loss_rpn_box_reg: 0.0008 (0.0011)  time: 0.5010  data: 0.0098  max mem: 7870\n",
            "Epoch: [3]  [920/978]  eta: 0:00:27  lr: 0.000500  loss: 0.2062 (0.2143)  loss_classifier: 0.0593 (0.0520)  loss_box_reg: 0.0256 (0.0298)  loss_mask: 0.1208 (0.1269)  loss_objectness: 0.0044 (0.0043)  loss_rpn_box_reg: 0.0009 (0.0011)  time: 0.5000  data: 0.0093  max mem: 7870\n",
            "Epoch: [3]  [930/978]  eta: 0:00:22  lr: 0.000500  loss: 0.1947 (0.2140)  loss_classifier: 0.0319 (0.0519)  loss_box_reg: 0.0179 (0.0298)  loss_mask: 0.1208 (0.1268)  loss_objectness: 0.0026 (0.0043)  loss_rpn_box_reg: 0.0007 (0.0011)  time: 0.4776  data: 0.0093  max mem: 7870\n",
            "Epoch: [3]  [940/978]  eta: 0:00:18  lr: 0.000500  loss: 0.1730 (0.2139)  loss_classifier: 0.0326 (0.0518)  loss_box_reg: 0.0218 (0.0298)  loss_mask: 0.1036 (0.1269)  loss_objectness: 0.0017 (0.0043)  loss_rpn_box_reg: 0.0007 (0.0011)  time: 0.4865  data: 0.0094  max mem: 7870\n",
            "Epoch: [3]  [950/978]  eta: 0:00:13  lr: 0.000500  loss: 0.2290 (0.2144)  loss_classifier: 0.0401 (0.0518)  loss_box_reg: 0.0303 (0.0298)  loss_mask: 0.1232 (0.1274)  loss_objectness: 0.0022 (0.0043)  loss_rpn_box_reg: 0.0008 (0.0011)  time: 0.4942  data: 0.0098  max mem: 7870\n",
            "Epoch: [3]  [960/978]  eta: 0:00:08  lr: 0.000500  loss: 0.2465 (0.2146)  loss_classifier: 0.0401 (0.0517)  loss_box_reg: 0.0303 (0.0299)  loss_mask: 0.1489 (0.1276)  loss_objectness: 0.0028 (0.0043)  loss_rpn_box_reg: 0.0008 (0.0011)  time: 0.4837  data: 0.0099  max mem: 7870\n",
            "Epoch: [3]  [970/978]  eta: 0:00:03  lr: 0.000500  loss: 0.2134 (0.2141)  loss_classifier: 0.0284 (0.0515)  loss_box_reg: 0.0314 (0.0298)  loss_mask: 0.1041 (0.1273)  loss_objectness: 0.0027 (0.0043)  loss_rpn_box_reg: 0.0007 (0.0011)  time: 0.4719  data: 0.0095  max mem: 7870\n",
            "Epoch: [3]  [977/978]  eta: 0:00:00  lr: 0.000500  loss: 0.1849 (0.2142)  loss_classifier: 0.0311 (0.0516)  loss_box_reg: 0.0352 (0.0299)  loss_mask: 0.0989 (0.1272)  loss_objectness: 0.0012 (0.0043)  loss_rpn_box_reg: 0.0007 (0.0011)  time: 0.4535  data: 0.0091  max mem: 7870\n",
            "Epoch: [3] Total time: 0:07:46 (0.4770 s / it)\n",
            "creating index...\n",
            "index created!\n",
            "Test:  [  0/400]  eta: 0:02:54  model_time: 0.1399 (0.1399)  evaluator_time: 0.0104 (0.0104)  time: 0.4373  data: 0.2854  max mem: 7870\n",
            "Test:  [100/400]  eta: 0:00:32  model_time: 0.0864 (0.0903)  evaluator_time: 0.0073 (0.0086)  time: 0.1023  data: 0.0047  max mem: 7870\n",
            "Test:  [200/400]  eta: 0:00:21  model_time: 0.0890 (0.0903)  evaluator_time: 0.0081 (0.0084)  time: 0.1050  data: 0.0046  max mem: 7870\n",
            "Test:  [300/400]  eta: 0:00:10  model_time: 0.0891 (0.0906)  evaluator_time: 0.0073 (0.0086)  time: 0.1079  data: 0.0050  max mem: 7870\n",
            "Test:  [399/400]  eta: 0:00:00  model_time: 0.0883 (0.0908)  evaluator_time: 0.0086 (0.0086)  time: 0.1041  data: 0.0046  max mem: 7870\n",
            "Test: Total time: 0:00:42 (0.1065 s / it)\n",
            "Averaged stats: model_time: 0.0883 (0.0908)  evaluator_time: 0.0086 (0.0086)\n",
            "Accumulating evaluation results...\n",
            "DONE (t=0.13s).\n",
            "Accumulating evaluation results...\n",
            "DONE (t=0.13s).\n",
            "IoU metric: bbox\n",
            " Average Precision  (AP) @[ IoU=0.50:0.95 | area=   all | maxDets=100 ] = 0.291\n",
            " Average Precision  (AP) @[ IoU=0.50      | area=   all | maxDets=100 ] = 0.381\n",
            " Average Precision  (AP) @[ IoU=0.75      | area=   all | maxDets=100 ] = 0.350\n",
            " Average Precision  (AP) @[ IoU=0.50:0.95 | area= small | maxDets=100 ] = 0.140\n",
            " Average Precision  (AP) @[ IoU=0.50:0.95 | area=medium | maxDets=100 ] = 0.321\n",
            " Average Precision  (AP) @[ IoU=0.50:0.95 | area= large | maxDets=100 ] = 0.214\n",
            " Average Recall     (AR) @[ IoU=0.50:0.95 | area=   all | maxDets=  1 ] = 0.380\n",
            " Average Recall     (AR) @[ IoU=0.50:0.95 | area=   all | maxDets= 10 ] = 0.507\n",
            " Average Recall     (AR) @[ IoU=0.50:0.95 | area=   all | maxDets=100 ] = 0.509\n",
            " Average Recall     (AR) @[ IoU=0.50:0.95 | area= small | maxDets=100 ] = 0.401\n",
            " Average Recall     (AR) @[ IoU=0.50:0.95 | area=medium | maxDets=100 ] = 0.538\n",
            " Average Recall     (AR) @[ IoU=0.50:0.95 | area= large | maxDets=100 ] = 0.465\n",
            "IoU metric: segm\n",
            " Average Precision  (AP) @[ IoU=0.50:0.95 | area=   all | maxDets=100 ] = 0.312\n",
            " Average Precision  (AP) @[ IoU=0.50      | area=   all | maxDets=100 ] = 0.384\n",
            " Average Precision  (AP) @[ IoU=0.75      | area=   all | maxDets=100 ] = 0.352\n",
            " Average Precision  (AP) @[ IoU=0.50:0.95 | area= small | maxDets=100 ] = 0.128\n",
            " Average Precision  (AP) @[ IoU=0.50:0.95 | area=medium | maxDets=100 ] = 0.348\n",
            " Average Precision  (AP) @[ IoU=0.50:0.95 | area= large | maxDets=100 ] = 0.406\n",
            " Average Recall     (AR) @[ IoU=0.50:0.95 | area=   all | maxDets=  1 ] = 0.401\n",
            " Average Recall     (AR) @[ IoU=0.50:0.95 | area=   all | maxDets= 10 ] = 0.536\n",
            " Average Recall     (AR) @[ IoU=0.50:0.95 | area=   all | maxDets=100 ] = 0.538\n",
            " Average Recall     (AR) @[ IoU=0.50:0.95 | area= small | maxDets=100 ] = 0.436\n",
            " Average Recall     (AR) @[ IoU=0.50:0.95 | area=medium | maxDets=100 ] = 0.557\n",
            " Average Recall     (AR) @[ IoU=0.50:0.95 | area= large | maxDets=100 ] = 0.540\n",
            "Epoch: [4]  [  0/978]  eta: 0:14:17  lr: 0.000500  loss: 0.1448 (0.1448)  loss_classifier: 0.0453 (0.0453)  loss_box_reg: 0.0290 (0.0290)  loss_mask: 0.0694 (0.0694)  loss_objectness: 0.0007 (0.0007)  loss_rpn_box_reg: 0.0003 (0.0003)  time: 0.8764  data: 0.3796  max mem: 7870\n",
            "Epoch: [4]  [ 10/978]  eta: 0:07:58  lr: 0.000500  loss: 0.1953 (0.1960)  loss_classifier: 0.0453 (0.0495)  loss_box_reg: 0.0182 (0.0214)  loss_mask: 0.0971 (0.1224)  loss_objectness: 0.0013 (0.0017)  loss_rpn_box_reg: 0.0010 (0.0010)  time: 0.4939  data: 0.0407  max mem: 7870\n",
            "Epoch: [4]  [ 20/978]  eta: 0:07:34  lr: 0.000500  loss: 0.1379 (0.1545)  loss_classifier: 0.0333 (0.0385)  loss_box_reg: 0.0153 (0.0162)  loss_mask: 0.0761 (0.0970)  loss_objectness: 0.0013 (0.0020)  loss_rpn_box_reg: 0.0007 (0.0008)  time: 0.4542  data: 0.0082  max mem: 7870\n",
            "Epoch: [4]  [ 30/978]  eta: 0:07:33  lr: 0.000500  loss: 0.1274 (0.1762)  loss_classifier: 0.0267 (0.0489)  loss_box_reg: 0.0145 (0.0195)  loss_mask: 0.0738 (0.1034)  loss_objectness: 0.0013 (0.0033)  loss_rpn_box_reg: 0.0005 (0.0011)  time: 0.4699  data: 0.0093  max mem: 7870\n",
            "Epoch: [4]  [ 40/978]  eta: 0:07:27  lr: 0.000500  loss: 0.1659 (0.1821)  loss_classifier: 0.0274 (0.0490)  loss_box_reg: 0.0295 (0.0215)  loss_mask: 0.1034 (0.1069)  loss_objectness: 0.0028 (0.0037)  loss_rpn_box_reg: 0.0006 (0.0011)  time: 0.4802  data: 0.0093  max mem: 7870\n",
            "Epoch: [4]  [ 50/978]  eta: 0:07:26  lr: 0.000500  loss: 0.1677 (0.1929)  loss_classifier: 0.0507 (0.0515)  loss_box_reg: 0.0295 (0.0244)  loss_mask: 0.1070 (0.1121)  loss_objectness: 0.0030 (0.0038)  loss_rpn_box_reg: 0.0008 (0.0011)  time: 0.4847  data: 0.0094  max mem: 7870\n",
            "Epoch: [4]  [ 60/978]  eta: 0:07:17  lr: 0.000500  loss: 0.2497 (0.2020)  loss_classifier: 0.0382 (0.0512)  loss_box_reg: 0.0234 (0.0260)  loss_mask: 0.1210 (0.1199)  loss_objectness: 0.0020 (0.0038)  loss_rpn_box_reg: 0.0009 (0.0012)  time: 0.4762  data: 0.0090  max mem: 7870\n",
            "Epoch: [4]  [ 70/978]  eta: 0:07:14  lr: 0.000500  loss: 0.1857 (0.2047)  loss_classifier: 0.0382 (0.0527)  loss_box_reg: 0.0304 (0.0268)  loss_mask: 0.1205 (0.1201)  loss_objectness: 0.0027 (0.0039)  loss_rpn_box_reg: 0.0006 (0.0011)  time: 0.4740  data: 0.0094  max mem: 7870\n",
            "Epoch: [4]  [ 80/978]  eta: 0:07:07  lr: 0.000500  loss: 0.1817 (0.2002)  loss_classifier: 0.0412 (0.0519)  loss_box_reg: 0.0242 (0.0263)  loss_mask: 0.1099 (0.1169)  loss_objectness: 0.0022 (0.0041)  loss_rpn_box_reg: 0.0005 (0.0011)  time: 0.4747  data: 0.0096  max mem: 7870\n",
            "Epoch: [4]  [ 90/978]  eta: 0:07:02  lr: 0.000500  loss: 0.1445 (0.1979)  loss_classifier: 0.0330 (0.0515)  loss_box_reg: 0.0238 (0.0269)  loss_mask: 0.0851 (0.1145)  loss_objectness: 0.0022 (0.0040)  loss_rpn_box_reg: 0.0004 (0.0010)  time: 0.4662  data: 0.0089  max mem: 7870\n",
            "Epoch: [4]  [100/978]  eta: 0:06:56  lr: 0.000500  loss: 0.1505 (0.1990)  loss_classifier: 0.0330 (0.0508)  loss_box_reg: 0.0252 (0.0271)  loss_mask: 0.0897 (0.1163)  loss_objectness: 0.0021 (0.0039)  loss_rpn_box_reg: 0.0004 (0.0010)  time: 0.4663  data: 0.0097  max mem: 7870\n",
            "Epoch: [4]  [110/978]  eta: 0:06:51  lr: 0.000500  loss: 0.1615 (0.1993)  loss_classifier: 0.0419 (0.0507)  loss_box_reg: 0.0282 (0.0273)  loss_mask: 0.0937 (0.1162)  loss_objectness: 0.0020 (0.0041)  loss_rpn_box_reg: 0.0004 (0.0010)  time: 0.4622  data: 0.0098  max mem: 7870\n",
            "Epoch: [4]  [120/978]  eta: 0:06:45  lr: 0.000500  loss: 0.1595 (0.1979)  loss_classifier: 0.0390 (0.0500)  loss_box_reg: 0.0230 (0.0274)  loss_mask: 0.0954 (0.1153)  loss_objectness: 0.0024 (0.0042)  loss_rpn_box_reg: 0.0004 (0.0011)  time: 0.4647  data: 0.0091  max mem: 7870\n",
            "Epoch: [4]  [130/978]  eta: 0:06:40  lr: 0.000500  loss: 0.2120 (0.1987)  loss_classifier: 0.0375 (0.0498)  loss_box_reg: 0.0231 (0.0278)  loss_mask: 0.1163 (0.1160)  loss_objectness: 0.0012 (0.0040)  loss_rpn_box_reg: 0.0007 (0.0011)  time: 0.4644  data: 0.0092  max mem: 7870\n",
            "Epoch: [4]  [140/978]  eta: 0:06:37  lr: 0.000500  loss: 0.1896 (0.1967)  loss_classifier: 0.0337 (0.0489)  loss_box_reg: 0.0313 (0.0278)  loss_mask: 0.1163 (0.1150)  loss_objectness: 0.0012 (0.0039)  loss_rpn_box_reg: 0.0008 (0.0011)  time: 0.4854  data: 0.0092  max mem: 7870\n",
            "Epoch: [4]  [150/978]  eta: 0:06:32  lr: 0.000500  loss: 0.1518 (0.1926)  loss_classifier: 0.0229 (0.0482)  loss_box_reg: 0.0195 (0.0271)  loss_mask: 0.0974 (0.1124)  loss_objectness: 0.0015 (0.0038)  loss_rpn_box_reg: 0.0006 (0.0011)  time: 0.4865  data: 0.0094  max mem: 7870\n",
            "Epoch: [4]  [160/978]  eta: 0:06:27  lr: 0.000500  loss: 0.1471 (0.1923)  loss_classifier: 0.0266 (0.0481)  loss_box_reg: 0.0180 (0.0270)  loss_mask: 0.0924 (0.1124)  loss_objectness: 0.0016 (0.0038)  loss_rpn_box_reg: 0.0006 (0.0011)  time: 0.4711  data: 0.0110  max mem: 7870\n",
            "Epoch: [4]  [170/978]  eta: 0:06:23  lr: 0.000500  loss: 0.1471 (0.1919)  loss_classifier: 0.0350 (0.0476)  loss_box_reg: 0.0204 (0.0270)  loss_mask: 0.1086 (0.1124)  loss_objectness: 0.0026 (0.0038)  loss_rpn_box_reg: 0.0006 (0.0011)  time: 0.4737  data: 0.0110  max mem: 7870\n",
            "Epoch: [4]  [180/978]  eta: 0:06:18  lr: 0.000500  loss: 0.1624 (0.1911)  loss_classifier: 0.0276 (0.0467)  loss_box_reg: 0.0204 (0.0269)  loss_mask: 0.0970 (0.1127)  loss_objectness: 0.0021 (0.0037)  loss_rpn_box_reg: 0.0003 (0.0010)  time: 0.4741  data: 0.0091  max mem: 7870\n",
            "Epoch: [4]  [190/978]  eta: 0:06:13  lr: 0.000500  loss: 0.1681 (0.1925)  loss_classifier: 0.0359 (0.0475)  loss_box_reg: 0.0240 (0.0274)  loss_mask: 0.0957 (0.1129)  loss_objectness: 0.0008 (0.0037)  loss_rpn_box_reg: 0.0003 (0.0010)  time: 0.4782  data: 0.0093  max mem: 7870\n",
            "Epoch: [4]  [200/978]  eta: 0:06:09  lr: 0.000500  loss: 0.2015 (0.1945)  loss_classifier: 0.0549 (0.0476)  loss_box_reg: 0.0305 (0.0278)  loss_mask: 0.1039 (0.1144)  loss_objectness: 0.0009 (0.0037)  loss_rpn_box_reg: 0.0007 (0.0011)  time: 0.4782  data: 0.0092  max mem: 7870\n",
            "Epoch: [4]  [210/978]  eta: 0:06:04  lr: 0.000500  loss: 0.1931 (0.1953)  loss_classifier: 0.0376 (0.0475)  loss_box_reg: 0.0301 (0.0278)  loss_mask: 0.1083 (0.1152)  loss_objectness: 0.0008 (0.0037)  loss_rpn_box_reg: 0.0008 (0.0011)  time: 0.4795  data: 0.0089  max mem: 7870\n",
            "Epoch: [4]  [220/978]  eta: 0:05:59  lr: 0.000500  loss: 0.1827 (0.1967)  loss_classifier: 0.0376 (0.0476)  loss_box_reg: 0.0316 (0.0280)  loss_mask: 0.1049 (0.1162)  loss_objectness: 0.0038 (0.0038)  loss_rpn_box_reg: 0.0008 (0.0011)  time: 0.4743  data: 0.0096  max mem: 7870\n",
            "Epoch: [4]  [230/978]  eta: 0:05:55  lr: 0.000500  loss: 0.1815 (0.1957)  loss_classifier: 0.0376 (0.0473)  loss_box_reg: 0.0316 (0.0278)  loss_mask: 0.1049 (0.1158)  loss_objectness: 0.0018 (0.0037)  loss_rpn_box_reg: 0.0006 (0.0011)  time: 0.4845  data: 0.0096  max mem: 7870\n",
            "Epoch: [4]  [240/978]  eta: 0:05:51  lr: 0.000500  loss: 0.1773 (0.1961)  loss_classifier: 0.0319 (0.0468)  loss_box_reg: 0.0194 (0.0277)  loss_mask: 0.0931 (0.1167)  loss_objectness: 0.0015 (0.0038)  loss_rpn_box_reg: 0.0007 (0.0011)  time: 0.4913  data: 0.0090  max mem: 7870\n",
            "Epoch: [4]  [250/978]  eta: 0:05:46  lr: 0.000500  loss: 0.1773 (0.1953)  loss_classifier: 0.0319 (0.0465)  loss_box_reg: 0.0256 (0.0277)  loss_mask: 0.1082 (0.1162)  loss_objectness: 0.0030 (0.0038)  loss_rpn_box_reg: 0.0009 (0.0011)  time: 0.4709  data: 0.0093  max mem: 7870\n",
            "Epoch: [4]  [260/978]  eta: 0:05:41  lr: 0.000500  loss: 0.2028 (0.1981)  loss_classifier: 0.0427 (0.0466)  loss_box_reg: 0.0287 (0.0280)  loss_mask: 0.1209 (0.1187)  loss_objectness: 0.0025 (0.0037)  loss_rpn_box_reg: 0.0007 (0.0011)  time: 0.4730  data: 0.0092  max mem: 7870\n",
            "Epoch: [4]  [270/978]  eta: 0:05:37  lr: 0.000500  loss: 0.2307 (0.2001)  loss_classifier: 0.0517 (0.0469)  loss_box_reg: 0.0321 (0.0280)  loss_mask: 0.1609 (0.1203)  loss_objectness: 0.0018 (0.0038)  loss_rpn_box_reg: 0.0004 (0.0011)  time: 0.4877  data: 0.0091  max mem: 7870\n",
            "Epoch: [4]  [280/978]  eta: 0:05:32  lr: 0.000500  loss: 0.2113 (0.1993)  loss_classifier: 0.0375 (0.0469)  loss_box_reg: 0.0243 (0.0278)  loss_mask: 0.1122 (0.1196)  loss_objectness: 0.0034 (0.0039)  loss_rpn_box_reg: 0.0005 (0.0011)  time: 0.4796  data: 0.0093  max mem: 7870\n",
            "Epoch: [4]  [290/978]  eta: 0:05:27  lr: 0.000500  loss: 0.1432 (0.1994)  loss_classifier: 0.0257 (0.0471)  loss_box_reg: 0.0213 (0.0278)  loss_mask: 0.1037 (0.1195)  loss_objectness: 0.0026 (0.0039)  loss_rpn_box_reg: 0.0006 (0.0011)  time: 0.4723  data: 0.0095  max mem: 7870\n",
            "Epoch: [4]  [300/978]  eta: 0:05:22  lr: 0.000500  loss: 0.1358 (0.1983)  loss_classifier: 0.0339 (0.0466)  loss_box_reg: 0.0213 (0.0276)  loss_mask: 0.0785 (0.1191)  loss_objectness: 0.0026 (0.0039)  loss_rpn_box_reg: 0.0006 (0.0011)  time: 0.4693  data: 0.0095  max mem: 7870\n",
            "Epoch: [4]  [310/978]  eta: 0:05:17  lr: 0.000500  loss: 0.1379 (0.1977)  loss_classifier: 0.0339 (0.0465)  loss_box_reg: 0.0175 (0.0275)  loss_mask: 0.0785 (0.1188)  loss_objectness: 0.0016 (0.0038)  loss_rpn_box_reg: 0.0006 (0.0011)  time: 0.4721  data: 0.0093  max mem: 7870\n",
            "Epoch: [4]  [320/978]  eta: 0:05:12  lr: 0.000500  loss: 0.1938 (0.1993)  loss_classifier: 0.0364 (0.0471)  loss_box_reg: 0.0236 (0.0277)  loss_mask: 0.1236 (0.1196)  loss_objectness: 0.0016 (0.0038)  loss_rpn_box_reg: 0.0005 (0.0011)  time: 0.4771  data: 0.0088  max mem: 7870\n",
            "Epoch: [4]  [330/978]  eta: 0:05:08  lr: 0.000500  loss: 0.1941 (0.1997)  loss_classifier: 0.0426 (0.0470)  loss_box_reg: 0.0236 (0.0279)  loss_mask: 0.1197 (0.1200)  loss_objectness: 0.0015 (0.0038)  loss_rpn_box_reg: 0.0006 (0.0011)  time: 0.4777  data: 0.0093  max mem: 7870\n",
            "Epoch: [4]  [340/978]  eta: 0:05:03  lr: 0.000500  loss: 0.1555 (0.1982)  loss_classifier: 0.0281 (0.0465)  loss_box_reg: 0.0229 (0.0277)  loss_mask: 0.1036 (0.1192)  loss_objectness: 0.0015 (0.0038)  loss_rpn_box_reg: 0.0006 (0.0011)  time: 0.4715  data: 0.0097  max mem: 7870\n",
            "Epoch: [4]  [350/978]  eta: 0:04:58  lr: 0.000500  loss: 0.1594 (0.1984)  loss_classifier: 0.0282 (0.0468)  loss_box_reg: 0.0202 (0.0278)  loss_mask: 0.1036 (0.1190)  loss_objectness: 0.0014 (0.0038)  loss_rpn_box_reg: 0.0005 (0.0011)  time: 0.4682  data: 0.0092  max mem: 7870\n",
            "Epoch: [4]  [360/978]  eta: 0:04:54  lr: 0.000500  loss: 0.2163 (0.1993)  loss_classifier: 0.0502 (0.0471)  loss_box_reg: 0.0250 (0.0279)  loss_mask: 0.1232 (0.1195)  loss_objectness: 0.0009 (0.0037)  loss_rpn_box_reg: 0.0004 (0.0011)  time: 0.4854  data: 0.0093  max mem: 7870\n",
            "Epoch: [4]  [370/978]  eta: 0:04:49  lr: 0.000500  loss: 0.2190 (0.1996)  loss_classifier: 0.0467 (0.0469)  loss_box_reg: 0.0250 (0.0279)  loss_mask: 0.1282 (0.1200)  loss_objectness: 0.0011 (0.0037)  loss_rpn_box_reg: 0.0006 (0.0011)  time: 0.4750  data: 0.0094  max mem: 7870\n",
            "Epoch: [4]  [380/978]  eta: 0:04:44  lr: 0.000500  loss: 0.1955 (0.2004)  loss_classifier: 0.0336 (0.0469)  loss_box_reg: 0.0194 (0.0278)  loss_mask: 0.1282 (0.1209)  loss_objectness: 0.0023 (0.0037)  loss_rpn_box_reg: 0.0005 (0.0011)  time: 0.4635  data: 0.0094  max mem: 7870\n",
            "Epoch: [4]  [390/978]  eta: 0:04:39  lr: 0.000500  loss: 0.2272 (0.2022)  loss_classifier: 0.0417 (0.0477)  loss_box_reg: 0.0245 (0.0281)  loss_mask: 0.1209 (0.1216)  loss_objectness: 0.0033 (0.0037)  loss_rpn_box_reg: 0.0005 (0.0010)  time: 0.4722  data: 0.0094  max mem: 7870\n",
            "Epoch: [4]  [400/978]  eta: 0:04:34  lr: 0.000500  loss: 0.2272 (0.2015)  loss_classifier: 0.0423 (0.0474)  loss_box_reg: 0.0224 (0.0280)  loss_mask: 0.1209 (0.1213)  loss_objectness: 0.0026 (0.0037)  loss_rpn_box_reg: 0.0007 (0.0011)  time: 0.4764  data: 0.0092  max mem: 7870\n",
            "Epoch: [4]  [410/978]  eta: 0:04:29  lr: 0.000500  loss: 0.1801 (0.2005)  loss_classifier: 0.0234 (0.0470)  loss_box_reg: 0.0148 (0.0278)  loss_mask: 0.0985 (0.1209)  loss_objectness: 0.0029 (0.0038)  loss_rpn_box_reg: 0.0007 (0.0011)  time: 0.4724  data: 0.0092  max mem: 7870\n",
            "Epoch: [4]  [420/978]  eta: 0:04:25  lr: 0.000500  loss: 0.1549 (0.2004)  loss_classifier: 0.0278 (0.0471)  loss_box_reg: 0.0231 (0.0280)  loss_mask: 0.0904 (0.1206)  loss_objectness: 0.0021 (0.0038)  loss_rpn_box_reg: 0.0007 (0.0010)  time: 0.4818  data: 0.0093  max mem: 7870\n",
            "Epoch: [4]  [430/978]  eta: 0:04:20  lr: 0.000500  loss: 0.1541 (0.1996)  loss_classifier: 0.0280 (0.0471)  loss_box_reg: 0.0284 (0.0279)  loss_mask: 0.0919 (0.1198)  loss_objectness: 0.0010 (0.0037)  loss_rpn_box_reg: 0.0006 (0.0010)  time: 0.4897  data: 0.0092  max mem: 7870\n",
            "Epoch: [4]  [440/978]  eta: 0:04:15  lr: 0.000500  loss: 0.1720 (0.1998)  loss_classifier: 0.0282 (0.0470)  loss_box_reg: 0.0228 (0.0279)  loss_mask: 0.0999 (0.1202)  loss_objectness: 0.0013 (0.0037)  loss_rpn_box_reg: 0.0006 (0.0010)  time: 0.4756  data: 0.0089  max mem: 7870\n",
            "Epoch: [4]  [450/978]  eta: 0:04:11  lr: 0.000500  loss: 0.1824 (0.1990)  loss_classifier: 0.0271 (0.0470)  loss_box_reg: 0.0231 (0.0278)  loss_mask: 0.0970 (0.1196)  loss_objectness: 0.0016 (0.0037)  loss_rpn_box_reg: 0.0006 (0.0010)  time: 0.4776  data: 0.0092  max mem: 7870\n",
            "Epoch: [4]  [460/978]  eta: 0:04:06  lr: 0.000500  loss: 0.1938 (0.1989)  loss_classifier: 0.0319 (0.0468)  loss_box_reg: 0.0177 (0.0277)  loss_mask: 0.1093 (0.1197)  loss_objectness: 0.0015 (0.0036)  loss_rpn_box_reg: 0.0005 (0.0010)  time: 0.4889  data: 0.0093  max mem: 7870\n",
            "Epoch: [4]  [470/978]  eta: 0:04:01  lr: 0.000500  loss: 0.1781 (0.1983)  loss_classifier: 0.0353 (0.0468)  loss_box_reg: 0.0177 (0.0276)  loss_mask: 0.1093 (0.1192)  loss_objectness: 0.0008 (0.0036)  loss_rpn_box_reg: 0.0004 (0.0010)  time: 0.4742  data: 0.0090  max mem: 7870\n",
            "Epoch: [4]  [480/978]  eta: 0:03:57  lr: 0.000500  loss: 0.2128 (0.1995)  loss_classifier: 0.0569 (0.0471)  loss_box_reg: 0.0388 (0.0279)  loss_mask: 0.1116 (0.1198)  loss_objectness: 0.0012 (0.0036)  loss_rpn_box_reg: 0.0005 (0.0010)  time: 0.4788  data: 0.0092  max mem: 7870\n",
            "Epoch: [4]  [490/978]  eta: 0:03:52  lr: 0.000500  loss: 0.2326 (0.2004)  loss_classifier: 0.0607 (0.0477)  loss_box_reg: 0.0345 (0.0279)  loss_mask: 0.1395 (0.1202)  loss_objectness: 0.0021 (0.0036)  loss_rpn_box_reg: 0.0006 (0.0010)  time: 0.4965  data: 0.0093  max mem: 7870\n",
            "Epoch: [4]  [500/978]  eta: 0:03:47  lr: 0.000500  loss: 0.2083 (0.2009)  loss_classifier: 0.0467 (0.0480)  loss_box_reg: 0.0309 (0.0280)  loss_mask: 0.1231 (0.1204)  loss_objectness: 0.0012 (0.0035)  loss_rpn_box_reg: 0.0005 (0.0010)  time: 0.4850  data: 0.0091  max mem: 7870\n",
            "Epoch: [4]  [510/978]  eta: 0:03:43  lr: 0.000500  loss: 0.1710 (0.2006)  loss_classifier: 0.0381 (0.0479)  loss_box_reg: 0.0235 (0.0279)  loss_mask: 0.1085 (0.1203)  loss_objectness: 0.0020 (0.0035)  loss_rpn_box_reg: 0.0005 (0.0010)  time: 0.4839  data: 0.0096  max mem: 7870\n",
            "Epoch: [4]  [520/978]  eta: 0:03:38  lr: 0.000500  loss: 0.1534 (0.2005)  loss_classifier: 0.0251 (0.0478)  loss_box_reg: 0.0229 (0.0279)  loss_mask: 0.1011 (0.1203)  loss_objectness: 0.0021 (0.0035)  loss_rpn_box_reg: 0.0004 (0.0010)  time: 0.4816  data: 0.0096  max mem: 7870\n",
            "Epoch: [4]  [530/978]  eta: 0:03:33  lr: 0.000500  loss: 0.1534 (0.2007)  loss_classifier: 0.0282 (0.0476)  loss_box_reg: 0.0218 (0.0281)  loss_mask: 0.1089 (0.1206)  loss_objectness: 0.0011 (0.0035)  loss_rpn_box_reg: 0.0004 (0.0010)  time: 0.4665  data: 0.0089  max mem: 7870\n",
            "Epoch: [4]  [540/978]  eta: 0:03:28  lr: 0.000500  loss: 0.1432 (0.2004)  loss_classifier: 0.0376 (0.0477)  loss_box_reg: 0.0232 (0.0281)  loss_mask: 0.0929 (0.1201)  loss_objectness: 0.0017 (0.0035)  loss_rpn_box_reg: 0.0007 (0.0010)  time: 0.4626  data: 0.0088  max mem: 7870\n",
            "Epoch: [4]  [550/978]  eta: 0:03:23  lr: 0.000500  loss: 0.1627 (0.1999)  loss_classifier: 0.0322 (0.0474)  loss_box_reg: 0.0235 (0.0282)  loss_mask: 0.0874 (0.1198)  loss_objectness: 0.0011 (0.0035)  loss_rpn_box_reg: 0.0007 (0.0010)  time: 0.4748  data: 0.0090  max mem: 7870\n",
            "Epoch: [4]  [560/978]  eta: 0:03:19  lr: 0.000500  loss: 0.1570 (0.1984)  loss_classifier: 0.0249 (0.0470)  loss_box_reg: 0.0204 (0.0280)  loss_mask: 0.0813 (0.1190)  loss_objectness: 0.0008 (0.0035)  loss_rpn_box_reg: 0.0007 (0.0010)  time: 0.4817  data: 0.0090  max mem: 7870\n",
            "Epoch: [4]  [570/978]  eta: 0:03:14  lr: 0.000500  loss: 0.1335 (0.1978)  loss_classifier: 0.0195 (0.0467)  loss_box_reg: 0.0204 (0.0280)  loss_mask: 0.0786 (0.1187)  loss_objectness: 0.0008 (0.0034)  loss_rpn_box_reg: 0.0004 (0.0010)  time: 0.4718  data: 0.0090  max mem: 7870\n",
            "Epoch: [4]  [580/978]  eta: 0:03:09  lr: 0.000500  loss: 0.1725 (0.1988)  loss_classifier: 0.0317 (0.0469)  loss_box_reg: 0.0251 (0.0280)  loss_mask: 0.1061 (0.1194)  loss_objectness: 0.0010 (0.0035)  loss_rpn_box_reg: 0.0005 (0.0010)  time: 0.4806  data: 0.0092  max mem: 7870\n",
            "Epoch: [4]  [590/978]  eta: 0:03:05  lr: 0.000500  loss: 0.1835 (0.1983)  loss_classifier: 0.0426 (0.0469)  loss_box_reg: 0.0283 (0.0280)  loss_mask: 0.1038 (0.1189)  loss_objectness: 0.0015 (0.0034)  loss_rpn_box_reg: 0.0004 (0.0010)  time: 0.5040  data: 0.0094  max mem: 7870\n",
            "Epoch: [4]  [600/978]  eta: 0:03:00  lr: 0.000500  loss: 0.1335 (0.1980)  loss_classifier: 0.0276 (0.0469)  loss_box_reg: 0.0272 (0.0279)  loss_mask: 0.0753 (0.1187)  loss_objectness: 0.0018 (0.0035)  loss_rpn_box_reg: 0.0004 (0.0010)  time: 0.4884  data: 0.0094  max mem: 7870\n",
            "Epoch: [4]  [610/978]  eta: 0:02:55  lr: 0.000500  loss: 0.1658 (0.1985)  loss_classifier: 0.0230 (0.0470)  loss_box_reg: 0.0218 (0.0280)  loss_mask: 0.1151 (0.1191)  loss_objectness: 0.0020 (0.0035)  loss_rpn_box_reg: 0.0005 (0.0010)  time: 0.4699  data: 0.0111  max mem: 7870\n",
            "Epoch: [4]  [620/978]  eta: 0:02:50  lr: 0.000500  loss: 0.2237 (0.1988)  loss_classifier: 0.0368 (0.0470)  loss_box_reg: 0.0324 (0.0281)  loss_mask: 0.1298 (0.1192)  loss_objectness: 0.0013 (0.0035)  loss_rpn_box_reg: 0.0005 (0.0010)  time: 0.4793  data: 0.0111  max mem: 7870\n",
            "Epoch: [4]  [630/978]  eta: 0:02:45  lr: 0.000500  loss: 0.1893 (0.1986)  loss_classifier: 0.0334 (0.0471)  loss_box_reg: 0.0285 (0.0281)  loss_mask: 0.1196 (0.1190)  loss_objectness: 0.0014 (0.0035)  loss_rpn_box_reg: 0.0007 (0.0010)  time: 0.4687  data: 0.0093  max mem: 7870\n",
            "Epoch: [4]  [640/978]  eta: 0:02:41  lr: 0.000500  loss: 0.1843 (0.1983)  loss_classifier: 0.0346 (0.0470)  loss_box_reg: 0.0228 (0.0280)  loss_mask: 0.0914 (0.1187)  loss_objectness: 0.0014 (0.0035)  loss_rpn_box_reg: 0.0006 (0.0010)  time: 0.4743  data: 0.0092  max mem: 7870\n",
            "Epoch: [4]  [650/978]  eta: 0:02:36  lr: 0.000500  loss: 0.2133 (0.1996)  loss_classifier: 0.0388 (0.0473)  loss_box_reg: 0.0285 (0.0282)  loss_mask: 0.1205 (0.1195)  loss_objectness: 0.0012 (0.0035)  loss_rpn_box_reg: 0.0009 (0.0010)  time: 0.4850  data: 0.0091  max mem: 7870\n",
            "Epoch: [4]  [660/978]  eta: 0:02:31  lr: 0.000500  loss: 0.2245 (0.1994)  loss_classifier: 0.0372 (0.0472)  loss_box_reg: 0.0286 (0.0281)  loss_mask: 0.1205 (0.1195)  loss_objectness: 0.0012 (0.0035)  loss_rpn_box_reg: 0.0007 (0.0010)  time: 0.4743  data: 0.0092  max mem: 7870\n",
            "Epoch: [4]  [670/978]  eta: 0:02:26  lr: 0.000500  loss: 0.1464 (0.1993)  loss_classifier: 0.0315 (0.0471)  loss_box_reg: 0.0221 (0.0281)  loss_mask: 0.1008 (0.1195)  loss_objectness: 0.0025 (0.0035)  loss_rpn_box_reg: 0.0006 (0.0010)  time: 0.4745  data: 0.0090  max mem: 7870\n",
            "Epoch: [4]  [680/978]  eta: 0:02:22  lr: 0.000500  loss: 0.1556 (0.1987)  loss_classifier: 0.0343 (0.0470)  loss_box_reg: 0.0223 (0.0280)  loss_mask: 0.1008 (0.1192)  loss_objectness: 0.0025 (0.0035)  loss_rpn_box_reg: 0.0005 (0.0010)  time: 0.4745  data: 0.0093  max mem: 7870\n",
            "Epoch: [4]  [690/978]  eta: 0:02:17  lr: 0.000500  loss: 0.1981 (0.1994)  loss_classifier: 0.0375 (0.0471)  loss_box_reg: 0.0195 (0.0281)  loss_mask: 0.1272 (0.1198)  loss_objectness: 0.0016 (0.0035)  loss_rpn_box_reg: 0.0007 (0.0010)  time: 0.4779  data: 0.0093  max mem: 7870\n",
            "Epoch: [4]  [700/978]  eta: 0:02:12  lr: 0.000500  loss: 0.1866 (0.1991)  loss_classifier: 0.0429 (0.0469)  loss_box_reg: 0.0224 (0.0280)  loss_mask: 0.1178 (0.1197)  loss_objectness: 0.0013 (0.0035)  loss_rpn_box_reg: 0.0009 (0.0010)  time: 0.4928  data: 0.0090  max mem: 7870\n",
            "Epoch: [4]  [710/978]  eta: 0:02:07  lr: 0.000500  loss: 0.1802 (0.1991)  loss_classifier: 0.0411 (0.0469)  loss_box_reg: 0.0224 (0.0280)  loss_mask: 0.0937 (0.1197)  loss_objectness: 0.0019 (0.0035)  loss_rpn_box_reg: 0.0011 (0.0010)  time: 0.4868  data: 0.0089  max mem: 7870\n",
            "Epoch: [4]  [720/978]  eta: 0:02:03  lr: 0.000500  loss: 0.1739 (0.1989)  loss_classifier: 0.0323 (0.0470)  loss_box_reg: 0.0193 (0.0279)  loss_mask: 0.0937 (0.1195)  loss_objectness: 0.0031 (0.0035)  loss_rpn_box_reg: 0.0008 (0.0010)  time: 0.4953  data: 0.0087  max mem: 7870\n",
            "Epoch: [4]  [730/978]  eta: 0:01:58  lr: 0.000500  loss: 0.1537 (0.1980)  loss_classifier: 0.0323 (0.0468)  loss_box_reg: 0.0213 (0.0278)  loss_mask: 0.0786 (0.1190)  loss_objectness: 0.0020 (0.0035)  loss_rpn_box_reg: 0.0006 (0.0010)  time: 0.4917  data: 0.0089  max mem: 7870\n",
            "Epoch: [4]  [740/978]  eta: 0:01:53  lr: 0.000500  loss: 0.1537 (0.1984)  loss_classifier: 0.0316 (0.0468)  loss_box_reg: 0.0227 (0.0279)  loss_mask: 0.0849 (0.1192)  loss_objectness: 0.0012 (0.0035)  loss_rpn_box_reg: 0.0006 (0.0010)  time: 0.4886  data: 0.0095  max mem: 7870\n",
            "Epoch: [4]  [750/978]  eta: 0:01:49  lr: 0.000500  loss: 0.2121 (0.1985)  loss_classifier: 0.0362 (0.0467)  loss_box_reg: 0.0274 (0.0279)  loss_mask: 0.1197 (0.1194)  loss_objectness: 0.0028 (0.0035)  loss_rpn_box_reg: 0.0006 (0.0010)  time: 0.5024  data: 0.0093  max mem: 7870\n",
            "Epoch: [4]  [760/978]  eta: 0:01:44  lr: 0.000500  loss: 0.1723 (0.1985)  loss_classifier: 0.0362 (0.0467)  loss_box_reg: 0.0276 (0.0280)  loss_mask: 0.1021 (0.1193)  loss_objectness: 0.0019 (0.0035)  loss_rpn_box_reg: 0.0007 (0.0010)  time: 0.4869  data: 0.0090  max mem: 7870\n",
            "Epoch: [4]  [770/978]  eta: 0:01:39  lr: 0.000500  loss: 0.1720 (0.1989)  loss_classifier: 0.0497 (0.0470)  loss_box_reg: 0.0325 (0.0281)  loss_mask: 0.0940 (0.1192)  loss_objectness: 0.0024 (0.0035)  loss_rpn_box_reg: 0.0006 (0.0010)  time: 0.4781  data: 0.0090  max mem: 7870\n",
            "Epoch: [4]  [780/978]  eta: 0:01:34  lr: 0.000500  loss: 0.1717 (0.1986)  loss_classifier: 0.0478 (0.0469)  loss_box_reg: 0.0223 (0.0280)  loss_mask: 0.0940 (0.1191)  loss_objectness: 0.0027 (0.0035)  loss_rpn_box_reg: 0.0006 (0.0010)  time: 0.4811  data: 0.0094  max mem: 7870\n",
            "Epoch: [4]  [790/978]  eta: 0:01:29  lr: 0.000500  loss: 0.1907 (0.1990)  loss_classifier: 0.0478 (0.0471)  loss_box_reg: 0.0253 (0.0282)  loss_mask: 0.1029 (0.1191)  loss_objectness: 0.0022 (0.0035)  loss_rpn_box_reg: 0.0005 (0.0010)  time: 0.4793  data: 0.0093  max mem: 7870\n",
            "Epoch: [4]  [800/978]  eta: 0:01:25  lr: 0.000500  loss: 0.2232 (0.1992)  loss_classifier: 0.0519 (0.0471)  loss_box_reg: 0.0304 (0.0282)  loss_mask: 0.1262 (0.1193)  loss_objectness: 0.0021 (0.0035)  loss_rpn_box_reg: 0.0005 (0.0010)  time: 0.4833  data: 0.0091  max mem: 7870\n",
            "Epoch: [4]  [810/978]  eta: 0:01:20  lr: 0.000500  loss: 0.1997 (0.1988)  loss_classifier: 0.0403 (0.0470)  loss_box_reg: 0.0254 (0.0282)  loss_mask: 0.1197 (0.1192)  loss_objectness: 0.0013 (0.0035)  loss_rpn_box_reg: 0.0004 (0.0010)  time: 0.4800  data: 0.0092  max mem: 7870\n",
            "Epoch: [4]  [820/978]  eta: 0:01:15  lr: 0.000500  loss: 0.1679 (0.1988)  loss_classifier: 0.0357 (0.0469)  loss_box_reg: 0.0232 (0.0282)  loss_mask: 0.1003 (0.1192)  loss_objectness: 0.0011 (0.0035)  loss_rpn_box_reg: 0.0005 (0.0010)  time: 0.4677  data: 0.0096  max mem: 7870\n",
            "Epoch: [4]  [830/978]  eta: 0:01:10  lr: 0.000500  loss: 0.2190 (0.1992)  loss_classifier: 0.0433 (0.0471)  loss_box_reg: 0.0259 (0.0282)  loss_mask: 0.1119 (0.1194)  loss_objectness: 0.0021 (0.0035)  loss_rpn_box_reg: 0.0007 (0.0010)  time: 0.4754  data: 0.0098  max mem: 7870\n",
            "Epoch: [4]  [840/978]  eta: 0:01:05  lr: 0.000500  loss: 0.1906 (0.1991)  loss_classifier: 0.0413 (0.0471)  loss_box_reg: 0.0227 (0.0282)  loss_mask: 0.1194 (0.1194)  loss_objectness: 0.0018 (0.0035)  loss_rpn_box_reg: 0.0007 (0.0010)  time: 0.4726  data: 0.0090  max mem: 7870\n",
            "Epoch: [4]  [850/978]  eta: 0:01:01  lr: 0.000500  loss: 0.2175 (0.1995)  loss_classifier: 0.0408 (0.0472)  loss_box_reg: 0.0215 (0.0283)  loss_mask: 0.1177 (0.1196)  loss_objectness: 0.0018 (0.0034)  loss_rpn_box_reg: 0.0006 (0.0010)  time: 0.4822  data: 0.0093  max mem: 7870\n",
            "Epoch: [4]  [860/978]  eta: 0:00:56  lr: 0.000500  loss: 0.1828 (0.1998)  loss_classifier: 0.0373 (0.0472)  loss_box_reg: 0.0409 (0.0284)  loss_mask: 0.1025 (0.1197)  loss_objectness: 0.0020 (0.0034)  loss_rpn_box_reg: 0.0008 (0.0010)  time: 0.4950  data: 0.0096  max mem: 7870\n",
            "Epoch: [4]  [870/978]  eta: 0:00:51  lr: 0.000500  loss: 0.1470 (0.1993)  loss_classifier: 0.0250 (0.0472)  loss_box_reg: 0.0230 (0.0283)  loss_mask: 0.0912 (0.1193)  loss_objectness: 0.0017 (0.0034)  loss_rpn_box_reg: 0.0007 (0.0010)  time: 0.4743  data: 0.0092  max mem: 7870\n",
            "Epoch: [4]  [880/978]  eta: 0:00:46  lr: 0.000500  loss: 0.1403 (0.1994)  loss_classifier: 0.0295 (0.0474)  loss_box_reg: 0.0205 (0.0283)  loss_mask: 0.0887 (0.1193)  loss_objectness: 0.0008 (0.0034)  loss_rpn_box_reg: 0.0005 (0.0010)  time: 0.4650  data: 0.0090  max mem: 7870\n",
            "Epoch: [4]  [890/978]  eta: 0:00:42  lr: 0.000500  loss: 0.2325 (0.2000)  loss_classifier: 0.0429 (0.0475)  loss_box_reg: 0.0315 (0.0283)  loss_mask: 0.1284 (0.1198)  loss_objectness: 0.0005 (0.0034)  loss_rpn_box_reg: 0.0006 (0.0010)  time: 0.4696  data: 0.0092  max mem: 7870\n",
            "Epoch: [4]  [900/978]  eta: 0:00:37  lr: 0.000500  loss: 0.2325 (0.2002)  loss_classifier: 0.0449 (0.0475)  loss_box_reg: 0.0325 (0.0284)  loss_mask: 0.1403 (0.1199)  loss_objectness: 0.0010 (0.0034)  loss_rpn_box_reg: 0.0006 (0.0010)  time: 0.4654  data: 0.0095  max mem: 7870\n",
            "Epoch: [4]  [910/978]  eta: 0:00:32  lr: 0.000500  loss: 0.1918 (0.2000)  loss_classifier: 0.0449 (0.0474)  loss_box_reg: 0.0303 (0.0284)  loss_mask: 0.0961 (0.1198)  loss_objectness: 0.0019 (0.0034)  loss_rpn_box_reg: 0.0006 (0.0010)  time: 0.4672  data: 0.0096  max mem: 7870\n",
            "Epoch: [4]  [920/978]  eta: 0:00:27  lr: 0.000500  loss: 0.1711 (0.1995)  loss_classifier: 0.0298 (0.0473)  loss_box_reg: 0.0192 (0.0284)  loss_mask: 0.0838 (0.1195)  loss_objectness: 0.0020 (0.0034)  loss_rpn_box_reg: 0.0008 (0.0010)  time: 0.4730  data: 0.0094  max mem: 7870\n",
            "Epoch: [4]  [930/978]  eta: 0:00:22  lr: 0.000500  loss: 0.1804 (0.1999)  loss_classifier: 0.0268 (0.0472)  loss_box_reg: 0.0194 (0.0284)  loss_mask: 0.1057 (0.1198)  loss_objectness: 0.0016 (0.0034)  loss_rpn_box_reg: 0.0007 (0.0010)  time: 0.4871  data: 0.0100  max mem: 7870\n",
            "Epoch: [4]  [940/978]  eta: 0:00:18  lr: 0.000500  loss: 0.1577 (0.1994)  loss_classifier: 0.0312 (0.0472)  loss_box_reg: 0.0194 (0.0284)  loss_mask: 0.0805 (0.1195)  loss_objectness: 0.0012 (0.0034)  loss_rpn_box_reg: 0.0004 (0.0010)  time: 0.4824  data: 0.0098  max mem: 7870\n",
            "Epoch: [4]  [950/978]  eta: 0:00:13  lr: 0.000500  loss: 0.1651 (0.1994)  loss_classifier: 0.0289 (0.0473)  loss_box_reg: 0.0186 (0.0283)  loss_mask: 0.0865 (0.1194)  loss_objectness: 0.0026 (0.0034)  loss_rpn_box_reg: 0.0004 (0.0010)  time: 0.4781  data: 0.0088  max mem: 7870\n",
            "Epoch: [4]  [960/978]  eta: 0:00:08  lr: 0.000500  loss: 0.1673 (0.1994)  loss_classifier: 0.0472 (0.0473)  loss_box_reg: 0.0198 (0.0284)  loss_mask: 0.0929 (0.1194)  loss_objectness: 0.0027 (0.0034)  loss_rpn_box_reg: 0.0004 (0.0010)  time: 0.4808  data: 0.0092  max mem: 7870\n",
            "Epoch: [4]  [970/978]  eta: 0:00:03  lr: 0.000500  loss: 0.1333 (0.1991)  loss_classifier: 0.0253 (0.0470)  loss_box_reg: 0.0198 (0.0283)  loss_mask: 0.0830 (0.1194)  loss_objectness: 0.0021 (0.0034)  loss_rpn_box_reg: 0.0005 (0.0010)  time: 0.4707  data: 0.0097  max mem: 7870\n",
            "Epoch: [4]  [977/978]  eta: 0:00:00  lr: 0.000500  loss: 0.1559 (0.1988)  loss_classifier: 0.0192 (0.0469)  loss_box_reg: 0.0198 (0.0283)  loss_mask: 0.0954 (0.1192)  loss_objectness: 0.0015 (0.0034)  loss_rpn_box_reg: 0.0007 (0.0010)  time: 0.4565  data: 0.0091  max mem: 7870\n",
            "Epoch: [4] Total time: 0:07:47 (0.4779 s / it)\n",
            "creating index...\n",
            "index created!\n",
            "Test:  [  0/400]  eta: 0:02:47  model_time: 0.1505 (0.1505)  evaluator_time: 0.0094 (0.0094)  time: 0.4193  data: 0.2574  max mem: 7870\n",
            "Test:  [100/400]  eta: 0:00:32  model_time: 0.0866 (0.0918)  evaluator_time: 0.0069 (0.0087)  time: 0.1015  data: 0.0047  max mem: 7870\n",
            "Test:  [200/400]  eta: 0:00:21  model_time: 0.0892 (0.0911)  evaluator_time: 0.0077 (0.0085)  time: 0.1047  data: 0.0050  max mem: 7870\n",
            "Test:  [300/400]  eta: 0:00:10  model_time: 0.0890 (0.0917)  evaluator_time: 0.0067 (0.0092)  time: 0.1089  data: 0.0047  max mem: 7870\n",
            "Test:  [399/400]  eta: 0:00:00  model_time: 0.0889 (0.0916)  evaluator_time: 0.0076 (0.0091)  time: 0.1036  data: 0.0045  max mem: 7870\n",
            "Test: Total time: 0:00:43 (0.1080 s / it)\n",
            "Averaged stats: model_time: 0.0889 (0.0916)  evaluator_time: 0.0076 (0.0091)\n",
            "Accumulating evaluation results...\n",
            "DONE (t=0.13s).\n",
            "Accumulating evaluation results...\n",
            "DONE (t=0.12s).\n",
            "IoU metric: bbox\n",
            " Average Precision  (AP) @[ IoU=0.50:0.95 | area=   all | maxDets=100 ] = 0.297\n",
            " Average Precision  (AP) @[ IoU=0.50      | area=   all | maxDets=100 ] = 0.384\n",
            " Average Precision  (AP) @[ IoU=0.75      | area=   all | maxDets=100 ] = 0.343\n",
            " Average Precision  (AP) @[ IoU=0.50:0.95 | area= small | maxDets=100 ] = 0.147\n",
            " Average Precision  (AP) @[ IoU=0.50:0.95 | area=medium | maxDets=100 ] = 0.331\n",
            " Average Precision  (AP) @[ IoU=0.50:0.95 | area= large | maxDets=100 ] = 0.227\n",
            " Average Recall     (AR) @[ IoU=0.50:0.95 | area=   all | maxDets=  1 ] = 0.385\n",
            " Average Recall     (AR) @[ IoU=0.50:0.95 | area=   all | maxDets= 10 ] = 0.526\n",
            " Average Recall     (AR) @[ IoU=0.50:0.95 | area=   all | maxDets=100 ] = 0.526\n",
            " Average Recall     (AR) @[ IoU=0.50:0.95 | area= small | maxDets=100 ] = 0.430\n",
            " Average Recall     (AR) @[ IoU=0.50:0.95 | area=medium | maxDets=100 ] = 0.557\n",
            " Average Recall     (AR) @[ IoU=0.50:0.95 | area= large | maxDets=100 ] = 0.499\n",
            "IoU metric: segm\n",
            " Average Precision  (AP) @[ IoU=0.50:0.95 | area=   all | maxDets=100 ] = 0.312\n",
            " Average Precision  (AP) @[ IoU=0.50      | area=   all | maxDets=100 ] = 0.382\n",
            " Average Precision  (AP) @[ IoU=0.75      | area=   all | maxDets=100 ] = 0.356\n",
            " Average Precision  (AP) @[ IoU=0.50:0.95 | area= small | maxDets=100 ] = 0.125\n",
            " Average Precision  (AP) @[ IoU=0.50:0.95 | area=medium | maxDets=100 ] = 0.353\n",
            " Average Precision  (AP) @[ IoU=0.50:0.95 | area= large | maxDets=100 ] = 0.507\n",
            " Average Recall     (AR) @[ IoU=0.50:0.95 | area=   all | maxDets=  1 ] = 0.400\n",
            " Average Recall     (AR) @[ IoU=0.50:0.95 | area=   all | maxDets= 10 ] = 0.541\n",
            " Average Recall     (AR) @[ IoU=0.50:0.95 | area=   all | maxDets=100 ] = 0.541\n",
            " Average Recall     (AR) @[ IoU=0.50:0.95 | area= small | maxDets=100 ] = 0.433\n",
            " Average Recall     (AR) @[ IoU=0.50:0.95 | area=medium | maxDets=100 ] = 0.568\n",
            " Average Recall     (AR) @[ IoU=0.50:0.95 | area= large | maxDets=100 ] = 0.554\n",
            "Epoch: [5]  [  0/978]  eta: 0:12:48  lr: 0.000500  loss: 0.1609 (0.1609)  loss_classifier: 0.0231 (0.0231)  loss_box_reg: 0.0167 (0.0167)  loss_mask: 0.1195 (0.1195)  loss_objectness: 0.0007 (0.0007)  loss_rpn_box_reg: 0.0010 (0.0010)  time: 0.7862  data: 0.3092  max mem: 7870\n",
            "Epoch: [5]  [ 10/978]  eta: 0:07:50  lr: 0.000500  loss: 0.1360 (0.1433)  loss_classifier: 0.0231 (0.0282)  loss_box_reg: 0.0167 (0.0173)  loss_mask: 0.0659 (0.0944)  loss_objectness: 0.0016 (0.0025)  loss_rpn_box_reg: 0.0005 (0.0008)  time: 0.4861  data: 0.0359  max mem: 7870\n",
            "Epoch: [5]  [ 20/978]  eta: 0:07:47  lr: 0.000500  loss: 0.1360 (0.1736)  loss_classifier: 0.0299 (0.0417)  loss_box_reg: 0.0208 (0.0250)  loss_mask: 0.0773 (0.1036)  loss_objectness: 0.0018 (0.0025)  loss_rpn_box_reg: 0.0004 (0.0007)  time: 0.4731  data: 0.0088  max mem: 7870\n",
            "Epoch: [5]  [ 30/978]  eta: 0:07:49  lr: 0.000500  loss: 0.1721 (0.1708)  loss_classifier: 0.0337 (0.0427)  loss_box_reg: 0.0263 (0.0248)  loss_mask: 0.0955 (0.1003)  loss_objectness: 0.0013 (0.0021)  loss_rpn_box_reg: 0.0005 (0.0008)  time: 0.4997  data: 0.0091  max mem: 7870\n",
            "Epoch: [5]  [ 40/978]  eta: 0:07:34  lr: 0.000500  loss: 0.1467 (0.1623)  loss_classifier: 0.0245 (0.0392)  loss_box_reg: 0.0230 (0.0238)  loss_mask: 0.0884 (0.0966)  loss_objectness: 0.0012 (0.0020)  loss_rpn_box_reg: 0.0009 (0.0008)  time: 0.4799  data: 0.0095  max mem: 7870\n",
            "Epoch: [5]  [ 50/978]  eta: 0:07:27  lr: 0.000500  loss: 0.1387 (0.1644)  loss_classifier: 0.0237 (0.0376)  loss_box_reg: 0.0260 (0.0241)  loss_mask: 0.0879 (0.0999)  loss_objectness: 0.0012 (0.0020)  loss_rpn_box_reg: 0.0007 (0.0008)  time: 0.4621  data: 0.0095  max mem: 7870\n",
            "Epoch: [5]  [ 60/978]  eta: 0:07:23  lr: 0.000500  loss: 0.1678 (0.1704)  loss_classifier: 0.0312 (0.0391)  loss_box_reg: 0.0276 (0.0251)  loss_mask: 0.1048 (0.1035)  loss_objectness: 0.0007 (0.0019)  loss_rpn_box_reg: 0.0009 (0.0009)  time: 0.4810  data: 0.0092  max mem: 7870\n",
            "Epoch: [5]  [ 70/978]  eta: 0:07:18  lr: 0.000500  loss: 0.1908 (0.1714)  loss_classifier: 0.0385 (0.0395)  loss_box_reg: 0.0230 (0.0252)  loss_mask: 0.1100 (0.1038)  loss_objectness: 0.0018 (0.0020)  loss_rpn_box_reg: 0.0009 (0.0009)  time: 0.4852  data: 0.0090  max mem: 7870\n",
            "Epoch: [5]  [ 80/978]  eta: 0:07:15  lr: 0.000500  loss: 0.2019 (0.1747)  loss_classifier: 0.0327 (0.0394)  loss_box_reg: 0.0188 (0.0257)  loss_mask: 0.1119 (0.1068)  loss_objectness: 0.0018 (0.0020)  loss_rpn_box_reg: 0.0009 (0.0009)  time: 0.4898  data: 0.0092  max mem: 7870\n",
            "Epoch: [5]  [ 90/978]  eta: 0:07:11  lr: 0.000500  loss: 0.2019 (0.1765)  loss_classifier: 0.0324 (0.0397)  loss_box_reg: 0.0247 (0.0259)  loss_mask: 0.1268 (0.1079)  loss_objectness: 0.0014 (0.0021)  loss_rpn_box_reg: 0.0006 (0.0009)  time: 0.4966  data: 0.0091  max mem: 7870\n",
            "Epoch: [5]  [100/978]  eta: 0:07:05  lr: 0.000500  loss: 0.1646 (0.1730)  loss_classifier: 0.0321 (0.0390)  loss_box_reg: 0.0221 (0.0251)  loss_mask: 0.0922 (0.1057)  loss_objectness: 0.0017 (0.0022)  loss_rpn_box_reg: 0.0005 (0.0009)  time: 0.4863  data: 0.0094  max mem: 7870\n",
            "Epoch: [5]  [110/978]  eta: 0:07:01  lr: 0.000500  loss: 0.1579 (0.1754)  loss_classifier: 0.0281 (0.0391)  loss_box_reg: 0.0125 (0.0256)  loss_mask: 0.0969 (0.1077)  loss_objectness: 0.0016 (0.0022)  loss_rpn_box_reg: 0.0004 (0.0009)  time: 0.4830  data: 0.0097  max mem: 7870\n",
            "Epoch: [5]  [120/978]  eta: 0:06:55  lr: 0.000500  loss: 0.1616 (0.1738)  loss_classifier: 0.0284 (0.0381)  loss_box_reg: 0.0241 (0.0255)  loss_mask: 0.1178 (0.1070)  loss_objectness: 0.0016 (0.0023)  loss_rpn_box_reg: 0.0006 (0.0009)  time: 0.4823  data: 0.0090  max mem: 7870\n",
            "Epoch: [5]  [130/978]  eta: 0:06:49  lr: 0.000500  loss: 0.1366 (0.1708)  loss_classifier: 0.0203 (0.0375)  loss_box_reg: 0.0193 (0.0248)  loss_mask: 0.0773 (0.1052)  loss_objectness: 0.0025 (0.0024)  loss_rpn_box_reg: 0.0006 (0.0009)  time: 0.4668  data: 0.0093  max mem: 7870\n",
            "Epoch: [5]  [140/978]  eta: 0:06:43  lr: 0.000500  loss: 0.1160 (0.1695)  loss_classifier: 0.0182 (0.0369)  loss_box_reg: 0.0181 (0.0248)  loss_mask: 0.0773 (0.1047)  loss_objectness: 0.0008 (0.0022)  loss_rpn_box_reg: 0.0004 (0.0009)  time: 0.4616  data: 0.0094  max mem: 7870\n",
            "Epoch: [5]  [150/978]  eta: 0:06:38  lr: 0.000500  loss: 0.1609 (0.1703)  loss_classifier: 0.0243 (0.0373)  loss_box_reg: 0.0258 (0.0251)  loss_mask: 0.0963 (0.1048)  loss_objectness: 0.0008 (0.0023)  loss_rpn_box_reg: 0.0005 (0.0009)  time: 0.4704  data: 0.0099  max mem: 7870\n",
            "Epoch: [5]  [160/978]  eta: 0:06:33  lr: 0.000500  loss: 0.1901 (0.1717)  loss_classifier: 0.0326 (0.0375)  loss_box_reg: 0.0258 (0.0250)  loss_mask: 0.0982 (0.1060)  loss_objectness: 0.0011 (0.0023)  loss_rpn_box_reg: 0.0007 (0.0009)  time: 0.4755  data: 0.0101  max mem: 7870\n",
            "Epoch: [5]  [170/978]  eta: 0:06:27  lr: 0.000500  loss: 0.1889 (0.1718)  loss_classifier: 0.0411 (0.0379)  loss_box_reg: 0.0282 (0.0252)  loss_mask: 0.0957 (0.1055)  loss_objectness: 0.0012 (0.0023)  loss_rpn_box_reg: 0.0004 (0.0009)  time: 0.4690  data: 0.0097  max mem: 7870\n",
            "Epoch: [5]  [180/978]  eta: 0:06:22  lr: 0.000500  loss: 0.1632 (0.1733)  loss_classifier: 0.0290 (0.0371)  loss_box_reg: 0.0241 (0.0251)  loss_mask: 0.0971 (0.1077)  loss_objectness: 0.0017 (0.0024)  loss_rpn_box_reg: 0.0006 (0.0009)  time: 0.4672  data: 0.0096  max mem: 7870\n",
            "Epoch: [5]  [190/978]  eta: 0:06:18  lr: 0.000500  loss: 0.1762 (0.1751)  loss_classifier: 0.0278 (0.0375)  loss_box_reg: 0.0226 (0.0257)  loss_mask: 0.1140 (0.1083)  loss_objectness: 0.0017 (0.0025)  loss_rpn_box_reg: 0.0008 (0.0009)  time: 0.4847  data: 0.0090  max mem: 7870\n"
          ]
        },
        {
          "output_type": "error",
          "ename": "KeyboardInterrupt",
          "evalue": "ignored",
          "traceback": [
            "\u001b[0;31m---------------------------------------------------------------------------\u001b[0m",
            "\u001b[0;31mKeyboardInterrupt\u001b[0m                         Traceback (most recent call last)",
            "\u001b[0;32m<ipython-input-63-bc2c7f6b1616>\u001b[0m in \u001b[0;36m<module>\u001b[0;34m()\u001b[0m\n\u001b[1;32m      6\u001b[0m \u001b[0;32mfor\u001b[0m \u001b[0mepoch\u001b[0m \u001b[0;32min\u001b[0m \u001b[0mrange\u001b[0m\u001b[0;34m(\u001b[0m\u001b[0mnum_epochs\u001b[0m\u001b[0;34m)\u001b[0m\u001b[0;34m:\u001b[0m\u001b[0;34m\u001b[0m\u001b[0;34m\u001b[0m\u001b[0m\n\u001b[1;32m      7\u001b[0m     \u001b[0;31m# train for one epoch, printing every 10 iterations\u001b[0m\u001b[0;34m\u001b[0m\u001b[0;34m\u001b[0m\u001b[0;34m\u001b[0m\u001b[0m\n\u001b[0;32m----> 8\u001b[0;31m     \u001b[0mtrain_one_epoch\u001b[0m\u001b[0;34m(\u001b[0m\u001b[0mclassification_model\u001b[0m\u001b[0;34m,\u001b[0m \u001b[0moptimizer\u001b[0m\u001b[0;34m,\u001b[0m \u001b[0mdata_loader\u001b[0m\u001b[0;34m,\u001b[0m \u001b[0mdevice\u001b[0m\u001b[0;34m,\u001b[0m \u001b[0mepoch\u001b[0m\u001b[0;34m,\u001b[0m \u001b[0mprint_freq\u001b[0m\u001b[0;34m=\u001b[0m\u001b[0;36m10\u001b[0m\u001b[0;34m)\u001b[0m\u001b[0;34m\u001b[0m\u001b[0;34m\u001b[0m\u001b[0m\n\u001b[0m\u001b[1;32m      9\u001b[0m     \u001b[0;31m# update the learning rate\u001b[0m\u001b[0;34m\u001b[0m\u001b[0;34m\u001b[0m\u001b[0;34m\u001b[0m\u001b[0m\n\u001b[1;32m     10\u001b[0m     \u001b[0mlr_scheduler\u001b[0m\u001b[0;34m.\u001b[0m\u001b[0mstep\u001b[0m\u001b[0;34m(\u001b[0m\u001b[0;34m)\u001b[0m\u001b[0;34m\u001b[0m\u001b[0;34m\u001b[0m\u001b[0m\n",
            "\u001b[0;32m/content/engine.py\u001b[0m in \u001b[0;36mtrain_one_epoch\u001b[0;34m(model, optimizer, data_loader, device, epoch, print_freq)\u001b[0m\n\u001b[1;32m     50\u001b[0m             \u001b[0mlr_scheduler\u001b[0m\u001b[0;34m.\u001b[0m\u001b[0mstep\u001b[0m\u001b[0;34m(\u001b[0m\u001b[0;34m)\u001b[0m\u001b[0;34m\u001b[0m\u001b[0;34m\u001b[0m\u001b[0m\n\u001b[1;32m     51\u001b[0m \u001b[0;34m\u001b[0m\u001b[0m\n\u001b[0;32m---> 52\u001b[0;31m         \u001b[0mmetric_logger\u001b[0m\u001b[0;34m.\u001b[0m\u001b[0mupdate\u001b[0m\u001b[0;34m(\u001b[0m\u001b[0mloss\u001b[0m\u001b[0;34m=\u001b[0m\u001b[0mlosses_reduced\u001b[0m\u001b[0;34m,\u001b[0m \u001b[0;34m**\u001b[0m\u001b[0mloss_dict_reduced\u001b[0m\u001b[0;34m)\u001b[0m\u001b[0;34m\u001b[0m\u001b[0;34m\u001b[0m\u001b[0m\n\u001b[0m\u001b[1;32m     53\u001b[0m         \u001b[0mmetric_logger\u001b[0m\u001b[0;34m.\u001b[0m\u001b[0mupdate\u001b[0m\u001b[0;34m(\u001b[0m\u001b[0mlr\u001b[0m\u001b[0;34m=\u001b[0m\u001b[0moptimizer\u001b[0m\u001b[0;34m.\u001b[0m\u001b[0mparam_groups\u001b[0m\u001b[0;34m[\u001b[0m\u001b[0;36m0\u001b[0m\u001b[0;34m]\u001b[0m\u001b[0;34m[\u001b[0m\u001b[0;34m\"lr\"\u001b[0m\u001b[0;34m]\u001b[0m\u001b[0;34m)\u001b[0m\u001b[0;34m\u001b[0m\u001b[0;34m\u001b[0m\u001b[0m\n\u001b[1;32m     54\u001b[0m \u001b[0;34m\u001b[0m\u001b[0m\n",
            "\u001b[0;32m/content/utils.py\u001b[0m in \u001b[0;36mupdate\u001b[0;34m(self, **kwargs)\u001b[0m\n\u001b[1;32m    151\u001b[0m         \u001b[0;32mfor\u001b[0m \u001b[0mk\u001b[0m\u001b[0;34m,\u001b[0m \u001b[0mv\u001b[0m \u001b[0;32min\u001b[0m \u001b[0mkwargs\u001b[0m\u001b[0;34m.\u001b[0m\u001b[0mitems\u001b[0m\u001b[0;34m(\u001b[0m\u001b[0;34m)\u001b[0m\u001b[0;34m:\u001b[0m\u001b[0;34m\u001b[0m\u001b[0;34m\u001b[0m\u001b[0m\n\u001b[1;32m    152\u001b[0m             \u001b[0;32mif\u001b[0m \u001b[0misinstance\u001b[0m\u001b[0;34m(\u001b[0m\u001b[0mv\u001b[0m\u001b[0;34m,\u001b[0m \u001b[0mtorch\u001b[0m\u001b[0;34m.\u001b[0m\u001b[0mTensor\u001b[0m\u001b[0;34m)\u001b[0m\u001b[0;34m:\u001b[0m\u001b[0;34m\u001b[0m\u001b[0;34m\u001b[0m\u001b[0m\n\u001b[0;32m--> 153\u001b[0;31m                 \u001b[0mv\u001b[0m \u001b[0;34m=\u001b[0m \u001b[0mv\u001b[0m\u001b[0;34m.\u001b[0m\u001b[0mitem\u001b[0m\u001b[0;34m(\u001b[0m\u001b[0;34m)\u001b[0m\u001b[0;34m\u001b[0m\u001b[0;34m\u001b[0m\u001b[0m\n\u001b[0m\u001b[1;32m    154\u001b[0m             \u001b[0;32massert\u001b[0m \u001b[0misinstance\u001b[0m\u001b[0;34m(\u001b[0m\u001b[0mv\u001b[0m\u001b[0;34m,\u001b[0m \u001b[0;34m(\u001b[0m\u001b[0mfloat\u001b[0m\u001b[0;34m,\u001b[0m \u001b[0mint\u001b[0m\u001b[0;34m)\u001b[0m\u001b[0;34m)\u001b[0m\u001b[0;34m\u001b[0m\u001b[0;34m\u001b[0m\u001b[0m\n\u001b[1;32m    155\u001b[0m             \u001b[0mself\u001b[0m\u001b[0;34m.\u001b[0m\u001b[0mmeters\u001b[0m\u001b[0;34m[\u001b[0m\u001b[0mk\u001b[0m\u001b[0;34m]\u001b[0m\u001b[0;34m.\u001b[0m\u001b[0mupdate\u001b[0m\u001b[0;34m(\u001b[0m\u001b[0mv\u001b[0m\u001b[0;34m)\u001b[0m\u001b[0;34m\u001b[0m\u001b[0;34m\u001b[0m\u001b[0m\n",
            "\u001b[0;31mKeyboardInterrupt\u001b[0m: "
          ]
        }
      ]
    },
    {
      "cell_type": "code",
      "source": [
        "torch.save(classification_model.state_dict(), 'classification_model.pth')"
      ],
      "metadata": {
        "id": "G76vsfqfveub"
      },
      "execution_count": 64,
      "outputs": []
    },
    {
      "cell_type": "code",
      "source": [
        "img_path = glob('Testing/*/*')[0]\n",
        "img_original = cv2.imread(img_path)\n",
        "img, _ = get_transform(train=False)(img_original, {})\n",
        "classification_model.eval()\n",
        "\n",
        "with torch.no_grad():\n",
        "    prediction = classification_model([img.to(device)])"
      ],
      "metadata": {
        "id": "kPyHQzZ-1QNW"
      },
      "execution_count": 84,
      "outputs": []
    },
    {
      "cell_type": "code",
      "source": [
        "img_path"
      ],
      "metadata": {
        "colab": {
          "base_uri": "https://localhost:8080/",
          "height": 35
        },
        "id": "H2aOp4fT64kn",
        "outputId": "7b37cfb8-3796-4428-b476-00fa6367612c"
      },
      "execution_count": 72,
      "outputs": [
        {
          "output_type": "execute_result",
          "data": {
            "text/plain": [
              "'Testing/pituitary_tumor/image(48).jpg'"
            ],
            "application/vnd.google.colaboratory.intrinsic+json": {
              "type": "string"
            }
          },
          "metadata": {},
          "execution_count": 72
        }
      ]
    },
    {
      "cell_type": "code",
      "source": [
        "class_to_name = dict(df[['tumor_class', 'tumor_name']].to_numpy())"
      ],
      "metadata": {
        "id": "n9lAqDwP65LG"
      },
      "execution_count": 80,
      "outputs": []
    },
    {
      "cell_type": "code",
      "source": [
        "plt.title('pituitary_tumor')\n",
        "plt.imshow(img_original)"
      ],
      "metadata": {
        "colab": {
          "base_uri": "https://localhost:8080/",
          "height": 299
        },
        "id": "Nbyw_N8z7VDA",
        "outputId": "601530c3-deb2-459a-eb70-5abae8231b97"
      },
      "execution_count": 86,
      "outputs": [
        {
          "output_type": "execute_result",
          "data": {
            "text/plain": [
              "<matplotlib.image.AxesImage at 0x7f21ae254350>"
            ]
          },
          "metadata": {},
          "execution_count": 86
        },
        {
          "output_type": "display_data",
          "data": {
            "text/plain": [
              "<Figure size 432x288 with 1 Axes>"
            ],
            "image/png": "[encoded data removed]"
          },
          "metadata": {
            "needs_background": "light"
          }
        }
      ]
    },
    {
      "cell_type": "code",
      "source": [
        "def get_tumor_mask_and_class(img_path):\n",
        "    img_original = cv2.imread(img_path)\n",
        "    img, _ = get_transform(train=False)(img_original, {})\n",
        "    \n",
        "    with torch.no_grad():\n",
        "        prediction = classification_model([img.to(device)])\n",
        "\n",
        "    overall_desease = None\n",
        "    total_mask = np.zeros_like(img_original)[:, :, 0]\n",
        "\n",
        "    for label, mask, score in zip(prediction[0]['labels'], prediction[0]['masks'], prediction[0]['scores']):\n",
        "        if label.item() != 2 and score.item() > 0.15 and (not overall_desease or label.item() == overall_desease):\n",
        "            mask = mask[0].mul(255).byte().cpu().numpy()\n",
        "            mask = cv2.threshold(mask, 100, 255, cv2.THRESH_BINARY)[1]\n",
        "            overall_desease = label.item()\n",
        "\n",
        "            total_mask[mask == 255] = 255\n",
        "\n",
        "    return {'mask': total_mask, 'label': overall_desease or 0}"
      ],
      "metadata": {
        "id": "JNdgtplt-GQl"
      },
      "execution_count": 137,
      "outputs": []
    },
    {
      "cell_type": "code",
      "source": [
        "answer = get_tumor_mask_and_class(glob('Testing/*/*')[0])\n",
        "\n",
        "plt.title(answer['label'])\n",
        "plt.imshow(answer['mask'])"
      ],
      "metadata": {
        "colab": {
          "base_uri": "https://localhost:8080/",
          "height": 299
        },
        "id": "asX3Kjwf6Y7C",
        "outputId": "cbce8c13-f082-43cc-b144-286fa6c4a1b3"
      },
      "execution_count": 138,
      "outputs": [
        {
          "output_type": "execute_result",
          "data": {
            "text/plain": [
              "<matplotlib.image.AxesImage at 0x7f20d0bae810>"
            ]
          },
          "metadata": {},
          "execution_count": 138
        },
        {
          "output_type": "display_data",
          "data": {
            "text/plain": [
              "<Figure size 432x288 with 1 Axes>"
            ],
            "image/png": "[encoded data removed]"
          },
          "metadata": {
            "needs_background": "light"
          }
        }
      ]
    },
    {
      "cell_type": "code",
      "source": [
        "labels = [get_tumor_mask_and_class(f)['label'] for f in tqdm(df.image_path)]"
      ],
      "metadata": {
        "colab": {
          "base_uri": "https://localhost:8080/",
          "height": 49,
          "referenced_widgets": [
            "0a4ff02a8c17416089d255577ec6d92e",
            "813df6e1bb3e47739d17769b8b54c250",
            "7cd01257247940d99e73bc0bd5fa1502",
            "d80c59e332884ad085d14f844af69079",
            "5709cfde4cb1477491ddeb762bf35980",
            "f30de7f2b09d4d4688e843a51909abfb",
            "b51f33989cd849db9cd34e8ddb97a5cf",
            "f84ecc6b82c14e02b36142bda3e26a09",
            "353cd38e5be04272ae33f293e01549ca",
            "2dbe7d0836b14ed392c6dd1582573d3d",
            "b346c01e763f4bdbb0d78349cc300fd0"
          ]
        },
        "id": "Je6pgDmX6bu4",
        "outputId": "7fb3edd4-00f3-4924-c805-b9d241e28fb6"
      },
      "execution_count": 139,
      "outputs": [
        {
          "output_type": "display_data",
          "data": {
            "text/plain": [
              "  0%|          | 0/2870 [00:00<?, ?it/s]"
            ],
            "application/vnd.jupyter.widget-view+json": {
              "version_major": 2,
              "version_minor": 0,
              "model_id": "0a4ff02a8c17416089d255577ec6d92e"
            }
          },
          "metadata": {}
        }
      ]
    },
    {
      "cell_type": "code",
      "source": [
        "from sklearn.metrics import accuracy_score"
      ],
      "metadata": {
        "id": "0GtyAnvP-2o3"
      },
      "execution_count": 140,
      "outputs": []
    },
    {
      "cell_type": "code",
      "source": [
        "ll = list(map(lambda x: x if x else 0, labels))"
      ],
      "metadata": {
        "id": "1ZU3Lln8AoqV"
      },
      "execution_count": 151,
      "outputs": []
    },
    {
      "cell_type": "code",
      "source": [
        "accuracy_score(ll, df['tumor_class'])"
      ],
      "metadata": {
        "colab": {
          "base_uri": "https://localhost:8080/"
        },
        "id": "hCB0sWfLAe8v",
        "outputId": "b402a8ea-fca7-4572-ae59-c5c5ee8a7f50"
      },
      "execution_count": 152,
      "outputs": [
        {
          "output_type": "execute_result",
          "data": {
            "text/plain": [
              "0.6320557491289198"
            ]
          },
          "metadata": {},
          "execution_count": 152
        }
      ]
    }
  ]
}