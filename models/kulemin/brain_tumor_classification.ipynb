{
  "metadata": {
    "kernelspec": {
      "language": "python",
      "display_name": "Python 3",
      "name": "python3"
    },
    "language_info": {
      "name": "python",
      "version": "3.7.9",
      "mimetype": "text/x-python",
      "codemirror_mode": {
        "name": "ipython",
        "version": 3
      },
      "pygments_lexer": "ipython3",
      "nbconvert_exporter": "python",
      "file_extension": ".py"
    },
    "colab": {
      "name": "brain-tumor-classification.ipynb",
      "provenance": []
    }
  },
  "nbformat_minor": 0,
  "nbformat": 4,
  "cells": [
    {
      "cell_type": "code",
      "source": [
        "import glob\n",
        "import cv2\n",
        "import numpy as np \n",
        "import pandas as pd\n",
        "import matplotlib.pyplot as plt\n",
        "\n",
        "from tensorflow.keras.models import Sequential\n",
        "from tensorflow.keras.layers import Dense, Conv2D, MaxPool2D, GlobalAveragePooling2D, Flatten, Dropout\n",
        "from tensorflow.keras.callbacks import EarlyStopping, ReduceLROnPlateau\n",
        "from tensorflow.keras.optimizers import Adam\n",
        "from sklearn.model_selection import train_test_split\n",
        "from keras.preprocessing.image import ImageDataGenerator\n",
        "from tensorflow.keras.applications import MobileNet\n",
        "from sklearn.metrics import confusion_matrix\n",
        "from mlxtend.plotting import plot_confusion_matrix\n",
        "\n",
        "%matplotlib inline\n",
        "import warnings\n",
        "warnings.filterwarnings('ignore')"
      ],
      "metadata": {
        "_uuid": "8f2839f25d086af736a60e9eeb907d3b93b6e0e5",
        "_cell_guid": "b1076dfc-b9ad-4769-8c92-a6c4dae69d19",
        "execution": {
          "iopub.status.busy": "2022-04-20T16:45:21.386777Z",
          "iopub.execute_input": "2022-04-20T16:45:21.387602Z",
          "iopub.status.idle": "2022-04-20T16:45:28.403403Z",
          "shell.execute_reply.started": "2022-04-20T16:45:21.387469Z",
          "shell.execute_reply": "2022-04-20T16:45:28.402428Z"
        },
        "trusted": true,
        "id": "Cc1i5xBB8WW_"
      },
      "execution_count": null,
      "outputs": []
    },
    {
      "cell_type": "code",
      "source": [
        "# hyperparameter setting\n",
        "image_size = 224\n",
        "batch_size = 32\n",
        "epochs = 50"
      ],
      "metadata": {
        "execution": {
          "iopub.status.busy": "2022-04-20T16:45:28.404907Z",
          "iopub.execute_input": "2022-04-20T16:45:28.405200Z",
          "iopub.status.idle": "2022-04-20T16:45:28.409852Z",
          "shell.execute_reply.started": "2022-04-20T16:45:28.405172Z",
          "shell.execute_reply": "2022-04-20T16:45:28.408751Z"
        },
        "trusted": true,
        "id": "3en4Bh7a8WXC"
      },
      "execution_count": null,
      "outputs": []
    },
    {
      "cell_type": "code",
      "source": [
        "# input files\n",
        "base_dir=\"../input/brain-tumor-classification-mri\"\n",
        "\n",
        "glioma_tumor = glob.glob(base_dir + '/**/glioma_tumor/*')\n",
        "meningioma_tumor = glob.glob(base_dir + '/**/meningioma_tumor/*')\n",
        "pituitary_tumor = glob.glob(base_dir + '/**/pituitary_tumor/*')\n",
        "normal = glob.glob(base_dir + '/**/no_tumor/*')\n",
        "\n",
        "print(\"glioma_tumor : {}\".format(len(glioma_tumor)))\n",
        "print(\"meningioma_tumor : {}\".format(len(meningioma_tumor)))\n",
        "print(\"pituitary_tumor : {}\".format(len(pituitary_tumor)))\n",
        "print(\"normal : {}\".format(len(normal)))"
      ],
      "metadata": {
        "execution": {
          "iopub.status.busy": "2022-04-20T16:45:33.167100Z",
          "iopub.execute_input": "2022-04-20T16:45:33.167691Z",
          "iopub.status.idle": "2022-04-20T16:45:33.532870Z",
          "shell.execute_reply.started": "2022-04-20T16:45:33.167655Z",
          "shell.execute_reply": "2022-04-20T16:45:33.531863Z"
        },
        "trusted": true,
        "id": "TewrhYg68WXD"
      },
      "execution_count": null,
      "outputs": []
    },
    {
      "cell_type": "code",
      "source": [
        "def add_labels(data, label):\n",
        "    return list(map(lambda x: (x, label), data))\n",
        "\n",
        "glioma_tumor = add_labels(glioma_tumor, 'glioma')\n",
        "meningioma_tumor = add_labels(meningioma_tumor, 'meningioma')\n",
        "pituitary_tumor = add_labels(pituitary_tumor, 'pituitary')\n",
        "normal = add_labels(normal, 'normal')"
      ],
      "metadata": {
        "execution": {
          "iopub.status.busy": "2022-04-20T16:45:34.671871Z",
          "iopub.execute_input": "2022-04-20T16:45:34.672588Z",
          "iopub.status.idle": "2022-04-20T16:45:34.682640Z",
          "shell.execute_reply.started": "2022-04-20T16:45:34.672551Z",
          "shell.execute_reply": "2022-04-20T16:45:34.681831Z"
        },
        "trusted": true,
        "id": "FwA7f01m8WXE"
      },
      "execution_count": null,
      "outputs": []
    },
    {
      "cell_type": "code",
      "source": [
        "def split_data(data):\n",
        "    train_data, test_data = train_test_split(data, test_size=0.15)\n",
        "    train_data, val_data = train_test_split(train_data, test_size=0.15)\n",
        "    return [train_data, val_data, test_data]\n",
        "\n",
        "glioma_data = split_data(glioma_tumor)\n",
        "meningioma_data = split_data(meningioma_tumor)\n",
        "pituitary_data = split_data(pituitary_tumor)\n",
        "normal_data = split_data(normal)"
      ],
      "metadata": {
        "execution": {
          "iopub.status.busy": "2022-04-20T16:45:36.144204Z",
          "iopub.execute_input": "2022-04-20T16:45:36.144715Z",
          "iopub.status.idle": "2022-04-20T16:45:36.156986Z",
          "shell.execute_reply.started": "2022-04-20T16:45:36.144682Z",
          "shell.execute_reply": "2022-04-20T16:45:36.156068Z"
        },
        "trusted": true,
        "id": "uAUXJMr28WXF"
      },
      "execution_count": null,
      "outputs": []
    },
    {
      "cell_type": "code",
      "source": [
        "train_data = []\n",
        "val_data = []\n",
        "test_data = []\n",
        "\n",
        "def collect(data):\n",
        "    global train_data, val_data, test_data\n",
        "    for sample in data[0]:\n",
        "        train_data.append(sample)\n",
        "    \n",
        "    for sample in data[1]:\n",
        "        val_data.append(sample)\n",
        "        \n",
        "    for sample in data[2]:\n",
        "        test_data.append(sample)\n",
        "\n",
        "collect(glioma_data)\n",
        "collect(meningioma_data)\n",
        "collect(pituitary_data)\n",
        "collect(normal_data)\n",
        "    \n",
        "train_df = pd.DataFrame(train_data, columns=['image', 'label'])\n",
        "val_df = pd.DataFrame(val_data, columns=['image', 'label'])\n",
        "test_df = pd.DataFrame(test_data, columns=['image', 'label'])"
      ],
      "metadata": {
        "execution": {
          "iopub.status.busy": "2022-04-20T16:45:37.402234Z",
          "iopub.execute_input": "2022-04-20T16:45:37.402626Z",
          "iopub.status.idle": "2022-04-20T16:45:37.421338Z",
          "shell.execute_reply.started": "2022-04-20T16:45:37.402594Z",
          "shell.execute_reply": "2022-04-20T16:45:37.420178Z"
        },
        "trusted": true,
        "id": "-YxXswEH8WXG"
      },
      "execution_count": null,
      "outputs": []
    },
    {
      "cell_type": "code",
      "source": [
        "train_gen = ImageDataGenerator(rescale=1./255,\n",
        "                               rotation_range=10,\n",
        "                               zoom_range = 0.1,\n",
        "                               shear_range=0.1,\n",
        "                               width_shift_range=0.1,\n",
        "                               height_shift_range=0.1,\n",
        "                               horizontal_flip=True)\n",
        "\n",
        "train_set = train_gen.flow_from_dataframe(dataframe=train_df,\n",
        "                                          x_col='image',\n",
        "                                          y_col='label',\n",
        "                                          target_size=(image_size, image_size),\n",
        "                                          batch_size=batch_size,\n",
        "                                          shuffle=True,\n",
        "                                          class_mode='categorical',\n",
        "                                          color_mode='grayscale')\n",
        "\n",
        "# rescaling (validation)\n",
        "val_rescaled = ImageDataGenerator(rescale = 1./255)\n",
        "\n",
        "val_set = val_rescaled.flow_from_dataframe(dataframe=val_df,\n",
        "                                           x_col='image',\n",
        "                                           y_col='label',\n",
        "                                           target_size=(image_size, image_size),\n",
        "                                           batch_size=batch_size,\n",
        "                                           shuffle=True,\n",
        "                                           class_mode='categorical',\n",
        "                                           color_mode='grayscale')\n",
        "\n",
        "# rescaling (test)\n",
        "test_rescaled = ImageDataGenerator(rescale = 1./255)\n",
        "\n",
        "test_set = test_rescaled.flow_from_dataframe(dataframe=test_df,\n",
        "                                             x_col='image',\n",
        "                                             y_col='label',\n",
        "                                             target_size=(image_size, image_size),\n",
        "                                             batch_size=1,\n",
        "                                             shuffle=False,\n",
        "                                             class_mode='categorical',\n",
        "                                             color_mode='grayscale')"
      ],
      "metadata": {
        "execution": {
          "iopub.status.busy": "2022-04-20T16:45:41.669356Z",
          "iopub.execute_input": "2022-04-20T16:45:41.669708Z",
          "iopub.status.idle": "2022-04-20T16:45:43.157272Z",
          "shell.execute_reply.started": "2022-04-20T16:45:41.669677Z",
          "shell.execute_reply": "2022-04-20T16:45:43.156047Z"
        },
        "trusted": true,
        "id": "s51kzRcv8WXI"
      },
      "execution_count": null,
      "outputs": []
    },
    {
      "cell_type": "code",
      "source": [
        "# build the model\n",
        "\n",
        "# pretrained_model = MobileNet(input_shape=(image_size, image_size, 3),\n",
        "#                          include_top=False,\n",
        "#                          weights='imagenet')\n",
        "\n",
        "model = Sequential([\n",
        "    Conv2D(filters = 32, kernel_size = (5,5), padding = 'same', \n",
        "           activation ='relu', input_shape = (image_size, image_size, 1)),\n",
        "    MaxPool2D(pool_size=(2,2)),\n",
        "    \n",
        "    Conv2D(filters = 64, kernel_size = (3,3), padding = 'same', activation ='relu'),\n",
        "    MaxPool2D(pool_size=(2,2)),\n",
        "    Dropout(0.2),\n",
        "    \n",
        "    Conv2D(filters = 128, kernel_size = (3,3), padding = 'same', activation ='relu'),\n",
        "    MaxPool2D(pool_size=(2,2)),\n",
        "    Dropout(0.2),\n",
        "    \n",
        "    Conv2D(filters = 256, kernel_size = (3,3), padding = 'same', activation ='relu'),\n",
        "    MaxPool2D(pool_size=(2,2)),\n",
        "    Dropout(0.2),\n",
        "    \n",
        "    Flatten(),\n",
        "    Dense(1024, activation='relu'),\n",
        "    Dropout(0.4),\n",
        "    Dense(4, activation='softmax')\n",
        "])"
      ],
      "metadata": {
        "execution": {
          "iopub.status.busy": "2022-04-20T16:45:44.599673Z",
          "iopub.execute_input": "2022-04-20T16:45:44.600266Z",
          "iopub.status.idle": "2022-04-20T16:45:45.277190Z",
          "shell.execute_reply.started": "2022-04-20T16:45:44.600215Z",
          "shell.execute_reply": "2022-04-20T16:45:45.276186Z"
        },
        "trusted": true,
        "id": "lU_AliCJ8WXJ"
      },
      "execution_count": null,
      "outputs": []
    },
    {
      "cell_type": "code",
      "source": [
        "# model configuration\n",
        "model.compile(optimizer=Adam(lr=0.001, beta_1=0.9, beta_2=0.999),\n",
        "              loss='categorical_crossentropy',\n",
        "              metrics=['accuracy'])\n",
        "\n",
        "es = EarlyStopping(monitor='val_loss', \n",
        "                   patience=8, \n",
        "                   restore_best_weights=True)\n",
        "\n",
        "model.summary()"
      ],
      "metadata": {
        "execution": {
          "iopub.status.busy": "2022-04-20T16:45:45.692924Z",
          "iopub.execute_input": "2022-04-20T16:45:45.693474Z",
          "iopub.status.idle": "2022-04-20T16:45:45.718969Z",
          "shell.execute_reply.started": "2022-04-20T16:45:45.693440Z",
          "shell.execute_reply": "2022-04-20T16:45:45.718002Z"
        },
        "trusted": true,
        "id": "5TNxEvdf8WXL"
      },
      "execution_count": null,
      "outputs": []
    },
    {
      "cell_type": "code",
      "source": [
        "history = model.fit_generator(train_set,\n",
        "                              steps_per_epoch=len(train_set),\n",
        "                              epochs=epochs,\n",
        "                              validation_data=val_set,\n",
        "                              validation_steps=len(val_set),\n",
        "                              callbacks=[es]) "
      ],
      "metadata": {
        "execution": {
          "iopub.status.busy": "2022-04-20T16:45:47.883875Z",
          "iopub.execute_input": "2022-04-20T16:45:47.884283Z"
        },
        "trusted": true,
        "id": "lnuiQH1v8WXM"
      },
      "execution_count": null,
      "outputs": []
    },
    {
      "cell_type": "code",
      "source": [
        "test_accuracy = (cm[0, 0] + cm[1, 1] + cm[2,2] + cm[3,3]) / len(test_set)\n",
        "print(\"Test Accuracy: {}%\".format(round(test_accuracy * 100, 3)))"
      ],
      "metadata": {
        "trusted": true,
        "id": "hu2bcQHs8WXO"
      },
      "execution_count": null,
      "outputs": []
    }
  ]
}